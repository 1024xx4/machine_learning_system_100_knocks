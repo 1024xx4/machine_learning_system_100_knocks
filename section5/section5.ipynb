{
 "cells": [
  {
   "cell_type": "markdown",
   "source": [
    "### Knock41: 基本的な Directory を生成しよう\n",
    "> #### Master data と input data\n",
    "> 明確な基準はないが、更新頻度によって仕訳するとよい。\n",
    "> - 更新頻度-高: input data\n",
    "> - 更新頻度-低: master data"
   ],
   "metadata": {
    "collapsed": false,
    "pycharm": {
     "name": "#%% md\n"
    }
   }
  },
  {
   "cell_type": "code",
   "execution_count": 1,
   "outputs": [
    {
     "name": "stdout",
     "output_type": "stream",
     "text": [
      "data\\0_input\n"
     ]
    }
   ],
   "source": [
    "# Directory path の定義\n",
    "import os\n",
    "data_dir = 'data'\n",
    "input_dir = os.path.join(data_dir, '0_input')\n",
    "output_dir = os.path.join(data_dir, '10_output')\n",
    "master_dir = os.path.join(data_dir, '99_master_dir')\n",
    "print(input_dir)"
   ],
   "metadata": {
    "collapsed": false,
    "pycharm": {
     "name": "#%%\n"
    }
   }
  },
  {
   "cell_type": "markdown",
   "source": [
    "`os.mkdir()` と `os.makedirs()` の違い\n",
    "- `os.makedirs()` は、再帰的に中間の Directory を自動で生成してくれる。"
   ],
   "metadata": {
    "collapsed": false,
    "pycharm": {
     "name": "#%% md\n"
    }
   }
  },
  {
   "cell_type": "code",
   "execution_count": 2,
   "outputs": [],
   "source": [
    "# Directory の生成\n",
    "os.makedirs(input_dir, exist_ok=True)\n",
    "os.makedirs(output_dir, exist_ok=True)\n",
    "os.makedirs(master_dir, exist_ok=True)"
   ],
   "metadata": {
    "collapsed": false,
    "pycharm": {
     "name": "#%%\n"
    }
   }
  },
  {
   "cell_type": "markdown",
   "source": [
    "### Knock42: 入力 Data の check機構を作ろう"
   ],
   "metadata": {
    "collapsed": false,
    "pycharm": {
     "name": "#%% md\n"
    }
   }
  },
  {
   "cell_type": "code",
   "execution_count": 3,
   "outputs": [
    {
     "data": {
      "text/plain": "  area_cd wide_area narrow_area\n0      TK        東京          東京\n1      KN       神奈川         神奈川\n2      CH        千葉          千葉",
      "text/html": "<div>\n<style scoped>\n    .dataframe tbody tr th:only-of-type {\n        vertical-align: middle;\n    }\n\n    .dataframe tbody tr th {\n        vertical-align: top;\n    }\n\n    .dataframe thead th {\n        text-align: right;\n    }\n</style>\n<table border=\"1\" class=\"dataframe\">\n  <thead>\n    <tr style=\"text-align: right;\">\n      <th></th>\n      <th>area_cd</th>\n      <th>wide_area</th>\n      <th>narrow_area</th>\n    </tr>\n  </thead>\n  <tbody>\n    <tr>\n      <th>0</th>\n      <td>TK</td>\n      <td>東京</td>\n      <td>東京</td>\n    </tr>\n    <tr>\n      <th>1</th>\n      <td>KN</td>\n      <td>神奈川</td>\n      <td>神奈川</td>\n    </tr>\n    <tr>\n      <th>2</th>\n      <td>CH</td>\n      <td>千葉</td>\n      <td>千葉</td>\n    </tr>\n  </tbody>\n</table>\n</div>"
     },
     "execution_count": 3,
     "metadata": {},
     "output_type": "execute_result"
    }
   ],
   "source": [
    "# Master data の読み込み\n",
    "import pandas as pd\n",
    "\n",
    "m_area_file = 'm_area.csv'\n",
    "m_store_file = 'm_store.csv'\n",
    "m_area = pd.read_csv(os.path.join(master_dir, m_area_file))\n",
    "m_store = pd.read_csv(os.path.join(master_dir, m_store_file))\n",
    "m_area.head(3)"
   ],
   "metadata": {
    "collapsed": false,
    "pycharm": {
     "name": "#%%\n"
    }
   }
  },
  {
   "cell_type": "code",
   "execution_count": 9,
   "outputs": [],
   "source": [
    "# 直接 File 名を指定せずに、変数を対象年月として File を定義\n",
    "tg_ym = '202007'\n",
    "target_file = 'tbl_order_' + tg_ym + '.csv'\n",
    "target_data = pd.read_csv(os.path.join(input_dir, target_file))"
   ],
   "metadata": {
    "collapsed": false,
    "pycharm": {
     "name": "#%%\n"
    }
   }
  },
  {
   "cell_type": "markdown",
   "source": [
    "- なるべく混乱を避けるために、File 名ではなく、年月を指定するようにする等の工夫を行なう。\n",
    "- 毎月特定営業日に Data 更新を行なうなどが決まっている場合は、`datetime` 等で現在の年月を取得するのも良い。\n",
    "- Data がない, File 名が違う場合, `FileNotFoundError` 等が発生し Program が止まるため間違いを確認できる。\n",
    "- Error も起きずに自分が気づかないうちに意図しない処理が行なわれてしまい、間違った Report を配ってしまうことが一番、問題となる。\n",
    "- 毎月変化していく Data は、必ず check 機構を取り入れる。\n",
    "- Data の中身を出力することが Check 機構の基本だが Human error を起こす場合がある。\n",
    "- 可能な限り、Error を意図的に発生させて、Program を Stop できる機構を入れることが望ましい。"
   ],
   "metadata": {
    "collapsed": false,
    "pycharm": {
     "name": "#%% md\n"
    }
   }
  },
  {
   "cell_type": "code",
   "execution_count": 5,
   "outputs": [
    {
     "name": "stdout",
     "output_type": "stream",
     "text": [
      "日付が一致しました\n"
     ]
    }
   ],
   "source": [
    "# Data check 機構（正常動作時）\n",
    "import datetime\n",
    "\n",
    "max_date = pd.to_datetime(target_data['order_accept_date']).max()\n",
    "min_data = pd.to_datetime(target_data['order_accept_date']).min()\n",
    "max_str_date = max_date.strftime('%Y%m')\n",
    "min_str_date = min_data.strftime('%Y%m')\n",
    "if tg_ym == min_str_date and tg_ym == max_str_date:\n",
    "    print(\"日付が一致しました\")\n",
    "else:\n",
    "    raise Exception(\"日付が一致しません\")"
   ],
   "metadata": {
    "collapsed": false,
    "pycharm": {
     "name": "#%%\n"
    }
   }
  },
  {
   "cell_type": "markdown",
   "source": [
    "csv や Excel などのような Data は簡単に File 名を変更できてしまうため、Data の内容から check できる機構を入れておくことで間違いに気が付ける。"
   ],
   "metadata": {
    "collapsed": false,
    "pycharm": {
     "name": "#%% md\n"
    }
   }
  },
  {
   "cell_type": "code",
   "execution_count": 8,
   "outputs": [
    {
     "ename": "Exception",
     "evalue": "日付が一致しません",
     "output_type": "error",
     "traceback": [
      "\u001B[1;31m---------------------------------------------------------------------------\u001B[0m",
      "\u001B[1;31mException\u001B[0m                                 Traceback (most recent call last)",
      "\u001B[1;32m~\\AppData\\Local\\Temp\\ipykernel_16428\\491205906.py\u001B[0m in \u001B[0;36m<module>\u001B[1;34m\u001B[0m\n\u001B[0;32m      9\u001B[0m     \u001B[0mprint\u001B[0m\u001B[1;33m(\u001B[0m\u001B[1;34m\"日付が一致しました\"\u001B[0m\u001B[1;33m)\u001B[0m\u001B[1;33m\u001B[0m\u001B[1;33m\u001B[0m\u001B[0m\n\u001B[0;32m     10\u001B[0m \u001B[1;32melse\u001B[0m\u001B[1;33m:\u001B[0m\u001B[1;33m\u001B[0m\u001B[1;33m\u001B[0m\u001B[0m\n\u001B[1;32m---> 11\u001B[1;33m     \u001B[1;32mraise\u001B[0m \u001B[0mException\u001B[0m\u001B[1;33m(\u001B[0m\u001B[1;34m\"日付が一致しません\"\u001B[0m\u001B[1;33m)\u001B[0m\u001B[1;33m\u001B[0m\u001B[1;33m\u001B[0m\u001B[0m\n\u001B[0m",
      "\u001B[1;31mException\u001B[0m: 日付が一致しません"
     ]
    }
   ],
   "source": [
    "# Data check 機構（Error 動作時）\n",
    "import datetime\n",
    "\n",
    "max_date = pd.to_datetime(target_data['order_accept_date']).max()\n",
    "min_data = pd.to_datetime(target_data['order_accept_date']).min()\n",
    "max_str_date = max_date.strftime('%Y%m')\n",
    "min_str_date = min_data.strftime('%Y%m')\n",
    "if tg_ym == min_str_date and tg_ym == max_str_date:\n",
    "    print(\"日付が一致しました\")\n",
    "else:\n",
    "    raise Exception(\"日付が一致しません\")"
   ],
   "metadata": {
    "collapsed": false,
    "pycharm": {
     "name": "#%%\n"
    }
   }
  },
  {
   "cell_type": "markdown",
   "source": [
    "Check 機構は、取り組んでいる Data によって違いが出てくる。\n",
    "どういった規則で check を行なうべきか考えて構築する。"
   ],
   "metadata": {
    "collapsed": false,
    "pycharm": {
     "name": "#%% md\n"
    }
   }
  },
  {
   "cell_type": "code",
   "execution_count": 11,
   "outputs": [],
   "source": [
    "# DataFrame の各種初期化処理\n",
    "def calc_delta(t):\n",
    "    t1, t2 = t\n",
    "    delta = t2 - t1\n",
    "    return delta.total_seconds() / 60\n",
    "\n",
    "\n",
    "def init_tran_df(trg_df):\n",
    "    # 保守用店舗 Data の削除\n",
    "    trg_df = trg_df.loc[trg_df['store_id'] != 999]\n",
    "\n",
    "    trg_df = pd.merge(trg_df, m_store, on='store_id', how='left')\n",
    "    trg_df = pd.merge(trg_df, m_area, on='area_cd', how='left')\n",
    "\n",
    "    # Master にない Code に対応した文字列を設定\n",
    "    trg_df.loc[trg_df['takeout_flag'] == 0, 'takeout_name'] = \"デリバリー\"\n",
    "\n",
    "    trg_df.loc[trg_df['takeout_flag'] == 1, 'takeout_name'] = \"お持ち帰り\"\n",
    "\n",
    "    trg_df.loc[trg_df['status'] == 0, 'status_name'] = \"受付\"\n",
    "    trg_df.loc[trg_df['status'] == 1, 'status_name'] = \"お支払済\"\n",
    "    trg_df.loc[trg_df['status'] == 2, 'status_name'] = \"お渡し済\"\n",
    "    trg_df.loc[trg_df['status'] == 9, 'status_name'] = \"キャンセル\"\n",
    "\n",
    "    trg_df.loc[:, 'order_date'] = pd.to_datetime(trg_df['order_accept_date']).dt.date\n",
    "\n",
    "    # 配達までの時間を計算\n",
    "    trg_df.loc[:, 'order_accept_datetime'] = pd.to_datetime(trg_df['order_accept_date'])\n",
    "    trg_df.loc[:, 'delivered_datetime'] = pd.to_datetime(trg_df['delivered_date'])\n",
    "    trg_df.loc[:, 'delta'] = trg_df[['order_accept_datetime', 'delivered_datetime']].apply(calc_delta, axis=1)\n",
    "\n",
    "    return trg_df\n",
    "\n",
    "\n",
    "# 当月分を初期化\n",
    "target_data = init_tran_df(target_data)"
   ],
   "metadata": {
    "collapsed": false,
    "pycharm": {
     "name": "#%%\n"
    }
   }
  },
  {
   "cell_type": "code",
   "execution_count": null,
   "outputs": [],
   "source": [],
   "metadata": {
    "collapsed": false,
    "pycharm": {
     "name": "#%%\n"
    }
   }
  },
  {
   "cell_type": "code",
   "execution_count": 3,
   "outputs": [
    {
     "data": {
      "text/plain": "  area_cd wide_area narrow_area\n0      TK        東京          東京\n1      KN       神奈川         神奈川\n2      CH        千葉          千葉",
      "text/html": "<div>\n<style scoped>\n    .dataframe tbody tr th:only-of-type {\n        vertical-align: middle;\n    }\n\n    .dataframe tbody tr th {\n        vertical-align: top;\n    }\n\n    .dataframe thead th {\n        text-align: right;\n    }\n</style>\n<table border=\"1\" class=\"dataframe\">\n  <thead>\n    <tr style=\"text-align: right;\">\n      <th></th>\n      <th>area_cd</th>\n      <th>wide_area</th>\n      <th>narrow_area</th>\n    </tr>\n  </thead>\n  <tbody>\n    <tr>\n      <th>0</th>\n      <td>TK</td>\n      <td>東京</td>\n      <td>東京</td>\n    </tr>\n    <tr>\n      <th>1</th>\n      <td>KN</td>\n      <td>神奈川</td>\n      <td>神奈川</td>\n    </tr>\n    <tr>\n      <th>2</th>\n      <td>CH</td>\n      <td>千葉</td>\n      <td>千葉</td>\n    </tr>\n  </tbody>\n</table>\n</div>"
     },
     "execution_count": 3,
     "metadata": {},
     "output_type": "execute_result"
    }
   ],
   "source": [
    "# Master data の読み込み\n",
    "import pandas as pd\n",
    "\n",
    "m_area_file = 'm_area.csv'\n",
    "m_store_file = 'm_store.csv'\n",
    "m_area = pd.read_csv(os.path.join(master_dir, m_area_file))\n",
    "m_store = pd.read_csv(os.path.join(master_dir, m_store_file))\n",
    "m_area.head(3)"
   ],
   "metadata": {
    "collapsed": false,
    "pycharm": {
     "name": "#%%\n"
    }
   }
  },
  {
   "cell_type": "code",
   "execution_count": 4,
   "outputs": [],
   "source": [
    "# 直接 File 名を指定せずに、変数を対象年月として File を定義\n",
    "tg_ym = '202007'\n",
    "target_file = 'tbl_order_' + tg_ym + '.csv'\n",
    "target_data = pd.read_csv(os.path.join(input_dir, target_file))"
   ],
   "metadata": {
    "collapsed": false,
    "pycharm": {
     "name": "#%%\n"
    }
   }
  },
  {
   "cell_type": "markdown",
   "source": [
    "- なるべく混乱を避けるために、File 名ではなく、年月を指定するようにする等の工夫を行なう。\n",
    "- 毎月特定営業日に Data 更新を行なうなどが決まっている場合は、`datetime` 等で現在の年月を取得するのも良い。\n",
    "- Data がない, File 名が違う場合, `FileNotFoundError` 等が発生し Program が止まるため間違いを確認できる。\n",
    "- Error も起きずに自分が気づかないうちに意図しない処理が行なわれてしまい、間違った Report を配ってしまうことが一番、問題となる。\n",
    "- 毎月変化していく Data は、必ず check 機構を取り入れる。\n",
    "- Data の中身を出力することが Check 機構の基本だが Human error を起こす場合がある。\n",
    "- 可能な限り、Error を意図的に発生させて、Program を Stop できる機構を入れることが望ましい。"
   ],
   "metadata": {
    "collapsed": false,
    "pycharm": {
     "name": "#%% md\n"
    }
   }
  },
  {
   "cell_type": "code",
   "execution_count": 5,
   "outputs": [
    {
     "name": "stdout",
     "output_type": "stream",
     "text": [
      "日付が一致しました\n"
     ]
    }
   ],
   "source": [
    "# Data check 機構（正常動作時）\n",
    "import datetime\n",
    "\n",
    "max_date = pd.to_datetime(target_data['order_accept_date']).max()\n",
    "min_data = pd.to_datetime(target_data['order_accept_date']).min()\n",
    "max_str_date = max_date.strftime('%Y%m')\n",
    "min_str_date = min_data.strftime('%Y%m')\n",
    "if tg_ym == min_str_date and tg_ym == max_str_date:\n",
    "    print(\"日付が一致しました\")\n",
    "else:\n",
    "    raise Exception(\"日付が一致しません\")"
   ],
   "metadata": {
    "collapsed": false,
    "pycharm": {
     "name": "#%%\n"
    }
   }
  },
  {
   "cell_type": "markdown",
   "source": [
    "csv や Excel などのような Data は簡単に File 名を変更できてしまうため、Data の内容から check できる機構を入れておくことで間違いに気が付ける。"
   ],
   "metadata": {
    "collapsed": false,
    "pycharm": {
     "name": "#%% md\n"
    }
   }
  },
  {
   "cell_type": "code",
   "execution_count": null,
   "outputs": [],
   "source": [],
   "metadata": {
    "collapsed": false,
    "pycharm": {
     "name": "#%%\n"
    }
   }
  }
 ],
 "metadata": {
  "kernelspec": {
   "display_name": "Python 3",
   "language": "python",
   "name": "python3"
  },
  "language_info": {
   "codemirror_mode": {
    "name": "ipython",
    "version": 2
   },
   "file_extension": ".py",
   "mimetype": "text/x-python",
   "name": "python",
   "nbconvert_exporter": "python",
   "pygments_lexer": "ipython2",
   "version": "2.7.6"
  }
 },
 "nbformat": 4,
 "nbformat_minor": 0
}