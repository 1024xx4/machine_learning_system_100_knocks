{
 "cells": [
  {
   "cell_type": "markdown",
   "source": [
    "### Knock41: 基本的な Directory を生成しよう\n",
    "> #### Master data と input data\n",
    "> 明確な基準はないが、更新頻度によって仕訳するとよい。\n",
    "> - 更新頻度-高: input data\n",
    "> - 更新頻度-低: master data"
   ],
   "metadata": {
    "collapsed": false,
    "pycharm": {
     "name": "#%% md\n"
    }
   }
  },
  {
   "cell_type": "code",
   "execution_count": 70,
   "outputs": [
    {
     "name": "stdout",
     "output_type": "stream",
     "text": [
      "data\\0_input\n"
     ]
    }
   ],
   "source": [
    "# Directory path の定義\n",
    "import os\n",
    "data_dir = 'data'\n",
    "input_dir = os.path.join(data_dir, '0_input')\n",
    "output_dir = os.path.join(data_dir, '10_output')\n",
    "master_dir = os.path.join(data_dir, '99_master_dir')\n",
    "print(input_dir)"
   ],
   "metadata": {
    "collapsed": false,
    "pycharm": {
     "name": "#%%\n"
    }
   }
  },
  {
   "cell_type": "markdown",
   "source": [
    "`os.mkdir()` と `os.makedirs()` の違い\n",
    "- `os.makedirs()` は、再帰的に中間の Directory を自動で生成してくれる。"
   ],
   "metadata": {
    "collapsed": false,
    "pycharm": {
     "name": "#%% md\n"
    }
   }
  },
  {
   "cell_type": "code",
   "execution_count": 71,
   "outputs": [],
   "source": [
    "# Directory の生成\n",
    "os.makedirs(input_dir, exist_ok=True)\n",
    "os.makedirs(output_dir, exist_ok=True)\n",
    "os.makedirs(master_dir, exist_ok=True)"
   ],
   "metadata": {
    "collapsed": false,
    "pycharm": {
     "name": "#%%\n"
    }
   }
  },
  {
   "cell_type": "markdown",
   "source": [
    "### Knock42: 入力 Data の check機構を作ろう"
   ],
   "metadata": {
    "collapsed": false,
    "pycharm": {
     "name": "#%% md\n"
    }
   }
  },
  {
   "cell_type": "code",
   "execution_count": 72,
   "outputs": [
    {
     "data": {
      "text/plain": "  area_cd wide_area narrow_area\n0      TK        東京          東京\n1      KN       神奈川         神奈川\n2      CH        千葉          千葉",
      "text/html": "<div>\n<style scoped>\n    .dataframe tbody tr th:only-of-type {\n        vertical-align: middle;\n    }\n\n    .dataframe tbody tr th {\n        vertical-align: top;\n    }\n\n    .dataframe thead th {\n        text-align: right;\n    }\n</style>\n<table border=\"1\" class=\"dataframe\">\n  <thead>\n    <tr style=\"text-align: right;\">\n      <th></th>\n      <th>area_cd</th>\n      <th>wide_area</th>\n      <th>narrow_area</th>\n    </tr>\n  </thead>\n  <tbody>\n    <tr>\n      <th>0</th>\n      <td>TK</td>\n      <td>東京</td>\n      <td>東京</td>\n    </tr>\n    <tr>\n      <th>1</th>\n      <td>KN</td>\n      <td>神奈川</td>\n      <td>神奈川</td>\n    </tr>\n    <tr>\n      <th>2</th>\n      <td>CH</td>\n      <td>千葉</td>\n      <td>千葉</td>\n    </tr>\n  </tbody>\n</table>\n</div>"
     },
     "execution_count": 72,
     "metadata": {},
     "output_type": "execute_result"
    }
   ],
   "source": [
    "# Master data の読み込み\n",
    "import pandas as pd\n",
    "\n",
    "m_area_file = 'm_area.csv'\n",
    "m_store_file = 'm_store.csv'\n",
    "m_area = pd.read_csv(os.path.join(master_dir, m_area_file))\n",
    "m_store = pd.read_csv(os.path.join(master_dir, m_store_file))\n",
    "m_area.head(3)"
   ],
   "metadata": {
    "collapsed": false,
    "pycharm": {
     "name": "#%%\n"
    }
   }
  },
  {
   "cell_type": "code",
   "execution_count": 73,
   "outputs": [],
   "source": [
    "# 直接 File 名を指定せずに、変数を対象年月として File を定義\n",
    "tg_ym = '202007'\n",
    "target_file = 'tbl_order_' + tg_ym + '.csv'\n",
    "target_data = pd.read_csv(os.path.join(input_dir, target_file))"
   ],
   "metadata": {
    "collapsed": false,
    "pycharm": {
     "name": "#%%\n"
    }
   }
  },
  {
   "cell_type": "markdown",
   "source": [
    "- なるべく混乱を避けるために、File 名ではなく、年月を指定するようにする等の工夫を行なう。\n",
    "- 毎月特定営業日に Data 更新を行なうなどが決まっている場合は、`datetime` 等で現在の年月を取得するのも良い。\n",
    "- Data がない, File 名が違う場合, `FileNotFoundError` 等が発生し Program が止まるため間違いを確認できる。\n",
    "- Error も起きずに自分が気づかないうちに意図しない処理が行なわれてしまい、間違った Report を配ってしまうことが一番、問題となる。\n",
    "- 毎月変化していく Data は、必ず check 機構を取り入れる。\n",
    "- Data の中身を出力することが Check 機構の基本だが Human error を起こす場合がある。\n",
    "- 可能な限り、Error を意図的に発生させて、Program を Stop できる機構を入れることが望ましい。"
   ],
   "metadata": {
    "collapsed": false,
    "pycharm": {
     "name": "#%% md\n"
    }
   }
  },
  {
   "cell_type": "code",
   "execution_count": 74,
   "outputs": [
    {
     "name": "stdout",
     "output_type": "stream",
     "text": [
      "日付が一致しました\n"
     ]
    }
   ],
   "source": [
    "# Data check 機構（正常動作時）\n",
    "import datetime\n",
    "\n",
    "max_date = pd.to_datetime(target_data['order_accept_date']).max()\n",
    "min_data = pd.to_datetime(target_data['order_accept_date']).min()\n",
    "max_str_date = max_date.strftime('%Y%m')\n",
    "min_str_date = min_data.strftime('%Y%m')\n",
    "if tg_ym == min_str_date and tg_ym == max_str_date:\n",
    "    print(\"日付が一致しました\")\n",
    "else:\n",
    "    raise Exception(\"日付が一致しません\")"
   ],
   "metadata": {
    "collapsed": false,
    "pycharm": {
     "name": "#%%\n"
    }
   }
  },
  {
   "cell_type": "markdown",
   "source": [
    "csv や Excel などのような Data は簡単に File 名を変更できてしまうため、Data の内容から check できる機構を入れておくことで間違いに気が付ける。"
   ],
   "metadata": {
    "collapsed": false,
    "pycharm": {
     "name": "#%% md\n"
    }
   }
  },
  {
   "cell_type": "code",
   "execution_count": 75,
   "outputs": [
    {
     "name": "stdout",
     "output_type": "stream",
     "text": [
      "日付が一致しました\n"
     ]
    }
   ],
   "source": [
    "# Data check 機構（Error 動作時）\n",
    "import datetime\n",
    "\n",
    "max_date = pd.to_datetime(target_data['order_accept_date']).max()\n",
    "min_data = pd.to_datetime(target_data['order_accept_date']).min()\n",
    "max_str_date = max_date.strftime('%Y%m')\n",
    "min_str_date = min_data.strftime('%Y%m')\n",
    "if tg_ym == min_str_date and tg_ym == max_str_date:\n",
    "    print(\"日付が一致しました\")\n",
    "else:\n",
    "    raise Exception(\"日付が一致しません\")"
   ],
   "metadata": {
    "collapsed": false,
    "pycharm": {
     "name": "#%%\n"
    }
   }
  },
  {
   "cell_type": "markdown",
   "source": [
    "Check 機構は、取り組んでいる Data によって違いが出てくる。\n",
    "どういった規則で check を行なうべきか考えて構築する。"
   ],
   "metadata": {
    "collapsed": false,
    "pycharm": {
     "name": "#%% md\n"
    }
   }
  },
  {
   "cell_type": "code",
   "execution_count": 76,
   "outputs": [],
   "source": [
    "# DataFrame の各種初期化処理\n",
    "def calc_delta(t):\n",
    "    t1, t2 = t\n",
    "    delta = t2 - t1\n",
    "    return delta.total_seconds() / 60\n",
    "\n",
    "\n",
    "def init_tran_df(trg_df):\n",
    "    # 保守用店舗 Data の削除\n",
    "    trg_df = trg_df.loc[trg_df['store_id'] != 999]\n",
    "\n",
    "    trg_df = pd.merge(trg_df, m_store, on='store_id', how='left')\n",
    "    trg_df = pd.merge(trg_df, m_area, on='area_cd', how='left')\n",
    "\n",
    "    # Master にない Code に対応した文字列を設定\n",
    "    trg_df.loc[trg_df['takeout_flag'] == 0, 'takeout_name'] = \"デリバリー\"\n",
    "\n",
    "    trg_df.loc[trg_df['takeout_flag'] == 1, 'takeout_name'] = \"お持ち帰り\"\n",
    "\n",
    "    trg_df.loc[trg_df['status'] == 0, 'status_name'] = \"受付\"\n",
    "    trg_df.loc[trg_df['status'] == 1, 'status_name'] = \"お支払済\"\n",
    "    trg_df.loc[trg_df['status'] == 2, 'status_name'] = \"お渡し済\"\n",
    "    trg_df.loc[trg_df['status'] == 9, 'status_name'] = \"キャンセル\"\n",
    "\n",
    "    trg_df.loc[:, 'order_date'] = pd.to_datetime(trg_df['order_accept_date']).dt.date\n",
    "\n",
    "    # 配達までの時間を計算\n",
    "    trg_df.loc[:, 'order_accept_datetime'] = pd.to_datetime(trg_df['order_accept_date'])\n",
    "    trg_df.loc[:, 'delivered_datetime'] = pd.to_datetime(trg_df['delivered_date'])\n",
    "    trg_df.loc[:, 'delta'] = trg_df[['order_accept_datetime', 'delivered_datetime']].apply(calc_delta, axis=1)\n",
    "\n",
    "    return trg_df\n",
    "\n",
    "\n",
    "# 当月分を初期化\n",
    "target_data = init_tran_df(target_data)"
   ],
   "metadata": {
    "collapsed": false,
    "pycharm": {
     "name": "#%%\n"
    }
   }
  },
  {
   "cell_type": "markdown",
   "source": [
    "### Knock43: Reporting（本部向け）を関数化してみよう\n",
    "Reporting などの出力機能等は関数として保持しておくことで\n",
    "- 可読性の工場\n",
    "- Report 内容を変更する際に Program の変更箇所が一目でわかるようなる\n",
    "\n",
    "という Merit がある。"
   ],
   "metadata": {
    "collapsed": false,
    "pycharm": {
     "name": "#%% md\n"
    }
   }
  },
  {
   "cell_type": "code",
   "execution_count": 77,
   "outputs": [],
   "source": [
    "# Excel の Library import と店舗売上 Ranking の集計関数\n",
    "import openpyxl\n",
    "from openpyxl.utils.dataframe import dataframe_to_rows\n",
    "from openpyxl.styles import PatternFill, Border, Side, Font\n",
    "\n",
    "\n",
    "def get_rank_df(target_data):\n",
    "    # 店舗別の Data 作成、Ranking DF の返却\n",
    "    tmp = target_data.loc[target_data['status'].isin([1, 2])]\n",
    "    rank = tmp.groupby(['store_id'])['total_amount'].sum().sort_values(ascending=False)\n",
    "    rank = pd.merge(rank, m_store, on='store_id', how='left')\n",
    "\n",
    "    return rank"
   ],
   "metadata": {
    "collapsed": false,
    "pycharm": {
     "name": "#%%\n"
    }
   }
  },
  {
   "cell_type": "code",
   "execution_count": 78,
   "outputs": [],
   "source": [
    "# Cancel 率の Ranking 集計関数\n",
    "def get_cancel_rank_df(target_data):\n",
    "    # Cancel 率の計算、Ranking DF の返却\n",
    "    cancel_df = pd.DataFrame()\n",
    "    cancel_cnt = target_data.loc[target_data['status'] == 9].groupby(['store_id'])['store_id'].count()\n",
    "    order_cnt = target_data.loc[target_data['status'].isin([1, 2, 9])].groupby(['store_id'])['store_id'].count()\n",
    "    cancel_rate = (cancel_cnt / order_cnt) * 100\n",
    "    cancel_df['cancel_rate'] = cancel_rate\n",
    "    cancel_df = pd.merge(cancel_df, m_store, on='store_id', how='left')\n",
    "    cancel_df = cancel_df.sort_values('cancel_rate', ascending=True)\n",
    "\n",
    "    return cancel_df"
   ],
   "metadata": {
    "collapsed": false,
    "pycharm": {
     "name": "#%%\n"
    }
   }
  },
  {
   "cell_type": "code",
   "execution_count": 79,
   "outputs": [],
   "source": [
    "# Data の出力処理\n",
    "def data_export(df, ws, row_start, col_start):\n",
    "    # Style 定義\n",
    "    side = Side(style='thin', color='008080')\n",
    "    border = Border(top=side, bottom=side, left=side, right=side)\n",
    "\n",
    "    rows = dataframe_to_rows(df, index=False, header=True)\n",
    "\n",
    "    for row_no, row in enumerate(rows, row_start):\n",
    "        for col_no, value in enumerate(row, col_start):\n",
    "            cell = ws.cell(row_no, col_no)\n",
    "            cell.value = value\n",
    "            cell.border = border\n",
    "            if row_no == row_start:\n",
    "                cell.fill = PatternFill(patternType='solid', fgColor='008080')\n",
    "                cell.font = Font(bold=True, color='FFFFFF')"
   ],
   "metadata": {
    "collapsed": false,
    "pycharm": {
     "name": "#%%\n"
    }
   }
  },
  {
   "cell_type": "code",
   "execution_count": 80,
   "outputs": [],
   "source": [
    "# 本社向け Reporting data 処理\n",
    "def make_report_hq(target_data, output_folder):\n",
    "    rank = get_rank_df(target_data)\n",
    "    cancel_rank = get_cancel_rank_df(target_data)\n",
    "\n",
    "    # Excel 出力処理\n",
    "    wb = openpyxl.Workbook()\n",
    "    ws = wb.active\n",
    "    ws.title = \"Summary-Report（本社向け）\"\n",
    "\n",
    "    cell = ws.cell(1, 1)\n",
    "    cell.value = f\"本社向け {max_str_date} 月度 Summary Report\"\n",
    "    cell.font = Font(bold=True, color='008080', size=20)\n",
    "\n",
    "    cell = ws.cell(3, 2)\n",
    "    cell.value = f\"{max_str_date}月度 売上総額\"\n",
    "    cell.font = Font(bold=True, color='008080', size=20)\n",
    "\n",
    "    cell = ws.cell(3, 6)\n",
    "    cell.value = f\"{'{:,}'.format(rank['total_amount'].sum())}\"\n",
    "    cell.font = Font(bold=True, color='008080', size=20)\n",
    "\n",
    "    # 売上 Ranking を直接出力\n",
    "    cell = ws.cell(5, 2)\n",
    "    cell.value = f\"売上 Ranking\"\n",
    "    cell.font = Font(bold=True, color='008080', size=16)\n",
    "\n",
    "    # 表の貼り付け\n",
    "    data_export(rank, ws, 6, 2)\n",
    "\n",
    "    # Cancel率 Ranking を直接出力\n",
    "    cell = ws.cell(5, 8)\n",
    "    cell.value = f\"Cancel 率 Ranking\"\n",
    "    cell.font = Font(bold=True, color='008080', size=16)\n",
    "\n",
    "    # 表の貼り付け位置\n",
    "    data_export(cancel_rank, ws, 6, 8)\n",
    "\n",
    "    wb.save(os.path.join(output_folder, f\"report_hq_{max_str_date}.xlsx\"))\n",
    "    wb.close()"
   ],
   "metadata": {
    "collapsed": false,
    "pycharm": {
     "name": "#%%\n"
    }
   }
  },
  {
   "cell_type": "markdown",
   "source": [
    "関数化（構造化）は、可読性や Maintenance 性も向上するので、なるべく意識して関数を作るように心がける。\n",
    "※処理を細かくし過ぎないように注意する。"
   ],
   "metadata": {
    "collapsed": false,
    "pycharm": {
     "name": "#%% md\n"
    }
   }
  },
  {
   "cell_type": "markdown",
   "source": [
    "### Knock44: Reporting（店舗向け）を関数化してみよう\n"
   ],
   "metadata": {
    "collapsed": false,
    "pycharm": {
     "name": "#%% md\n"
    }
   }
  },
  {
   "cell_type": "code",
   "execution_count": 81,
   "outputs": [],
   "source": [
    "# 店舗の売上 Ranking と店舗の売上集計関数\n",
    "def get_store_rank(target_id, target_df):\n",
    "    rank = get_rank_df(target_df)\n",
    "    store_rank = rank.loc[rank['store_id'] == target_id].index + 1\n",
    "\n",
    "    return store_rank[0]\n",
    "\n",
    "\n",
    "def get_store_sale(target_id, target_df):\n",
    "    rank = get_rank_df(target_df)\n",
    "    store_sale = rank.loc[rank['store_id'] == target_id]['total_amount']\n",
    "\n",
    "    return store_sale"
   ],
   "metadata": {
    "collapsed": false,
    "pycharm": {
     "name": "#%%\n"
    }
   }
  },
  {
   "cell_type": "markdown",
   "source": [
    "関数を分けておくと、再利用が可能になり、効率も良くなり、不具合発生率も低くなる。"
   ],
   "metadata": {
    "collapsed": false,
    "pycharm": {
     "name": "#%% md\n"
    }
   }
  },
  {
   "cell_type": "code",
   "execution_count": 82,
   "outputs": [],
   "source": [
    "# 店舗単位の Cancel 率 Rank, Cancel 数の集計関数\n",
    "def get_store_cancel_rank(target_id, target_df):\n",
    "    cancel_df = get_cancel_rank_df(target_df)\n",
    "    cancel_df = cancel_df.reset_index()\n",
    "    store_cancel_rank = cancel_df.loc[cancel_df['store_id'] == target_id].index + 1\n",
    "\n",
    "    return store_cancel_rank[0]\n",
    "\n",
    "\n",
    "def get_store_cancel_count(target_id, target_df):\n",
    "    store_cancel_count = target_df.loc[\n",
    "        (target_df['status'] == 9)\n",
    "        & (target_df['store_id'] == target_id)\n",
    "        ].groupby(['store_id'])['store_id'].count()\n",
    "    return store_cancel_count"
   ],
   "metadata": {
    "collapsed": false,
    "pycharm": {
     "name": "#%%\n"
    }
   }
  },
  {
   "cell_type": "code",
   "execution_count": 83,
   "outputs": [],
   "source": [
    "# 店舗毎の配達までの時間 Ranking と集計関数\n",
    "def get_delivery_rank_df(target_id, target_df):\n",
    "    delivery = target_df.loc[target_df['status'] == 2]\n",
    "    delivery_rank = delivery.groupby(['store_id'])['delta'].mean().sort_values()\n",
    "    delivery_rank = pd.merge(delivery_rank, m_store, on='store_id', how='left')\n",
    "\n",
    "    return delivery_rank\n",
    "\n",
    "\n",
    "def get_delivery_rank_store(target_id, target_df):\n",
    "    delivery_rank = get_delivery_rank_df(target_id, target_df)\n",
    "    store_delivery_rank = delivery_rank.loc[delivery_rank['store_id'] == target_id].index + 1\n",
    "\n",
    "    return store_delivery_rank[0]"
   ],
   "metadata": {
    "collapsed": false,
    "pycharm": {
     "name": "#%%\n"
    }
   }
  },
  {
   "cell_type": "code",
   "execution_count": 87,
   "outputs": [],
   "source": [
    "# 店舗個別の Reporting 出力関数\n",
    "\n",
    "# 店舗向け Reporting Data 処理\n",
    "def make_report_store(target_data, target_id, output_folder):\n",
    "    rank = get_store_rank(target_id, target_data)\n",
    "    sale = get_store_sale(target_id, target_data)\n",
    "    cancel_rank = get_store_cancel_rank(target_id, target_data)\n",
    "    cancel_count = get_store_cancel_count(target_id, target_data)\n",
    "    delivery_df = get_delivery_rank_df(target_id, target_data)\n",
    "    delivery_rank = get_delivery_rank_store(target_id, target_data)\n",
    "\n",
    "    store_name = m_store.loc[m_store['store_id'] == target_id]['store_name'].values[0]\n",
    "\n",
    "    # Excel 出力処理\n",
    "    wb = openpyxl.Workbook()\n",
    "    ws = wb.active\n",
    "    ws.title = \"店舗向け Reporting\"\n",
    "\n",
    "    cell = ws.cell(1, 1)\n",
    "    cell.value = f\"{store_name} {max_str_date}月度 Summary Report\"\n",
    "    cell.font = Font(bold=True, color='008080', size=20)\n",
    "\n",
    "    cell = ws.cell(3, 2)\n",
    "    cell.value = f\"{max_str_date}月度 売上総額\"\n",
    "    cell.font = Font(bold=True, color='008080', size=20)\n",
    "\n",
    "    cell = ws.cell(3, 6)\n",
    "    cell.value = f\"{'{:,}'.format(sale.values[0])}\"\n",
    "    cell.font = Font(bold=True, color='080080', size=20)\n",
    "\n",
    "    # 売上 Ranking を直接出力\n",
    "    cell = ws.cell(5, 2)\n",
    "    cell.value = f\"売上 Ranking\"\n",
    "    cell.font = Font(bold=True, color='008080', size=16)\n",
    "\n",
    "    cell = ws.cell(5, 5)\n",
    "    cell.value = f\"{rank}位\"\n",
    "    cell.font = Font(bold=True, color='008080', size=16)\n",
    "\n",
    "    cell = ws.cell(6, 2)\n",
    "    cell.value = f\"売上 Data\"\n",
    "    cell.font = Font(bold=True, color='008080', size=16)\n",
    "\n",
    "    # 表の貼り付け\n",
    "    tmp_df = target_data.loc[\n",
    "        (target_data['store_id'] == target_id)\n",
    "        & (target_data['status'].isin([1, 2]))\n",
    "        ]\n",
    "    tmp_df = tmp_df[['order_accept_date', 'customer_id', 'total_amount', 'takeout_name', 'status_name']]\n",
    "    data_export(tmp_df, ws, 7, 2)\n",
    "\n",
    "    # Cancel 率の Ranking を直接出力\n",
    "    cell = ws.cell(5, 8)\n",
    "    cell.value = f\"Cancel 率 Ranking\"\n",
    "    cell.font = Font(bold=True, color='008080', size=16)\n",
    "\n",
    "    cell = ws.cell(5, 12)\n",
    "    cell.value = f\"{cancel_rank}位 {cancel_count.values[0]}回\"\n",
    "    cell.font = Font(bold=True, color='008080', size=16)\n",
    "\n",
    "    cell = ws.cell(6, 8)\n",
    "    cell.value = f\"Cancel Data\"\n",
    "    cell.font = Font(bold=True, color='008080', size=16)\n",
    "\n",
    "    # 表の貼り付け\n",
    "    tmp_df = target_data.loc[\n",
    "        (target_data['store_id'] == target_id)\n",
    "        & (target_data['status'] == 9)\n",
    "        ]\n",
    "    tmp_df = tmp_df[['order_accept_date', 'customer_id', 'total_amount', 'takeout_name', 'status_name']]\n",
    "    data_export(tmp_df, ws, 7, 8)\n",
    "\n",
    "    # 配達完了までの時間を直接出力\n",
    "    ave_time = delivery_df.loc[delivery_df['store_id'] == target_id]['delta'].values[0]\n",
    "    cell = ws.cell(5, 14)\n",
    "    cell.value = f\"配達完了までの時間 Ranking\"\n",
    "    cell.font = Font(bold=True, color='008080', size=16)\n",
    "\n",
    "    cell = ws.cell(5, 18)\n",
    "    cell.value = f\"{delivery_rank}位 平均{ave_time}分\"\n",
    "    cell.font = Font(bold=True, color='008080', size=16)\n",
    "\n",
    "    cell = ws.cell(6, 14)\n",
    "    cell.value = f\"各店舗の配達時間 Rankingi\"\n",
    "    cell.font = Font(bold=True, color='008080', size=16)\n",
    "\n",
    "    # 表の貼り付け\n",
    "    data_export(delivery_df, ws, 7, 14)\n",
    "\n",
    "    wb.save(os.path.join(output_folder, f\"{target_id}_{store_name}_report_{max_str_date}.xlsx\"))\n",
    "    wb.close()"
   ],
   "metadata": {
    "collapsed": false,
    "pycharm": {
     "name": "#%%\n"
    }
   }
  },
  {
   "cell_type": "markdown",
   "source": [
    "### Knock45: 関数を実行し動作を確認してみよう"
   ],
   "metadata": {
    "collapsed": false,
    "pycharm": {
     "name": "#%% md\n"
    }
   }
  },
  {
   "cell_type": "code",
   "execution_count": 85,
   "outputs": [],
   "source": [
    "# 本部向け Report\n",
    "make_report_hq(target_data, output_dir)"
   ],
   "metadata": {
    "collapsed": false,
    "pycharm": {
     "name": "#%%\n"
    }
   }
  },
  {
   "cell_type": "code",
   "execution_count": 88,
   "outputs": [],
   "source": [
    "# 各店舗向け Repot（全店舗実施）\n",
    "for store_id in m_store.loc[m_store['store_id'] != 999]['store_id']:\n",
    "    make_report_store(target_data, store_id, output_dir)"
   ],
   "metadata": {
    "collapsed": false,
    "pycharm": {
     "name": "#%%\n"
    }
   }
  },
  {
   "cell_type": "markdown",
   "source": [
    "Data を更新して実行する場合、手作業で File を削除する必要がでてくる。削除しない、削除漏れがあると、どれが今回出力した Data か更新日しか頼りがなくなってしまう。\n",
    "これは、 Program で効率を良くしようとしているのに良くない状況である。"
   ],
   "metadata": {
    "collapsed": false,
    "pycharm": {
     "name": "#%% md\n"
    }
   }
  },
  {
   "cell_type": "markdown",
   "source": [
    "### Knock46: 更新に対応できる出力 Directory を作成しよう\n",
    "- 毎月更新されていく Data を 出力用の Directory に直接入れていく状況は問題が発生しやすい。\n",
    "- 最初のうちは問題がないが、File 数が増加すると、更新した Report file を探すのに時間等がかかるようになる。\n",
    "\n",
    "#### 解決策\n",
    "- tg_ym の値を Directory 名にすること。月毎にまとまる為、わかりやすい配置になる。\n",
    "- Directory に更新日を動的に記載すること。\n",
    "\n",
    "更新する Data に誤りがあった際に、いつ更新した Data なのか理解しやすくなる。\n"
   ],
   "metadata": {
    "collapsed": false,
    "pycharm": {
     "name": "#%% md\n"
    }
   }
  },
  {
   "cell_type": "code",
   "execution_count": 89,
   "outputs": [
    {
     "name": "stdout",
     "output_type": "stream",
     "text": [
      "202007_20220823220512\n"
     ]
    }
   ],
   "source": [
    "# 出力 Directory の作成\n",
    "def make_active_folder(targetYM):\n",
    "    now = datetime.datetime.now().strftime('%Y%m%d%H%M%S')\n",
    "    target_output_dir_name = targetYM + \"_\" + now\n",
    "    target_output_dir = os.path.join(output_dir, target_output_dir_name)\n",
    "    os.makedirs(target_output_dir)\n",
    "    print(target_output_dir_name)\n",
    "    return target_output_dir\n",
    "\n",
    "\n",
    "target_output_dir = make_active_folder(tg_ym)"
   ],
   "metadata": {
    "collapsed": false,
    "pycharm": {
     "name": "#%%\n"
    }
   }
  },
  {
   "cell_type": "code",
   "execution_count": null,
   "outputs": [],
   "source": [],
   "metadata": {
    "collapsed": false,
    "pycharm": {
     "name": "#%%\n"
    }
   }
  }
 ],
 "metadata": {
  "kernelspec": {
   "display_name": "Python 3",
   "language": "python",
   "name": "python3"
  },
  "language_info": {
   "codemirror_mode": {
    "name": "ipython",
    "version": 2
   },
   "file_extension": ".py",
   "mimetype": "text/x-python",
   "name": "python",
   "nbconvert_exporter": "python",
   "pygments_lexer": "ipython2",
   "version": "2.7.6"
  }
 },
 "nbformat": 4,
 "nbformat_minor": 0
}