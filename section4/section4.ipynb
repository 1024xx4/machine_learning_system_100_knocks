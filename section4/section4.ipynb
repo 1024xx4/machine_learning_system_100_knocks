{
 "cells": [
  {
   "cell_type": "markdown",
   "source": [
    "### Knock31: 特定店舗の売上を Excel にして出力しよう"
   ],
   "metadata": {
    "collapsed": false,
    "pycharm": {
     "name": "#%% md\n"
    }
   }
  },
  {
   "cell_type": "code",
   "execution_count": 1,
   "outputs": [
    {
     "name": "stdout",
     "output_type": "stream",
     "text": [
      "C:\\Users\\leone\\dsLab\\machine_learning_system_100_knocks\\section4\\tbl_order_202004.csv: 233260\n",
      "C:\\Users\\leone\\dsLab\\machine_learning_system_100_knocks\\section4\\tbl_order_202005.csv: 241139\n",
      "C:\\Users\\leone\\dsLab\\machine_learning_system_100_knocks\\section4\\tbl_order_202006.csv: 233301\n"
     ]
    },
    {
     "data": {
      "text/plain": "   order_id  store_id customer_id  coupon_cd  sales_detail_id  \\\n0  79339111        49   C26387220         50         67393872   \n1  18941733        85   C48773811         26         91834983   \n2  56217880        76   C66287421         36         64409634   \n3  28447783       190   C41156423         19         73032165   \n4  32576156       191   C54568117         71         23281182   \n\n     order_accept_date       delivered_date  takeout_flag  total_amount  \\\n0  2020-04-01 11:00:00  2020-04-01 11:18:00             1          4144   \n1  2020-04-01 11:00:00  2020-04-01 11:22:00             0          2877   \n2  2020-04-01 11:00:00  2020-04-01 11:15:00             0          2603   \n3  2020-04-01 11:00:00  2020-04-01 11:16:00             0          2732   \n4  2020-04-01 11:00:00  2020-04-01 11:53:00             0          2987   \n\n   status store_name area_cd wide_area narrow_area takeout_name status_name  \\\n0       1        浅草店      TK        東京          東京        お持ち帰り        お支払済   \n1       2        目黒店      TK        東京          東京        デリバリー        お渡し済   \n2       2        本郷店      TK        東京          東京        デリバリー        お渡し済   \n3       2        栃木店      TO       北関東          栃木        デリバリー        お渡し済   \n4       2       伊勢崎店      GU       北関東          群馬        デリバリー        お渡し済   \n\n   order_date  \n0  2020-04-01  \n1  2020-04-01  \n2  2020-04-01  \n3  2020-04-01  \n4  2020-04-01  ",
      "text/html": "<div>\n<style scoped>\n    .dataframe tbody tr th:only-of-type {\n        vertical-align: middle;\n    }\n\n    .dataframe tbody tr th {\n        vertical-align: top;\n    }\n\n    .dataframe thead th {\n        text-align: right;\n    }\n</style>\n<table border=\"1\" class=\"dataframe\">\n  <thead>\n    <tr style=\"text-align: right;\">\n      <th></th>\n      <th>order_id</th>\n      <th>store_id</th>\n      <th>customer_id</th>\n      <th>coupon_cd</th>\n      <th>sales_detail_id</th>\n      <th>order_accept_date</th>\n      <th>delivered_date</th>\n      <th>takeout_flag</th>\n      <th>total_amount</th>\n      <th>status</th>\n      <th>store_name</th>\n      <th>area_cd</th>\n      <th>wide_area</th>\n      <th>narrow_area</th>\n      <th>takeout_name</th>\n      <th>status_name</th>\n      <th>order_date</th>\n    </tr>\n  </thead>\n  <tbody>\n    <tr>\n      <th>0</th>\n      <td>79339111</td>\n      <td>49</td>\n      <td>C26387220</td>\n      <td>50</td>\n      <td>67393872</td>\n      <td>2020-04-01 11:00:00</td>\n      <td>2020-04-01 11:18:00</td>\n      <td>1</td>\n      <td>4144</td>\n      <td>1</td>\n      <td>浅草店</td>\n      <td>TK</td>\n      <td>東京</td>\n      <td>東京</td>\n      <td>お持ち帰り</td>\n      <td>お支払済</td>\n      <td>2020-04-01</td>\n    </tr>\n    <tr>\n      <th>1</th>\n      <td>18941733</td>\n      <td>85</td>\n      <td>C48773811</td>\n      <td>26</td>\n      <td>91834983</td>\n      <td>2020-04-01 11:00:00</td>\n      <td>2020-04-01 11:22:00</td>\n      <td>0</td>\n      <td>2877</td>\n      <td>2</td>\n      <td>目黒店</td>\n      <td>TK</td>\n      <td>東京</td>\n      <td>東京</td>\n      <td>デリバリー</td>\n      <td>お渡し済</td>\n      <td>2020-04-01</td>\n    </tr>\n    <tr>\n      <th>2</th>\n      <td>56217880</td>\n      <td>76</td>\n      <td>C66287421</td>\n      <td>36</td>\n      <td>64409634</td>\n      <td>2020-04-01 11:00:00</td>\n      <td>2020-04-01 11:15:00</td>\n      <td>0</td>\n      <td>2603</td>\n      <td>2</td>\n      <td>本郷店</td>\n      <td>TK</td>\n      <td>東京</td>\n      <td>東京</td>\n      <td>デリバリー</td>\n      <td>お渡し済</td>\n      <td>2020-04-01</td>\n    </tr>\n    <tr>\n      <th>3</th>\n      <td>28447783</td>\n      <td>190</td>\n      <td>C41156423</td>\n      <td>19</td>\n      <td>73032165</td>\n      <td>2020-04-01 11:00:00</td>\n      <td>2020-04-01 11:16:00</td>\n      <td>0</td>\n      <td>2732</td>\n      <td>2</td>\n      <td>栃木店</td>\n      <td>TO</td>\n      <td>北関東</td>\n      <td>栃木</td>\n      <td>デリバリー</td>\n      <td>お渡し済</td>\n      <td>2020-04-01</td>\n    </tr>\n    <tr>\n      <th>4</th>\n      <td>32576156</td>\n      <td>191</td>\n      <td>C54568117</td>\n      <td>71</td>\n      <td>23281182</td>\n      <td>2020-04-01 11:00:00</td>\n      <td>2020-04-01 11:53:00</td>\n      <td>0</td>\n      <td>2987</td>\n      <td>2</td>\n      <td>伊勢崎店</td>\n      <td>GU</td>\n      <td>北関東</td>\n      <td>群馬</td>\n      <td>デリバリー</td>\n      <td>お渡し済</td>\n      <td>2020-04-01</td>\n    </tr>\n  </tbody>\n</table>\n</div>"
     },
     "execution_count": 1,
     "metadata": {},
     "output_type": "execute_result"
    }
   ],
   "source": [
    "# Directory内の Data を読み込んで、Data の基礎的な加工を実施\n",
    "import pandas as pd\n",
    "import glob\n",
    "import os\n",
    "\n",
    "m_store = pd.read_csv('m_store.csv')\n",
    "m_area = pd.read_csv('m_area.csv')\n",
    "\n",
    "current_dir = os.getcwd()\n",
    "tbl_order_file = os.path.join(current_dir, 'tbl_order_*.csv')\n",
    "tbl_order_files = glob.glob(tbl_order_file)\n",
    "\n",
    "order_all = pd.DataFrame()\n",
    "for file in tbl_order_files:\n",
    "    order_tmp = pd.read_csv(file)\n",
    "    print(f\"{file}: {order_tmp.shape[0]}\")\n",
    "    order_all = pd.concat([order_all, order_tmp], ignore_index=True)\n",
    "\n",
    "# 保守用店舗 Data の削除\n",
    "order_all = order_all.loc[order_all['store_id'] != 999]\n",
    "\n",
    "order_all = pd.merge(order_all, m_store, on='store_id', how='left')\n",
    "order_all = pd.merge(order_all, m_area, on='area_cd', how='left')\n",
    "\n",
    "# Master にない Code に対応した文字列を設定\n",
    "order_all.loc[order_all['takeout_flag'] == 0, 'takeout_name'] = \"デリバリー\"\n",
    "order_all.loc[order_all['takeout_flag'] == 1, 'takeout_name'] = \"お持ち帰り\"\n",
    "\n",
    "order_all.loc[order_all['status'] == 0, 'status_name'] = \"受付\"\n",
    "order_all.loc[order_all['status'] == 1, 'status_name'] = \"お支払済\"\n",
    "order_all.loc[order_all['status'] == 2, 'status_name'] = \"お渡し済\"\n",
    "order_all.loc[order_all['status'] == 9, 'status_name'] = \"Cancel\"\n",
    "\n",
    "order_all.loc[:, 'order_date'] = pd.to_datetime(order_all['order_accept_date']).dt.date\n",
    "\n",
    "order_all.head()"
   ],
   "metadata": {
    "collapsed": false,
    "pycharm": {
     "name": "#%%\n"
    }
   }
  },
  {
   "cell_type": "code",
   "execution_count": 2,
   "outputs": [],
   "source": [
    "# 新規 Excel file を作成し、Cell に文字列を書き込む\n",
    "import openpyxl\n",
    "\n",
    "wb = openpyxl.Workbook()\n",
    "ws = wb['Sheet']\n",
    "ws.cell(1, 1).value = '書き込み Test です。'\n",
    "wb.save('test.xlsx')\n",
    "wb.close()"
   ],
   "metadata": {
    "collapsed": false,
    "pycharm": {
     "name": "#%%\n"
    }
   }
  },
  {
   "cell_type": "code",
   "execution_count": 3,
   "outputs": [
    {
     "name": "stdout",
     "output_type": "stream",
     "text": [
      "書き込み Test です。\n"
     ]
    }
   ],
   "source": [
    "# 作成した Excel file を開いて値を参照\n",
    "wb = openpyxl.load_workbook('test.xlsx', read_only=True)\n",
    "ws = wb['Sheet']\n",
    "print(ws.cell(1, 1).value)\n",
    "wb.close()"
   ],
   "metadata": {
    "collapsed": false,
    "pycharm": {
     "name": "#%%\n"
    }
   }
  },
  {
   "cell_type": "code",
   "execution_count": 4,
   "outputs": [
    {
     "name": "stdout",
     "output_type": "stream",
     "text": [
      "売上額確認 9004535 = 9004535\n"
     ]
    },
    {
     "data": {
      "text/plain": "       order_accept_date customer_id  total_amount takeout_name status_name\n115  2020-04-01 11:09:09   C25851661          2471        デリバリー        お渡し済\n138  2020-04-01 11:11:11   C78632079          2112        デリバリー      Cancel\n332  2020-04-01 11:28:28   C44700154          2122        デリバリー      Cancel\n591  2020-04-01 11:49:49   C80269937          2615        お持ち帰り        お支払済\n773  2020-04-01 12:05:05   C70409495          4692        デリバリー      Cancel",
      "text/html": "<div>\n<style scoped>\n    .dataframe tbody tr th:only-of-type {\n        vertical-align: middle;\n    }\n\n    .dataframe tbody tr th {\n        vertical-align: top;\n    }\n\n    .dataframe thead th {\n        text-align: right;\n    }\n</style>\n<table border=\"1\" class=\"dataframe\">\n  <thead>\n    <tr style=\"text-align: right;\">\n      <th></th>\n      <th>order_accept_date</th>\n      <th>customer_id</th>\n      <th>total_amount</th>\n      <th>takeout_name</th>\n      <th>status_name</th>\n    </tr>\n  </thead>\n  <tbody>\n    <tr>\n      <th>115</th>\n      <td>2020-04-01 11:09:09</td>\n      <td>C25851661</td>\n      <td>2471</td>\n      <td>デリバリー</td>\n      <td>お渡し済</td>\n    </tr>\n    <tr>\n      <th>138</th>\n      <td>2020-04-01 11:11:11</td>\n      <td>C78632079</td>\n      <td>2112</td>\n      <td>デリバリー</td>\n      <td>Cancel</td>\n    </tr>\n    <tr>\n      <th>332</th>\n      <td>2020-04-01 11:28:28</td>\n      <td>C44700154</td>\n      <td>2122</td>\n      <td>デリバリー</td>\n      <td>Cancel</td>\n    </tr>\n    <tr>\n      <th>591</th>\n      <td>2020-04-01 11:49:49</td>\n      <td>C80269937</td>\n      <td>2615</td>\n      <td>お持ち帰り</td>\n      <td>お支払済</td>\n    </tr>\n    <tr>\n      <th>773</th>\n      <td>2020-04-01 12:05:05</td>\n      <td>C70409495</td>\n      <td>4692</td>\n      <td>デリバリー</td>\n      <td>Cancel</td>\n    </tr>\n  </tbody>\n</table>\n</div>"
     },
     "execution_count": 4,
     "metadata": {},
     "output_type": "execute_result"
    }
   ],
   "source": [
    "# 特定店舗の Data を Excel に出力\n",
    "# Test data の準備\n",
    "store_id = 1\n",
    "store_df = order_all.loc[order_all['store_id'] == store_id].copy()\n",
    "store_name = store_df['store_name'].unique()[0]\n",
    "store_sales_total = store_df.loc[store_df['status'].isin([1, 2])]['total_amount'].sum()\n",
    "store_sales_takeout = store_df.loc[store_df['status'] == 1]['total_amount'].sum()\n",
    "store_sales_delivery = store_df.loc[store_df['status'] == 2]['total_amount'].sum()\n",
    "print(f\"売上額確認 {store_sales_total} = {store_sales_takeout + store_sales_delivery}\")\n",
    "output_df = store_df[['order_accept_date', 'customer_id', 'total_amount', 'takeout_name', 'status_name']]\n",
    "output_df.head()"
   ],
   "metadata": {
    "collapsed": false,
    "pycharm": {
     "name": "#%%\n"
    }
   }
  },
  {
   "cell_type": "code",
   "execution_count": 5,
   "outputs": [],
   "source": [
    "from openpyxl.utils.dataframe import dataframe_to_rows\n",
    "\n",
    "store_title = f\"{store_id}_{store_name}\"\n",
    "\n",
    "wb = openpyxl.Workbook()\n",
    "ws = wb.active\n",
    "ws.title = store_title\n",
    "\n",
    "ws.cell(1, 1).value = f\"{store_title} 売上 Data\"\n",
    "\n",
    "# OpenPyXL の　Utility dataframe_to_rows を利用\n",
    "rows = dataframe_to_rows(output_df, index=False, header=True)\n",
    "\n",
    "# 表の貼り付け位置\n",
    "row_start = 3\n",
    "col_start = 2\n",
    "\n",
    "for row_no, row in enumerate(rows, row_start):\n",
    "    for col_no, value in enumerate(row, col_start):\n",
    "        ws.cell(row_no, col_no).value = value\n",
    "\n",
    "filename = f\"{store_title}.xlsx\"\n",
    "wb.save(filename)\n",
    "wb.close()"
   ],
   "metadata": {
    "collapsed": false,
    "pycharm": {
     "name": "#%%\n"
    }
   }
  },
  {
   "cell_type": "markdown",
   "source": [
    "### Knock32: Excel の表を整えて出力してみよう"
   ],
   "metadata": {
    "collapsed": false,
    "pycharm": {
     "name": "#%% md\n"
    }
   }
  },
  {
   "cell_type": "code",
   "execution_count": 6,
   "outputs": [],
   "source": [
    "# Style 関係の import\n",
    "from openpyxl.styles import PatternFill, Border, Side, Font\n",
    "\n",
    "openpyxl.load_workbook(filename)\n",
    "ws = wb[store_title]\n",
    "\n",
    "side = Side(style='thin', color='008080')\n",
    "border = Border(top=side, bottom=side, left=side, right=side)\n",
    "\n",
    "# Data の表の部分に罫線を設定\n",
    "for row in ws:\n",
    "    for cell in row:\n",
    "        if ws[cell.coordinate].value:\n",
    "            ws[cell.coordinate].border = border"
   ],
   "metadata": {
    "collapsed": false,
    "pycharm": {
     "name": "#%%\n"
    }
   }
  },
  {
   "cell_type": "code",
   "execution_count": 7,
   "outputs": [],
   "source": [
    "ws.cell(1, 1).font = Font(bold=True, color='008080')\n",
    "\n",
    "cell = ws.cell(3, 2)\n",
    "cell.fill = PatternFill(patternType='solid', fgColor='008080')\n",
    "cell.value = '注文受注日時'\n",
    "cell.font = Font(bold=True, color='FFFFFF')\n",
    "\n",
    "cell = ws.cell(3, 3)\n",
    "cell.fill = PatternFill(patternType='solid', fgColor='008080')\n",
    "cell.value = \"顧客 ID\"\n",
    "cell.font = Font(bold=True, color='FFFFFF')\n",
    "\n",
    "cell = ws.cell(3, 4)\n",
    "cell.fill = PatternFill(patternType='solid', fgColor='008080')\n",
    "cell.value = \"購入総額\"\n",
    "cell.font = Font(bold=True, color='FFFFFF')\n",
    "\n",
    "cell = ws.cell(3, 5)\n",
    "cell.fill = PatternFill(patternType='solid', fgColor='008080')\n",
    "cell.value = \"注文 Type\"\n",
    "cell.font = Font(bold=True, color='FFFFFF')\n",
    "\n",
    "cell = ws.cell(3, 6)\n",
    "cell.fill = PatternFill(patternType='solid', fgColor='008080')\n",
    "cell.value = \"注文状態\"\n",
    "cell.font = Font(bold=True, color='FFFFFF')\n",
    "\n",
    "ws.column_dimensions['A'].width = 20\n",
    "ws.column_dimensions['B'].width = 20\n",
    "ws.column_dimensions['C'].width = 12\n",
    "ws.column_dimensions['D'].width = 12\n",
    "ws.column_dimensions['E'].width = 12\n",
    "ws.column_dimensions['F'].width = 12\n",
    "\n",
    "# File に保存\n",
    "wb.save(filename)\n",
    "wb.close()"
   ],
   "metadata": {
    "collapsed": false,
    "pycharm": {
     "name": "#%%\n"
    }
   }
  },
  {
   "cell_type": "markdown",
   "source": [
    "### Knock33: 売上以外の Data も出力してみよう"
   ],
   "metadata": {
    "collapsed": false,
    "pycharm": {
     "name": "#%% md\n"
    }
   }
  },
  {
   "cell_type": "code",
   "execution_count": 8,
   "outputs": [
    {
     "data": {
      "text/plain": "           count       mean        std   min   25%   50%   75%   max\nstore_id                                                            \n1         3553.0  34.477062  14.514403  10.0  22.0  34.0  47.0  59.0",
      "text/html": "<div>\n<style scoped>\n    .dataframe tbody tr th:only-of-type {\n        vertical-align: middle;\n    }\n\n    .dataframe tbody tr th {\n        vertical-align: top;\n    }\n\n    .dataframe thead th {\n        text-align: right;\n    }\n</style>\n<table border=\"1\" class=\"dataframe\">\n  <thead>\n    <tr style=\"text-align: right;\">\n      <th></th>\n      <th>count</th>\n      <th>mean</th>\n      <th>std</th>\n      <th>min</th>\n      <th>25%</th>\n      <th>50%</th>\n      <th>75%</th>\n      <th>max</th>\n    </tr>\n    <tr>\n      <th>store_id</th>\n      <th></th>\n      <th></th>\n      <th></th>\n      <th></th>\n      <th></th>\n      <th></th>\n      <th></th>\n      <th></th>\n    </tr>\n  </thead>\n  <tbody>\n    <tr>\n      <th>1</th>\n      <td>3553.0</td>\n      <td>34.477062</td>\n      <td>14.514403</td>\n      <td>10.0</td>\n      <td>22.0</td>\n      <td>34.0</td>\n      <td>47.0</td>\n      <td>59.0</td>\n    </tr>\n  </tbody>\n</table>\n</div>"
     },
     "execution_count": 8,
     "metadata": {},
     "output_type": "execute_result"
    }
   ],
   "source": [
    "# 配達完了までの時間の計算\n",
    "def calc_delta(t):\n",
    "    t1, t2 = t\n",
    "    delta = t2 - t1\n",
    "    return delta.total_seconds() / 60\n",
    "\n",
    "\n",
    "store_df.loc[:, 'order_accept_datetime'] = pd.to_datetime(store_df['order_accept_date'])\n",
    "store_df.loc[:, 'delivered_datetime'] = pd.to_datetime(store_df['delivered_date'])\n",
    "store_df.loc[:, 'delta'] = store_df[['order_accept_datetime', 'delivered_datetime']].apply(calc_delta, axis=1)\n",
    "\n",
    "delivery_time = store_df.groupby(['store_id'])['delta'].describe()\n",
    "delivery_time"
   ],
   "metadata": {
    "collapsed": false,
    "pycharm": {
     "name": "#%%\n"
    }
   }
  },
  {
   "cell_type": "code",
   "execution_count": 9,
   "outputs": [],
   "source": [
    "# 計算した配達完了までの時間を Excel に出力\n",
    "openpyxl.load_workbook(filename)\n",
    "ws = wb[store_title]\n",
    "\n",
    "cell = ws.cell(1, 7)\n",
    "cell.value = f\"配達完了までの時間\"\n",
    "cell.font = Font(bold=True, color='008080')\n",
    "\n",
    "rows = dataframe_to_rows(delivery_time, index=False, header=True)\n",
    "\n",
    "# 表の貼り付け位置\n",
    "row_start = 3\n",
    "col_start = 8\n",
    "\n",
    "for row_no, row in enumerate(rows, row_start):\n",
    "    for col_no, value in enumerate(row, col_start):\n",
    "        cell = ws.cell(row_no, col_no)\n",
    "        cell.value = value\n",
    "        cell.border = border\n",
    "        if row_no == row_start:\n",
    "            cell.fill = PatternFill(patternType='solid', fgColor='008080')\n",
    "            cell.font = Font(bold=True, color='FFFFFF')\n",
    "\n",
    "filename = f\"{store_title}.xlsx\"\n",
    "wb.save(filename)\n",
    "wb.close()"
   ],
   "metadata": {
    "collapsed": false,
    "pycharm": {
     "name": "#%%\n"
    }
   }
  },
  {
   "cell_type": "markdown",
   "source": [
    "### Knock34: 問題のある箇所を赤字で出力してみよう\n",
    "強調したい箇所等に有効な手法: ある条件の時に装飾を変化させて出力する。"
   ],
   "metadata": {
    "collapsed": false,
    "pycharm": {
     "name": "#%% md\n"
    }
   }
  },
  {
   "cell_type": "code",
   "execution_count": 10,
   "outputs": [],
   "source": [
    "# Cancel data を赤文字にして出力\n",
    "openpyxl.load_workbook(filename)\n",
    "ws = wb[store_title]\n",
    "\n",
    "rows = dataframe_to_rows(output_df, index=False, header=True)\n",
    "\n",
    "# 表の貼り付け位置\n",
    "row_start = 3\n",
    "col_start = 2\n",
    "\n",
    "for row_no, row in enumerate(rows, row_start):\n",
    "    if row_no == row_start:\n",
    "        continue\n",
    "    for col_no, value in enumerate(row, col_start):\n",
    "        ws.cell(row_no, col_no).value = value\n",
    "        if value == \"Cancel\":\n",
    "            ws.cell(row_no, col_no).font = Font(bold=True, color='FF0000')\n",
    "\n",
    "filename = f\"{store_title}.xlsx\"\n",
    "wb.save(filename)\n",
    "wb.close()"
   ],
   "metadata": {
    "collapsed": false,
    "pycharm": {
     "name": "#%%\n"
    }
   }
  },
  {
   "cell_type": "markdown",
   "source": [
    "### Knock35: Excel の Cell 関数で日毎の集計をしてみよう"
   ],
   "metadata": {
    "collapsed": false,
    "pycharm": {
     "name": "#%% md\n"
    }
   }
  },
  {
   "cell_type": "code",
   "execution_count": 11,
   "outputs": [],
   "source": [
    "# Excel の Cell 関数\n",
    "openpyxl.load_workbook(filename)\n",
    "ws = wb[store_title]\n",
    "\n",
    "cell = ws.cell(7, 7)\n",
    "cell.value = \"集計\"\n",
    "cell.font = Font(bold=True, color='008080')\n",
    "\n",
    "cell = ws.cell(8, 8)\n",
    "cell.value = \"Data 総額\"\n",
    "cell.font = Font(bold=True, color='008080')\n",
    "\n",
    "cell = ws.cell(8, 10)\n",
    "cell.value = f'=SUM(D4:D{ws.max_row})'\n",
    "\n",
    "cell = ws.cell(9, 8)\n",
    "cell.value = \"　内　決済完了額\"\n",
    "cell.font = Font(bold=True)\n",
    "\n",
    "cell = ws.cell(9, 10)\n",
    "cell.value = f'=SUMIF(F4:F{ws.max_row},\"<>Cancel\",D4:D{ws.max_row})'\n",
    "\n",
    "cell = ws.cell(10, 8)\n",
    "cell.value = \"　内　Cancel 額\"\n",
    "cell.font = Font(bold=True)\n",
    "\n",
    "cell = ws.cell(10, 10)\n",
    "cell.value = f'=SUMIF(F4:F{ws.max_row},\"=Cancel\",D4:D{ws.max_row})'\n",
    "\n",
    "filename = f\"{store_title}.xlsx\"\n",
    "wb.save(filename)\n",
    "wb.close()"
   ],
   "metadata": {
    "collapsed": false,
    "pycharm": {
     "name": "#%%\n"
    }
   }
  },
  {
   "cell_type": "markdown",
   "source": [
    "### Knock36: 折れ線 Graph にして出力してみよう"
   ],
   "metadata": {
    "collapsed": false,
    "pycharm": {
     "name": "#%% md\n"
    }
   }
  },
  {
   "cell_type": "code",
   "execution_count": 12,
   "outputs": [],
   "source": [
    "# Graph の描画処理\n",
    "from openpyxl.chart import Reference, BarChart, PieChart, LineChart, ScatterChart, Series\n",
    "\n",
    "openpyxl.load_workbook(filename)\n",
    "ws = wb[store_title]\n",
    "\n",
    "cell = ws.cell(7, 7)\n",
    "cell.value = f\"売上 Graph\"\n",
    "cell.font = Font(bold=True, color='008080')\n",
    "\n",
    "# Graph 用の参照 Data を指定、D 列（購入総額）の 4行目から 20件を指定\n",
    "refy = Reference(ws, min_col=4, min_row=5, max_col=5, max_row=23)\n",
    "\n",
    "# Graph series を生成\n",
    "series = Series(refy, title='売上額')\n",
    "\n",
    "# Chart\n",
    "chart = LineChart()\n",
    "chart.title = \"折れ線 Graph\"\n",
    "chart.x_axis.title = \"件数\"\n",
    "chart.y_axis.title = \"売上額\"\n",
    "chart.height = 10\n",
    "chart.width = 20\n",
    "chart.series.append(series)\n",
    "\n",
    "# 生成した Chart object を Sheet の指定位置に追加\n",
    "ws.add_chart(chart, 'H12')\n",
    "\n",
    "filename = f\"{store_title}.xlsx\"\n",
    "wb.save(filename)\n",
    "wb.close()"
   ],
   "metadata": {
    "collapsed": false,
    "pycharm": {
     "name": "#%%\n"
    }
   }
  },
  {
   "cell_type": "markdown",
   "source": [
    "### Knock37: Report に向けて Data を準備しよう"
   ],
   "metadata": {
    "collapsed": false,
    "pycharm": {
     "name": "#%% md\n"
    }
   }
  },
  {
   "cell_type": "code",
   "execution_count": 13,
   "outputs": [],
   "source": [
    "# Cancel 率 Ranking と店舗 Rank の調査関数\n",
    "# Cancel 率 Ranking data を準備\n",
    "cancel_df = pd.DataFrame()\n",
    "cancel_cnt = order_all.loc[order_all['status'] == 9].groupby(['store_id'])['store_id'].count()\n",
    "order_cnt = order_all.loc[order_all['status'].isin([1, 2, 9])].groupby(['store_id'])['store_id'].count()\n",
    "cancel_rate = (cancel_cnt / order_cnt) * 100\n",
    "cancel_df['cancel_rate'] = cancel_rate\n",
    "cancel_df = pd.merge(cancel_df, m_store, on='store_id', how='left')\n",
    "cancel_rank = cancel_df.sort_values('cancel_rate', ascending=True).reset_index()\n",
    "\n",
    "\n",
    "def check_store_cancel_rank(trg_id):\n",
    "    tmp = cancel_rank.loc[cancel_rank['store_id'] == trg_id].index + 1\n",
    "    return tmp[0]"
   ],
   "metadata": {
    "collapsed": false,
    "pycharm": {
     "name": "#%%\n"
    }
   }
  },
  {
   "cell_type": "markdown",
   "source": [
    "再利用する処理は **関数化**"
   ],
   "metadata": {
    "collapsed": false,
    "pycharm": {
     "name": "#%% md\n"
    }
   }
  },
  {
   "cell_type": "code",
   "execution_count": 14,
   "outputs": [],
   "source": [
    "# 地域毎の売上集計関数と、Ranking 集計\n",
    "def get_area_df(trg_id):\n",
    "    # 該当店舗が属する、地域別 Data の集計と売上 Rank\n",
    "    area_df = pd.DataFrame()\n",
    "    area_df = order_all.loc[order_all['area_cd'] == store_df['area_cd'].unique()[0]]\n",
    "    area_df = area_df.loc[area_df['status'].isin([1, 2])]\n",
    "    return area_df\n",
    "\n",
    "\n",
    "def get_area_rank_df(trg_id):\n",
    "    area_df = get_area_df(trg_id)\n",
    "    area_rank = area_df.groupby(['store_id'])['total_amount'].sum().sort_values(ascending=False)\n",
    "    area_rank = pd.merge(area_rank, m_store, on='store_id', how='left')\n",
    "\n",
    "    return area_rank\n",
    "\n",
    "\n",
    "def check_store_sales_rank(trg_id):\n",
    "    area_rank = get_area_rank_df(trg_id)\n",
    "\n",
    "    tmp = area_rank.loc[area_rank['store_id'] == trg_id].index + 1\n",
    "    return tmp[0]"
   ],
   "metadata": {
    "collapsed": false,
    "pycharm": {
     "name": "#%%\n"
    }
   }
  },
  {
   "cell_type": "code",
   "execution_count": 15,
   "outputs": [],
   "source": [
    "# 該当店舗の日単位の売上を集計\n",
    "def make_store_daily(trg_id):\n",
    "    # 該当店舗の日毎売上 Data\n",
    "    tmp_store_df = order_all.loc[\n",
    "        (order_all['store_id'] == trg_id)\n",
    "        & (order_all['status'].isin([1, 2]))\n",
    "        ]\n",
    "    tmp = tmp_store_df[['order_accept_date', 'total_amount']].copy()\n",
    "    tmp.loc[:, 'order_accept_date'] = pd.to_datetime(tmp['order_accept_date'])\n",
    "    tmp.set_index('order_accept_date', inplace=True)\n",
    "    tmp = tmp.resample('D').sum().reset_index()\n",
    "\n",
    "    return tmp"
   ],
   "metadata": {
    "collapsed": false,
    "pycharm": {
     "name": "#%%\n"
    }
   }
  },
  {
   "cell_type": "code",
   "execution_count": 16,
   "outputs": [],
   "source": [
    "# 該当店舗の配達までの時間集計処理\n",
    "def get_area_delivery(trg_id):\n",
    "    # 該当店舗が属する、地域別 Data の配達完了までの時間 Rank\n",
    "    area_delivery = pd.DataFrame()\n",
    "    area_df = get_area_df(trg_id)\n",
    "    area_delivery = area_df.loc[area_df['status'] == 2].copy()\n",
    "\n",
    "    area_delivery.loc[:, 'order_accept_datetime'] = pd.to_datetime(area_delivery['order_accept_date'])\n",
    "    area_delivery.loc[:, 'delivered_datetime'] = pd.to_datetime(area_delivery['delivered_date'])\n",
    "    area_delivery.loc[:, 'delta'] = area_delivery[['order_accept_datetime', 'delivered_datetime']].apply(calc_delta,\n",
    "                                                                                                         axis=1)\n",
    "\n",
    "    return area_delivery\n",
    "\n",
    "\n",
    "def get_area_delivery_rank_df(trg_id):\n",
    "    area_delivery = get_area_delivery(trg_id)\n",
    "    area_delivery_rank = area_delivery.groupby(['store_id'])['delta'].mean().sort_values()\n",
    "    area_delivery_rank = pd.merge(area_delivery_rank, m_store, on='store_id', how='left')\n",
    "\n",
    "    return area_delivery_rank\n",
    "\n",
    "\n",
    "def check_store_delivery_rank(trg_id):\n",
    "    area_delivery_rank = get_area_delivery_rank_df(trg_id)\n",
    "\n",
    "    tmp = area_delivery_rank.loc[area_delivery_rank['store_id'] == trg_id].index + 1\n",
    "    return tmp[0]"
   ],
   "metadata": {
    "collapsed": false,
    "pycharm": {
     "name": "#%%\n"
    }
   }
  },
  {
   "cell_type": "markdown",
   "source": [
    "- 関数は呼び出されるまで実行されないため、不具合等があっても、現段階ではわからない。\n",
    "- Error 内容から Debug する技術も大事な Skill の１つ。"
   ],
   "metadata": {
    "collapsed": false,
    "pycharm": {
     "name": "#%% md\n"
    }
   }
  },
  {
   "cell_type": "markdown",
   "source": [
    "### Knock38: Datasheet に必要な Data を出力しよう"
   ],
   "metadata": {
    "collapsed": false,
    "pycharm": {
     "name": "#%% md\n"
    }
   }
  },
  {
   "cell_type": "code",
   "execution_count": 17,
   "outputs": [],
   "source": [
    "# 最初に Test 用の File を削除\n",
    "if os.path.exists('test.xlsx'): os.remove('test.xlsx')\n",
    "if os.path.exists(filename): os.remove(filename)"
   ],
   "metadata": {
    "collapsed": false,
    "pycharm": {
     "name": "#%%\n"
    }
   }
  },
  {
   "cell_type": "code",
   "execution_count": 18,
   "outputs": [],
   "source": [
    "# Data を Excel に出力する汎用関数\n",
    "def data_sheet_output(trg_wb, sheetname, target_df, indexFlg):\n",
    "    ws = trg_wb.create_sheet(title=sheetname)\n",
    "\n",
    "    rows = dataframe_to_rows(target_df, index=indexFlg, header=True)\n",
    "\n",
    "    # 表の貼り付け位置\n",
    "    row_start = 1\n",
    "    col_start = 1\n",
    "\n",
    "    for row_no, row in enumerate(rows, row_start):\n",
    "        for col_no, value in enumerate(row, col_start):\n",
    "            ws.cell(row_no, col_no).value = value\n",
    "\n",
    "    # Datasheet は非表示にしておく\n",
    "    ws.sheet_state = 'hidden'"
   ],
   "metadata": {
    "collapsed": false,
    "pycharm": {
     "name": "#%%\n"
    }
   }
  },
  {
   "cell_type": "code",
   "execution_count": 19,
   "outputs": [],
   "source": [
    "# data_sheet_output 関数を Call する関数\n",
    "def make_data_sheet(trg_id, trg_st_df, targetfolder):\n",
    "    target_daily = make_store_daily(trg_id)\n",
    "    store_name = trg_st_df['store_name'].unique()[0]\n",
    "\n",
    "    # 新たに　File を作成する\n",
    "    store_title = f\"{trg_id}_{store_name}\"\n",
    "\n",
    "    wb = openpyxl.Workbook()\n",
    "\n",
    "    # Cancel ranking\n",
    "    data_sheet_output(wb, 'Data_CancelRank', cancel_rank, False)\n",
    "    # Area 売上 Ranking\n",
    "    data_sheet_output(wb, 'Data_AreaRank', get_area_rank_df(trg_id), False)\n",
    "    # Area 配達時間 Ranking\n",
    "    data_sheet_output(wb, 'Data_DeliveryRank', get_area_delivery_rank_df(trg_id), False)\n",
    "    # 該当店舗の日単位売上 Data\n",
    "    data_sheet_output(wb, 'Data_Target_Daily', target_daily, False)\n",
    "\n",
    "    filename = os.path.join(targetfolder, f\"{store_title}.xlsx\")\n",
    "    wb.save(filename)\n",
    "    wb.close()\n",
    "\n",
    "    return filename"
   ],
   "metadata": {
    "collapsed": false,
    "pycharm": {
     "name": "#%%\n"
    }
   }
  },
  {
   "cell_type": "code",
   "execution_count": 20,
   "outputs": [],
   "source": [
    "# make_data_sheet関数の呼び出し\n",
    "filename_store = make_data_sheet(store_id, store_df, '')"
   ],
   "metadata": {
    "collapsed": false,
    "pycharm": {
     "name": "#%%\n"
    }
   }
  },
  {
   "cell_type": "markdown",
   "source": [
    "- 関数は入れ子になっていくことが多い。\n",
    "- 関数をあまり極端に細かくしてしまうと、可動性や Maintenance 性が逆に損なわれることがある。\n",
    "- 現 Member の Skill-level等も考慮して、構造化 Program 設計を考える必要がある。"
   ],
   "metadata": {
    "collapsed": false,
    "pycharm": {
     "name": "#%% md\n"
    }
   }
  },
  {
   "cell_type": "markdown",
   "source": [
    "### Knock39 Summary-sheet を作成しよう\n",
    "- 詳細な Data というのは興味を持たせてからで十分なので、まずはが概要で伝えたい Data を一目で伝わるように心掛けて Report を作成していく。\n",
    "- Report を受け取った人は初見なので、その人達の情報 Level に合わせるように意識する。"
   ],
   "metadata": {
    "collapsed": false,
    "pycharm": {
     "name": "#%% md\n"
    }
   }
  },
  {
   "cell_type": "code",
   "execution_count": 21,
   "outputs": [],
   "source": [
    "# Summary-sheet の作成関数\n",
    "def make_summary_sheet(trg_id, storename, trgfile):\n",
    "    target_cancel_rank = check_store_cancel_rank(trg_id)\n",
    "    target_sales_rank = check_store_sales_rank(trg_id)\n",
    "    target_delivery_rank = check_store_delivery_rank(trg_id)\n",
    "\n",
    "    wb = openpyxl.load_workbook(trgfile)\n",
    "    ws = wb.active\n",
    "    ws.title = 'Summary-report'\n",
    "\n",
    "    cell = ws.cell(1, 1)\n",
    "    cell.value = f\"{storename} Summary Report（4月～6月）\"\n",
    "    cell.font = Font(bold=True, color='008080', size=20)\n",
    "\n",
    "    ## 売上 Ranking の表示\n",
    "    tmpWs = wb['Data_Target_Daily']\n",
    "    cell = ws.cell(3, 2)\n",
    "    cell.value = \"店舗売上額\"\n",
    "    cell.font = Font(bold=True, color='008080', size=16)\n",
    "\n",
    "    # Cell の結合\n",
    "    ws.merge_cells('E3:F3')\n",
    "\n",
    "    cell = ws.cell(3, 5)\n",
    "    cell.value = f'=SUM({tmpWs.title}!B2:B{tmpWs.max_row})'\n",
    "    cell.font = Font(bold=True, color='0080FF', size=16)\n",
    "    cell.number_format = '#,##0'\n",
    "\n",
    "    cell = ws.cell(4, 2)\n",
    "    cell.value = '店舗売上 Rank'\n",
    "    cell.font = Font(bold=True, color='008080', size=16)\n",
    "\n",
    "    cell = ws.cell(4, 5)\n",
    "    cell.value = f\"{len(m_store)}店舗中 {target_sales_rank} 位\"\n",
    "    cell.font = Font(bold=True, color='0080FF', size=16)\n",
    "\n",
    "    # Graph 用の参照 Data を指定\n",
    "    refy = Reference(tmpWs, min_col=2, min_row=2, max_col=2, max_row=tmpWs.max_row)\n",
    "\n",
    "    # Graph series を作成\n",
    "    series = Series(refy, title='売上額')\n",
    "\n",
    "    # Chart\n",
    "    chart = LineChart()\n",
    "    chart.title = '期間売上額（日毎）'\n",
    "    chart.x_axis.title = \"件数\"\n",
    "    chart.y_axis.title = \"売上額\"\n",
    "    chart.height = 10\n",
    "    chart.width = 15\n",
    "    chart.series.append(series)\n",
    "\n",
    "    # 生成した Chart object を Sheet の指定位置に追加\n",
    "    ws.add_chart(chart, 'B6')\n",
    "\n",
    "    # 地域情報\n",
    "    tmpWs = wb['Data_AreaRank']\n",
    "\n",
    "    cell = ws.cell(4, 10)\n",
    "    cell.value = \"地域店舗売上情報\"\n",
    "    cell.font = Font(bold=True, color='008080', size=16)\n",
    "\n",
    "    cell = ws.cell(5, 11)\n",
    "    cell.value = \"最高額\"\n",
    "\n",
    "    cell = ws.cell(5, 12)\n",
    "    cell.value = f'=MAX({tmpWs.title}!B2:B{tmpWs.max_row})'\n",
    "    cell.number_format = '#,##0'\n",
    "\n",
    "    cell = ws.cell(6, 11)\n",
    "    cell.value = \"最低額\"\n",
    "\n",
    "    cell = ws.cell(6, 12)\n",
    "    cell.value = f'=MIN({tmpWs.title}!B2:B{tmpWs.max_row})'\n",
    "    cell.number_format = '#,##0'\n",
    "\n",
    "    cell = ws.cell(7, 11)\n",
    "    cell.value = \"地域平均\"\n",
    "\n",
    "    cell = ws.cell(7, 12)\n",
    "    cell.value = f'AVERAGE({tmpWs.title}!B2:B{tmpWs.max_row})'\n",
    "    cell.number_format = '#,##0'\n",
    "\n",
    "    # Cancel 率の表示\n",
    "    cell = ws.cell(11, 10)\n",
    "    cell.value = 'Cancel Rank'\n",
    "    cell.font = Font(bold=True, color='008080', size=16)\n",
    "\n",
    "    cell = ws.cell(12, 11)\n",
    "    cell.value = f\"{len(m_store)}店舗中 {target_cancel_rank} 位\"\n",
    "    cell.font = Font(bold=True, color='0080FF', size=16)\n",
    "\n",
    "    tmpWs = wb['Data_CancelRank']\n",
    "\n",
    "    cell = ws.cell(13, 11)\n",
    "    cell.value = \"地域平均\"\n",
    "\n",
    "    cell = ws.cell(13, 12)\n",
    "    cell.value = f'=AVERAGE({tmpWs.title}!C2:C{tmpWs.max_row})'\n",
    "    cell.number_format = '0.00'\n",
    "\n",
    "    # 配達時間 Ranking の表示\n",
    "    cell = ws.cell(15, 10)\n",
    "    cell.value = \"配達時間 Ranking\"\n",
    "    cell.font = Font(bold=True, color='008080', size=16)\n",
    "\n",
    "    cell = ws.cell(16, 11)\n",
    "    cell.value = f\"{len(m_store)}店舗中 {target_delivery_rank} 位\"\n",
    "    cell.font = Font(bold=True, color='0080FF', size=16)\n",
    "\n",
    "    tmpWs = wb['Data_DeliveryRank']\n",
    "\n",
    "    cell = ws.cell(17, 11)\n",
    "    cell.value = \"地域平均\"\n",
    "\n",
    "    cell = ws.cell(17, 12)\n",
    "    cell.value = f'=AVERAGE({tmpWs.title}!B2:B{tmpWs.max_row})'\n",
    "    cell.number_format = '0.00'\n",
    "\n",
    "    wb.save(trgfile)\n",
    "    wb.close"
   ],
   "metadata": {
    "collapsed": false,
    "pycharm": {
     "name": "#%%\n"
    }
   }
  },
  {
   "cell_type": "code",
   "execution_count": 22,
   "outputs": [],
   "source": [
    "make_summary_sheet(store_id, store_name, filename_store)"
   ],
   "metadata": {
    "collapsed": false,
    "pycharm": {
     "name": "#%%\n"
    }
   }
  },
  {
   "cell_type": "markdown",
   "source": [
    "- 普段の業務でも Excel を活用する Sean は多いはず。\n",
    "- 日頃の面倒な Excel 業務を Program 化してみるのも面白い。"
   ],
   "metadata": {
    "collapsed": false,
    "pycharm": {
     "name": "#%% md\n"
    }
   }
  },
  {
   "cell_type": "markdown",
   "source": [
    "### Knock40: 店舗別に Report を Excel 出力してみよう\n",
    "- 複数の処理を行なう場合、全ての処理が完了するまで時間がかかる。\n",
    "- 場合によっては、ある程度の処理が出力された時点で処理を中断する、などして効率的に進めることも視野にいれる。"
   ],
   "metadata": {
    "collapsed": false,
    "pycharm": {
     "name": "#%% md\n"
    }
   }
  },
  {
   "cell_type": "code",
   "execution_count": 23,
   "outputs": [
    {
     "name": "stdout",
     "output_type": "stream",
     "text": [
      "0    昭島店\n",
      "Name: store_name, dtype: object\n",
      "1    あきる野店\n",
      "Name: store_name, dtype: object\n",
      "2    足立店\n",
      "Name: store_name, dtype: object\n",
      "3    北千住店\n",
      "Name: store_name, dtype: object\n",
      "4    綾瀬店\n",
      "Name: store_name, dtype: object\n",
      "5    荒川店\n",
      "Name: store_name, dtype: object\n",
      "6    東尾久店\n",
      "Name: store_name, dtype: object\n",
      "7    板橋店\n",
      "Name: store_name, dtype: object\n",
      "8    高島平店\n",
      "Name: store_name, dtype: object\n",
      "9    稲城店\n",
      "Name: store_name, dtype: object\n",
      "10    江戸川店\n",
      "Name: store_name, dtype: object\n",
      "11    西葛西店\n",
      "Name: store_name, dtype: object\n",
      "12    青梅店\n",
      "Name: store_name, dtype: object\n",
      "13    大田店\n",
      "Name: store_name, dtype: object\n",
      "14    大森店\n",
      "Name: store_name, dtype: object\n",
      "15    蒲田店\n",
      "Name: store_name, dtype: object\n",
      "16    葛飾店\n",
      "Name: store_name, dtype: object\n",
      "17    亀有店\n",
      "Name: store_name, dtype: object\n",
      "18    赤羽店\n",
      "Name: store_name, dtype: object\n",
      "19    王子店\n",
      "Name: store_name, dtype: object\n",
      "20    清瀬店\n",
      "Name: store_name, dtype: object\n",
      "21    国立店\n",
      "Name: store_name, dtype: object\n",
      "22    江東店\n",
      "Name: store_name, dtype: object\n",
      "23    富岡店\n",
      "Name: store_name, dtype: object\n",
      "24    南砂店\n",
      "Name: store_name, dtype: object\n",
      "25    小金井店\n",
      "Name: store_name, dtype: object\n",
      "26    国分寺店\n",
      "Name: store_name, dtype: object\n",
      "27    小平店\n",
      "Name: store_name, dtype: object\n",
      "28    狛江店\n",
      "Name: store_name, dtype: object\n",
      "29    品川店\n",
      "Name: store_name, dtype: object\n",
      "30    五反田店\n",
      "Name: store_name, dtype: object\n",
      "31    大井店\n",
      "Name: store_name, dtype: object\n",
      "32    渋谷店\n",
      "Name: store_name, dtype: object\n",
      "33    恵比寿店\n",
      "Name: store_name, dtype: object\n",
      "34    代々木店\n",
      "Name: store_name, dtype: object\n",
      "35    新宿店\n",
      "Name: store_name, dtype: object\n",
      "36    大久保店\n",
      "Name: store_name, dtype: object\n",
      "37    高田馬場店\n",
      "Name: store_name, dtype: object\n",
      "38    杉並店\n",
      "Name: store_name, dtype: object\n",
      "39    高円寺店\n",
      "Name: store_name, dtype: object\n",
      "40    荻窪店\n",
      "Name: store_name, dtype: object\n",
      "41    墨田店\n",
      "Name: store_name, dtype: object\n",
      "42    向島店\n",
      "Name: store_name, dtype: object\n",
      "43    世田谷店\n",
      "Name: store_name, dtype: object\n",
      "44    池尻店\n",
      "Name: store_name, dtype: object\n",
      "45    駒沢店\n",
      "Name: store_name, dtype: object\n",
      "46    成城店\n",
      "Name: store_name, dtype: object\n",
      "47    上野店\n",
      "Name: store_name, dtype: object\n",
      "48    浅草店\n",
      "Name: store_name, dtype: object\n",
      "49    谷中店\n",
      "Name: store_name, dtype: object\n",
      "50    立川店\n",
      "Name: store_name, dtype: object\n",
      "51    多摩店\n",
      "Name: store_name, dtype: object\n",
      "52    銀座店\n",
      "Name: store_name, dtype: object\n",
      "53    日本橋店\n",
      "Name: store_name, dtype: object\n",
      "54    調布店\n",
      "Name: store_name, dtype: object\n",
      "55    神田店\n",
      "Name: store_name, dtype: object\n",
      "56    九段店\n",
      "Name: store_name, dtype: object\n",
      "57    池袋店\n",
      "Name: store_name, dtype: object\n",
      "58    巣鴨店\n",
      "Name: store_name, dtype: object\n",
      "59    駒込店\n",
      "Name: store_name, dtype: object\n",
      "60    中野店\n",
      "Name: store_name, dtype: object\n",
      "61    東中野店\n",
      "Name: store_name, dtype: object\n",
      "62    西多摩店\n",
      "Name: store_name, dtype: object\n",
      "63    西東京店\n",
      "Name: store_name, dtype: object\n",
      "64    練馬店\n",
      "Name: store_name, dtype: object\n",
      "65    石神井店\n",
      "Name: store_name, dtype: object\n",
      "66    大泉店\n",
      "Name: store_name, dtype: object\n",
      "67    八王子店\n",
      "Name: store_name, dtype: object\n",
      "68    羽村店\n",
      "Name: store_name, dtype: object\n",
      "69    東久留米店\n",
      "Name: store_name, dtype: object\n",
      "70    東村山店\n",
      "Name: store_name, dtype: object\n",
      "71    東大和店\n",
      "Name: store_name, dtype: object\n",
      "72    日野店\n",
      "Name: store_name, dtype: object\n",
      "73    府中店\n",
      "Name: store_name, dtype: object\n",
      "74    福生店\n",
      "Name: store_name, dtype: object\n",
      "75    本郷店\n",
      "Name: store_name, dtype: object\n",
      "76    大塚店\n",
      "Name: store_name, dtype: object\n",
      "77    町田店\n",
      "Name: store_name, dtype: object\n",
      "78    三鷹店\n",
      "Name: store_name, dtype: object\n",
      "79    赤坂店\n",
      "Name: store_name, dtype: object\n",
      "80    青山店\n",
      "Name: store_name, dtype: object\n",
      "81    六本木店\n",
      "Name: store_name, dtype: object\n",
      "82    武蔵野店\n",
      "Name: store_name, dtype: object\n",
      "83    武蔵村山店\n",
      "Name: store_name, dtype: object\n",
      "84    目黒店\n",
      "Name: store_name, dtype: object\n",
      "85    自由が丘店\n",
      "Name: store_name, dtype: object\n",
      "86    愛甲店\n",
      "Name: store_name, dtype: object\n",
      "87    足柄上店\n",
      "Name: store_name, dtype: object\n",
      "88    厚木店\n",
      "Name: store_name, dtype: object\n",
      "89    綾瀬店\n",
      "Name: store_name, dtype: object\n",
      "90    伊勢原店\n",
      "Name: store_name, dtype: object\n",
      "91    海老名店\n",
      "Name: store_name, dtype: object\n",
      "92    小田原店\n",
      "Name: store_name, dtype: object\n",
      "93    鎌倉店\n",
      "Name: store_name, dtype: object\n",
      "94    麻生店\n",
      "Name: store_name, dtype: object\n",
      "95    川崎店\n",
      "Name: store_name, dtype: object\n",
      "96    幸店\n",
      "Name: store_name, dtype: object\n",
      "97    高津店\n",
      "Name: store_name, dtype: object\n",
      "98    川崎多摩店\n",
      "Name: store_name, dtype: object\n",
      "99    中原店\n",
      "Name: store_name, dtype: object\n",
      "100    宮前店\n",
      "Name: store_name, dtype: object\n",
      "101    高座店\n",
      "Name: store_name, dtype: object\n",
      "102    相模原店\n",
      "Name: store_name, dtype: object\n",
      "103    座間店\n",
      "Name: store_name, dtype: object\n",
      "104    逗子店\n",
      "Name: store_name, dtype: object\n",
      "105    茅ヶ崎店\n",
      "Name: store_name, dtype: object\n",
      "106    中店\n",
      "Name: store_name, dtype: object\n",
      "107    秦野店\n",
      "Name: store_name, dtype: object\n",
      "108    平塚店\n",
      "Name: store_name, dtype: object\n",
      "109    藤沢店\n",
      "Name: store_name, dtype: object\n",
      "110    三浦店\n",
      "Name: store_name, dtype: object\n",
      "111    南足柄店\n",
      "Name: store_name, dtype: object\n",
      "112    大和店\n",
      "Name: store_name, dtype: object\n",
      "113    横須賀店\n",
      "Name: store_name, dtype: object\n",
      "114    青葉店\n",
      "Name: store_name, dtype: object\n",
      "115    旭店\n",
      "Name: store_name, dtype: object\n",
      "116    泉店\n",
      "Name: store_name, dtype: object\n",
      "117    磯子店\n",
      "Name: store_name, dtype: object\n",
      "118    神奈川店\n",
      "Name: store_name, dtype: object\n",
      "119    金沢店\n",
      "Name: store_name, dtype: object\n",
      "120    港南店\n",
      "Name: store_name, dtype: object\n",
      "121    港北店\n",
      "Name: store_name, dtype: object\n",
      "122    栄店\n",
      "Name: store_name, dtype: object\n",
      "123    瀬谷店\n",
      "Name: store_name, dtype: object\n",
      "124    都筑店\n",
      "Name: store_name, dtype: object\n",
      "125    鶴見店\n",
      "Name: store_name, dtype: object\n",
      "126    戸塚店\n",
      "Name: store_name, dtype: object\n",
      "127    保土ケ谷店\n",
      "Name: store_name, dtype: object\n",
      "128    横浜緑店\n",
      "Name: store_name, dtype: object\n",
      "129    横浜南店\n",
      "Name: store_name, dtype: object\n",
      "130    我孫子店\n",
      "Name: store_name, dtype: object\n",
      "131    市川店\n",
      "Name: store_name, dtype: object\n",
      "132    市原店\n",
      "Name: store_name, dtype: object\n",
      "133    浦安店\n",
      "Name: store_name, dtype: object\n",
      "134    柏店\n",
      "Name: store_name, dtype: object\n",
      "135    木更津店\n",
      "Name: store_name, dtype: object\n",
      "136    君津店\n",
      "Name: store_name, dtype: object\n",
      "137    佐倉店\n",
      "Name: store_name, dtype: object\n",
      "138    白井店\n",
      "Name: store_name, dtype: object\n",
      "139    千葉中央店\n",
      "Name: store_name, dtype: object\n",
      "140    千葉緑店\n",
      "Name: store_name, dtype: object\n",
      "141    若葉店\n",
      "Name: store_name, dtype: object\n",
      "142    富里店\n",
      "Name: store_name, dtype: object\n",
      "143    流山店\n",
      "Name: store_name, dtype: object\n",
      "144    習志野店\n",
      "Name: store_name, dtype: object\n",
      "145    成田店\n",
      "Name: store_name, dtype: object\n",
      "146    富津店\n",
      "Name: store_name, dtype: object\n",
      "147    船橋店\n",
      "Name: store_name, dtype: object\n",
      "148    松戸店\n",
      "Name: store_name, dtype: object\n",
      "149    茂原店\n",
      "Name: store_name, dtype: object\n",
      "150    八千代店\n",
      "Name: store_name, dtype: object\n",
      "151    四街道店\n",
      "Name: store_name, dtype: object\n",
      "152    上尾店\n",
      "Name: store_name, dtype: object\n",
      "153    入間店\n",
      "Name: store_name, dtype: object\n",
      "154    春日部店\n",
      "Name: store_name, dtype: object\n",
      "155    川口店\n",
      "Name: store_name, dtype: object\n",
      "156    川越店\n",
      "Name: store_name, dtype: object\n",
      "157    行田店\n",
      "Name: store_name, dtype: object\n",
      "158    久喜店\n",
      "Name: store_name, dtype: object\n",
      "159    熊谷店\n",
      "Name: store_name, dtype: object\n",
      "160    鴻巣店\n",
      "Name: store_name, dtype: object\n",
      "161    越谷店\n",
      "Name: store_name, dtype: object\n",
      "162    浦和店\n",
      "Name: store_name, dtype: object\n",
      "163    大宮店\n",
      "Name: store_name, dtype: object\n",
      "164    さいたま西店\n",
      "Name: store_name, dtype: object\n",
      "165    さいたま緑店\n",
      "Name: store_name, dtype: object\n",
      "166    さいたま南店\n",
      "Name: store_name, dtype: object\n",
      "167    坂戸店\n",
      "Name: store_name, dtype: object\n",
      "168    狭山店\n",
      "Name: store_name, dtype: object\n",
      "169    志木店\n",
      "Name: store_name, dtype: object\n",
      "170    草加店\n",
      "Name: store_name, dtype: object\n",
      "171    所沢店\n",
      "Name: store_name, dtype: object\n",
      "172    戸田店\n",
      "Name: store_name, dtype: object\n",
      "173    新座店\n",
      "Name: store_name, dtype: object\n",
      "174    羽生店\n",
      "Name: store_name, dtype: object\n",
      "175    東松山店\n",
      "Name: store_name, dtype: object\n",
      "176    本庄店\n",
      "Name: store_name, dtype: object\n",
      "177    八潮店\n",
      "Name: store_name, dtype: object\n",
      "178    和光店\n",
      "Name: store_name, dtype: object\n",
      "179    つくば店\n",
      "Name: store_name, dtype: object\n",
      "180    取手店\n",
      "Name: store_name, dtype: object\n",
      "181    那珂店\n",
      "Name: store_name, dtype: object\n",
      "182    日立店\n",
      "Name: store_name, dtype: object\n",
      "183    水戸店\n",
      "Name: store_name, dtype: object\n",
      "184    守谷店\n",
      "Name: store_name, dtype: object\n",
      "185    足利店\n",
      "Name: store_name, dtype: object\n",
      "186    宇都宮店\n",
      "Name: store_name, dtype: object\n",
      "187    小山店\n",
      "Name: store_name, dtype: object\n",
      "188    佐野店\n",
      "Name: store_name, dtype: object\n",
      "189    栃木店\n",
      "Name: store_name, dtype: object\n",
      "190    伊勢崎店\n",
      "Name: store_name, dtype: object\n",
      "191    太田店\n",
      "Name: store_name, dtype: object\n",
      "192    桐生店\n",
      "Name: store_name, dtype: object\n",
      "193    高崎店\n",
      "Name: store_name, dtype: object\n",
      "194    館林店\n",
      "Name: store_name, dtype: object\n",
      "195    前橋店\n",
      "Name: store_name, dtype: object\n",
      "出力完了しました。\n"
     ]
    }
   ],
   "source": [
    "os.makedirs('output', exist_ok=True)\n",
    "\n",
    "for store in m_store['store_id'].tolist():\n",
    "    if store != 999:\n",
    "        store_df = order_all.loc[order_all['store_id'] == store]\n",
    "        store_name = m_store.loc[m_store['store_id'] == store]['store_name']\n",
    "        print(store_name)\n",
    "\n",
    "        tmp_file_name = make_data_sheet(store, store_df, 'output')\n",
    "        make_summary_sheet(store, store_name.values[0], tmp_file_name)\n",
    "\n",
    "print(\"出力完了しました。\")"
   ],
   "metadata": {
    "collapsed": false,
    "pycharm": {
     "name": "#%%\n"
    }
   }
  },
  {
   "cell_type": "markdown",
   "source": [
    "現場で、Excel は多岐にわたり使用されている。身の回りの Excel 業務を自動化や Tool 化して業務改善を行なうとよい。"
   ],
   "metadata": {
    "collapsed": false,
    "pycharm": {
     "name": "#%% md\n"
    }
   }
  }
 ],
 "metadata": {
  "kernelspec": {
   "display_name": "Python 3",
   "language": "python",
   "name": "python3"
  },
  "language_info": {
   "codemirror_mode": {
    "name": "ipython",
    "version": 2
   },
   "file_extension": ".py",
   "mimetype": "text/x-python",
   "name": "python",
   "nbconvert_exporter": "python",
   "pygments_lexer": "ipython2",
   "version": "2.7.6"
  }
 },
 "nbformat": 4,
 "nbformat_minor": 0
}