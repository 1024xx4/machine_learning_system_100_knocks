{
 "cells": [
  {
   "cell_type": "markdown",
   "source": [
    "### Knock1: Data を全て読み込んでみる"
   ],
   "metadata": {
    "collapsed": false,
    "pycharm": {
     "name": "#%% md\n"
    }
   }
  },
  {
   "cell_type": "code",
   "execution_count": 1,
   "metadata": {
    "collapsed": true,
    "pycharm": {
     "name": "#%%\n"
    }
   },
   "outputs": [
    {
     "data": {
      "text/plain": "     store_id store_name area_cd\n0           1        昭島店      TK\n1           2      あきる野店      TK\n2           3        足立店      TK\n3           4       北千住店      TK\n4           5        綾瀬店      TK\n..        ...        ...     ...\n192       193        桐生店      GU\n193       194        高崎店      GU\n194       195        館林店      GU\n195       196        前橋店      GU\n196       999       保守担当      TK\n\n[197 rows x 3 columns]",
      "text/html": "<div>\n<style scoped>\n    .dataframe tbody tr th:only-of-type {\n        vertical-align: middle;\n    }\n\n    .dataframe tbody tr th {\n        vertical-align: top;\n    }\n\n    .dataframe thead th {\n        text-align: right;\n    }\n</style>\n<table border=\"1\" class=\"dataframe\">\n  <thead>\n    <tr style=\"text-align: right;\">\n      <th></th>\n      <th>store_id</th>\n      <th>store_name</th>\n      <th>area_cd</th>\n    </tr>\n  </thead>\n  <tbody>\n    <tr>\n      <th>0</th>\n      <td>1</td>\n      <td>昭島店</td>\n      <td>TK</td>\n    </tr>\n    <tr>\n      <th>1</th>\n      <td>2</td>\n      <td>あきる野店</td>\n      <td>TK</td>\n    </tr>\n    <tr>\n      <th>2</th>\n      <td>3</td>\n      <td>足立店</td>\n      <td>TK</td>\n    </tr>\n    <tr>\n      <th>3</th>\n      <td>4</td>\n      <td>北千住店</td>\n      <td>TK</td>\n    </tr>\n    <tr>\n      <th>4</th>\n      <td>5</td>\n      <td>綾瀬店</td>\n      <td>TK</td>\n    </tr>\n    <tr>\n      <th>...</th>\n      <td>...</td>\n      <td>...</td>\n      <td>...</td>\n    </tr>\n    <tr>\n      <th>192</th>\n      <td>193</td>\n      <td>桐生店</td>\n      <td>GU</td>\n    </tr>\n    <tr>\n      <th>193</th>\n      <td>194</td>\n      <td>高崎店</td>\n      <td>GU</td>\n    </tr>\n    <tr>\n      <th>194</th>\n      <td>195</td>\n      <td>館林店</td>\n      <td>GU</td>\n    </tr>\n    <tr>\n      <th>195</th>\n      <td>196</td>\n      <td>前橋店</td>\n      <td>GU</td>\n    </tr>\n    <tr>\n      <th>196</th>\n      <td>999</td>\n      <td>保守担当</td>\n      <td>TK</td>\n    </tr>\n  </tbody>\n</table>\n<p>197 rows × 3 columns</p>\n</div>"
     },
     "metadata": {},
     "output_type": "display_data"
    }
   ],
   "source": [
    "# m_store の読み込み結果\n",
    "import pandas as pd\n",
    "from IPython.display import display\n",
    "m_store = pd.read_csv('m_store.csv')\n",
    "display(m_store)"
   ]
  },
  {
   "cell_type": "code",
   "execution_count": 2,
   "outputs": [
    {
     "data": {
      "text/plain": "(197, 3)"
     },
     "execution_count": 2,
     "metadata": {},
     "output_type": "execute_result"
    }
   ],
   "source": [
    "# m_store の件数\n",
    "m_store.shape"
   ],
   "metadata": {
    "collapsed": false,
    "pycharm": {
     "name": "#%%\n"
    }
   }
  },
  {
   "cell_type": "code",
   "execution_count": 3,
   "outputs": [
    {
     "data": {
      "text/plain": "   store_id store_name area_cd\n0         1        昭島店      TK\n1         2      あきる野店      TK\n2         3        足立店      TK\n3         4       北千住店      TK\n4         5        綾瀬店      TK",
      "text/html": "<div>\n<style scoped>\n    .dataframe tbody tr th:only-of-type {\n        vertical-align: middle;\n    }\n\n    .dataframe tbody tr th {\n        vertical-align: top;\n    }\n\n    .dataframe thead th {\n        text-align: right;\n    }\n</style>\n<table border=\"1\" class=\"dataframe\">\n  <thead>\n    <tr style=\"text-align: right;\">\n      <th></th>\n      <th>store_id</th>\n      <th>store_name</th>\n      <th>area_cd</th>\n    </tr>\n  </thead>\n  <tbody>\n    <tr>\n      <th>0</th>\n      <td>1</td>\n      <td>昭島店</td>\n      <td>TK</td>\n    </tr>\n    <tr>\n      <th>1</th>\n      <td>2</td>\n      <td>あきる野店</td>\n      <td>TK</td>\n    </tr>\n    <tr>\n      <th>2</th>\n      <td>3</td>\n      <td>足立店</td>\n      <td>TK</td>\n    </tr>\n    <tr>\n      <th>3</th>\n      <td>4</td>\n      <td>北千住店</td>\n      <td>TK</td>\n    </tr>\n    <tr>\n      <th>4</th>\n      <td>5</td>\n      <td>綾瀬店</td>\n      <td>TK</td>\n    </tr>\n  </tbody>\n</table>\n</div>"
     },
     "execution_count": 3,
     "metadata": {},
     "output_type": "execute_result"
    }
   ],
   "source": [
    "# m_store の先頭５行\n",
    "m_store.head()"
   ],
   "metadata": {
    "collapsed": false,
    "pycharm": {
     "name": "#%%\n"
    }
   }
  },
  {
   "cell_type": "code",
   "execution_count": 4,
   "outputs": [
    {
     "data": {
      "text/plain": "  area_cd wide_area narrow_area\n0      TK        東京          東京\n1      KN       神奈川         神奈川\n2      CH        千葉          千葉\n3      SA        埼玉          埼玉\n4      IB       北関東          茨城\n5      TO       北関東          栃木\n6      GU       北関東          群馬",
      "text/html": "<div>\n<style scoped>\n    .dataframe tbody tr th:only-of-type {\n        vertical-align: middle;\n    }\n\n    .dataframe tbody tr th {\n        vertical-align: top;\n    }\n\n    .dataframe thead th {\n        text-align: right;\n    }\n</style>\n<table border=\"1\" class=\"dataframe\">\n  <thead>\n    <tr style=\"text-align: right;\">\n      <th></th>\n      <th>area_cd</th>\n      <th>wide_area</th>\n      <th>narrow_area</th>\n    </tr>\n  </thead>\n  <tbody>\n    <tr>\n      <th>0</th>\n      <td>TK</td>\n      <td>東京</td>\n      <td>東京</td>\n    </tr>\n    <tr>\n      <th>1</th>\n      <td>KN</td>\n      <td>神奈川</td>\n      <td>神奈川</td>\n    </tr>\n    <tr>\n      <th>2</th>\n      <td>CH</td>\n      <td>千葉</td>\n      <td>千葉</td>\n    </tr>\n    <tr>\n      <th>3</th>\n      <td>SA</td>\n      <td>埼玉</td>\n      <td>埼玉</td>\n    </tr>\n    <tr>\n      <th>4</th>\n      <td>IB</td>\n      <td>北関東</td>\n      <td>茨城</td>\n    </tr>\n    <tr>\n      <th>5</th>\n      <td>TO</td>\n      <td>北関東</td>\n      <td>栃木</td>\n    </tr>\n    <tr>\n      <th>6</th>\n      <td>GU</td>\n      <td>北関東</td>\n      <td>群馬</td>\n    </tr>\n  </tbody>\n</table>\n</div>"
     },
     "metadata": {},
     "output_type": "display_data"
    }
   ],
   "source": [
    "# Data の読み込み結果\n",
    "m_area = pd.read_csv('m_area.csv')\n",
    "display(m_area)"
   ],
   "metadata": {
    "collapsed": false,
    "pycharm": {
     "name": "#%%\n"
    }
   }
  },
  {
   "cell_type": "code",
   "execution_count": 5,
   "outputs": [
    {
     "data": {
      "text/plain": "        order_id  store_id customer_id  coupon_cd  sales_detail_id  \\\n0       79339111        49   C26387220         50         67393872   \n1       18941733        85   C48773811         26         91834983   \n2       56217880        76   C66287421         36         64409634   \n3       28447783       190   C41156423         19         73032165   \n4       32576156       191   C54568117         71         23281182   \n...          ...       ...         ...        ...              ...   \n233255  25546308         3   C24617924         46          3700904   \n233256  91693481        45   C68997855          6         37852755   \n233257  57908119        36   C16123702         81         90372382   \n233258   7145625       174   C80733640         75         48265986   \n233259  31301192       151   C23758178          9         13847510   \n\n          order_accept_date       delivered_date  takeout_flag  total_amount  \\\n0       2020-04-01 11:00:00  2020-04-01 11:18:00             1          4144   \n1       2020-04-01 11:00:00  2020-04-01 11:22:00             0          2877   \n2       2020-04-01 11:00:00  2020-04-01 11:15:00             0          2603   \n3       2020-04-01 11:00:00  2020-04-01 11:16:00             0          2732   \n4       2020-04-01 11:00:00  2020-04-01 11:53:00             0          2987   \n...                     ...                  ...           ...           ...   \n233255  2020-04-30 21:58:58  2020-04-30 22:19:58             0          2615   \n233256  2020-04-30 21:58:58  2020-04-30 22:13:58             0          2732   \n233257  2020-04-30 21:58:58  2020-04-30 22:47:58             0          2363   \n233258  2020-04-30 21:58:58  2020-04-30 22:32:58             0          2238   \n233259  2020-04-30 21:58:58  2020-04-30 22:52:58             0          1900   \n\n        status  \n0            1  \n1            2  \n2            2  \n3            2  \n4            2  \n...        ...  \n233255       2  \n233256       2  \n233257       2  \n233258       2  \n233259       2  \n\n[233260 rows x 10 columns]",
      "text/html": "<div>\n<style scoped>\n    .dataframe tbody tr th:only-of-type {\n        vertical-align: middle;\n    }\n\n    .dataframe tbody tr th {\n        vertical-align: top;\n    }\n\n    .dataframe thead th {\n        text-align: right;\n    }\n</style>\n<table border=\"1\" class=\"dataframe\">\n  <thead>\n    <tr style=\"text-align: right;\">\n      <th></th>\n      <th>order_id</th>\n      <th>store_id</th>\n      <th>customer_id</th>\n      <th>coupon_cd</th>\n      <th>sales_detail_id</th>\n      <th>order_accept_date</th>\n      <th>delivered_date</th>\n      <th>takeout_flag</th>\n      <th>total_amount</th>\n      <th>status</th>\n    </tr>\n  </thead>\n  <tbody>\n    <tr>\n      <th>0</th>\n      <td>79339111</td>\n      <td>49</td>\n      <td>C26387220</td>\n      <td>50</td>\n      <td>67393872</td>\n      <td>2020-04-01 11:00:00</td>\n      <td>2020-04-01 11:18:00</td>\n      <td>1</td>\n      <td>4144</td>\n      <td>1</td>\n    </tr>\n    <tr>\n      <th>1</th>\n      <td>18941733</td>\n      <td>85</td>\n      <td>C48773811</td>\n      <td>26</td>\n      <td>91834983</td>\n      <td>2020-04-01 11:00:00</td>\n      <td>2020-04-01 11:22:00</td>\n      <td>0</td>\n      <td>2877</td>\n      <td>2</td>\n    </tr>\n    <tr>\n      <th>2</th>\n      <td>56217880</td>\n      <td>76</td>\n      <td>C66287421</td>\n      <td>36</td>\n      <td>64409634</td>\n      <td>2020-04-01 11:00:00</td>\n      <td>2020-04-01 11:15:00</td>\n      <td>0</td>\n      <td>2603</td>\n      <td>2</td>\n    </tr>\n    <tr>\n      <th>3</th>\n      <td>28447783</td>\n      <td>190</td>\n      <td>C41156423</td>\n      <td>19</td>\n      <td>73032165</td>\n      <td>2020-04-01 11:00:00</td>\n      <td>2020-04-01 11:16:00</td>\n      <td>0</td>\n      <td>2732</td>\n      <td>2</td>\n    </tr>\n    <tr>\n      <th>4</th>\n      <td>32576156</td>\n      <td>191</td>\n      <td>C54568117</td>\n      <td>71</td>\n      <td>23281182</td>\n      <td>2020-04-01 11:00:00</td>\n      <td>2020-04-01 11:53:00</td>\n      <td>0</td>\n      <td>2987</td>\n      <td>2</td>\n    </tr>\n    <tr>\n      <th>...</th>\n      <td>...</td>\n      <td>...</td>\n      <td>...</td>\n      <td>...</td>\n      <td>...</td>\n      <td>...</td>\n      <td>...</td>\n      <td>...</td>\n      <td>...</td>\n      <td>...</td>\n    </tr>\n    <tr>\n      <th>233255</th>\n      <td>25546308</td>\n      <td>3</td>\n      <td>C24617924</td>\n      <td>46</td>\n      <td>3700904</td>\n      <td>2020-04-30 21:58:58</td>\n      <td>2020-04-30 22:19:58</td>\n      <td>0</td>\n      <td>2615</td>\n      <td>2</td>\n    </tr>\n    <tr>\n      <th>233256</th>\n      <td>91693481</td>\n      <td>45</td>\n      <td>C68997855</td>\n      <td>6</td>\n      <td>37852755</td>\n      <td>2020-04-30 21:58:58</td>\n      <td>2020-04-30 22:13:58</td>\n      <td>0</td>\n      <td>2732</td>\n      <td>2</td>\n    </tr>\n    <tr>\n      <th>233257</th>\n      <td>57908119</td>\n      <td>36</td>\n      <td>C16123702</td>\n      <td>81</td>\n      <td>90372382</td>\n      <td>2020-04-30 21:58:58</td>\n      <td>2020-04-30 22:47:58</td>\n      <td>0</td>\n      <td>2363</td>\n      <td>2</td>\n    </tr>\n    <tr>\n      <th>233258</th>\n      <td>7145625</td>\n      <td>174</td>\n      <td>C80733640</td>\n      <td>75</td>\n      <td>48265986</td>\n      <td>2020-04-30 21:58:58</td>\n      <td>2020-04-30 22:32:58</td>\n      <td>0</td>\n      <td>2238</td>\n      <td>2</td>\n    </tr>\n    <tr>\n      <th>233259</th>\n      <td>31301192</td>\n      <td>151</td>\n      <td>C23758178</td>\n      <td>9</td>\n      <td>13847510</td>\n      <td>2020-04-30 21:58:58</td>\n      <td>2020-04-30 22:52:58</td>\n      <td>0</td>\n      <td>1900</td>\n      <td>2</td>\n    </tr>\n  </tbody>\n</table>\n<p>233260 rows × 10 columns</p>\n</div>"
     },
     "metadata": {},
     "output_type": "display_data"
    }
   ],
   "source": [
    "tbl_order_4 = pd.read_csv('tbl_order_202004.csv')\n",
    "display(tbl_order_4)"
   ],
   "metadata": {
    "collapsed": false,
    "pycharm": {
     "name": "#%%\n"
    }
   }
  },
  {
   "cell_type": "markdown",
   "source": [
    "注文 Data を Base として加工していく。\n",
    "- 分析をする際はなるべく粒度の細かい Data を基準にする。\n",
    "- 今回は注文詳細 Data を除外している為、注文 Data が粒度が一番細かい。"
   ],
   "metadata": {
    "collapsed": false,
    "pycharm": {
     "name": "#%% md\n"
    }
   }
  },
  {
   "cell_type": "markdown",
   "source": [
    "#### 大きく２つの Data 加工を行なう\n",
    "1. 月ごとに分割された tbl_order を縦に結合（Union）\n",
    "2. tbl_order に m_store と m_area を横に結合する（Join）"
   ],
   "metadata": {
    "collapsed": false,
    "pycharm": {
     "name": "#%% md\n"
    }
   }
  },
  {
   "cell_type": "markdown",
   "source": [
    "### Knock2: Data を結合（Union）してみる"
   ],
   "metadata": {
    "collapsed": false,
    "pycharm": {
     "name": "#%% md\n"
    }
   }
  },
  {
   "cell_type": "code",
   "execution_count": 6,
   "outputs": [
    {
     "data": {
      "text/plain": "        order_id  store_id customer_id  coupon_cd  sales_detail_id  \\\n0       24742472        22   C90731046         22         80308413   \n1       11342919        56   C68678177         12         35725624   \n2       76451864        56   C79630016         46          2609869   \n3       28392539       192   C83895707         80         17111162   \n4       71706591       121   C36584528         93         22800835   \n...          ...       ...         ...        ...              ...   \n241134  47039360       154   C39765066         90         27121351   \n241135  61054188        94   C19465010         41         61513298   \n241136  45288914        11   C23883838         40         65359139   \n241137  41608372       149   C48350551         43         42138977   \n241138  40316733       169   C49087342         61         59737067   \n\n          order_accept_date       delivered_date  takeout_flag  total_amount  \\\n0       2020-05-01 11:00:00  2020-05-01 11:22:00             1          2328   \n1       2020-05-01 11:00:00  2020-05-01 11:50:00             0          2987   \n2       2020-05-01 11:00:00  2020-05-01 11:32:00             0          2603   \n3       2020-05-01 11:00:00  2020-05-01 11:19:00             0          2603   \n4       2020-05-01 11:00:00  2020-05-01 11:17:00             0          2877   \n...                     ...                  ...           ...           ...   \n241134  2020-05-31 21:58:58  2020-05-31 22:42:58             1          2363   \n241135  2020-05-31 21:58:58  2020-05-31 22:40:58             0          2112   \n241136  2020-05-31 21:58:58  2020-05-31 22:38:58             0          3838   \n241137  2020-05-31 21:58:58  2020-05-31 22:52:58             0          1899   \n241138  2020-05-31 21:58:58  2020-05-31 22:08:58             0          3901   \n\n        status  \n0            1  \n1            2  \n2            2  \n3            2  \n4            2  \n...        ...  \n241134       1  \n241135       2  \n241136       2  \n241137       2  \n241138       2  \n\n[241139 rows x 10 columns]",
      "text/html": "<div>\n<style scoped>\n    .dataframe tbody tr th:only-of-type {\n        vertical-align: middle;\n    }\n\n    .dataframe tbody tr th {\n        vertical-align: top;\n    }\n\n    .dataframe thead th {\n        text-align: right;\n    }\n</style>\n<table border=\"1\" class=\"dataframe\">\n  <thead>\n    <tr style=\"text-align: right;\">\n      <th></th>\n      <th>order_id</th>\n      <th>store_id</th>\n      <th>customer_id</th>\n      <th>coupon_cd</th>\n      <th>sales_detail_id</th>\n      <th>order_accept_date</th>\n      <th>delivered_date</th>\n      <th>takeout_flag</th>\n      <th>total_amount</th>\n      <th>status</th>\n    </tr>\n  </thead>\n  <tbody>\n    <tr>\n      <th>0</th>\n      <td>24742472</td>\n      <td>22</td>\n      <td>C90731046</td>\n      <td>22</td>\n      <td>80308413</td>\n      <td>2020-05-01 11:00:00</td>\n      <td>2020-05-01 11:22:00</td>\n      <td>1</td>\n      <td>2328</td>\n      <td>1</td>\n    </tr>\n    <tr>\n      <th>1</th>\n      <td>11342919</td>\n      <td>56</td>\n      <td>C68678177</td>\n      <td>12</td>\n      <td>35725624</td>\n      <td>2020-05-01 11:00:00</td>\n      <td>2020-05-01 11:50:00</td>\n      <td>0</td>\n      <td>2987</td>\n      <td>2</td>\n    </tr>\n    <tr>\n      <th>2</th>\n      <td>76451864</td>\n      <td>56</td>\n      <td>C79630016</td>\n      <td>46</td>\n      <td>2609869</td>\n      <td>2020-05-01 11:00:00</td>\n      <td>2020-05-01 11:32:00</td>\n      <td>0</td>\n      <td>2603</td>\n      <td>2</td>\n    </tr>\n    <tr>\n      <th>3</th>\n      <td>28392539</td>\n      <td>192</td>\n      <td>C83895707</td>\n      <td>80</td>\n      <td>17111162</td>\n      <td>2020-05-01 11:00:00</td>\n      <td>2020-05-01 11:19:00</td>\n      <td>0</td>\n      <td>2603</td>\n      <td>2</td>\n    </tr>\n    <tr>\n      <th>4</th>\n      <td>71706591</td>\n      <td>121</td>\n      <td>C36584528</td>\n      <td>93</td>\n      <td>22800835</td>\n      <td>2020-05-01 11:00:00</td>\n      <td>2020-05-01 11:17:00</td>\n      <td>0</td>\n      <td>2877</td>\n      <td>2</td>\n    </tr>\n    <tr>\n      <th>...</th>\n      <td>...</td>\n      <td>...</td>\n      <td>...</td>\n      <td>...</td>\n      <td>...</td>\n      <td>...</td>\n      <td>...</td>\n      <td>...</td>\n      <td>...</td>\n      <td>...</td>\n    </tr>\n    <tr>\n      <th>241134</th>\n      <td>47039360</td>\n      <td>154</td>\n      <td>C39765066</td>\n      <td>90</td>\n      <td>27121351</td>\n      <td>2020-05-31 21:58:58</td>\n      <td>2020-05-31 22:42:58</td>\n      <td>1</td>\n      <td>2363</td>\n      <td>1</td>\n    </tr>\n    <tr>\n      <th>241135</th>\n      <td>61054188</td>\n      <td>94</td>\n      <td>C19465010</td>\n      <td>41</td>\n      <td>61513298</td>\n      <td>2020-05-31 21:58:58</td>\n      <td>2020-05-31 22:40:58</td>\n      <td>0</td>\n      <td>2112</td>\n      <td>2</td>\n    </tr>\n    <tr>\n      <th>241136</th>\n      <td>45288914</td>\n      <td>11</td>\n      <td>C23883838</td>\n      <td>40</td>\n      <td>65359139</td>\n      <td>2020-05-31 21:58:58</td>\n      <td>2020-05-31 22:38:58</td>\n      <td>0</td>\n      <td>3838</td>\n      <td>2</td>\n    </tr>\n    <tr>\n      <th>241137</th>\n      <td>41608372</td>\n      <td>149</td>\n      <td>C48350551</td>\n      <td>43</td>\n      <td>42138977</td>\n      <td>2020-05-31 21:58:58</td>\n      <td>2020-05-31 22:52:58</td>\n      <td>0</td>\n      <td>1899</td>\n      <td>2</td>\n    </tr>\n    <tr>\n      <th>241138</th>\n      <td>40316733</td>\n      <td>169</td>\n      <td>C49087342</td>\n      <td>61</td>\n      <td>59737067</td>\n      <td>2020-05-31 21:58:58</td>\n      <td>2020-05-31 22:08:58</td>\n      <td>0</td>\n      <td>3901</td>\n      <td>2</td>\n    </tr>\n  </tbody>\n</table>\n<p>241139 rows × 10 columns</p>\n</div>"
     },
     "metadata": {},
     "output_type": "display_data"
    }
   ],
   "source": [
    "tbl_order_5 = pd.read_csv('tbl_order_202005.csv')\n",
    "display(tbl_order_5)"
   ],
   "metadata": {
    "collapsed": false,
    "pycharm": {
     "name": "#%%\n"
    }
   }
  },
  {
   "cell_type": "code",
   "execution_count": 7,
   "outputs": [
    {
     "data": {
      "text/plain": "        order_id  store_id customer_id  coupon_cd  sales_detail_id  \\\n0       79339111        49   C26387220         50         67393872   \n1       18941733        85   C48773811         26         91834983   \n2       56217880        76   C66287421         36         64409634   \n3       28447783       190   C41156423         19         73032165   \n4       32576156       191   C54568117         71         23281182   \n...          ...       ...         ...        ...              ...   \n474394  47039360       154   C39765066         90         27121351   \n474395  61054188        94   C19465010         41         61513298   \n474396  45288914        11   C23883838         40         65359139   \n474397  41608372       149   C48350551         43         42138977   \n474398  40316733       169   C49087342         61         59737067   \n\n          order_accept_date       delivered_date  takeout_flag  total_amount  \\\n0       2020-04-01 11:00:00  2020-04-01 11:18:00             1          4144   \n1       2020-04-01 11:00:00  2020-04-01 11:22:00             0          2877   \n2       2020-04-01 11:00:00  2020-04-01 11:15:00             0          2603   \n3       2020-04-01 11:00:00  2020-04-01 11:16:00             0          2732   \n4       2020-04-01 11:00:00  2020-04-01 11:53:00             0          2987   \n...                     ...                  ...           ...           ...   \n474394  2020-05-31 21:58:58  2020-05-31 22:42:58             1          2363   \n474395  2020-05-31 21:58:58  2020-05-31 22:40:58             0          2112   \n474396  2020-05-31 21:58:58  2020-05-31 22:38:58             0          3838   \n474397  2020-05-31 21:58:58  2020-05-31 22:52:58             0          1899   \n474398  2020-05-31 21:58:58  2020-05-31 22:08:58             0          3901   \n\n        status  \n0            1  \n1            2  \n2            2  \n3            2  \n4            2  \n...        ...  \n474394       1  \n474395       2  \n474396       2  \n474397       2  \n474398       2  \n\n[474399 rows x 10 columns]",
      "text/html": "<div>\n<style scoped>\n    .dataframe tbody tr th:only-of-type {\n        vertical-align: middle;\n    }\n\n    .dataframe tbody tr th {\n        vertical-align: top;\n    }\n\n    .dataframe thead th {\n        text-align: right;\n    }\n</style>\n<table border=\"1\" class=\"dataframe\">\n  <thead>\n    <tr style=\"text-align: right;\">\n      <th></th>\n      <th>order_id</th>\n      <th>store_id</th>\n      <th>customer_id</th>\n      <th>coupon_cd</th>\n      <th>sales_detail_id</th>\n      <th>order_accept_date</th>\n      <th>delivered_date</th>\n      <th>takeout_flag</th>\n      <th>total_amount</th>\n      <th>status</th>\n    </tr>\n  </thead>\n  <tbody>\n    <tr>\n      <th>0</th>\n      <td>79339111</td>\n      <td>49</td>\n      <td>C26387220</td>\n      <td>50</td>\n      <td>67393872</td>\n      <td>2020-04-01 11:00:00</td>\n      <td>2020-04-01 11:18:00</td>\n      <td>1</td>\n      <td>4144</td>\n      <td>1</td>\n    </tr>\n    <tr>\n      <th>1</th>\n      <td>18941733</td>\n      <td>85</td>\n      <td>C48773811</td>\n      <td>26</td>\n      <td>91834983</td>\n      <td>2020-04-01 11:00:00</td>\n      <td>2020-04-01 11:22:00</td>\n      <td>0</td>\n      <td>2877</td>\n      <td>2</td>\n    </tr>\n    <tr>\n      <th>2</th>\n      <td>56217880</td>\n      <td>76</td>\n      <td>C66287421</td>\n      <td>36</td>\n      <td>64409634</td>\n      <td>2020-04-01 11:00:00</td>\n      <td>2020-04-01 11:15:00</td>\n      <td>0</td>\n      <td>2603</td>\n      <td>2</td>\n    </tr>\n    <tr>\n      <th>3</th>\n      <td>28447783</td>\n      <td>190</td>\n      <td>C41156423</td>\n      <td>19</td>\n      <td>73032165</td>\n      <td>2020-04-01 11:00:00</td>\n      <td>2020-04-01 11:16:00</td>\n      <td>0</td>\n      <td>2732</td>\n      <td>2</td>\n    </tr>\n    <tr>\n      <th>4</th>\n      <td>32576156</td>\n      <td>191</td>\n      <td>C54568117</td>\n      <td>71</td>\n      <td>23281182</td>\n      <td>2020-04-01 11:00:00</td>\n      <td>2020-04-01 11:53:00</td>\n      <td>0</td>\n      <td>2987</td>\n      <td>2</td>\n    </tr>\n    <tr>\n      <th>...</th>\n      <td>...</td>\n      <td>...</td>\n      <td>...</td>\n      <td>...</td>\n      <td>...</td>\n      <td>...</td>\n      <td>...</td>\n      <td>...</td>\n      <td>...</td>\n      <td>...</td>\n    </tr>\n    <tr>\n      <th>474394</th>\n      <td>47039360</td>\n      <td>154</td>\n      <td>C39765066</td>\n      <td>90</td>\n      <td>27121351</td>\n      <td>2020-05-31 21:58:58</td>\n      <td>2020-05-31 22:42:58</td>\n      <td>1</td>\n      <td>2363</td>\n      <td>1</td>\n    </tr>\n    <tr>\n      <th>474395</th>\n      <td>61054188</td>\n      <td>94</td>\n      <td>C19465010</td>\n      <td>41</td>\n      <td>61513298</td>\n      <td>2020-05-31 21:58:58</td>\n      <td>2020-05-31 22:40:58</td>\n      <td>0</td>\n      <td>2112</td>\n      <td>2</td>\n    </tr>\n    <tr>\n      <th>474396</th>\n      <td>45288914</td>\n      <td>11</td>\n      <td>C23883838</td>\n      <td>40</td>\n      <td>65359139</td>\n      <td>2020-05-31 21:58:58</td>\n      <td>2020-05-31 22:38:58</td>\n      <td>0</td>\n      <td>3838</td>\n      <td>2</td>\n    </tr>\n    <tr>\n      <th>474397</th>\n      <td>41608372</td>\n      <td>149</td>\n      <td>C48350551</td>\n      <td>43</td>\n      <td>42138977</td>\n      <td>2020-05-31 21:58:58</td>\n      <td>2020-05-31 22:52:58</td>\n      <td>0</td>\n      <td>1899</td>\n      <td>2</td>\n    </tr>\n    <tr>\n      <th>474398</th>\n      <td>40316733</td>\n      <td>169</td>\n      <td>C49087342</td>\n      <td>61</td>\n      <td>59737067</td>\n      <td>2020-05-31 21:58:58</td>\n      <td>2020-05-31 22:08:58</td>\n      <td>0</td>\n      <td>3901</td>\n      <td>2</td>\n    </tr>\n  </tbody>\n</table>\n<p>474399 rows × 10 columns</p>\n</div>"
     },
     "metadata": {},
     "output_type": "display_data"
    }
   ],
   "source": [
    "order_all = pd.concat([tbl_order_4, tbl_order_5], ignore_index=True)\n",
    "display(order_all)"
   ],
   "metadata": {
    "collapsed": false,
    "pycharm": {
     "name": "#%%\n"
    }
   }
  },
  {
   "cell_type": "code",
   "execution_count": 8,
   "outputs": [
    {
     "data": {
      "text/plain": "True"
     },
     "execution_count": 8,
     "metadata": {},
     "output_type": "execute_result"
    }
   ],
   "source": [
    "# Data の検証\n",
    "order_all.shape[0] == tbl_order_4.shape[0] + tbl_order_5.shape[0]"
   ],
   "metadata": {
    "collapsed": false,
    "pycharm": {
     "name": "#%%\n"
    }
   }
  },
  {
   "cell_type": "markdown",
   "source": [
    "### Knock3: Directory 内の File 名を一覧化してみる"
   ],
   "metadata": {
    "collapsed": false,
    "pycharm": {
     "name": "#%% md\n"
    }
   }
  },
  {
   "cell_type": "code",
   "execution_count": 9,
   "outputs": [
    {
     "data": {
      "text/plain": "'C:\\\\Users\\\\leone\\\\dsLab\\\\machine_learning_system_100_knocks\\\\section1'"
     },
     "execution_count": 9,
     "metadata": {},
     "output_type": "execute_result"
    }
   ],
   "source": [
    "import os\n",
    "current_dir = os.getcwd()\n",
    "current_dir"
   ],
   "metadata": {
    "collapsed": false,
    "pycharm": {
     "name": "#%%\n"
    }
   }
  },
  {
   "cell_type": "code",
   "execution_count": 10,
   "outputs": [
    {
     "data": {
      "text/plain": "['m_area.csv',\n 'm_store.csv',\n 'output_data',\n 'section1.ipynb',\n 'tbl_order_202004.csv',\n 'tbl_order_202005.csv',\n 'tbl_order_202006.csv']"
     },
     "execution_count": 10,
     "metadata": {},
     "output_type": "execute_result"
    }
   ],
   "source": [
    "os.listdir(current_dir)"
   ],
   "metadata": {
    "collapsed": false,
    "pycharm": {
     "name": "#%%\n"
    }
   }
  },
  {
   "cell_type": "code",
   "execution_count": 11,
   "outputs": [
    {
     "data": {
      "text/plain": "'C:\\\\Users\\\\leone\\\\dsLab\\\\machine_learning_system_100_knocks\\\\section1\\\\tbl_order_*.csv'"
     },
     "execution_count": 11,
     "metadata": {},
     "output_type": "execute_result"
    }
   ],
   "source": [
    "tbl_order_file = os.path.join(current_dir, 'tbl_order_*.csv')\n",
    "tbl_order_file"
   ],
   "metadata": {
    "collapsed": false,
    "pycharm": {
     "name": "#%%\n"
    }
   }
  },
  {
   "cell_type": "code",
   "execution_count": 12,
   "outputs": [
    {
     "data": {
      "text/plain": "['C:\\\\Users\\\\leone\\\\dsLab\\\\machine_learning_system_100_knocks\\\\section1\\\\tbl_order_202004.csv',\n 'C:\\\\Users\\\\leone\\\\dsLab\\\\machine_learning_system_100_knocks\\\\section1\\\\tbl_order_202005.csv',\n 'C:\\\\Users\\\\leone\\\\dsLab\\\\machine_learning_system_100_knocks\\\\section1\\\\tbl_order_202006.csv']"
     },
     "execution_count": 12,
     "metadata": {},
     "output_type": "execute_result"
    }
   ],
   "source": [
    "import glob\n",
    "tbl_order_files = glob.glob(tbl_order_file)\n",
    "tbl_order_files"
   ],
   "metadata": {
    "collapsed": false,
    "pycharm": {
     "name": "#%%\n"
    }
   }
  },
  {
   "cell_type": "markdown",
   "source": [
    "### Knock4: 複数 Data を結合（Union）してみる"
   ],
   "metadata": {
    "collapsed": false,
    "pycharm": {
     "name": "#%% md\n"
    }
   }
  },
  {
   "cell_type": "code",
   "execution_count": 13,
   "outputs": [
    {
     "name": "stdout",
     "output_type": "stream",
     "text": [
      "C:\\Users\\leone\\dsLab\\machine_learning_system_100_knocks\\section1\\tbl_order_202004.csv:233260\n"
     ]
    },
    {
     "data": {
      "text/plain": "        order_id  store_id customer_id  coupon_cd  sales_detail_id  \\\n0       79339111        49   C26387220         50         67393872   \n1       18941733        85   C48773811         26         91834983   \n2       56217880        76   C66287421         36         64409634   \n3       28447783       190   C41156423         19         73032165   \n4       32576156       191   C54568117         71         23281182   \n...          ...       ...         ...        ...              ...   \n233255  25546308         3   C24617924         46          3700904   \n233256  91693481        45   C68997855          6         37852755   \n233257  57908119        36   C16123702         81         90372382   \n233258   7145625       174   C80733640         75         48265986   \n233259  31301192       151   C23758178          9         13847510   \n\n          order_accept_date       delivered_date  takeout_flag  total_amount  \\\n0       2020-04-01 11:00:00  2020-04-01 11:18:00             1          4144   \n1       2020-04-01 11:00:00  2020-04-01 11:22:00             0          2877   \n2       2020-04-01 11:00:00  2020-04-01 11:15:00             0          2603   \n3       2020-04-01 11:00:00  2020-04-01 11:16:00             0          2732   \n4       2020-04-01 11:00:00  2020-04-01 11:53:00             0          2987   \n...                     ...                  ...           ...           ...   \n233255  2020-04-30 21:58:58  2020-04-30 22:19:58             0          2615   \n233256  2020-04-30 21:58:58  2020-04-30 22:13:58             0          2732   \n233257  2020-04-30 21:58:58  2020-04-30 22:47:58             0          2363   \n233258  2020-04-30 21:58:58  2020-04-30 22:32:58             0          2238   \n233259  2020-04-30 21:58:58  2020-04-30 22:52:58             0          1900   \n\n        status  \n0            1  \n1            2  \n2            2  \n3            2  \n4            2  \n...        ...  \n233255       2  \n233256       2  \n233257       2  \n233258       2  \n233259       2  \n\n[233260 rows x 10 columns]",
      "text/html": "<div>\n<style scoped>\n    .dataframe tbody tr th:only-of-type {\n        vertical-align: middle;\n    }\n\n    .dataframe tbody tr th {\n        vertical-align: top;\n    }\n\n    .dataframe thead th {\n        text-align: right;\n    }\n</style>\n<table border=\"1\" class=\"dataframe\">\n  <thead>\n    <tr style=\"text-align: right;\">\n      <th></th>\n      <th>order_id</th>\n      <th>store_id</th>\n      <th>customer_id</th>\n      <th>coupon_cd</th>\n      <th>sales_detail_id</th>\n      <th>order_accept_date</th>\n      <th>delivered_date</th>\n      <th>takeout_flag</th>\n      <th>total_amount</th>\n      <th>status</th>\n    </tr>\n  </thead>\n  <tbody>\n    <tr>\n      <th>0</th>\n      <td>79339111</td>\n      <td>49</td>\n      <td>C26387220</td>\n      <td>50</td>\n      <td>67393872</td>\n      <td>2020-04-01 11:00:00</td>\n      <td>2020-04-01 11:18:00</td>\n      <td>1</td>\n      <td>4144</td>\n      <td>1</td>\n    </tr>\n    <tr>\n      <th>1</th>\n      <td>18941733</td>\n      <td>85</td>\n      <td>C48773811</td>\n      <td>26</td>\n      <td>91834983</td>\n      <td>2020-04-01 11:00:00</td>\n      <td>2020-04-01 11:22:00</td>\n      <td>0</td>\n      <td>2877</td>\n      <td>2</td>\n    </tr>\n    <tr>\n      <th>2</th>\n      <td>56217880</td>\n      <td>76</td>\n      <td>C66287421</td>\n      <td>36</td>\n      <td>64409634</td>\n      <td>2020-04-01 11:00:00</td>\n      <td>2020-04-01 11:15:00</td>\n      <td>0</td>\n      <td>2603</td>\n      <td>2</td>\n    </tr>\n    <tr>\n      <th>3</th>\n      <td>28447783</td>\n      <td>190</td>\n      <td>C41156423</td>\n      <td>19</td>\n      <td>73032165</td>\n      <td>2020-04-01 11:00:00</td>\n      <td>2020-04-01 11:16:00</td>\n      <td>0</td>\n      <td>2732</td>\n      <td>2</td>\n    </tr>\n    <tr>\n      <th>4</th>\n      <td>32576156</td>\n      <td>191</td>\n      <td>C54568117</td>\n      <td>71</td>\n      <td>23281182</td>\n      <td>2020-04-01 11:00:00</td>\n      <td>2020-04-01 11:53:00</td>\n      <td>0</td>\n      <td>2987</td>\n      <td>2</td>\n    </tr>\n    <tr>\n      <th>...</th>\n      <td>...</td>\n      <td>...</td>\n      <td>...</td>\n      <td>...</td>\n      <td>...</td>\n      <td>...</td>\n      <td>...</td>\n      <td>...</td>\n      <td>...</td>\n      <td>...</td>\n    </tr>\n    <tr>\n      <th>233255</th>\n      <td>25546308</td>\n      <td>3</td>\n      <td>C24617924</td>\n      <td>46</td>\n      <td>3700904</td>\n      <td>2020-04-30 21:58:58</td>\n      <td>2020-04-30 22:19:58</td>\n      <td>0</td>\n      <td>2615</td>\n      <td>2</td>\n    </tr>\n    <tr>\n      <th>233256</th>\n      <td>91693481</td>\n      <td>45</td>\n      <td>C68997855</td>\n      <td>6</td>\n      <td>37852755</td>\n      <td>2020-04-30 21:58:58</td>\n      <td>2020-04-30 22:13:58</td>\n      <td>0</td>\n      <td>2732</td>\n      <td>2</td>\n    </tr>\n    <tr>\n      <th>233257</th>\n      <td>57908119</td>\n      <td>36</td>\n      <td>C16123702</td>\n      <td>81</td>\n      <td>90372382</td>\n      <td>2020-04-30 21:58:58</td>\n      <td>2020-04-30 22:47:58</td>\n      <td>0</td>\n      <td>2363</td>\n      <td>2</td>\n    </tr>\n    <tr>\n      <th>233258</th>\n      <td>7145625</td>\n      <td>174</td>\n      <td>C80733640</td>\n      <td>75</td>\n      <td>48265986</td>\n      <td>2020-04-30 21:58:58</td>\n      <td>2020-04-30 22:32:58</td>\n      <td>0</td>\n      <td>2238</td>\n      <td>2</td>\n    </tr>\n    <tr>\n      <th>233259</th>\n      <td>31301192</td>\n      <td>151</td>\n      <td>C23758178</td>\n      <td>9</td>\n      <td>13847510</td>\n      <td>2020-04-30 21:58:58</td>\n      <td>2020-04-30 22:52:58</td>\n      <td>0</td>\n      <td>1900</td>\n      <td>2</td>\n    </tr>\n  </tbody>\n</table>\n<p>233260 rows × 10 columns</p>\n</div>"
     },
     "execution_count": 13,
     "metadata": {},
     "output_type": "execute_result"
    }
   ],
   "source": [
    "order_all = pd.DataFrame()\n",
    "file = tbl_order_files[0]\n",
    "order_data = pd.read_csv(file)\n",
    "print(f\"{file}:{order_data.shape[0]}\")\n",
    "order_all = pd.concat([order_all, order_data], ignore_index=True)\n",
    "order_all"
   ],
   "metadata": {
    "collapsed": false,
    "pycharm": {
     "name": "#%%\n"
    }
   }
  },
  {
   "cell_type": "code",
   "execution_count": 14,
   "outputs": [
    {
     "name": "stdout",
     "output_type": "stream",
     "text": [
      "C:\\Users\\leone\\dsLab\\machine_learning_system_100_knocks\\section1\\tbl_order_202004.csv:233260\n",
      "C:\\Users\\leone\\dsLab\\machine_learning_system_100_knocks\\section1\\tbl_order_202005.csv:241139\n",
      "C:\\Users\\leone\\dsLab\\machine_learning_system_100_knocks\\section1\\tbl_order_202006.csv:233301\n"
     ]
    }
   ],
   "source": [
    "order_all = pd.DataFrame()\n",
    "for file in tbl_order_files:\n",
    "    order_data = pd.read_csv(file)\n",
    "    print(f\"{file}:{order_data.shape[0]}\")\n",
    "    order_all = pd.concat([order_all, order_data], ignore_index=True)"
   ],
   "metadata": {
    "collapsed": false,
    "pycharm": {
     "name": "#%%\n"
    }
   }
  },
  {
   "cell_type": "code",
   "execution_count": 15,
   "outputs": [
    {
     "data": {
      "text/plain": "        order_id  store_id customer_id  coupon_cd  sales_detail_id  \\\n0       79339111        49   C26387220         50         67393872   \n1       18941733        85   C48773811         26         91834983   \n2       56217880        76   C66287421         36         64409634   \n3       28447783       190   C41156423         19         73032165   \n4       32576156       191   C54568117         71         23281182   \n...          ...       ...         ...        ...              ...   \n707695  90872494       191   C35992970         46         51884378   \n707696  30167637        35   C53126526         88          6295273   \n707697  85345862       118   C25099070         32         15733308   \n707698  73038887       100   C27421314         84         67608099   \n707699  14799648        39   C90614204          5         13300147   \n\n          order_accept_date       delivered_date  takeout_flag  total_amount  \\\n0       2020-04-01 11:00:00  2020-04-01 11:18:00             1          4144   \n1       2020-04-01 11:00:00  2020-04-01 11:22:00             0          2877   \n2       2020-04-01 11:00:00  2020-04-01 11:15:00             0          2603   \n3       2020-04-01 11:00:00  2020-04-01 11:16:00             0          2732   \n4       2020-04-01 11:00:00  2020-04-01 11:53:00             0          2987   \n...                     ...                  ...           ...           ...   \n707695  2020-06-30 21:58:58  2020-06-30 22:43:58             1          2112   \n707696  2020-06-30 21:58:58  2020-06-30 22:36:58             0          4462   \n707697  2020-06-30 21:58:58  2020-06-30 22:42:58             0          3865   \n707698  2020-06-30 21:58:58  2020-06-30 22:21:58             0          3319   \n707699  2020-06-30 21:58:58  2020-06-30 22:38:58             0          2064   \n\n        status  \n0            1  \n1            2  \n2            2  \n3            2  \n4            2  \n...        ...  \n707695       1  \n707696       2  \n707697       2  \n707698       2  \n707699       2  \n\n[707700 rows x 10 columns]",
      "text/html": "<div>\n<style scoped>\n    .dataframe tbody tr th:only-of-type {\n        vertical-align: middle;\n    }\n\n    .dataframe tbody tr th {\n        vertical-align: top;\n    }\n\n    .dataframe thead th {\n        text-align: right;\n    }\n</style>\n<table border=\"1\" class=\"dataframe\">\n  <thead>\n    <tr style=\"text-align: right;\">\n      <th></th>\n      <th>order_id</th>\n      <th>store_id</th>\n      <th>customer_id</th>\n      <th>coupon_cd</th>\n      <th>sales_detail_id</th>\n      <th>order_accept_date</th>\n      <th>delivered_date</th>\n      <th>takeout_flag</th>\n      <th>total_amount</th>\n      <th>status</th>\n    </tr>\n  </thead>\n  <tbody>\n    <tr>\n      <th>0</th>\n      <td>79339111</td>\n      <td>49</td>\n      <td>C26387220</td>\n      <td>50</td>\n      <td>67393872</td>\n      <td>2020-04-01 11:00:00</td>\n      <td>2020-04-01 11:18:00</td>\n      <td>1</td>\n      <td>4144</td>\n      <td>1</td>\n    </tr>\n    <tr>\n      <th>1</th>\n      <td>18941733</td>\n      <td>85</td>\n      <td>C48773811</td>\n      <td>26</td>\n      <td>91834983</td>\n      <td>2020-04-01 11:00:00</td>\n      <td>2020-04-01 11:22:00</td>\n      <td>0</td>\n      <td>2877</td>\n      <td>2</td>\n    </tr>\n    <tr>\n      <th>2</th>\n      <td>56217880</td>\n      <td>76</td>\n      <td>C66287421</td>\n      <td>36</td>\n      <td>64409634</td>\n      <td>2020-04-01 11:00:00</td>\n      <td>2020-04-01 11:15:00</td>\n      <td>0</td>\n      <td>2603</td>\n      <td>2</td>\n    </tr>\n    <tr>\n      <th>3</th>\n      <td>28447783</td>\n      <td>190</td>\n      <td>C41156423</td>\n      <td>19</td>\n      <td>73032165</td>\n      <td>2020-04-01 11:00:00</td>\n      <td>2020-04-01 11:16:00</td>\n      <td>0</td>\n      <td>2732</td>\n      <td>2</td>\n    </tr>\n    <tr>\n      <th>4</th>\n      <td>32576156</td>\n      <td>191</td>\n      <td>C54568117</td>\n      <td>71</td>\n      <td>23281182</td>\n      <td>2020-04-01 11:00:00</td>\n      <td>2020-04-01 11:53:00</td>\n      <td>0</td>\n      <td>2987</td>\n      <td>2</td>\n    </tr>\n    <tr>\n      <th>...</th>\n      <td>...</td>\n      <td>...</td>\n      <td>...</td>\n      <td>...</td>\n      <td>...</td>\n      <td>...</td>\n      <td>...</td>\n      <td>...</td>\n      <td>...</td>\n      <td>...</td>\n    </tr>\n    <tr>\n      <th>707695</th>\n      <td>90872494</td>\n      <td>191</td>\n      <td>C35992970</td>\n      <td>46</td>\n      <td>51884378</td>\n      <td>2020-06-30 21:58:58</td>\n      <td>2020-06-30 22:43:58</td>\n      <td>1</td>\n      <td>2112</td>\n      <td>1</td>\n    </tr>\n    <tr>\n      <th>707696</th>\n      <td>30167637</td>\n      <td>35</td>\n      <td>C53126526</td>\n      <td>88</td>\n      <td>6295273</td>\n      <td>2020-06-30 21:58:58</td>\n      <td>2020-06-30 22:36:58</td>\n      <td>0</td>\n      <td>4462</td>\n      <td>2</td>\n    </tr>\n    <tr>\n      <th>707697</th>\n      <td>85345862</td>\n      <td>118</td>\n      <td>C25099070</td>\n      <td>32</td>\n      <td>15733308</td>\n      <td>2020-06-30 21:58:58</td>\n      <td>2020-06-30 22:42:58</td>\n      <td>0</td>\n      <td>3865</td>\n      <td>2</td>\n    </tr>\n    <tr>\n      <th>707698</th>\n      <td>73038887</td>\n      <td>100</td>\n      <td>C27421314</td>\n      <td>84</td>\n      <td>67608099</td>\n      <td>2020-06-30 21:58:58</td>\n      <td>2020-06-30 22:21:58</td>\n      <td>0</td>\n      <td>3319</td>\n      <td>2</td>\n    </tr>\n    <tr>\n      <th>707699</th>\n      <td>14799648</td>\n      <td>39</td>\n      <td>C90614204</td>\n      <td>5</td>\n      <td>13300147</td>\n      <td>2020-06-30 21:58:58</td>\n      <td>2020-06-30 22:38:58</td>\n      <td>0</td>\n      <td>2064</td>\n      <td>2</td>\n    </tr>\n  </tbody>\n</table>\n<p>707700 rows × 10 columns</p>\n</div>"
     },
     "metadata": {},
     "output_type": "display_data"
    }
   ],
   "source": [
    "display(order_all)"
   ],
   "metadata": {
    "collapsed": false,
    "pycharm": {
     "name": "#%%\n"
    }
   }
  },
  {
   "cell_type": "markdown",
   "source": [
    "### Knock5: Data の統計量を確認する"
   ],
   "metadata": {
    "collapsed": false,
    "pycharm": {
     "name": "#%% md\n"
    }
   }
  },
  {
   "cell_type": "code",
   "execution_count": 16,
   "outputs": [
    {
     "data": {
      "text/plain": "order_id             0\nstore_id             0\ncustomer_id          0\ncoupon_cd            0\nsales_detail_id      0\norder_accept_date    0\ndelivered_date       0\ntakeout_flag         0\ntotal_amount         0\nstatus               0\ndtype: int64"
     },
     "execution_count": 16,
     "metadata": {},
     "output_type": "execute_result"
    }
   ],
   "source": [
    "# 欠損値の確認\n",
    "order_all.isnull().sum()"
   ],
   "metadata": {
    "collapsed": false,
    "pycharm": {
     "name": "#%%\n"
    }
   }
  },
  {
   "cell_type": "code",
   "execution_count": 17,
   "outputs": [
    {
     "data": {
      "text/plain": "           order_id       store_id      coupon_cd  sales_detail_id  \\\ncount  7.077000e+05  707700.000000  707700.000000     7.077000e+05   \nmean   5.000989e+07     103.934565      49.514363     5.000335e+07   \nstd    2.889226e+07      86.374451      28.882605     2.885575e+07   \nmin    2.200000e+01       1.000000       0.000000     4.600000e+01   \n25%    2.501247e+07      51.000000      25.000000     2.504502e+07   \n50%    4.999655e+07      99.000000      49.000000     5.004506e+07   \n75%    7.508014e+07     148.000000      75.000000     7.499707e+07   \nmax    9.999980e+07     999.000000      99.000000     9.999965e+07   \n\n        takeout_flag   total_amount         status  \ncount  707700.000000  707700.000000  707700.000000  \nmean        0.259864    2960.651814       3.082908  \nstd         0.438560     954.378771       2.836278  \nmin         0.000000     698.000000       1.000000  \n25%         0.000000    2308.000000       2.000000  \n50%         0.000000    2808.000000       2.000000  \n75%         1.000000    3617.000000       2.000000  \nmax         1.000000    5100.000000       9.000000  ",
      "text/html": "<div>\n<style scoped>\n    .dataframe tbody tr th:only-of-type {\n        vertical-align: middle;\n    }\n\n    .dataframe tbody tr th {\n        vertical-align: top;\n    }\n\n    .dataframe thead th {\n        text-align: right;\n    }\n</style>\n<table border=\"1\" class=\"dataframe\">\n  <thead>\n    <tr style=\"text-align: right;\">\n      <th></th>\n      <th>order_id</th>\n      <th>store_id</th>\n      <th>coupon_cd</th>\n      <th>sales_detail_id</th>\n      <th>takeout_flag</th>\n      <th>total_amount</th>\n      <th>status</th>\n    </tr>\n  </thead>\n  <tbody>\n    <tr>\n      <th>count</th>\n      <td>7.077000e+05</td>\n      <td>707700.000000</td>\n      <td>707700.000000</td>\n      <td>7.077000e+05</td>\n      <td>707700.000000</td>\n      <td>707700.000000</td>\n      <td>707700.000000</td>\n    </tr>\n    <tr>\n      <th>mean</th>\n      <td>5.000989e+07</td>\n      <td>103.934565</td>\n      <td>49.514363</td>\n      <td>5.000335e+07</td>\n      <td>0.259864</td>\n      <td>2960.651814</td>\n      <td>3.082908</td>\n    </tr>\n    <tr>\n      <th>std</th>\n      <td>2.889226e+07</td>\n      <td>86.374451</td>\n      <td>28.882605</td>\n      <td>2.885575e+07</td>\n      <td>0.438560</td>\n      <td>954.378771</td>\n      <td>2.836278</td>\n    </tr>\n    <tr>\n      <th>min</th>\n      <td>2.200000e+01</td>\n      <td>1.000000</td>\n      <td>0.000000</td>\n      <td>4.600000e+01</td>\n      <td>0.000000</td>\n      <td>698.000000</td>\n      <td>1.000000</td>\n    </tr>\n    <tr>\n      <th>25%</th>\n      <td>2.501247e+07</td>\n      <td>51.000000</td>\n      <td>25.000000</td>\n      <td>2.504502e+07</td>\n      <td>0.000000</td>\n      <td>2308.000000</td>\n      <td>2.000000</td>\n    </tr>\n    <tr>\n      <th>50%</th>\n      <td>4.999655e+07</td>\n      <td>99.000000</td>\n      <td>49.000000</td>\n      <td>5.004506e+07</td>\n      <td>0.000000</td>\n      <td>2808.000000</td>\n      <td>2.000000</td>\n    </tr>\n    <tr>\n      <th>75%</th>\n      <td>7.508014e+07</td>\n      <td>148.000000</td>\n      <td>75.000000</td>\n      <td>7.499707e+07</td>\n      <td>1.000000</td>\n      <td>3617.000000</td>\n      <td>2.000000</td>\n    </tr>\n    <tr>\n      <th>max</th>\n      <td>9.999980e+07</td>\n      <td>999.000000</td>\n      <td>99.000000</td>\n      <td>9.999965e+07</td>\n      <td>1.000000</td>\n      <td>5100.000000</td>\n      <td>9.000000</td>\n    </tr>\n  </tbody>\n</table>\n</div>"
     },
     "execution_count": 17,
     "metadata": {},
     "output_type": "execute_result"
    }
   ],
   "source": [
    "# 注文 Data の統計量\n",
    "order_all.describe()"
   ],
   "metadata": {
    "collapsed": false,
    "pycharm": {
     "name": "#%%\n"
    }
   }
  },
  {
   "cell_type": "code",
   "execution_count": 18,
   "outputs": [
    {
     "data": {
      "text/plain": "count    707700.000000\nmean       2960.651814\nstd         954.378771\nmin         698.000000\n25%        2308.000000\n50%        2808.000000\n75%        3617.000000\nmax        5100.000000\nName: total_amount, dtype: float64"
     },
     "execution_count": 18,
     "metadata": {},
     "output_type": "execute_result"
    }
   ],
   "source": [
    "# 見たい項目の統計量\n",
    "order_all['total_amount'].describe()"
   ],
   "metadata": {
    "collapsed": false,
    "pycharm": {
     "name": "#%%\n"
    }
   }
  },
  {
   "cell_type": "code",
   "execution_count": 19,
   "outputs": [
    {
     "name": "stdout",
     "output_type": "stream",
     "text": [
      "2020-04-01 11:00:00\n",
      "2020-06-30 21:58:58\n",
      "2020-04-01 11:10:00\n",
      "2020-06-30 22:55:56\n"
     ]
    }
   ],
   "source": [
    "# Data の期間\n",
    "print(order_all['order_accept_date'].min())\n",
    "print(order_all['order_accept_date'].max())\n",
    "print(order_all['delivered_date'].min())\n",
    "print(order_all['delivered_date'].max())"
   ],
   "metadata": {
    "collapsed": false,
    "pycharm": {
     "name": "#%%\n"
    }
   }
  },
  {
   "cell_type": "markdown",
   "source": [
    "### Knock6: 不要な Data を除外する"
   ],
   "metadata": {
    "collapsed": false,
    "pycharm": {
     "name": "#%% md\n"
    }
   }
  },
  {
   "cell_type": "code",
   "execution_count": 20,
   "outputs": [
    {
     "data": {
      "text/plain": "        order_id  store_id customer_id  coupon_cd  sales_detail_id  \\\n0       79339111        49   C26387220         50         67393872   \n1       18941733        85   C48773811         26         91834983   \n2       56217880        76   C66287421         36         64409634   \n3       28447783       190   C41156423         19         73032165   \n4       32576156       191   C54568117         71         23281182   \n...          ...       ...         ...        ...              ...   \n707695  90872494       191   C35992970         46         51884378   \n707696  30167637        35   C53126526         88          6295273   \n707697  85345862       118   C25099070         32         15733308   \n707698  73038887       100   C27421314         84         67608099   \n707699  14799648        39   C90614204          5         13300147   \n\n          order_accept_date       delivered_date  takeout_flag  total_amount  \\\n0       2020-04-01 11:00:00  2020-04-01 11:18:00             1          4144   \n1       2020-04-01 11:00:00  2020-04-01 11:22:00             0          2877   \n2       2020-04-01 11:00:00  2020-04-01 11:15:00             0          2603   \n3       2020-04-01 11:00:00  2020-04-01 11:16:00             0          2732   \n4       2020-04-01 11:00:00  2020-04-01 11:53:00             0          2987   \n...                     ...                  ...           ...           ...   \n707695  2020-06-30 21:58:58  2020-06-30 22:43:58             1          2112   \n707696  2020-06-30 21:58:58  2020-06-30 22:36:58             0          4462   \n707697  2020-06-30 21:58:58  2020-06-30 22:42:58             0          3865   \n707698  2020-06-30 21:58:58  2020-06-30 22:21:58             0          3319   \n707699  2020-06-30 21:58:58  2020-06-30 22:38:58             0          2064   \n\n        status  \n0            1  \n1            2  \n2            2  \n3            2  \n4            2  \n...        ...  \n707695       1  \n707696       2  \n707697       2  \n707698       2  \n707699       2  \n\n[703880 rows x 10 columns]",
      "text/html": "<div>\n<style scoped>\n    .dataframe tbody tr th:only-of-type {\n        vertical-align: middle;\n    }\n\n    .dataframe tbody tr th {\n        vertical-align: top;\n    }\n\n    .dataframe thead th {\n        text-align: right;\n    }\n</style>\n<table border=\"1\" class=\"dataframe\">\n  <thead>\n    <tr style=\"text-align: right;\">\n      <th></th>\n      <th>order_id</th>\n      <th>store_id</th>\n      <th>customer_id</th>\n      <th>coupon_cd</th>\n      <th>sales_detail_id</th>\n      <th>order_accept_date</th>\n      <th>delivered_date</th>\n      <th>takeout_flag</th>\n      <th>total_amount</th>\n      <th>status</th>\n    </tr>\n  </thead>\n  <tbody>\n    <tr>\n      <th>0</th>\n      <td>79339111</td>\n      <td>49</td>\n      <td>C26387220</td>\n      <td>50</td>\n      <td>67393872</td>\n      <td>2020-04-01 11:00:00</td>\n      <td>2020-04-01 11:18:00</td>\n      <td>1</td>\n      <td>4144</td>\n      <td>1</td>\n    </tr>\n    <tr>\n      <th>1</th>\n      <td>18941733</td>\n      <td>85</td>\n      <td>C48773811</td>\n      <td>26</td>\n      <td>91834983</td>\n      <td>2020-04-01 11:00:00</td>\n      <td>2020-04-01 11:22:00</td>\n      <td>0</td>\n      <td>2877</td>\n      <td>2</td>\n    </tr>\n    <tr>\n      <th>2</th>\n      <td>56217880</td>\n      <td>76</td>\n      <td>C66287421</td>\n      <td>36</td>\n      <td>64409634</td>\n      <td>2020-04-01 11:00:00</td>\n      <td>2020-04-01 11:15:00</td>\n      <td>0</td>\n      <td>2603</td>\n      <td>2</td>\n    </tr>\n    <tr>\n      <th>3</th>\n      <td>28447783</td>\n      <td>190</td>\n      <td>C41156423</td>\n      <td>19</td>\n      <td>73032165</td>\n      <td>2020-04-01 11:00:00</td>\n      <td>2020-04-01 11:16:00</td>\n      <td>0</td>\n      <td>2732</td>\n      <td>2</td>\n    </tr>\n    <tr>\n      <th>4</th>\n      <td>32576156</td>\n      <td>191</td>\n      <td>C54568117</td>\n      <td>71</td>\n      <td>23281182</td>\n      <td>2020-04-01 11:00:00</td>\n      <td>2020-04-01 11:53:00</td>\n      <td>0</td>\n      <td>2987</td>\n      <td>2</td>\n    </tr>\n    <tr>\n      <th>...</th>\n      <td>...</td>\n      <td>...</td>\n      <td>...</td>\n      <td>...</td>\n      <td>...</td>\n      <td>...</td>\n      <td>...</td>\n      <td>...</td>\n      <td>...</td>\n      <td>...</td>\n    </tr>\n    <tr>\n      <th>707695</th>\n      <td>90872494</td>\n      <td>191</td>\n      <td>C35992970</td>\n      <td>46</td>\n      <td>51884378</td>\n      <td>2020-06-30 21:58:58</td>\n      <td>2020-06-30 22:43:58</td>\n      <td>1</td>\n      <td>2112</td>\n      <td>1</td>\n    </tr>\n    <tr>\n      <th>707696</th>\n      <td>30167637</td>\n      <td>35</td>\n      <td>C53126526</td>\n      <td>88</td>\n      <td>6295273</td>\n      <td>2020-06-30 21:58:58</td>\n      <td>2020-06-30 22:36:58</td>\n      <td>0</td>\n      <td>4462</td>\n      <td>2</td>\n    </tr>\n    <tr>\n      <th>707697</th>\n      <td>85345862</td>\n      <td>118</td>\n      <td>C25099070</td>\n      <td>32</td>\n      <td>15733308</td>\n      <td>2020-06-30 21:58:58</td>\n      <td>2020-06-30 22:42:58</td>\n      <td>0</td>\n      <td>3865</td>\n      <td>2</td>\n    </tr>\n    <tr>\n      <th>707698</th>\n      <td>73038887</td>\n      <td>100</td>\n      <td>C27421314</td>\n      <td>84</td>\n      <td>67608099</td>\n      <td>2020-06-30 21:58:58</td>\n      <td>2020-06-30 22:21:58</td>\n      <td>0</td>\n      <td>3319</td>\n      <td>2</td>\n    </tr>\n    <tr>\n      <th>707699</th>\n      <td>14799648</td>\n      <td>39</td>\n      <td>C90614204</td>\n      <td>5</td>\n      <td>13300147</td>\n      <td>2020-06-30 21:58:58</td>\n      <td>2020-06-30 22:38:58</td>\n      <td>0</td>\n      <td>2064</td>\n      <td>2</td>\n    </tr>\n  </tbody>\n</table>\n<p>703880 rows × 10 columns</p>\n</div>"
     },
     "metadata": {},
     "output_type": "display_data"
    }
   ],
   "source": [
    "order_data = order_all.loc[order_all['store_id'] != 999]\n",
    "\n",
    "display(order_data)"
   ],
   "metadata": {
    "collapsed": false,
    "pycharm": {
     "name": "#%%\n"
    }
   }
  },
  {
   "cell_type": "code",
   "execution_count": 21,
   "outputs": [
    {
     "data": {
      "text/plain": "           order_id       store_id      coupon_cd  sales_detail_id  \\\ncount  7.038800e+05  703880.000000  703880.000000     7.038800e+05   \nmean   5.001673e+07      99.076990      49.516098     5.000004e+07   \nstd    2.889339e+07      55.942693      28.882841     2.885464e+07   \nmin    2.200000e+01       1.000000       0.000000     4.600000e+01   \n25%    2.501570e+07      51.000000      25.000000     2.504034e+07   \n50%    5.000930e+07      99.000000      49.000000     5.004219e+07   \n75%    7.508612e+07     147.000000      75.000000     7.499172e+07   \nmax    9.999980e+07     196.000000      99.000000     9.999965e+07   \n\n        takeout_flag   total_amount         status  \ncount  703880.000000  703880.000000  703880.000000  \nmean        0.259872    2959.949248       3.082704  \nstd         0.438565     954.367273       2.836106  \nmin         0.000000     698.000000       1.000000  \n25%         0.000000    2308.000000       2.000000  \n50%         0.000000    2808.000000       2.000000  \n75%         1.000000    3617.000000       2.000000  \nmax         1.000000    5100.000000       9.000000  ",
      "text/html": "<div>\n<style scoped>\n    .dataframe tbody tr th:only-of-type {\n        vertical-align: middle;\n    }\n\n    .dataframe tbody tr th {\n        vertical-align: top;\n    }\n\n    .dataframe thead th {\n        text-align: right;\n    }\n</style>\n<table border=\"1\" class=\"dataframe\">\n  <thead>\n    <tr style=\"text-align: right;\">\n      <th></th>\n      <th>order_id</th>\n      <th>store_id</th>\n      <th>coupon_cd</th>\n      <th>sales_detail_id</th>\n      <th>takeout_flag</th>\n      <th>total_amount</th>\n      <th>status</th>\n    </tr>\n  </thead>\n  <tbody>\n    <tr>\n      <th>count</th>\n      <td>7.038800e+05</td>\n      <td>703880.000000</td>\n      <td>703880.000000</td>\n      <td>7.038800e+05</td>\n      <td>703880.000000</td>\n      <td>703880.000000</td>\n      <td>703880.000000</td>\n    </tr>\n    <tr>\n      <th>mean</th>\n      <td>5.001673e+07</td>\n      <td>99.076990</td>\n      <td>49.516098</td>\n      <td>5.000004e+07</td>\n      <td>0.259872</td>\n      <td>2959.949248</td>\n      <td>3.082704</td>\n    </tr>\n    <tr>\n      <th>std</th>\n      <td>2.889339e+07</td>\n      <td>55.942693</td>\n      <td>28.882841</td>\n      <td>2.885464e+07</td>\n      <td>0.438565</td>\n      <td>954.367273</td>\n      <td>2.836106</td>\n    </tr>\n    <tr>\n      <th>min</th>\n      <td>2.200000e+01</td>\n      <td>1.000000</td>\n      <td>0.000000</td>\n      <td>4.600000e+01</td>\n      <td>0.000000</td>\n      <td>698.000000</td>\n      <td>1.000000</td>\n    </tr>\n    <tr>\n      <th>25%</th>\n      <td>2.501570e+07</td>\n      <td>51.000000</td>\n      <td>25.000000</td>\n      <td>2.504034e+07</td>\n      <td>0.000000</td>\n      <td>2308.000000</td>\n      <td>2.000000</td>\n    </tr>\n    <tr>\n      <th>50%</th>\n      <td>5.000930e+07</td>\n      <td>99.000000</td>\n      <td>49.000000</td>\n      <td>5.004219e+07</td>\n      <td>0.000000</td>\n      <td>2808.000000</td>\n      <td>2.000000</td>\n    </tr>\n    <tr>\n      <th>75%</th>\n      <td>7.508612e+07</td>\n      <td>147.000000</td>\n      <td>75.000000</td>\n      <td>7.499172e+07</td>\n      <td>1.000000</td>\n      <td>3617.000000</td>\n      <td>2.000000</td>\n    </tr>\n    <tr>\n      <th>max</th>\n      <td>9.999980e+07</td>\n      <td>196.000000</td>\n      <td>99.000000</td>\n      <td>9.999965e+07</td>\n      <td>1.000000</td>\n      <td>5100.000000</td>\n      <td>9.000000</td>\n    </tr>\n  </tbody>\n</table>\n</div>"
     },
     "execution_count": 21,
     "metadata": {},
     "output_type": "execute_result"
    }
   ],
   "source": [
    "order_data.describe()"
   ],
   "metadata": {
    "collapsed": false,
    "pycharm": {
     "name": "#%%\n"
    }
   }
  },
  {
   "cell_type": "markdown",
   "source": [
    "### Knock7: Master data を結合(Join)してみよう"
   ],
   "metadata": {
    "collapsed": false,
    "pycharm": {
     "name": "#%% md\n"
    }
   }
  },
  {
   "cell_type": "code",
   "execution_count": 22,
   "outputs": [
    {
     "data": {
      "text/plain": "        order_id  store_id customer_id  coupon_cd  sales_detail_id  \\\n0       79339111        49   C26387220         50         67393872   \n1       18941733        85   C48773811         26         91834983   \n2       56217880        76   C66287421         36         64409634   \n3       28447783       190   C41156423         19         73032165   \n4       32576156       191   C54568117         71         23281182   \n...          ...       ...         ...        ...              ...   \n703875  90872494       191   C35992970         46         51884378   \n703876  30167637        35   C53126526         88          6295273   \n703877  85345862       118   C25099070         32         15733308   \n703878  73038887       100   C27421314         84         67608099   \n703879  14799648        39   C90614204          5         13300147   \n\n          order_accept_date       delivered_date  takeout_flag  total_amount  \\\n0       2020-04-01 11:00:00  2020-04-01 11:18:00             1          4144   \n1       2020-04-01 11:00:00  2020-04-01 11:22:00             0          2877   \n2       2020-04-01 11:00:00  2020-04-01 11:15:00             0          2603   \n3       2020-04-01 11:00:00  2020-04-01 11:16:00             0          2732   \n4       2020-04-01 11:00:00  2020-04-01 11:53:00             0          2987   \n...                     ...                  ...           ...           ...   \n703875  2020-06-30 21:58:58  2020-06-30 22:43:58             1          2112   \n703876  2020-06-30 21:58:58  2020-06-30 22:36:58             0          4462   \n703877  2020-06-30 21:58:58  2020-06-30 22:42:58             0          3865   \n703878  2020-06-30 21:58:58  2020-06-30 22:21:58             0          3319   \n703879  2020-06-30 21:58:58  2020-06-30 22:38:58             0          2064   \n\n        status store_name area_cd  \n0            1        浅草店      TK  \n1            2        目黒店      TK  \n2            2        本郷店      TK  \n3            2        栃木店      TO  \n4            2       伊勢崎店      GU  \n...        ...        ...     ...  \n703875       1       伊勢崎店      GU  \n703876       2       代々木店      TK  \n703877       2        磯子店      KN  \n703878       2        中原店      KN  \n703879       2        杉並店      TK  \n\n[703880 rows x 12 columns]",
      "text/html": "<div>\n<style scoped>\n    .dataframe tbody tr th:only-of-type {\n        vertical-align: middle;\n    }\n\n    .dataframe tbody tr th {\n        vertical-align: top;\n    }\n\n    .dataframe thead th {\n        text-align: right;\n    }\n</style>\n<table border=\"1\" class=\"dataframe\">\n  <thead>\n    <tr style=\"text-align: right;\">\n      <th></th>\n      <th>order_id</th>\n      <th>store_id</th>\n      <th>customer_id</th>\n      <th>coupon_cd</th>\n      <th>sales_detail_id</th>\n      <th>order_accept_date</th>\n      <th>delivered_date</th>\n      <th>takeout_flag</th>\n      <th>total_amount</th>\n      <th>status</th>\n      <th>store_name</th>\n      <th>area_cd</th>\n    </tr>\n  </thead>\n  <tbody>\n    <tr>\n      <th>0</th>\n      <td>79339111</td>\n      <td>49</td>\n      <td>C26387220</td>\n      <td>50</td>\n      <td>67393872</td>\n      <td>2020-04-01 11:00:00</td>\n      <td>2020-04-01 11:18:00</td>\n      <td>1</td>\n      <td>4144</td>\n      <td>1</td>\n      <td>浅草店</td>\n      <td>TK</td>\n    </tr>\n    <tr>\n      <th>1</th>\n      <td>18941733</td>\n      <td>85</td>\n      <td>C48773811</td>\n      <td>26</td>\n      <td>91834983</td>\n      <td>2020-04-01 11:00:00</td>\n      <td>2020-04-01 11:22:00</td>\n      <td>0</td>\n      <td>2877</td>\n      <td>2</td>\n      <td>目黒店</td>\n      <td>TK</td>\n    </tr>\n    <tr>\n      <th>2</th>\n      <td>56217880</td>\n      <td>76</td>\n      <td>C66287421</td>\n      <td>36</td>\n      <td>64409634</td>\n      <td>2020-04-01 11:00:00</td>\n      <td>2020-04-01 11:15:00</td>\n      <td>0</td>\n      <td>2603</td>\n      <td>2</td>\n      <td>本郷店</td>\n      <td>TK</td>\n    </tr>\n    <tr>\n      <th>3</th>\n      <td>28447783</td>\n      <td>190</td>\n      <td>C41156423</td>\n      <td>19</td>\n      <td>73032165</td>\n      <td>2020-04-01 11:00:00</td>\n      <td>2020-04-01 11:16:00</td>\n      <td>0</td>\n      <td>2732</td>\n      <td>2</td>\n      <td>栃木店</td>\n      <td>TO</td>\n    </tr>\n    <tr>\n      <th>4</th>\n      <td>32576156</td>\n      <td>191</td>\n      <td>C54568117</td>\n      <td>71</td>\n      <td>23281182</td>\n      <td>2020-04-01 11:00:00</td>\n      <td>2020-04-01 11:53:00</td>\n      <td>0</td>\n      <td>2987</td>\n      <td>2</td>\n      <td>伊勢崎店</td>\n      <td>GU</td>\n    </tr>\n    <tr>\n      <th>...</th>\n      <td>...</td>\n      <td>...</td>\n      <td>...</td>\n      <td>...</td>\n      <td>...</td>\n      <td>...</td>\n      <td>...</td>\n      <td>...</td>\n      <td>...</td>\n      <td>...</td>\n      <td>...</td>\n      <td>...</td>\n    </tr>\n    <tr>\n      <th>703875</th>\n      <td>90872494</td>\n      <td>191</td>\n      <td>C35992970</td>\n      <td>46</td>\n      <td>51884378</td>\n      <td>2020-06-30 21:58:58</td>\n      <td>2020-06-30 22:43:58</td>\n      <td>1</td>\n      <td>2112</td>\n      <td>1</td>\n      <td>伊勢崎店</td>\n      <td>GU</td>\n    </tr>\n    <tr>\n      <th>703876</th>\n      <td>30167637</td>\n      <td>35</td>\n      <td>C53126526</td>\n      <td>88</td>\n      <td>6295273</td>\n      <td>2020-06-30 21:58:58</td>\n      <td>2020-06-30 22:36:58</td>\n      <td>0</td>\n      <td>4462</td>\n      <td>2</td>\n      <td>代々木店</td>\n      <td>TK</td>\n    </tr>\n    <tr>\n      <th>703877</th>\n      <td>85345862</td>\n      <td>118</td>\n      <td>C25099070</td>\n      <td>32</td>\n      <td>15733308</td>\n      <td>2020-06-30 21:58:58</td>\n      <td>2020-06-30 22:42:58</td>\n      <td>0</td>\n      <td>3865</td>\n      <td>2</td>\n      <td>磯子店</td>\n      <td>KN</td>\n    </tr>\n    <tr>\n      <th>703878</th>\n      <td>73038887</td>\n      <td>100</td>\n      <td>C27421314</td>\n      <td>84</td>\n      <td>67608099</td>\n      <td>2020-06-30 21:58:58</td>\n      <td>2020-06-30 22:21:58</td>\n      <td>0</td>\n      <td>3319</td>\n      <td>2</td>\n      <td>中原店</td>\n      <td>KN</td>\n    </tr>\n    <tr>\n      <th>703879</th>\n      <td>14799648</td>\n      <td>39</td>\n      <td>C90614204</td>\n      <td>5</td>\n      <td>13300147</td>\n      <td>2020-06-30 21:58:58</td>\n      <td>2020-06-30 22:38:58</td>\n      <td>0</td>\n      <td>2064</td>\n      <td>2</td>\n      <td>杉並店</td>\n      <td>TK</td>\n    </tr>\n  </tbody>\n</table>\n<p>703880 rows × 12 columns</p>\n</div>"
     },
     "metadata": {},
     "output_type": "display_data"
    }
   ],
   "source": [
    "order_data = pd.merge(order_data, m_store, on='store_id', how='left')\n",
    "display(order_data)"
   ],
   "metadata": {
    "collapsed": false,
    "pycharm": {
     "name": "#%%\n"
    }
   }
  },
  {
   "cell_type": "code",
   "execution_count": 23,
   "outputs": [
    {
     "data": {
      "text/plain": "        order_id  store_id customer_id  coupon_cd  sales_detail_id  \\\n0       79339111        49   C26387220         50         67393872   \n1       18941733        85   C48773811         26         91834983   \n2       56217880        76   C66287421         36         64409634   \n3       28447783       190   C41156423         19         73032165   \n4       32576156       191   C54568117         71         23281182   \n...          ...       ...         ...        ...              ...   \n703875  90872494       191   C35992970         46         51884378   \n703876  30167637        35   C53126526         88          6295273   \n703877  85345862       118   C25099070         32         15733308   \n703878  73038887       100   C27421314         84         67608099   \n703879  14799648        39   C90614204          5         13300147   \n\n          order_accept_date       delivered_date  takeout_flag  total_amount  \\\n0       2020-04-01 11:00:00  2020-04-01 11:18:00             1          4144   \n1       2020-04-01 11:00:00  2020-04-01 11:22:00             0          2877   \n2       2020-04-01 11:00:00  2020-04-01 11:15:00             0          2603   \n3       2020-04-01 11:00:00  2020-04-01 11:16:00             0          2732   \n4       2020-04-01 11:00:00  2020-04-01 11:53:00             0          2987   \n...                     ...                  ...           ...           ...   \n703875  2020-06-30 21:58:58  2020-06-30 22:43:58             1          2112   \n703876  2020-06-30 21:58:58  2020-06-30 22:36:58             0          4462   \n703877  2020-06-30 21:58:58  2020-06-30 22:42:58             0          3865   \n703878  2020-06-30 21:58:58  2020-06-30 22:21:58             0          3319   \n703879  2020-06-30 21:58:58  2020-06-30 22:38:58             0          2064   \n\n        status store_name area_cd wide_area narrow_area  \n0            1        浅草店      TK        東京          東京  \n1            2        目黒店      TK        東京          東京  \n2            2        本郷店      TK        東京          東京  \n3            2        栃木店      TO       北関東          栃木  \n4            2       伊勢崎店      GU       北関東          群馬  \n...        ...        ...     ...       ...         ...  \n703875       1       伊勢崎店      GU       北関東          群馬  \n703876       2       代々木店      TK        東京          東京  \n703877       2        磯子店      KN       神奈川         神奈川  \n703878       2        中原店      KN       神奈川         神奈川  \n703879       2        杉並店      TK        東京          東京  \n\n[703880 rows x 14 columns]",
      "text/html": "<div>\n<style scoped>\n    .dataframe tbody tr th:only-of-type {\n        vertical-align: middle;\n    }\n\n    .dataframe tbody tr th {\n        vertical-align: top;\n    }\n\n    .dataframe thead th {\n        text-align: right;\n    }\n</style>\n<table border=\"1\" class=\"dataframe\">\n  <thead>\n    <tr style=\"text-align: right;\">\n      <th></th>\n      <th>order_id</th>\n      <th>store_id</th>\n      <th>customer_id</th>\n      <th>coupon_cd</th>\n      <th>sales_detail_id</th>\n      <th>order_accept_date</th>\n      <th>delivered_date</th>\n      <th>takeout_flag</th>\n      <th>total_amount</th>\n      <th>status</th>\n      <th>store_name</th>\n      <th>area_cd</th>\n      <th>wide_area</th>\n      <th>narrow_area</th>\n    </tr>\n  </thead>\n  <tbody>\n    <tr>\n      <th>0</th>\n      <td>79339111</td>\n      <td>49</td>\n      <td>C26387220</td>\n      <td>50</td>\n      <td>67393872</td>\n      <td>2020-04-01 11:00:00</td>\n      <td>2020-04-01 11:18:00</td>\n      <td>1</td>\n      <td>4144</td>\n      <td>1</td>\n      <td>浅草店</td>\n      <td>TK</td>\n      <td>東京</td>\n      <td>東京</td>\n    </tr>\n    <tr>\n      <th>1</th>\n      <td>18941733</td>\n      <td>85</td>\n      <td>C48773811</td>\n      <td>26</td>\n      <td>91834983</td>\n      <td>2020-04-01 11:00:00</td>\n      <td>2020-04-01 11:22:00</td>\n      <td>0</td>\n      <td>2877</td>\n      <td>2</td>\n      <td>目黒店</td>\n      <td>TK</td>\n      <td>東京</td>\n      <td>東京</td>\n    </tr>\n    <tr>\n      <th>2</th>\n      <td>56217880</td>\n      <td>76</td>\n      <td>C66287421</td>\n      <td>36</td>\n      <td>64409634</td>\n      <td>2020-04-01 11:00:00</td>\n      <td>2020-04-01 11:15:00</td>\n      <td>0</td>\n      <td>2603</td>\n      <td>2</td>\n      <td>本郷店</td>\n      <td>TK</td>\n      <td>東京</td>\n      <td>東京</td>\n    </tr>\n    <tr>\n      <th>3</th>\n      <td>28447783</td>\n      <td>190</td>\n      <td>C41156423</td>\n      <td>19</td>\n      <td>73032165</td>\n      <td>2020-04-01 11:00:00</td>\n      <td>2020-04-01 11:16:00</td>\n      <td>0</td>\n      <td>2732</td>\n      <td>2</td>\n      <td>栃木店</td>\n      <td>TO</td>\n      <td>北関東</td>\n      <td>栃木</td>\n    </tr>\n    <tr>\n      <th>4</th>\n      <td>32576156</td>\n      <td>191</td>\n      <td>C54568117</td>\n      <td>71</td>\n      <td>23281182</td>\n      <td>2020-04-01 11:00:00</td>\n      <td>2020-04-01 11:53:00</td>\n      <td>0</td>\n      <td>2987</td>\n      <td>2</td>\n      <td>伊勢崎店</td>\n      <td>GU</td>\n      <td>北関東</td>\n      <td>群馬</td>\n    </tr>\n    <tr>\n      <th>...</th>\n      <td>...</td>\n      <td>...</td>\n      <td>...</td>\n      <td>...</td>\n      <td>...</td>\n      <td>...</td>\n      <td>...</td>\n      <td>...</td>\n      <td>...</td>\n      <td>...</td>\n      <td>...</td>\n      <td>...</td>\n      <td>...</td>\n      <td>...</td>\n    </tr>\n    <tr>\n      <th>703875</th>\n      <td>90872494</td>\n      <td>191</td>\n      <td>C35992970</td>\n      <td>46</td>\n      <td>51884378</td>\n      <td>2020-06-30 21:58:58</td>\n      <td>2020-06-30 22:43:58</td>\n      <td>1</td>\n      <td>2112</td>\n      <td>1</td>\n      <td>伊勢崎店</td>\n      <td>GU</td>\n      <td>北関東</td>\n      <td>群馬</td>\n    </tr>\n    <tr>\n      <th>703876</th>\n      <td>30167637</td>\n      <td>35</td>\n      <td>C53126526</td>\n      <td>88</td>\n      <td>6295273</td>\n      <td>2020-06-30 21:58:58</td>\n      <td>2020-06-30 22:36:58</td>\n      <td>0</td>\n      <td>4462</td>\n      <td>2</td>\n      <td>代々木店</td>\n      <td>TK</td>\n      <td>東京</td>\n      <td>東京</td>\n    </tr>\n    <tr>\n      <th>703877</th>\n      <td>85345862</td>\n      <td>118</td>\n      <td>C25099070</td>\n      <td>32</td>\n      <td>15733308</td>\n      <td>2020-06-30 21:58:58</td>\n      <td>2020-06-30 22:42:58</td>\n      <td>0</td>\n      <td>3865</td>\n      <td>2</td>\n      <td>磯子店</td>\n      <td>KN</td>\n      <td>神奈川</td>\n      <td>神奈川</td>\n    </tr>\n    <tr>\n      <th>703878</th>\n      <td>73038887</td>\n      <td>100</td>\n      <td>C27421314</td>\n      <td>84</td>\n      <td>67608099</td>\n      <td>2020-06-30 21:58:58</td>\n      <td>2020-06-30 22:21:58</td>\n      <td>0</td>\n      <td>3319</td>\n      <td>2</td>\n      <td>中原店</td>\n      <td>KN</td>\n      <td>神奈川</td>\n      <td>神奈川</td>\n    </tr>\n    <tr>\n      <th>703879</th>\n      <td>14799648</td>\n      <td>39</td>\n      <td>C90614204</td>\n      <td>5</td>\n      <td>13300147</td>\n      <td>2020-06-30 21:58:58</td>\n      <td>2020-06-30 22:38:58</td>\n      <td>0</td>\n      <td>2064</td>\n      <td>2</td>\n      <td>杉並店</td>\n      <td>TK</td>\n      <td>東京</td>\n      <td>東京</td>\n    </tr>\n  </tbody>\n</table>\n<p>703880 rows × 14 columns</p>\n</div>"
     },
     "metadata": {},
     "output_type": "display_data"
    }
   ],
   "source": [
    "order_data = pd.merge(order_data, m_area, on='area_cd', how='left')\n",
    "display(order_data)"
   ],
   "metadata": {
    "collapsed": false,
    "pycharm": {
     "name": "#%%\n"
    }
   }
  },
  {
   "cell_type": "code",
   "execution_count": 23,
   "outputs": [],
   "source": [],
   "metadata": {
    "collapsed": false,
    "pycharm": {
     "name": "#%%\n"
    }
   }
  },
  {
   "cell_type": "markdown",
   "source": [
    "### Knock8: Master が存在しない Code に名称を設定する"
   ],
   "metadata": {
    "collapsed": false,
    "pycharm": {
     "name": "#%% md\n"
    }
   }
  },
  {
   "cell_type": "code",
   "execution_count": 24,
   "outputs": [
    {
     "data": {
      "text/plain": "        order_id  store_id customer_id  coupon_cd  sales_detail_id  \\\n0       79339111        49   C26387220         50         67393872   \n1       18941733        85   C48773811         26         91834983   \n2       56217880        76   C66287421         36         64409634   \n3       28447783       190   C41156423         19         73032165   \n4       32576156       191   C54568117         71         23281182   \n...          ...       ...         ...        ...              ...   \n703875  90872494       191   C35992970         46         51884378   \n703876  30167637        35   C53126526         88          6295273   \n703877  85345862       118   C25099070         32         15733308   \n703878  73038887       100   C27421314         84         67608099   \n703879  14799648        39   C90614204          5         13300147   \n\n          order_accept_date       delivered_date  takeout_flag  total_amount  \\\n0       2020-04-01 11:00:00  2020-04-01 11:18:00             1          4144   \n1       2020-04-01 11:00:00  2020-04-01 11:22:00             0          2877   \n2       2020-04-01 11:00:00  2020-04-01 11:15:00             0          2603   \n3       2020-04-01 11:00:00  2020-04-01 11:16:00             0          2732   \n4       2020-04-01 11:00:00  2020-04-01 11:53:00             0          2987   \n...                     ...                  ...           ...           ...   \n703875  2020-06-30 21:58:58  2020-06-30 22:43:58             1          2112   \n703876  2020-06-30 21:58:58  2020-06-30 22:36:58             0          4462   \n703877  2020-06-30 21:58:58  2020-06-30 22:42:58             0          3865   \n703878  2020-06-30 21:58:58  2020-06-30 22:21:58             0          3319   \n703879  2020-06-30 21:58:58  2020-06-30 22:38:58             0          2064   \n\n        status store_name area_cd wide_area narrow_area takeout_name  \n0            1        浅草店      TK        東京          東京        お持ち帰り  \n1            2        目黒店      TK        東京          東京        デリバリー  \n2            2        本郷店      TK        東京          東京        デリバリー  \n3            2        栃木店      TO       北関東          栃木        デリバリー  \n4            2       伊勢崎店      GU       北関東          群馬        デリバリー  \n...        ...        ...     ...       ...         ...          ...  \n703875       1       伊勢崎店      GU       北関東          群馬        お持ち帰り  \n703876       2       代々木店      TK        東京          東京        デリバリー  \n703877       2        磯子店      KN       神奈川         神奈川        デリバリー  \n703878       2        中原店      KN       神奈川         神奈川        デリバリー  \n703879       2        杉並店      TK        東京          東京        デリバリー  \n\n[703880 rows x 15 columns]",
      "text/html": "<div>\n<style scoped>\n    .dataframe tbody tr th:only-of-type {\n        vertical-align: middle;\n    }\n\n    .dataframe tbody tr th {\n        vertical-align: top;\n    }\n\n    .dataframe thead th {\n        text-align: right;\n    }\n</style>\n<table border=\"1\" class=\"dataframe\">\n  <thead>\n    <tr style=\"text-align: right;\">\n      <th></th>\n      <th>order_id</th>\n      <th>store_id</th>\n      <th>customer_id</th>\n      <th>coupon_cd</th>\n      <th>sales_detail_id</th>\n      <th>order_accept_date</th>\n      <th>delivered_date</th>\n      <th>takeout_flag</th>\n      <th>total_amount</th>\n      <th>status</th>\n      <th>store_name</th>\n      <th>area_cd</th>\n      <th>wide_area</th>\n      <th>narrow_area</th>\n      <th>takeout_name</th>\n    </tr>\n  </thead>\n  <tbody>\n    <tr>\n      <th>0</th>\n      <td>79339111</td>\n      <td>49</td>\n      <td>C26387220</td>\n      <td>50</td>\n      <td>67393872</td>\n      <td>2020-04-01 11:00:00</td>\n      <td>2020-04-01 11:18:00</td>\n      <td>1</td>\n      <td>4144</td>\n      <td>1</td>\n      <td>浅草店</td>\n      <td>TK</td>\n      <td>東京</td>\n      <td>東京</td>\n      <td>お持ち帰り</td>\n    </tr>\n    <tr>\n      <th>1</th>\n      <td>18941733</td>\n      <td>85</td>\n      <td>C48773811</td>\n      <td>26</td>\n      <td>91834983</td>\n      <td>2020-04-01 11:00:00</td>\n      <td>2020-04-01 11:22:00</td>\n      <td>0</td>\n      <td>2877</td>\n      <td>2</td>\n      <td>目黒店</td>\n      <td>TK</td>\n      <td>東京</td>\n      <td>東京</td>\n      <td>デリバリー</td>\n    </tr>\n    <tr>\n      <th>2</th>\n      <td>56217880</td>\n      <td>76</td>\n      <td>C66287421</td>\n      <td>36</td>\n      <td>64409634</td>\n      <td>2020-04-01 11:00:00</td>\n      <td>2020-04-01 11:15:00</td>\n      <td>0</td>\n      <td>2603</td>\n      <td>2</td>\n      <td>本郷店</td>\n      <td>TK</td>\n      <td>東京</td>\n      <td>東京</td>\n      <td>デリバリー</td>\n    </tr>\n    <tr>\n      <th>3</th>\n      <td>28447783</td>\n      <td>190</td>\n      <td>C41156423</td>\n      <td>19</td>\n      <td>73032165</td>\n      <td>2020-04-01 11:00:00</td>\n      <td>2020-04-01 11:16:00</td>\n      <td>0</td>\n      <td>2732</td>\n      <td>2</td>\n      <td>栃木店</td>\n      <td>TO</td>\n      <td>北関東</td>\n      <td>栃木</td>\n      <td>デリバリー</td>\n    </tr>\n    <tr>\n      <th>4</th>\n      <td>32576156</td>\n      <td>191</td>\n      <td>C54568117</td>\n      <td>71</td>\n      <td>23281182</td>\n      <td>2020-04-01 11:00:00</td>\n      <td>2020-04-01 11:53:00</td>\n      <td>0</td>\n      <td>2987</td>\n      <td>2</td>\n      <td>伊勢崎店</td>\n      <td>GU</td>\n      <td>北関東</td>\n      <td>群馬</td>\n      <td>デリバリー</td>\n    </tr>\n    <tr>\n      <th>...</th>\n      <td>...</td>\n      <td>...</td>\n      <td>...</td>\n      <td>...</td>\n      <td>...</td>\n      <td>...</td>\n      <td>...</td>\n      <td>...</td>\n      <td>...</td>\n      <td>...</td>\n      <td>...</td>\n      <td>...</td>\n      <td>...</td>\n      <td>...</td>\n      <td>...</td>\n    </tr>\n    <tr>\n      <th>703875</th>\n      <td>90872494</td>\n      <td>191</td>\n      <td>C35992970</td>\n      <td>46</td>\n      <td>51884378</td>\n      <td>2020-06-30 21:58:58</td>\n      <td>2020-06-30 22:43:58</td>\n      <td>1</td>\n      <td>2112</td>\n      <td>1</td>\n      <td>伊勢崎店</td>\n      <td>GU</td>\n      <td>北関東</td>\n      <td>群馬</td>\n      <td>お持ち帰り</td>\n    </tr>\n    <tr>\n      <th>703876</th>\n      <td>30167637</td>\n      <td>35</td>\n      <td>C53126526</td>\n      <td>88</td>\n      <td>6295273</td>\n      <td>2020-06-30 21:58:58</td>\n      <td>2020-06-30 22:36:58</td>\n      <td>0</td>\n      <td>4462</td>\n      <td>2</td>\n      <td>代々木店</td>\n      <td>TK</td>\n      <td>東京</td>\n      <td>東京</td>\n      <td>デリバリー</td>\n    </tr>\n    <tr>\n      <th>703877</th>\n      <td>85345862</td>\n      <td>118</td>\n      <td>C25099070</td>\n      <td>32</td>\n      <td>15733308</td>\n      <td>2020-06-30 21:58:58</td>\n      <td>2020-06-30 22:42:58</td>\n      <td>0</td>\n      <td>3865</td>\n      <td>2</td>\n      <td>磯子店</td>\n      <td>KN</td>\n      <td>神奈川</td>\n      <td>神奈川</td>\n      <td>デリバリー</td>\n    </tr>\n    <tr>\n      <th>703878</th>\n      <td>73038887</td>\n      <td>100</td>\n      <td>C27421314</td>\n      <td>84</td>\n      <td>67608099</td>\n      <td>2020-06-30 21:58:58</td>\n      <td>2020-06-30 22:21:58</td>\n      <td>0</td>\n      <td>3319</td>\n      <td>2</td>\n      <td>中原店</td>\n      <td>KN</td>\n      <td>神奈川</td>\n      <td>神奈川</td>\n      <td>デリバリー</td>\n    </tr>\n    <tr>\n      <th>703879</th>\n      <td>14799648</td>\n      <td>39</td>\n      <td>C90614204</td>\n      <td>5</td>\n      <td>13300147</td>\n      <td>2020-06-30 21:58:58</td>\n      <td>2020-06-30 22:38:58</td>\n      <td>0</td>\n      <td>2064</td>\n      <td>2</td>\n      <td>杉並店</td>\n      <td>TK</td>\n      <td>東京</td>\n      <td>東京</td>\n      <td>デリバリー</td>\n    </tr>\n  </tbody>\n</table>\n<p>703880 rows × 15 columns</p>\n</div>"
     },
     "metadata": {},
     "output_type": "display_data"
    }
   ],
   "source": [
    "order_data.loc[order_data['takeout_flag'] == 0, 'takeout_name'] = \"デリバリー\"\n",
    "order_data.loc[order_data['takeout_flag'] == 1, 'takeout_name'] = \"お持ち帰り\"\n",
    "display(order_data)"
   ],
   "metadata": {
    "collapsed": false,
    "pycharm": {
     "name": "#%%\n"
    }
   }
  },
  {
   "cell_type": "code",
   "execution_count": 25,
   "outputs": [
    {
     "data": {
      "text/plain": "        order_id  store_id customer_id  coupon_cd  sales_detail_id  \\\n0       79339111        49   C26387220         50         67393872   \n1       18941733        85   C48773811         26         91834983   \n2       56217880        76   C66287421         36         64409634   \n3       28447783       190   C41156423         19         73032165   \n4       32576156       191   C54568117         71         23281182   \n...          ...       ...         ...        ...              ...   \n703875  90872494       191   C35992970         46         51884378   \n703876  30167637        35   C53126526         88          6295273   \n703877  85345862       118   C25099070         32         15733308   \n703878  73038887       100   C27421314         84         67608099   \n703879  14799648        39   C90614204          5         13300147   \n\n          order_accept_date       delivered_date  takeout_flag  total_amount  \\\n0       2020-04-01 11:00:00  2020-04-01 11:18:00             1          4144   \n1       2020-04-01 11:00:00  2020-04-01 11:22:00             0          2877   \n2       2020-04-01 11:00:00  2020-04-01 11:15:00             0          2603   \n3       2020-04-01 11:00:00  2020-04-01 11:16:00             0          2732   \n4       2020-04-01 11:00:00  2020-04-01 11:53:00             0          2987   \n...                     ...                  ...           ...           ...   \n703875  2020-06-30 21:58:58  2020-06-30 22:43:58             1          2112   \n703876  2020-06-30 21:58:58  2020-06-30 22:36:58             0          4462   \n703877  2020-06-30 21:58:58  2020-06-30 22:42:58             0          3865   \n703878  2020-06-30 21:58:58  2020-06-30 22:21:58             0          3319   \n703879  2020-06-30 21:58:58  2020-06-30 22:38:58             0          2064   \n\n        status store_name area_cd wide_area narrow_area takeout_name  \\\n0            1        浅草店      TK        東京          東京        お持ち帰り   \n1            2        目黒店      TK        東京          東京        デリバリー   \n2            2        本郷店      TK        東京          東京        デリバリー   \n3            2        栃木店      TO       北関東          栃木        デリバリー   \n4            2       伊勢崎店      GU       北関東          群馬        デリバリー   \n...        ...        ...     ...       ...         ...          ...   \n703875       1       伊勢崎店      GU       北関東          群馬        お持ち帰り   \n703876       2       代々木店      TK        東京          東京        デリバリー   \n703877       2        磯子店      KN       神奈川         神奈川        デリバリー   \n703878       2        中原店      KN       神奈川         神奈川        デリバリー   \n703879       2        杉並店      TK        東京          東京        デリバリー   \n\n       status_name  \n0             お支払済  \n1             お渡し済  \n2             お渡し済  \n3             お渡し済  \n4             お渡し済  \n...            ...  \n703875        お支払済  \n703876        お渡し済  \n703877        お渡し済  \n703878        お渡し済  \n703879        お渡し済  \n\n[703880 rows x 16 columns]",
      "text/html": "<div>\n<style scoped>\n    .dataframe tbody tr th:only-of-type {\n        vertical-align: middle;\n    }\n\n    .dataframe tbody tr th {\n        vertical-align: top;\n    }\n\n    .dataframe thead th {\n        text-align: right;\n    }\n</style>\n<table border=\"1\" class=\"dataframe\">\n  <thead>\n    <tr style=\"text-align: right;\">\n      <th></th>\n      <th>order_id</th>\n      <th>store_id</th>\n      <th>customer_id</th>\n      <th>coupon_cd</th>\n      <th>sales_detail_id</th>\n      <th>order_accept_date</th>\n      <th>delivered_date</th>\n      <th>takeout_flag</th>\n      <th>total_amount</th>\n      <th>status</th>\n      <th>store_name</th>\n      <th>area_cd</th>\n      <th>wide_area</th>\n      <th>narrow_area</th>\n      <th>takeout_name</th>\n      <th>status_name</th>\n    </tr>\n  </thead>\n  <tbody>\n    <tr>\n      <th>0</th>\n      <td>79339111</td>\n      <td>49</td>\n      <td>C26387220</td>\n      <td>50</td>\n      <td>67393872</td>\n      <td>2020-04-01 11:00:00</td>\n      <td>2020-04-01 11:18:00</td>\n      <td>1</td>\n      <td>4144</td>\n      <td>1</td>\n      <td>浅草店</td>\n      <td>TK</td>\n      <td>東京</td>\n      <td>東京</td>\n      <td>お持ち帰り</td>\n      <td>お支払済</td>\n    </tr>\n    <tr>\n      <th>1</th>\n      <td>18941733</td>\n      <td>85</td>\n      <td>C48773811</td>\n      <td>26</td>\n      <td>91834983</td>\n      <td>2020-04-01 11:00:00</td>\n      <td>2020-04-01 11:22:00</td>\n      <td>0</td>\n      <td>2877</td>\n      <td>2</td>\n      <td>目黒店</td>\n      <td>TK</td>\n      <td>東京</td>\n      <td>東京</td>\n      <td>デリバリー</td>\n      <td>お渡し済</td>\n    </tr>\n    <tr>\n      <th>2</th>\n      <td>56217880</td>\n      <td>76</td>\n      <td>C66287421</td>\n      <td>36</td>\n      <td>64409634</td>\n      <td>2020-04-01 11:00:00</td>\n      <td>2020-04-01 11:15:00</td>\n      <td>0</td>\n      <td>2603</td>\n      <td>2</td>\n      <td>本郷店</td>\n      <td>TK</td>\n      <td>東京</td>\n      <td>東京</td>\n      <td>デリバリー</td>\n      <td>お渡し済</td>\n    </tr>\n    <tr>\n      <th>3</th>\n      <td>28447783</td>\n      <td>190</td>\n      <td>C41156423</td>\n      <td>19</td>\n      <td>73032165</td>\n      <td>2020-04-01 11:00:00</td>\n      <td>2020-04-01 11:16:00</td>\n      <td>0</td>\n      <td>2732</td>\n      <td>2</td>\n      <td>栃木店</td>\n      <td>TO</td>\n      <td>北関東</td>\n      <td>栃木</td>\n      <td>デリバリー</td>\n      <td>お渡し済</td>\n    </tr>\n    <tr>\n      <th>4</th>\n      <td>32576156</td>\n      <td>191</td>\n      <td>C54568117</td>\n      <td>71</td>\n      <td>23281182</td>\n      <td>2020-04-01 11:00:00</td>\n      <td>2020-04-01 11:53:00</td>\n      <td>0</td>\n      <td>2987</td>\n      <td>2</td>\n      <td>伊勢崎店</td>\n      <td>GU</td>\n      <td>北関東</td>\n      <td>群馬</td>\n      <td>デリバリー</td>\n      <td>お渡し済</td>\n    </tr>\n    <tr>\n      <th>...</th>\n      <td>...</td>\n      <td>...</td>\n      <td>...</td>\n      <td>...</td>\n      <td>...</td>\n      <td>...</td>\n      <td>...</td>\n      <td>...</td>\n      <td>...</td>\n      <td>...</td>\n      <td>...</td>\n      <td>...</td>\n      <td>...</td>\n      <td>...</td>\n      <td>...</td>\n      <td>...</td>\n    </tr>\n    <tr>\n      <th>703875</th>\n      <td>90872494</td>\n      <td>191</td>\n      <td>C35992970</td>\n      <td>46</td>\n      <td>51884378</td>\n      <td>2020-06-30 21:58:58</td>\n      <td>2020-06-30 22:43:58</td>\n      <td>1</td>\n      <td>2112</td>\n      <td>1</td>\n      <td>伊勢崎店</td>\n      <td>GU</td>\n      <td>北関東</td>\n      <td>群馬</td>\n      <td>お持ち帰り</td>\n      <td>お支払済</td>\n    </tr>\n    <tr>\n      <th>703876</th>\n      <td>30167637</td>\n      <td>35</td>\n      <td>C53126526</td>\n      <td>88</td>\n      <td>6295273</td>\n      <td>2020-06-30 21:58:58</td>\n      <td>2020-06-30 22:36:58</td>\n      <td>0</td>\n      <td>4462</td>\n      <td>2</td>\n      <td>代々木店</td>\n      <td>TK</td>\n      <td>東京</td>\n      <td>東京</td>\n      <td>デリバリー</td>\n      <td>お渡し済</td>\n    </tr>\n    <tr>\n      <th>703877</th>\n      <td>85345862</td>\n      <td>118</td>\n      <td>C25099070</td>\n      <td>32</td>\n      <td>15733308</td>\n      <td>2020-06-30 21:58:58</td>\n      <td>2020-06-30 22:42:58</td>\n      <td>0</td>\n      <td>3865</td>\n      <td>2</td>\n      <td>磯子店</td>\n      <td>KN</td>\n      <td>神奈川</td>\n      <td>神奈川</td>\n      <td>デリバリー</td>\n      <td>お渡し済</td>\n    </tr>\n    <tr>\n      <th>703878</th>\n      <td>73038887</td>\n      <td>100</td>\n      <td>C27421314</td>\n      <td>84</td>\n      <td>67608099</td>\n      <td>2020-06-30 21:58:58</td>\n      <td>2020-06-30 22:21:58</td>\n      <td>0</td>\n      <td>3319</td>\n      <td>2</td>\n      <td>中原店</td>\n      <td>KN</td>\n      <td>神奈川</td>\n      <td>神奈川</td>\n      <td>デリバリー</td>\n      <td>お渡し済</td>\n    </tr>\n    <tr>\n      <th>703879</th>\n      <td>14799648</td>\n      <td>39</td>\n      <td>C90614204</td>\n      <td>5</td>\n      <td>13300147</td>\n      <td>2020-06-30 21:58:58</td>\n      <td>2020-06-30 22:38:58</td>\n      <td>0</td>\n      <td>2064</td>\n      <td>2</td>\n      <td>杉並店</td>\n      <td>TK</td>\n      <td>東京</td>\n      <td>東京</td>\n      <td>デリバリー</td>\n      <td>お渡し済</td>\n    </tr>\n  </tbody>\n</table>\n<p>703880 rows × 16 columns</p>\n</div>"
     },
     "metadata": {},
     "output_type": "display_data"
    }
   ],
   "source": [
    "order_data.loc[order_data['status'] == 0, 'status_name'] = \"受付\"\n",
    "order_data.loc[order_data['status'] == 1, 'status_name'] = \"お支払済\"\n",
    "order_data.loc[order_data['status'] == 2, 'status_name'] = \"お渡し済\"\n",
    "order_data.loc[order_data['status'] == 9, 'status_name'] = \"キャンセル\"\n",
    "display(order_data)"
   ],
   "metadata": {
    "collapsed": false,
    "pycharm": {
     "name": "#%%\n"
    }
   }
  },
  {
   "cell_type": "markdown",
   "source": [
    "### Knock9: 分析基礎 Table を出力してみよう"
   ],
   "metadata": {
    "collapsed": false,
    "pycharm": {
     "name": "#%% md\n"
    }
   }
  },
  {
   "cell_type": "code",
   "execution_count": 26,
   "outputs": [],
   "source": [
    "# 出力用の Directory を作成\n",
    "output_dir = os.path.join(current_dir, 'output_data')\n",
    "os.makedirs(output_dir, exist_ok=True)"
   ],
   "metadata": {
    "collapsed": false,
    "pycharm": {
     "name": "#%%\n"
    }
   }
  },
  {
   "cell_type": "code",
   "execution_count": 27,
   "outputs": [],
   "source": [
    "# DataFrame の内容を File に出力\n",
    "output_file = os.path.join(output_dir, 'order_data.csv')\n",
    "order_data.to_csv(output_file, index=False)"
   ],
   "metadata": {
    "collapsed": false,
    "pycharm": {
     "name": "#%%\n"
    }
   }
  },
  {
   "cell_type": "markdown",
   "source": [
    "### Knock10: Cell を整理して使いやすくしよう"
   ],
   "metadata": {
    "collapsed": false,
    "pycharm": {
     "name": "#%% md\n"
    }
   }
  },
  {
   "cell_type": "code",
   "execution_count": 28,
   "outputs": [
    {
     "name": "stdout",
     "output_type": "stream",
     "text": [
      "C:\\Users\\leone\\dsLab\\machine_learning_system_100_knocks\\section1\\tbl_order_202004.csv:233260\n",
      "C:\\Users\\leone\\dsLab\\machine_learning_system_100_knocks\\section1\\tbl_order_202005.csv:241139\n",
      "C:\\Users\\leone\\dsLab\\machine_learning_system_100_knocks\\section1\\tbl_order_202006.csv:233301\n"
     ]
    }
   ],
   "source": [
    "# Library の import\n",
    "import pandas as pd\n",
    "import os\n",
    "import glob\n",
    "\n",
    "# File の読み込み\n",
    "m_store = pd.read_csv('m_store.csv')\n",
    "m_area = pd.read_csv('m_area.csv')\n",
    "\n",
    "# Order data の読み込み\n",
    "current_dir = os.getcwd()\n",
    "tbl_order_file = os.path.join(current_dir, 'tbl_order_*.csv')\n",
    "tbl_order_files = glob.glob(tbl_order_file)\n",
    "order_all = pd.DataFrame()\n",
    "\n",
    "for file in tbl_order_files:\n",
    "    order_data = pd.read_csv(file)\n",
    "    print(f\"{file}:{order_data.shape[0]}\")\n",
    "    order_all = pd.concat([order_all, order_data], ignore_index=True)\n",
    "\n",
    "# 不要な Data を除外\n",
    "order_data = order_all.loc[order_all['store_id'] != 999]\n",
    "\n",
    "# Master data の結合\n",
    "order_data = pd.merge(order_data, m_store, on='store_id', how='left')\n",
    "order_data = pd.merge(order_data, m_area, on='area_cd', how='left')\n",
    "\n",
    "# 名称を設定（お渡し方法）\n",
    "order_data.loc[order_data['takeout_flag'] == 0, 'takeout_name'] = \"デリバリー\"\n",
    "order_data.loc[order_data['takeout_flag'] == 1, 'takeout_name'] = \"お持ち帰り\"\n",
    "\n",
    "# 名称を設定（注文状態）\n",
    "order_data.loc[order_data['status'] == 0, 'status_name'] = \"受付\"\n",
    "order_data.loc[order_data['status'] == 1, 'status_name'] = \"お支払済\"\n",
    "order_data.loc[order_data['status'] == 2, 'status_name'] = \"お渡し済\"\n",
    "order_data.loc[order_data['status'] == 9, 'status_name'] = \"キャンセル\"\n",
    "\n",
    "# File の出力\n",
    "output_dir = os.path.join(current_dir, 'output_data')\n",
    "os.makedirs(output_dir, exist_ok=True)\n",
    "output_file = os.path.join(output_dir, 'order_data.csv')\n",
    "order_data.to_csv(output_file, index=False)"
   ],
   "metadata": {
    "collapsed": false,
    "pycharm": {
     "name": "#%%\n"
    }
   }
  },
  {
   "cell_type": "markdown",
   "source": [
    "#### 適宜、処理の概要や注意点などを Comment として残しておく勧め\n",
    "- Code を他人と共有する際に理解を助ける。\n",
    "- 改修要望は忘れた頃に発生する為、未来の自分が困らないため。"
   ],
   "metadata": {
    "collapsed": false,
    "pycharm": {
     "name": "#%% md\n"
    }
   }
  },
  {
   "cell_type": "markdown",
   "source": [
    "#### Data 加工\n",
    "- Data 分析や機械学習をする上で必須の作業。\n",
    "- Data 加工の段階で誤りがあると、後の可視化や機械学習も間違った結果となる。\n",
    "- 加工の誤りは現場 Level では非常に嫌がられ、信用を傷つけることになり兼ねない。"
   ],
   "metadata": {
    "collapsed": false,
    "pycharm": {
     "name": "#%% md\n"
    }
   }
  },
  {
   "cell_type": "code",
   "execution_count": null,
   "outputs": [],
   "source": [],
   "metadata": {
    "collapsed": false,
    "pycharm": {
     "name": "#%%\n"
    }
   }
  },
  {
   "cell_type": "markdown",
   "source": [
    "### Knock8: Master が存在しない Code に名称を設定する"
   ],
   "metadata": {
    "collapsed": false,
    "pycharm": {
     "name": "#%% md\n"
    }
   }
  },
  {
   "cell_type": "code",
   "execution_count": 24,
   "outputs": [
    {
     "data": {
      "text/plain": "        order_id  store_id customer_id  coupon_cd  sales_detail_id  \\\n0       24742472        22   C90731046         22         80308413   \n1       11342919        56   C68678177         12         35725624   \n2       76451864        56   C79630016         46          2609869   \n3       28392539       192   C83895707         80         17111162   \n4       71706591       121   C36584528         93         22800835   \n...          ...       ...         ...        ...              ...   \n703875  90872494       191   C35992970         46         51884378   \n703876  30167637        35   C53126526         88          6295273   \n703877  85345862       118   C25099070         32         15733308   \n703878  73038887       100   C27421314         84         67608099   \n703879  14799648        39   C90614204          5         13300147   \n\n          order_accept_date       delivered_date  takeout_flag  total_amount  \\\n0       2020-05-01 11:00:00  2020-05-01 11:22:00             1          2328   \n1       2020-05-01 11:00:00  2020-05-01 11:50:00             0          2987   \n2       2020-05-01 11:00:00  2020-05-01 11:32:00             0          2603   \n3       2020-05-01 11:00:00  2020-05-01 11:19:00             0          2603   \n4       2020-05-01 11:00:00  2020-05-01 11:17:00             0          2877   \n...                     ...                  ...           ...           ...   \n703875  2020-06-30 21:58:58  2020-06-30 22:43:58             1          2112   \n703876  2020-06-30 21:58:58  2020-06-30 22:36:58             0          4462   \n703877  2020-06-30 21:58:58  2020-06-30 22:42:58             0          3865   \n703878  2020-06-30 21:58:58  2020-06-30 22:21:58             0          3319   \n703879  2020-06-30 21:58:58  2020-06-30 22:38:58             0          2064   \n\n        status store_name area_cd wide_area narrow_area takeout_name  \n0            1        国立店      TK        東京          東京        お持ち帰り  \n1            2        神田店      TK        東京          東京        デリバリー  \n2            2        神田店      TK        東京          東京        デリバリー  \n3            2        太田店      GU       北関東          群馬        デリバリー  \n4            2        港南店      KN       神奈川         神奈川        デリバリー  \n...        ...        ...     ...       ...         ...          ...  \n703875       1       伊勢崎店      GU       北関東          群馬        お持ち帰り  \n703876       2       代々木店      TK        東京          東京        デリバリー  \n703877       2        磯子店      KN       神奈川         神奈川        デリバリー  \n703878       2        中原店      KN       神奈川         神奈川        デリバリー  \n703879       2        杉並店      TK        東京          東京        デリバリー  \n\n[703880 rows x 15 columns]",
      "text/html": "<div>\n<style scoped>\n    .dataframe tbody tr th:only-of-type {\n        vertical-align: middle;\n    }\n\n    .dataframe tbody tr th {\n        vertical-align: top;\n    }\n\n    .dataframe thead th {\n        text-align: right;\n    }\n</style>\n<table border=\"1\" class=\"dataframe\">\n  <thead>\n    <tr style=\"text-align: right;\">\n      <th></th>\n      <th>order_id</th>\n      <th>store_id</th>\n      <th>customer_id</th>\n      <th>coupon_cd</th>\n      <th>sales_detail_id</th>\n      <th>order_accept_date</th>\n      <th>delivered_date</th>\n      <th>takeout_flag</th>\n      <th>total_amount</th>\n      <th>status</th>\n      <th>store_name</th>\n      <th>area_cd</th>\n      <th>wide_area</th>\n      <th>narrow_area</th>\n      <th>takeout_name</th>\n    </tr>\n  </thead>\n  <tbody>\n    <tr>\n      <th>0</th>\n      <td>24742472</td>\n      <td>22</td>\n      <td>C90731046</td>\n      <td>22</td>\n      <td>80308413</td>\n      <td>2020-05-01 11:00:00</td>\n      <td>2020-05-01 11:22:00</td>\n      <td>1</td>\n      <td>2328</td>\n      <td>1</td>\n      <td>国立店</td>\n      <td>TK</td>\n      <td>東京</td>\n      <td>東京</td>\n      <td>お持ち帰り</td>\n    </tr>\n    <tr>\n      <th>1</th>\n      <td>11342919</td>\n      <td>56</td>\n      <td>C68678177</td>\n      <td>12</td>\n      <td>35725624</td>\n      <td>2020-05-01 11:00:00</td>\n      <td>2020-05-01 11:50:00</td>\n      <td>0</td>\n      <td>2987</td>\n      <td>2</td>\n      <td>神田店</td>\n      <td>TK</td>\n      <td>東京</td>\n      <td>東京</td>\n      <td>デリバリー</td>\n    </tr>\n    <tr>\n      <th>2</th>\n      <td>76451864</td>\n      <td>56</td>\n      <td>C79630016</td>\n      <td>46</td>\n      <td>2609869</td>\n      <td>2020-05-01 11:00:00</td>\n      <td>2020-05-01 11:32:00</td>\n      <td>0</td>\n      <td>2603</td>\n      <td>2</td>\n      <td>神田店</td>\n      <td>TK</td>\n      <td>東京</td>\n      <td>東京</td>\n      <td>デリバリー</td>\n    </tr>\n    <tr>\n      <th>3</th>\n      <td>28392539</td>\n      <td>192</td>\n      <td>C83895707</td>\n      <td>80</td>\n      <td>17111162</td>\n      <td>2020-05-01 11:00:00</td>\n      <td>2020-05-01 11:19:00</td>\n      <td>0</td>\n      <td>2603</td>\n      <td>2</td>\n      <td>太田店</td>\n      <td>GU</td>\n      <td>北関東</td>\n      <td>群馬</td>\n      <td>デリバリー</td>\n    </tr>\n    <tr>\n      <th>4</th>\n      <td>71706591</td>\n      <td>121</td>\n      <td>C36584528</td>\n      <td>93</td>\n      <td>22800835</td>\n      <td>2020-05-01 11:00:00</td>\n      <td>2020-05-01 11:17:00</td>\n      <td>0</td>\n      <td>2877</td>\n      <td>2</td>\n      <td>港南店</td>\n      <td>KN</td>\n      <td>神奈川</td>\n      <td>神奈川</td>\n      <td>デリバリー</td>\n    </tr>\n    <tr>\n      <th>...</th>\n      <td>...</td>\n      <td>...</td>\n      <td>...</td>\n      <td>...</td>\n      <td>...</td>\n      <td>...</td>\n      <td>...</td>\n      <td>...</td>\n      <td>...</td>\n      <td>...</td>\n      <td>...</td>\n      <td>...</td>\n      <td>...</td>\n      <td>...</td>\n      <td>...</td>\n    </tr>\n    <tr>\n      <th>703875</th>\n      <td>90872494</td>\n      <td>191</td>\n      <td>C35992970</td>\n      <td>46</td>\n      <td>51884378</td>\n      <td>2020-06-30 21:58:58</td>\n      <td>2020-06-30 22:43:58</td>\n      <td>1</td>\n      <td>2112</td>\n      <td>1</td>\n      <td>伊勢崎店</td>\n      <td>GU</td>\n      <td>北関東</td>\n      <td>群馬</td>\n      <td>お持ち帰り</td>\n    </tr>\n    <tr>\n      <th>703876</th>\n      <td>30167637</td>\n      <td>35</td>\n      <td>C53126526</td>\n      <td>88</td>\n      <td>6295273</td>\n      <td>2020-06-30 21:58:58</td>\n      <td>2020-06-30 22:36:58</td>\n      <td>0</td>\n      <td>4462</td>\n      <td>2</td>\n      <td>代々木店</td>\n      <td>TK</td>\n      <td>東京</td>\n      <td>東京</td>\n      <td>デリバリー</td>\n    </tr>\n    <tr>\n      <th>703877</th>\n      <td>85345862</td>\n      <td>118</td>\n      <td>C25099070</td>\n      <td>32</td>\n      <td>15733308</td>\n      <td>2020-06-30 21:58:58</td>\n      <td>2020-06-30 22:42:58</td>\n      <td>0</td>\n      <td>3865</td>\n      <td>2</td>\n      <td>磯子店</td>\n      <td>KN</td>\n      <td>神奈川</td>\n      <td>神奈川</td>\n      <td>デリバリー</td>\n    </tr>\n    <tr>\n      <th>703878</th>\n      <td>73038887</td>\n      <td>100</td>\n      <td>C27421314</td>\n      <td>84</td>\n      <td>67608099</td>\n      <td>2020-06-30 21:58:58</td>\n      <td>2020-06-30 22:21:58</td>\n      <td>0</td>\n      <td>3319</td>\n      <td>2</td>\n      <td>中原店</td>\n      <td>KN</td>\n      <td>神奈川</td>\n      <td>神奈川</td>\n      <td>デリバリー</td>\n    </tr>\n    <tr>\n      <th>703879</th>\n      <td>14799648</td>\n      <td>39</td>\n      <td>C90614204</td>\n      <td>5</td>\n      <td>13300147</td>\n      <td>2020-06-30 21:58:58</td>\n      <td>2020-06-30 22:38:58</td>\n      <td>0</td>\n      <td>2064</td>\n      <td>2</td>\n      <td>杉並店</td>\n      <td>TK</td>\n      <td>東京</td>\n      <td>東京</td>\n      <td>デリバリー</td>\n    </tr>\n  </tbody>\n</table>\n<p>703880 rows × 15 columns</p>\n</div>"
     },
     "metadata": {},
     "output_type": "display_data"
    }
   ],
   "source": [
    "order_data.loc[order_data['takeout_flag'] == 0, 'takeout_name'] = \"デリバリー\"\n",
    "order_data.loc[order_data['takeout_flag'] == 1, 'takeout_name'] = \"お持ち帰り\"\n",
    "display(order_data)"
   ],
   "metadata": {
    "collapsed": false,
    "pycharm": {
     "name": "#%%\n"
    }
   }
  },
  {
   "cell_type": "code",
   "execution_count": 25,
   "outputs": [
    {
     "data": {
      "text/plain": "        order_id  store_id customer_id  coupon_cd  sales_detail_id  \\\n0       24742472        22   C90731046         22         80308413   \n1       11342919        56   C68678177         12         35725624   \n2       76451864        56   C79630016         46          2609869   \n3       28392539       192   C83895707         80         17111162   \n4       71706591       121   C36584528         93         22800835   \n...          ...       ...         ...        ...              ...   \n703875  90872494       191   C35992970         46         51884378   \n703876  30167637        35   C53126526         88          6295273   \n703877  85345862       118   C25099070         32         15733308   \n703878  73038887       100   C27421314         84         67608099   \n703879  14799648        39   C90614204          5         13300147   \n\n          order_accept_date       delivered_date  takeout_flag  total_amount  \\\n0       2020-05-01 11:00:00  2020-05-01 11:22:00             1          2328   \n1       2020-05-01 11:00:00  2020-05-01 11:50:00             0          2987   \n2       2020-05-01 11:00:00  2020-05-01 11:32:00             0          2603   \n3       2020-05-01 11:00:00  2020-05-01 11:19:00             0          2603   \n4       2020-05-01 11:00:00  2020-05-01 11:17:00             0          2877   \n...                     ...                  ...           ...           ...   \n703875  2020-06-30 21:58:58  2020-06-30 22:43:58             1          2112   \n703876  2020-06-30 21:58:58  2020-06-30 22:36:58             0          4462   \n703877  2020-06-30 21:58:58  2020-06-30 22:42:58             0          3865   \n703878  2020-06-30 21:58:58  2020-06-30 22:21:58             0          3319   \n703879  2020-06-30 21:58:58  2020-06-30 22:38:58             0          2064   \n\n        status store_name area_cd wide_area narrow_area takeout_name  \\\n0            1        国立店      TK        東京          東京        お持ち帰り   \n1            2        神田店      TK        東京          東京        デリバリー   \n2            2        神田店      TK        東京          東京        デリバリー   \n3            2        太田店      GU       北関東          群馬        デリバリー   \n4            2        港南店      KN       神奈川         神奈川        デリバリー   \n...        ...        ...     ...       ...         ...          ...   \n703875       1       伊勢崎店      GU       北関東          群馬        お持ち帰り   \n703876       2       代々木店      TK        東京          東京        デリバリー   \n703877       2        磯子店      KN       神奈川         神奈川        デリバリー   \n703878       2        中原店      KN       神奈川         神奈川        デリバリー   \n703879       2        杉並店      TK        東京          東京        デリバリー   \n\n       status_name  \n0             お支払済  \n1             お渡し済  \n2             お渡し済  \n3             お渡し済  \n4             お渡し済  \n...            ...  \n703875        お支払済  \n703876        お渡し済  \n703877        お渡し済  \n703878        お渡し済  \n703879        お渡し済  \n\n[703880 rows x 16 columns]",
      "text/html": "<div>\n<style scoped>\n    .dataframe tbody tr th:only-of-type {\n        vertical-align: middle;\n    }\n\n    .dataframe tbody tr th {\n        vertical-align: top;\n    }\n\n    .dataframe thead th {\n        text-align: right;\n    }\n</style>\n<table border=\"1\" class=\"dataframe\">\n  <thead>\n    <tr style=\"text-align: right;\">\n      <th></th>\n      <th>order_id</th>\n      <th>store_id</th>\n      <th>customer_id</th>\n      <th>coupon_cd</th>\n      <th>sales_detail_id</th>\n      <th>order_accept_date</th>\n      <th>delivered_date</th>\n      <th>takeout_flag</th>\n      <th>total_amount</th>\n      <th>status</th>\n      <th>store_name</th>\n      <th>area_cd</th>\n      <th>wide_area</th>\n      <th>narrow_area</th>\n      <th>takeout_name</th>\n      <th>status_name</th>\n    </tr>\n  </thead>\n  <tbody>\n    <tr>\n      <th>0</th>\n      <td>24742472</td>\n      <td>22</td>\n      <td>C90731046</td>\n      <td>22</td>\n      <td>80308413</td>\n      <td>2020-05-01 11:00:00</td>\n      <td>2020-05-01 11:22:00</td>\n      <td>1</td>\n      <td>2328</td>\n      <td>1</td>\n      <td>国立店</td>\n      <td>TK</td>\n      <td>東京</td>\n      <td>東京</td>\n      <td>お持ち帰り</td>\n      <td>お支払済</td>\n    </tr>\n    <tr>\n      <th>1</th>\n      <td>11342919</td>\n      <td>56</td>\n      <td>C68678177</td>\n      <td>12</td>\n      <td>35725624</td>\n      <td>2020-05-01 11:00:00</td>\n      <td>2020-05-01 11:50:00</td>\n      <td>0</td>\n      <td>2987</td>\n      <td>2</td>\n      <td>神田店</td>\n      <td>TK</td>\n      <td>東京</td>\n      <td>東京</td>\n      <td>デリバリー</td>\n      <td>お渡し済</td>\n    </tr>\n    <tr>\n      <th>2</th>\n      <td>76451864</td>\n      <td>56</td>\n      <td>C79630016</td>\n      <td>46</td>\n      <td>2609869</td>\n      <td>2020-05-01 11:00:00</td>\n      <td>2020-05-01 11:32:00</td>\n      <td>0</td>\n      <td>2603</td>\n      <td>2</td>\n      <td>神田店</td>\n      <td>TK</td>\n      <td>東京</td>\n      <td>東京</td>\n      <td>デリバリー</td>\n      <td>お渡し済</td>\n    </tr>\n    <tr>\n      <th>3</th>\n      <td>28392539</td>\n      <td>192</td>\n      <td>C83895707</td>\n      <td>80</td>\n      <td>17111162</td>\n      <td>2020-05-01 11:00:00</td>\n      <td>2020-05-01 11:19:00</td>\n      <td>0</td>\n      <td>2603</td>\n      <td>2</td>\n      <td>太田店</td>\n      <td>GU</td>\n      <td>北関東</td>\n      <td>群馬</td>\n      <td>デリバリー</td>\n      <td>お渡し済</td>\n    </tr>\n    <tr>\n      <th>4</th>\n      <td>71706591</td>\n      <td>121</td>\n      <td>C36584528</td>\n      <td>93</td>\n      <td>22800835</td>\n      <td>2020-05-01 11:00:00</td>\n      <td>2020-05-01 11:17:00</td>\n      <td>0</td>\n      <td>2877</td>\n      <td>2</td>\n      <td>港南店</td>\n      <td>KN</td>\n      <td>神奈川</td>\n      <td>神奈川</td>\n      <td>デリバリー</td>\n      <td>お渡し済</td>\n    </tr>\n    <tr>\n      <th>...</th>\n      <td>...</td>\n      <td>...</td>\n      <td>...</td>\n      <td>...</td>\n      <td>...</td>\n      <td>...</td>\n      <td>...</td>\n      <td>...</td>\n      <td>...</td>\n      <td>...</td>\n      <td>...</td>\n      <td>...</td>\n      <td>...</td>\n      <td>...</td>\n      <td>...</td>\n      <td>...</td>\n    </tr>\n    <tr>\n      <th>703875</th>\n      <td>90872494</td>\n      <td>191</td>\n      <td>C35992970</td>\n      <td>46</td>\n      <td>51884378</td>\n      <td>2020-06-30 21:58:58</td>\n      <td>2020-06-30 22:43:58</td>\n      <td>1</td>\n      <td>2112</td>\n      <td>1</td>\n      <td>伊勢崎店</td>\n      <td>GU</td>\n      <td>北関東</td>\n      <td>群馬</td>\n      <td>お持ち帰り</td>\n      <td>お支払済</td>\n    </tr>\n    <tr>\n      <th>703876</th>\n      <td>30167637</td>\n      <td>35</td>\n      <td>C53126526</td>\n      <td>88</td>\n      <td>6295273</td>\n      <td>2020-06-30 21:58:58</td>\n      <td>2020-06-30 22:36:58</td>\n      <td>0</td>\n      <td>4462</td>\n      <td>2</td>\n      <td>代々木店</td>\n      <td>TK</td>\n      <td>東京</td>\n      <td>東京</td>\n      <td>デリバリー</td>\n      <td>お渡し済</td>\n    </tr>\n    <tr>\n      <th>703877</th>\n      <td>85345862</td>\n      <td>118</td>\n      <td>C25099070</td>\n      <td>32</td>\n      <td>15733308</td>\n      <td>2020-06-30 21:58:58</td>\n      <td>2020-06-30 22:42:58</td>\n      <td>0</td>\n      <td>3865</td>\n      <td>2</td>\n      <td>磯子店</td>\n      <td>KN</td>\n      <td>神奈川</td>\n      <td>神奈川</td>\n      <td>デリバリー</td>\n      <td>お渡し済</td>\n    </tr>\n    <tr>\n      <th>703878</th>\n      <td>73038887</td>\n      <td>100</td>\n      <td>C27421314</td>\n      <td>84</td>\n      <td>67608099</td>\n      <td>2020-06-30 21:58:58</td>\n      <td>2020-06-30 22:21:58</td>\n      <td>0</td>\n      <td>3319</td>\n      <td>2</td>\n      <td>中原店</td>\n      <td>KN</td>\n      <td>神奈川</td>\n      <td>神奈川</td>\n      <td>デリバリー</td>\n      <td>お渡し済</td>\n    </tr>\n    <tr>\n      <th>703879</th>\n      <td>14799648</td>\n      <td>39</td>\n      <td>C90614204</td>\n      <td>5</td>\n      <td>13300147</td>\n      <td>2020-06-30 21:58:58</td>\n      <td>2020-06-30 22:38:58</td>\n      <td>0</td>\n      <td>2064</td>\n      <td>2</td>\n      <td>杉並店</td>\n      <td>TK</td>\n      <td>東京</td>\n      <td>東京</td>\n      <td>デリバリー</td>\n      <td>お渡し済</td>\n    </tr>\n  </tbody>\n</table>\n<p>703880 rows × 16 columns</p>\n</div>"
     },
     "metadata": {},
     "output_type": "display_data"
    }
   ],
   "source": [
    "order_data.loc[order_data['status'] == 0, 'status_name'] = \"受付\"\n",
    "order_data.loc[order_data['status'] == 1, 'status_name'] = \"お支払済\"\n",
    "order_data.loc[order_data['status'] == 2, 'status_name'] = \"お渡し済\"\n",
    "order_data.loc[order_data['status'] == 9, 'status_name'] = \"キャンセル\"\n",
    "display(order_data)"
   ],
   "metadata": {
    "collapsed": false,
    "pycharm": {
     "name": "#%%\n"
    }
   }
  },
  {
   "cell_type": "markdown",
   "source": [
    "### Knock9: 分析基礎 Table を出力してみよう"
   ],
   "metadata": {
    "collapsed": false,
    "pycharm": {
     "name": "#%% md\n"
    }
   }
  },
  {
   "cell_type": "code",
   "execution_count": 26,
   "outputs": [],
   "source": [
    "# 出力用の Directory を作成\n",
    "output_dir = os.path.join(current_dir, 'output_data')\n",
    "os.makedirs(output_dir, exist_ok=True)"
   ],
   "metadata": {
    "collapsed": false,
    "pycharm": {
     "name": "#%%\n"
    }
   }
  },
  {
   "cell_type": "code",
   "execution_count": 27,
   "outputs": [],
   "source": [
    "# DataFrame の内容を File に出力\n",
    "output_file = os.path.join(output_dir, 'order_data.csv')\n",
    "order_data.to_csv(output_file, index=False)"
   ],
   "metadata": {
    "collapsed": false,
    "pycharm": {
     "name": "#%%\n"
    }
   }
  },
  {
   "cell_type": "code",
   "execution_count": null,
   "outputs": [],
   "source": [],
   "metadata": {
    "collapsed": false,
    "pycharm": {
     "name": "#%%\n"
    }
   }
  }
 ],
 "metadata": {
  "kernelspec": {
   "display_name": "Python 3",
   "language": "python",
   "name": "python3"
  },
  "language_info": {
   "codemirror_mode": {
    "name": "ipython",
    "version": 2
   },
   "file_extension": ".py",
   "mimetype": "text/x-python",
   "name": "python",
   "nbconvert_exporter": "python",
   "pygments_lexer": "ipython2",
   "version": "2.7.6"
  }
 },
 "nbformat": 4,
 "nbformat_minor": 0
}