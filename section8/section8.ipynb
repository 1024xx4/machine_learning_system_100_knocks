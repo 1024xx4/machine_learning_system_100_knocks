{
 "cells": [
  {
   "cell_type": "markdown",
   "source": [
    "### Knock71: Directory 生成して Data 読み込みの準備をしよう\n",
    "まず初回に考えること => Directory 構造"
   ],
   "metadata": {
    "collapsed": false,
    "pycharm": {
     "name": "#%% md\n"
    }
   }
  },
  {
   "cell_type": "code",
   "execution_count": 1,
   "outputs": [],
   "source": [
    "# Directory 作成\n",
    "import os\n",
    "\n",
    "data_dir = 'data'\n",
    "input_dir = os.path.join(data_dir, '0_input')\n",
    "output_dir = os.path.join(data_dir, '1_output')\n",
    "master_dir = os.path.join(data_dir, '99_master')\n",
    "model_dir = 'models'\n",
    "\n",
    "os.makedirs(input_dir, exist_ok=True)\n",
    "os.makedirs(output_dir, exist_ok=True)\n",
    "os.makedirs(master_dir, exist_ok=True)\n",
    "os.makedirs(model_dir, exist_ok=True)"
   ],
   "metadata": {
    "collapsed": false,
    "pycharm": {
     "name": "#%%\n"
    }
   }
  },
  {
   "cell_type": "markdown",
   "source": [
    "### Knock72: 予測したい新規 Data を読み込もう"
   ],
   "metadata": {
    "collapsed": false,
    "pycharm": {
     "name": "#%% md\n"
    }
   }
  },
  {
   "cell_type": "code",
   "execution_count": 2,
   "outputs": [],
   "source": [
    "# Master data の読み込み\n",
    "import pandas as pd\n",
    "\n",
    "m_area_file = 'm_area.csv'\n",
    "m_store_file = 'm_store.csv'\n",
    "m_area = pd.read_csv(os.path.join(master_dir, m_area_file))\n",
    "m_store = pd.read_csv(os.path.join(master_dir, m_store_file))"
   ],
   "metadata": {
    "collapsed": false,
    "pycharm": {
     "name": "#%%\n"
    }
   }
  },
  {
   "cell_type": "markdown",
   "source": [
    "新規 Data の読み込みには、簡易的な **Data check 機構** を入れる。"
   ],
   "metadata": {
    "collapsed": false,
    "pycharm": {
     "name": "#%% md\n"
    }
   }
  },
  {
   "cell_type": "code",
   "execution_count": 3,
   "outputs": [
    {
     "name": "stdout",
     "output_type": "stream",
     "text": [
      "日付が一致しました\n"
     ]
    }
   ],
   "source": [
    "# Data check 機構を用いた新規 Data の読み込み\n",
    "tg_ym = '202003'\n",
    "target_file = 'tbl_order_' + tg_ym + '.csv'\n",
    "target_data = pd.read_csv(os.path.join(input_dir, target_file))\n",
    "\n",
    "import datetime\n",
    "\n",
    "max_date = pd.to_datetime(target_data['order_accept_date']).max()\n",
    "min_date = pd.to_datetime(target_data['order_accept_date']).min()\n",
    "max_str_date = max_date.strftime('%Y%m')\n",
    "min_str_date = min_date.strftime('%Y%m')\n",
    "\n",
    "if tg_ym == min_str_date and tg_ym == max_str_date:\n",
    "    print(\"日付が一致しました\")\n",
    "else:\n",
    "    raise Exception(\"日付が一致しません\")"
   ],
   "metadata": {
    "collapsed": false,
    "pycharm": {
     "name": "#%%\n"
    }
   }
  },
  {
   "cell_type": "markdown",
   "source": [
    "### Knock73: 新規 Data を店舗別で集計しよう\n",
    "- 機械学習で予測するためには、Model 構築時の説明変数 X の Data を加工する必要がある。\n",
    "- 新規 Data は未知な Data のため、目的変数の作成や紐づけは不要\n",
    "- まずは集計を行なう。"
   ],
   "metadata": {
    "collapsed": false,
    "pycharm": {
     "name": "#%% md\n"
    }
   }
  },
  {
   "cell_type": "code",
   "execution_count": 4,
   "outputs": [],
   "source": [
    "# 店舗別集計を行なうための関数\n",
    "def calc_delta(t):\n",
    "    t1, t2 = t\n",
    "    delta = t2 - t1\n",
    "    return delta.total_seconds() / 60\n",
    "\n",
    "\n",
    "def data_processing(order_data):\n",
    "    order_data = order_data.loc[order_data['store_id'] != 999]\n",
    "    order_data = pd.merge(order_data, m_store, on='store_id', how='left')\n",
    "    order_data = pd.merge(order_data, m_area, on='area_cd', how='left')\n",
    "    order_data.loc[order_data['takeout_flag'] == 0, 'takeout_name'] = 'デリバリー'\n",
    "    order_data.loc[order_data['takeout_flag'] == 1, 'takeout_name'] = 'お持ち帰り'\n",
    "    order_data.loc[order_data['status'] == 0, 'status_name'] = '受付'\n",
    "    order_data.loc[order_data['status'] == 1, 'status_name'] = 'お支払済'\n",
    "    order_data.loc[order_data['status'] == 2, 'status_name'] = 'お渡し済'\n",
    "    order_data.loc[order_data['status'] == 9, 'status_name'] = 'キャンセル'\n",
    "\n",
    "    order_data.loc[:, 'order_accept_datetime'] = pd.to_datetime(order_data['order_accept_date'])\n",
    "    order_data.loc[:, 'delivered_datetime'] = pd.to_datetime(order_data['delivered_date'])\n",
    "    order_data.loc[:, 'delta'] = order_data[['order_accept_datetime', 'delivered_datetime']].apply(calc_delta, axis=1)\n",
    "    order_data.loc[:, 'order_accept_hour'] = order_data['order_accept_datetime'].dt.hour\n",
    "    order_data.loc[:, 'order_accept_weekday'] = order_data['order_accept_datetime'].dt.weekday\n",
    "    order_data.loc[order_data['order_accept_weekday'] >= 5, 'weekday_info'] = '休日'\n",
    "    order_data.loc[order_data['order_accept_weekday'] < 5, 'weekday_info'] = '平日'\n",
    "\n",
    "    store_data = order_data.groupby(['store_name']).count()[['order_id']]\n",
    "    store_f = order_data.loc[\n",
    "        (order_data['status_name'] == 'お渡し済')\n",
    "        | (order_data['status_name'] == 'お支払済')\n",
    "        ].groupby(['store_name']).count()[['order_id']]\n",
    "    store_c = order_data.loc[order_data['status_name'] == 'キャンセル'].groupby(['store_name']).count()[['order_id']]\n",
    "    store_d = order_data.loc[order_data['takeout_name'] == 'デリバリー'].groupby(['store_name']).count()[['order_id']]\n",
    "    store_t = order_data.loc[order_data['takeout_name'] == 'お持ち帰り'].groupby(['store_name']).count()[['order_id']]\n",
    "    store_weekday = order_data.loc[order_data['weekday_info'] == '平日'].groupby(['store_name']).count()[['order_id']]\n",
    "    store_weekend = order_data.loc[order_data['weekday_info'] == '休日'].groupby(['store_name']).count()[['order_id']]\n",
    "\n",
    "    times = order_data['order_accept_hour'].unique()\n",
    "    store_time = []\n",
    "    for time in times:\n",
    "        time_tmp = order_data.loc[order_data['order_accept_hour'] == time].groupby(['store_name']).count()[['order_id']]\n",
    "        time_tmp.columns = [f\"order_time_{time}\"]\n",
    "        store_time.append(time_tmp)\n",
    "    store_time = pd.concat(store_time, axis=1)\n",
    "\n",
    "    store_delta = order_data.loc[order_data['status_name'] != 'キャンセル'].groupby(['store_name']).mean()[['delta']]\n",
    "\n",
    "    store_data.columns = ['order']\n",
    "    store_f.columns = ['order_fin']\n",
    "    store_c.columns = ['order_cancel']\n",
    "    store_d.columns = ['order_delivery']\n",
    "    store_t.columns = ['order_takeout']\n",
    "    store_delta.columns = ['delta_avg']\n",
    "    store_weekday.columns = ['order_weekday']\n",
    "    store_weekend.columns = ['order_weekend']\n",
    "    store_data = pd.concat(\n",
    "        [store_data, store_f, store_c, store_d, store_t, store_weekday, store_weekend, store_time, store_delta], axis=1)\n",
    "    return store_data"
   ],
   "metadata": {
    "collapsed": false,
    "pycharm": {
     "name": "#%%\n"
    }
   }
  },
  {
   "cell_type": "code",
   "execution_count": 5,
   "outputs": [],
   "source": [
    "# 店舗別集計関数の実行\n",
    "store_data = data_processing(target_data)\n",
    "store_data.reset_index(drop=False, inplace=True)\n",
    "actual_data = store_data.copy()"
   ],
   "metadata": {
    "collapsed": false,
    "pycharm": {
     "name": "#%%\n"
    }
   }
  },
  {
   "cell_type": "markdown",
   "source": [
    "### Knock74: 新規 Data の Categorical 変数対応をしよう\n",
    "One-hot-encoding"
   ],
   "metadata": {
    "collapsed": false,
    "pycharm": {
     "name": "#%% md\n"
    }
   }
  },
  {
   "cell_type": "code",
   "execution_count": 6,
   "outputs": [
    {
     "data": {
      "text/plain": "  store_name  order  order_fin  order_cancel  order_delivery  order_takeout  \\\n0      あきる野店   1186        958           228             858            328   \n1     さいたま南店   1553       1266           287            1145            408   \n2     さいたま緑店   1063        875           188             807            256   \n\n   order_weekday  order_weekend  order_time_11  order_time_12  ...  store_駒沢店  \\\n0            839            347            104            107  ...          0   \n1           1103            450            165            136  ...          0   \n2            754            309            113             82  ...          0   \n\n   store_駒込店  store_高円寺店  store_高島平店  store_高崎店  store_高座店  store_高津店  \\\n0          0           0           0          0          0          0   \n1          0           0           0          0          0          0   \n2          0           0           0          0          0          0   \n\n   store_高田馬場店  store_鴻巣店  store_鶴見店  \n0            0          0          0  \n1            0          0          0  \n2            0          0          0  \n\n[3 rows x 214 columns]",
      "text/html": "<div>\n<style scoped>\n    .dataframe tbody tr th:only-of-type {\n        vertical-align: middle;\n    }\n\n    .dataframe tbody tr th {\n        vertical-align: top;\n    }\n\n    .dataframe thead th {\n        text-align: right;\n    }\n</style>\n<table border=\"1\" class=\"dataframe\">\n  <thead>\n    <tr style=\"text-align: right;\">\n      <th></th>\n      <th>store_name</th>\n      <th>order</th>\n      <th>order_fin</th>\n      <th>order_cancel</th>\n      <th>order_delivery</th>\n      <th>order_takeout</th>\n      <th>order_weekday</th>\n      <th>order_weekend</th>\n      <th>order_time_11</th>\n      <th>order_time_12</th>\n      <th>...</th>\n      <th>store_駒沢店</th>\n      <th>store_駒込店</th>\n      <th>store_高円寺店</th>\n      <th>store_高島平店</th>\n      <th>store_高崎店</th>\n      <th>store_高座店</th>\n      <th>store_高津店</th>\n      <th>store_高田馬場店</th>\n      <th>store_鴻巣店</th>\n      <th>store_鶴見店</th>\n    </tr>\n  </thead>\n  <tbody>\n    <tr>\n      <th>0</th>\n      <td>あきる野店</td>\n      <td>1186</td>\n      <td>958</td>\n      <td>228</td>\n      <td>858</td>\n      <td>328</td>\n      <td>839</td>\n      <td>347</td>\n      <td>104</td>\n      <td>107</td>\n      <td>...</td>\n      <td>0</td>\n      <td>0</td>\n      <td>0</td>\n      <td>0</td>\n      <td>0</td>\n      <td>0</td>\n      <td>0</td>\n      <td>0</td>\n      <td>0</td>\n      <td>0</td>\n    </tr>\n    <tr>\n      <th>1</th>\n      <td>さいたま南店</td>\n      <td>1553</td>\n      <td>1266</td>\n      <td>287</td>\n      <td>1145</td>\n      <td>408</td>\n      <td>1103</td>\n      <td>450</td>\n      <td>165</td>\n      <td>136</td>\n      <td>...</td>\n      <td>0</td>\n      <td>0</td>\n      <td>0</td>\n      <td>0</td>\n      <td>0</td>\n      <td>0</td>\n      <td>0</td>\n      <td>0</td>\n      <td>0</td>\n      <td>0</td>\n    </tr>\n    <tr>\n      <th>2</th>\n      <td>さいたま緑店</td>\n      <td>1063</td>\n      <td>875</td>\n      <td>188</td>\n      <td>807</td>\n      <td>256</td>\n      <td>754</td>\n      <td>309</td>\n      <td>113</td>\n      <td>82</td>\n      <td>...</td>\n      <td>0</td>\n      <td>0</td>\n      <td>0</td>\n      <td>0</td>\n      <td>0</td>\n      <td>0</td>\n      <td>0</td>\n      <td>0</td>\n      <td>0</td>\n      <td>0</td>\n    </tr>\n  </tbody>\n</table>\n<p>3 rows × 214 columns</p>\n</div>"
     },
     "execution_count": 6,
     "metadata": {},
     "output_type": "execute_result"
    }
   ],
   "source": [
    "# Categorical 変数の対応\n",
    "category_data = pd.get_dummies(store_data['store_name'], prefix='store', prefix_sep='_')\n",
    "del category_data['store_麻生店']\n",
    "store_data = pd.concat([store_data, category_data], axis=1)\n",
    "store_data.head(3)"
   ],
   "metadata": {
    "collapsed": false,
    "pycharm": {
     "name": "#%%\n"
    }
   }
  },
  {
   "cell_type": "markdown",
   "source": [
    "### Model に投入する直前の形式に整えよう"
   ],
   "metadata": {
    "collapsed": false,
    "pycharm": {
     "name": "#%% md\n"
    }
   }
  },
  {
   "cell_type": "code",
   "execution_count": 7,
   "outputs": [],
   "source": [
    "# Model に使用した説明変数の読み込み\n",
    "X_cols_name = 'X_cols.csv'\n",
    "X_cols = pd.read_csv(os.path.join(model_dir, X_cols_name))\n",
    "X_cols = X_cols['X_cols']"
   ],
   "metadata": {
    "collapsed": false,
    "pycharm": {
     "name": "#%%\n"
    }
   }
  },
  {
   "cell_type": "code",
   "execution_count": 8,
   "outputs": [
    {
     "data": {
      "text/plain": "   order  order_fin  order_cancel  order_delivery  order_takeout  \\\n0   1186        958           228             858            328   \n1   1553       1266           287            1145            408   \n2   1063        875           188             807            256   \n\n   order_weekday  order_weekend  order_time_11  order_time_12  order_time_13  \\\n0            839            347            104            107            109   \n1           1103            450            165            136            140   \n2            754            309            113             82             79   \n\n   ...  store_駒沢店  store_駒込店  store_高円寺店  store_高島平店  store_高崎店  store_高座店  \\\n0  ...          0          0           0           0          0          0   \n1  ...          0          0           0           0          0          0   \n2  ...          0          0           0           0          0          0   \n\n   store_高津店  store_高田馬場店  store_鴻巣店  store_鶴見店  \n0          0            0          0          0  \n1          0            0          0          0  \n2          0            0          0          0  \n\n[3 rows x 213 columns]",
      "text/html": "<div>\n<style scoped>\n    .dataframe tbody tr th:only-of-type {\n        vertical-align: middle;\n    }\n\n    .dataframe tbody tr th {\n        vertical-align: top;\n    }\n\n    .dataframe thead th {\n        text-align: right;\n    }\n</style>\n<table border=\"1\" class=\"dataframe\">\n  <thead>\n    <tr style=\"text-align: right;\">\n      <th></th>\n      <th>order</th>\n      <th>order_fin</th>\n      <th>order_cancel</th>\n      <th>order_delivery</th>\n      <th>order_takeout</th>\n      <th>order_weekday</th>\n      <th>order_weekend</th>\n      <th>order_time_11</th>\n      <th>order_time_12</th>\n      <th>order_time_13</th>\n      <th>...</th>\n      <th>store_駒沢店</th>\n      <th>store_駒込店</th>\n      <th>store_高円寺店</th>\n      <th>store_高島平店</th>\n      <th>store_高崎店</th>\n      <th>store_高座店</th>\n      <th>store_高津店</th>\n      <th>store_高田馬場店</th>\n      <th>store_鴻巣店</th>\n      <th>store_鶴見店</th>\n    </tr>\n  </thead>\n  <tbody>\n    <tr>\n      <th>0</th>\n      <td>1186</td>\n      <td>958</td>\n      <td>228</td>\n      <td>858</td>\n      <td>328</td>\n      <td>839</td>\n      <td>347</td>\n      <td>104</td>\n      <td>107</td>\n      <td>109</td>\n      <td>...</td>\n      <td>0</td>\n      <td>0</td>\n      <td>0</td>\n      <td>0</td>\n      <td>0</td>\n      <td>0</td>\n      <td>0</td>\n      <td>0</td>\n      <td>0</td>\n      <td>0</td>\n    </tr>\n    <tr>\n      <th>1</th>\n      <td>1553</td>\n      <td>1266</td>\n      <td>287</td>\n      <td>1145</td>\n      <td>408</td>\n      <td>1103</td>\n      <td>450</td>\n      <td>165</td>\n      <td>136</td>\n      <td>140</td>\n      <td>...</td>\n      <td>0</td>\n      <td>0</td>\n      <td>0</td>\n      <td>0</td>\n      <td>0</td>\n      <td>0</td>\n      <td>0</td>\n      <td>0</td>\n      <td>0</td>\n      <td>0</td>\n    </tr>\n    <tr>\n      <th>2</th>\n      <td>1063</td>\n      <td>875</td>\n      <td>188</td>\n      <td>807</td>\n      <td>256</td>\n      <td>754</td>\n      <td>309</td>\n      <td>113</td>\n      <td>82</td>\n      <td>79</td>\n      <td>...</td>\n      <td>0</td>\n      <td>0</td>\n      <td>0</td>\n      <td>0</td>\n      <td>0</td>\n      <td>0</td>\n      <td>0</td>\n      <td>0</td>\n      <td>0</td>\n      <td>0</td>\n    </tr>\n  </tbody>\n</table>\n<p>3 rows × 213 columns</p>\n</div>"
     },
     "execution_count": 8,
     "metadata": {},
     "output_type": "execute_result"
    }
   ],
   "source": [
    "# 説明変数列への絞り込み\n",
    "X = store_data[X_cols].copy()\n",
    "X.head(3)"
   ],
   "metadata": {
    "collapsed": false,
    "pycharm": {
     "name": "#%%\n"
    }
   }
  },
  {
   "cell_type": "markdown",
   "source": [
    "説明変数の Data を準備しておき、Model 構築時にその Data を出力し、そこから絞り込みを行なうようにしておくと、もし Model の見直し等で説明変数が変わっても、ある程度対応が可能となる。"
   ],
   "metadata": {
    "collapsed": false,
    "pycharm": {
     "name": "#%% md\n"
    }
   }
  },
  {
   "cell_type": "markdown",
   "source": [
    "### Knock76: Model File を読み込んでみよう"
   ],
   "metadata": {
    "collapsed": false,
    "pycharm": {
     "name": "#%% md\n"
    }
   }
  },
  {
   "cell_type": "code",
   "execution_count": 9,
   "outputs": [
    {
     "name": "stdout",
     "output_type": "stream",
     "text": [
      "GradientBoostingClassifier(random_state=0)\n",
      "GradientBoostingClassifier(random_state=0)\n"
     ]
    }
   ],
   "source": [
    "# Model File の読み込み\n",
    "import pickle\n",
    "\n",
    "model_weekday_name = 'model_y_weekday_GradientBoosting.pickle'\n",
    "model_weekend_name = 'model_y_weekend_GradientBoosting.pickle'\n",
    "\n",
    "model_weekday_path = os.path.join(model_dir, model_weekday_name)\n",
    "model_weekend_path = os.path.join(model_dir, model_weekend_name)\n",
    "\n",
    "with open(model_weekday_path, mode='rb') as f:\n",
    "    model_weekday = pickle.load(f)\n",
    "\n",
    "with open(model_weekend_path, mode='rb') as f:\n",
    "    model_weekend = pickle.load(f)\n",
    "\n",
    "print(model_weekday)\n",
    "print(model_weekend)"
   ],
   "metadata": {
    "collapsed": false,
    "pycharm": {
     "name": "#%%\n"
    }
   }
  },
  {
   "cell_type": "markdown",
   "source": [
    "定義した Model を print で出力すると Model 構築を行なった際の Parameter 情報が出力される。"
   ],
   "metadata": {
    "collapsed": false,
    "pycharm": {
     "name": "#%% md\n"
    }
   }
  },
  {
   "cell_type": "markdown",
   "source": [
    "### Knock77: 新規 Data を予測してみよう"
   ],
   "metadata": {
    "collapsed": false,
    "pycharm": {
     "name": "#%% md\n"
    }
   }
  },
  {
   "cell_type": "code",
   "execution_count": 10,
   "outputs": [
    {
     "data": {
      "text/plain": "array([0., 0., 0., 0., 0., 0., 0., 0., 1., 0.])"
     },
     "execution_count": 10,
     "metadata": {},
     "output_type": "execute_result"
    }
   ],
   "source": [
    "# 予測結果の出力\n",
    "pred_weekdary = model_weekday.predict(X)\n",
    "pred_weekend = model_weekend.predict(X)\n",
    "pred_weekend[:10]"
   ],
   "metadata": {
    "collapsed": false,
    "pycharm": {
     "name": "#%%\n"
    }
   }
  },
  {
   "cell_type": "markdown",
   "source": [
    "`predict_proba()` を用いると確率を表示できる。"
   ],
   "metadata": {
    "collapsed": false,
    "pycharm": {
     "name": "#%% md\n"
    }
   }
  },
  {
   "cell_type": "code",
   "execution_count": 11,
   "outputs": [
    {
     "data": {
      "text/plain": "array([[0.71866699, 0.28133301],\n       [0.61231504, 0.38768496],\n       [0.53604944, 0.46395056],\n       [0.77746324, 0.22253676],\n       [0.59048016, 0.40951984],\n       [0.80779612, 0.19220388],\n       [0.79061865, 0.20938135],\n       [0.70969261, 0.29030739],\n       [0.36925277, 0.63074723],\n       [0.84098724, 0.15901276]])"
     },
     "execution_count": 11,
     "metadata": {},
     "output_type": "execute_result"
    }
   ],
   "source": [
    "# 予測確率の出力\n",
    "pred_proba_weekday = model_weekday.predict_proba(X)\n",
    "pred_proba_weekend = model_weekend.predict_proba(X)\n",
    "pred_proba_weekend[:10]"
   ],
   "metadata": {
    "collapsed": false,
    "pycharm": {
     "name": "#%%\n"
    }
   }
  },
  {
   "cell_type": "markdown",
   "source": [
    "- 左側は 0 と予測している確率、右側は 1 と予測している確率で、足すと 1 になる。\n",
    "- `predict()` は、この確率が 0.5 を超えている方を出力している。"
   ],
   "metadata": {
    "collapsed": false,
    "pycharm": {
     "name": "#%% md\n"
    }
   }
  },
  {
   "cell_type": "code",
   "execution_count": 12,
   "outputs": [
    {
     "data": {
      "text/plain": "array([0.28133301, 0.38768496, 0.46395056, 0.22253676, 0.40951984,\n       0.19220388, 0.20938135, 0.29030739, 0.63074723, 0.15901276])"
     },
     "execution_count": 12,
     "metadata": {},
     "output_type": "execute_result"
    }
   ],
   "source": [
    "# 予測確率の出力（ 1 のみ)\n",
    "pred_proba_weekday = pred_proba_weekday[:, 1]\n",
    "pred_proba_weekend = pred_proba_weekend[:, 1]\n",
    "pred_proba_weekend[:10]"
   ],
   "metadata": {
    "collapsed": false,
    "pycharm": {
     "name": "#%%\n"
    }
   }
  },
  {
   "cell_type": "markdown",
   "source": [
    "こうすることで 1 である（目的変数が増加する）確率として細かく閾値等を設定することが可能になる。"
   ],
   "metadata": {
    "collapsed": false,
    "pycharm": {
     "name": "#%% md\n"
    }
   }
  },
  {
   "cell_type": "code",
   "execution_count": 13,
   "outputs": [
    {
     "data": {
      "text/plain": "   pred_weekday  pred_weekend  score_weekday  score_weekend store_name  \\\n0           1.0           0.0       0.769104       0.281333      あきる野店   \n1           1.0           0.0       0.677146       0.387685     さいたま南店   \n2           1.0           0.0       0.842885       0.463951     さいたま緑店   \n\n  year_month  \n0     202003  \n1     202003  \n2     202003  ",
      "text/html": "<div>\n<style scoped>\n    .dataframe tbody tr th:only-of-type {\n        vertical-align: middle;\n    }\n\n    .dataframe tbody tr th {\n        vertical-align: top;\n    }\n\n    .dataframe thead th {\n        text-align: right;\n    }\n</style>\n<table border=\"1\" class=\"dataframe\">\n  <thead>\n    <tr style=\"text-align: right;\">\n      <th></th>\n      <th>pred_weekday</th>\n      <th>pred_weekend</th>\n      <th>score_weekday</th>\n      <th>score_weekend</th>\n      <th>store_name</th>\n      <th>year_month</th>\n    </tr>\n  </thead>\n  <tbody>\n    <tr>\n      <th>0</th>\n      <td>1.0</td>\n      <td>0.0</td>\n      <td>0.769104</td>\n      <td>0.281333</td>\n      <td>あきる野店</td>\n      <td>202003</td>\n    </tr>\n    <tr>\n      <th>1</th>\n      <td>1.0</td>\n      <td>0.0</td>\n      <td>0.677146</td>\n      <td>0.387685</td>\n      <td>さいたま南店</td>\n      <td>202003</td>\n    </tr>\n    <tr>\n      <th>2</th>\n      <td>1.0</td>\n      <td>0.0</td>\n      <td>0.842885</td>\n      <td>0.463951</td>\n      <td>さいたま緑店</td>\n      <td>202003</td>\n    </tr>\n  </tbody>\n</table>\n</div>"
     },
     "execution_count": 13,
     "metadata": {},
     "output_type": "execute_result"
    }
   ],
   "source": [
    "# 予測結果や確率の Data 化\n",
    "pred = pd.DataFrame({'pred_weekday': pred_weekdary, 'pred_weekend': pred_weekend, 'score_weekday': pred_proba_weekday,\n",
    "                     'score_weekend': pred_proba_weekend})\n",
    "pred.loc[:, 'store_name'] = store_data['store_name']  # 機械学習 Model による予測前と予測結果の Data の順番が違う場合は使用不可\n",
    "pred.loc[:, 'year_month'] = tg_ym\n",
    "pred.head(3)"
   ],
   "metadata": {
    "collapsed": false,
    "pycharm": {
     "name": "#%%\n"
    }
   }
  },
  {
   "cell_type": "markdown",
   "source": [
    "### Knock78: 予測結果の Heatmap を作成してみよう\n",
    "確率を取得したので、Heatmap で確認する。"
   ],
   "metadata": {
    "collapsed": false,
    "pycharm": {
     "name": "#%% md\n"
    }
   }
  },
  {
   "cell_type": "code",
   "execution_count": 14,
   "outputs": [
    {
     "data": {
      "text/plain": "            score_weekday  score_weekend\nstore_name                              \nあきる野店            0.769104       0.281333\nさいたま南店           0.677146       0.387685\nさいたま緑店           0.842885       0.463951\nさいたま西店           0.690989       0.222537\nつくば店             0.718913       0.409520\n...                   ...            ...\n高津店              0.859683       0.328371\n高田馬場店            0.602432       0.518836\n鴻巣店              0.748131       0.318636\n鶴見店              0.853120       0.315576\n麻生店              0.630034       0.371484\n\n[195 rows x 2 columns]",
      "text/html": "<div>\n<style scoped>\n    .dataframe tbody tr th:only-of-type {\n        vertical-align: middle;\n    }\n\n    .dataframe tbody tr th {\n        vertical-align: top;\n    }\n\n    .dataframe thead th {\n        text-align: right;\n    }\n</style>\n<table border=\"1\" class=\"dataframe\">\n  <thead>\n    <tr style=\"text-align: right;\">\n      <th></th>\n      <th>score_weekday</th>\n      <th>score_weekend</th>\n    </tr>\n    <tr>\n      <th>store_name</th>\n      <th></th>\n      <th></th>\n    </tr>\n  </thead>\n  <tbody>\n    <tr>\n      <th>あきる野店</th>\n      <td>0.769104</td>\n      <td>0.281333</td>\n    </tr>\n    <tr>\n      <th>さいたま南店</th>\n      <td>0.677146</td>\n      <td>0.387685</td>\n    </tr>\n    <tr>\n      <th>さいたま緑店</th>\n      <td>0.842885</td>\n      <td>0.463951</td>\n    </tr>\n    <tr>\n      <th>さいたま西店</th>\n      <td>0.690989</td>\n      <td>0.222537</td>\n    </tr>\n    <tr>\n      <th>つくば店</th>\n      <td>0.718913</td>\n      <td>0.409520</td>\n    </tr>\n    <tr>\n      <th>...</th>\n      <td>...</td>\n      <td>...</td>\n    </tr>\n    <tr>\n      <th>高津店</th>\n      <td>0.859683</td>\n      <td>0.328371</td>\n    </tr>\n    <tr>\n      <th>高田馬場店</th>\n      <td>0.602432</td>\n      <td>0.518836</td>\n    </tr>\n    <tr>\n      <th>鴻巣店</th>\n      <td>0.748131</td>\n      <td>0.318636</td>\n    </tr>\n    <tr>\n      <th>鶴見店</th>\n      <td>0.853120</td>\n      <td>0.315576</td>\n    </tr>\n    <tr>\n      <th>麻生店</th>\n      <td>0.630034</td>\n      <td>0.371484</td>\n    </tr>\n  </tbody>\n</table>\n<p>195 rows × 2 columns</p>\n</div>"
     },
     "execution_count": 14,
     "metadata": {},
     "output_type": "execute_result"
    }
   ],
   "source": [
    "# Heatmap 用 Data の作成\n",
    "pred_viz = pred[['store_name', 'score_weekday', 'score_weekend']].copy()\n",
    "pred_viz.set_index('store_name', inplace=True)\n",
    "pred_viz"
   ],
   "metadata": {
    "collapsed": false,
    "pycharm": {
     "name": "#%%\n"
    }
   }
  },
  {
   "cell_type": "markdown",
   "source": [
    "`seaborn` Libray を用いて Heatmap を作成。\n",
    "Data が多すぎるとつぶれてしまう為、注意"
   ],
   "metadata": {
    "collapsed": false,
    "pycharm": {
     "name": "#%% md\n"
    }
   }
  },
  {
   "cell_type": "code",
   "execution_count": 15,
   "outputs": [
    {
     "name": "stderr",
     "output_type": "stream",
     "text": [
      "C:\\Users\\leone\\dsLab\\machine_learning_system_100_knocks\\.venv\\lib\\site-packages\\japanize_matplotlib\\japanize_matplotlib.py:15: MatplotlibDeprecationWarning: \n",
      "The createFontList function was deprecated in Matplotlib 3.2 and will be removed two minor releases later. Use FontManager.addfont instead.\n",
      "  font_list = font_manager.createFontList(font_files)\n"
     ]
    },
    {
     "data": {
      "text/plain": "<AxesSubplot:xlabel='store_name'>"
     },
     "execution_count": 15,
     "metadata": {},
     "output_type": "execute_result"
    },
    {
     "data": {
      "text/plain": "<Figure size 432x288 with 2 Axes>",
      "image/png": "[encoded data removed]"
     },
     "metadata": {},
     "output_type": "display_data"
    }
   ],
   "source": [
    "# Heatmap\n",
    "import seaborn as sns\n",
    "import japanize_matplotlib\n",
    "import warnings\n",
    "\n",
    "warnings.filterwarnings('ignore')\n",
    "japanize_matplotlib.japanize()\n",
    "sns.heatmap(pred_viz[:20].T)"
   ],
   "metadata": {
    "collapsed": false,
    "pycharm": {
     "name": "#%%\n"
    }
   }
  },
  {
   "cell_type": "markdown",
   "source": [
    "### Knock79: 実績 Data を作成しよう\n",
    "機械学習の予測結果を Report で渡しても Score が羅列されているだけで元の状態はどういう状況だったのか頭を悩ますことが推測される。\n",
    "実績 Data を作成し Report に付与すると良い。"
   ],
   "metadata": {
    "collapsed": false,
    "pycharm": {
     "name": "#%% md\n"
    }
   }
  },
  {
   "cell_type": "code",
   "execution_count": 16,
   "outputs": [
    {
     "data": {
      "text/plain": "  store_name  order_202003  order_fin_202003  order_cancel_202003  \\\n0      あきる野店          1186               958                  228   \n1     さいたま南店          1553              1266                  287   \n2     さいたま緑店          1063               875                  188   \n\n   order_delivery_202003  order_takeout_202003  order_weekday_202003  \\\n0                    858                   328                   839   \n1                   1145                   408                  1103   \n2                    807                   256                   754   \n\n   order_weekend_202003  delta_avg_202003  \n0                   347         35.204593  \n1                   450         35.259084  \n2                   309         35.268571  ",
      "text/html": "<div>\n<style scoped>\n    .dataframe tbody tr th:only-of-type {\n        vertical-align: middle;\n    }\n\n    .dataframe tbody tr th {\n        vertical-align: top;\n    }\n\n    .dataframe thead th {\n        text-align: right;\n    }\n</style>\n<table border=\"1\" class=\"dataframe\">\n  <thead>\n    <tr style=\"text-align: right;\">\n      <th></th>\n      <th>store_name</th>\n      <th>order_202003</th>\n      <th>order_fin_202003</th>\n      <th>order_cancel_202003</th>\n      <th>order_delivery_202003</th>\n      <th>order_takeout_202003</th>\n      <th>order_weekday_202003</th>\n      <th>order_weekend_202003</th>\n      <th>delta_avg_202003</th>\n    </tr>\n  </thead>\n  <tbody>\n    <tr>\n      <th>0</th>\n      <td>あきる野店</td>\n      <td>1186</td>\n      <td>958</td>\n      <td>228</td>\n      <td>858</td>\n      <td>328</td>\n      <td>839</td>\n      <td>347</td>\n      <td>35.204593</td>\n    </tr>\n    <tr>\n      <th>1</th>\n      <td>さいたま南店</td>\n      <td>1553</td>\n      <td>1266</td>\n      <td>287</td>\n      <td>1145</td>\n      <td>408</td>\n      <td>1103</td>\n      <td>450</td>\n      <td>35.259084</td>\n    </tr>\n    <tr>\n      <th>2</th>\n      <td>さいたま緑店</td>\n      <td>1063</td>\n      <td>875</td>\n      <td>188</td>\n      <td>807</td>\n      <td>256</td>\n      <td>754</td>\n      <td>309</td>\n      <td>35.268571</td>\n    </tr>\n  </tbody>\n</table>\n</div>"
     },
     "execution_count": 16,
     "metadata": {},
     "output_type": "execute_result"
    }
   ],
   "source": [
    "# 実績 Data の作成\n",
    "target_cols = ['store_name', 'order', 'order_fin', 'order_cancel', 'order_delivery', 'order_takeout', 'order_weekday',\n",
    "               'order_weekend', 'delta_avg']\n",
    "actual_data = actual_data[target_cols]\n",
    "actual_cols = ['store_name']\n",
    "rename_cols = [x + f\"_{tg_ym}\" for x in actual_data.columns if x != 'store_name']\n",
    "actual_cols.extend(rename_cols)\n",
    "actual_data.columns = actual_cols\n",
    "actual_data.head(3)"
   ],
   "metadata": {
    "collapsed": false,
    "pycharm": {
     "name": "#%%\n"
    }
   }
  },
  {
   "cell_type": "markdown",
   "source": [
    "### Knock80: 現場に向けた Report を作成し出力しよう"
   ],
   "metadata": {
    "collapsed": false,
    "pycharm": {
     "name": "#%% md\n"
    }
   }
  },
  {
   "cell_type": "code",
   "execution_count": 17,
   "outputs": [],
   "source": [
    "# score の簡易化\n",
    "pred.loc[pred['score_weekday'] >= 0.75, 'オーダー予測 平日'] = '増加大'\n",
    "pred.loc[(pred['score_weekday'] < 0.75) & (pred['score_weekday'] >= 0.5), 'オーダー予測 平日'] = '増加'\n",
    "pred.loc[(pred['score_weekday'] < 0.5) & (pred['score_weekday'] >= 0.25), 'オーダー予測 平日'] = '減少'\n",
    "pred.loc[pred['score_weekday'] < 0.25, 'オーダー予測 平日'] = '減少大'\n",
    "\n",
    "pred.loc[pred['score_weekend'] >= 0.75, 'オーダー予測 休日'] = '増加大'\n",
    "pred.loc[(pred['score_weekend'] < 0.75) & (pred['score_weekday'] >= 0.5), 'オーダー予測 休日'] = '増加'\n",
    "pred.loc[(pred['score_weekend'] < 0.5) & (pred['score_weekday'] >= 0.25), 'オーダー予測 休日'] = '減少'\n",
    "pred.loc[pred['score_weekend'] < 0.25, 'オーダー予測 休日'] = '減少大'"
   ],
   "metadata": {
    "collapsed": false,
    "pycharm": {
     "name": "#%%\n"
    }
   }
  },
  {
   "cell_type": "code",
   "execution_count": 18,
   "outputs": [
    {
     "data": {
      "text/plain": "  store_name オーダー予測 平日 オーダー予測 休日  score_weekday  score_weekend  order_202003  \\\n0      あきる野店       増加大        減少       0.769104       0.281333          1186   \n1     さいたま南店        増加        減少       0.677146       0.387685          1553   \n2     さいたま緑店       増加大        減少       0.842885       0.463951          1063   \n\n   order_fin_202003  order_cancel_202003  order_delivery_202003  \\\n0               958                  228                    858   \n1              1266                  287                   1145   \n2               875                  188                    807   \n\n   order_takeout_202003  order_weekday_202003  order_weekend_202003  \\\n0                   328                   839                   347   \n1                   408                  1103                   450   \n2                   256                   754                   309   \n\n   delta_avg_202003  \n0         35.204593  \n1         35.259084  \n2         35.268571  ",
      "text/html": "<div>\n<style scoped>\n    .dataframe tbody tr th:only-of-type {\n        vertical-align: middle;\n    }\n\n    .dataframe tbody tr th {\n        vertical-align: top;\n    }\n\n    .dataframe thead th {\n        text-align: right;\n    }\n</style>\n<table border=\"1\" class=\"dataframe\">\n  <thead>\n    <tr style=\"text-align: right;\">\n      <th></th>\n      <th>store_name</th>\n      <th>オーダー予測 平日</th>\n      <th>オーダー予測 休日</th>\n      <th>score_weekday</th>\n      <th>score_weekend</th>\n      <th>order_202003</th>\n      <th>order_fin_202003</th>\n      <th>order_cancel_202003</th>\n      <th>order_delivery_202003</th>\n      <th>order_takeout_202003</th>\n      <th>order_weekday_202003</th>\n      <th>order_weekend_202003</th>\n      <th>delta_avg_202003</th>\n    </tr>\n  </thead>\n  <tbody>\n    <tr>\n      <th>0</th>\n      <td>あきる野店</td>\n      <td>増加大</td>\n      <td>減少</td>\n      <td>0.769104</td>\n      <td>0.281333</td>\n      <td>1186</td>\n      <td>958</td>\n      <td>228</td>\n      <td>858</td>\n      <td>328</td>\n      <td>839</td>\n      <td>347</td>\n      <td>35.204593</td>\n    </tr>\n    <tr>\n      <th>1</th>\n      <td>さいたま南店</td>\n      <td>増加</td>\n      <td>減少</td>\n      <td>0.677146</td>\n      <td>0.387685</td>\n      <td>1553</td>\n      <td>1266</td>\n      <td>287</td>\n      <td>1145</td>\n      <td>408</td>\n      <td>1103</td>\n      <td>450</td>\n      <td>35.259084</td>\n    </tr>\n    <tr>\n      <th>2</th>\n      <td>さいたま緑店</td>\n      <td>増加大</td>\n      <td>減少</td>\n      <td>0.842885</td>\n      <td>0.463951</td>\n      <td>1063</td>\n      <td>875</td>\n      <td>188</td>\n      <td>807</td>\n      <td>256</td>\n      <td>754</td>\n      <td>309</td>\n      <td>35.268571</td>\n    </tr>\n  </tbody>\n</table>\n</div>"
     },
     "execution_count": 18,
     "metadata": {},
     "output_type": "execute_result"
    }
   ],
   "source": [
    "# 実績 Data の結合\n",
    "report = pred[['store_name', 'オーダー予測 平日', 'オーダー予測 休日', 'score_weekday', 'score_weekend']]\n",
    "report = pd.merge(report, actual_data, on='store_name', how='left')\n",
    "report.head(3)"
   ],
   "metadata": {
    "collapsed": false,
    "pycharm": {
     "name": "#%%\n"
    }
   }
  },
  {
   "cell_type": "markdown",
   "source": [
    "Report は、左から重要な情報を確認できるようにしていき、予測と実績も併せて詳細が確認できるような導線を作ると良い。"
   ],
   "metadata": {
    "collapsed": false,
    "pycharm": {
     "name": "#%% md\n"
    }
   }
  },
  {
   "cell_type": "code",
   "execution_count": 19,
   "outputs": [],
   "source": [
    "# 現場向け Report の出力\n",
    "pred_ym = datetime.datetime.strptime(tg_ym, '%Y%m')\n",
    "from dateutil.relativedelta import relativedelta\n",
    "\n",
    "pred_ym = pred_ym + relativedelta(months=1)\n",
    "pred_ym = datetime.datetime.strftime(pred_ym, '%Y%m')\n",
    "\n",
    "report_name = f\"report_pred_{pred_ym}.xlsx\"\n",
    "report.to_excel(os.path.join(output_dir, report_name), index=False)"
   ],
   "metadata": {
    "collapsed": false,
    "pycharm": {
     "name": "#%%\n"
    }
   }
  },
  {
   "cell_type": "markdown",
   "source": [
    "- 新規 Data を予測する上でも、Data の加工は必要となる。\n",
    "- Data 加工から Model による予測まで一連の流れを構築しておくことで、更新 Data に対応する。"
   ],
   "metadata": {
    "collapsed": false,
    "pycharm": {
     "name": "#%% md\n"
    }
   }
  }
 ],
 "metadata": {
  "kernelspec": {
   "display_name": "Python 3",
   "language": "python",
   "name": "python3"
  },
  "language_info": {
   "codemirror_mode": {
    "name": "ipython",
    "version": 2
   },
   "file_extension": ".py",
   "mimetype": "text/x-python",
   "name": "python",
   "nbconvert_exporter": "python",
   "pygments_lexer": "ipython2",
   "version": "2.7.6"
  }
 },
 "nbformat": 4,
 "nbformat_minor": 0
}