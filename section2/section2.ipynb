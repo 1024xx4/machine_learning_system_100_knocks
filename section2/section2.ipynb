{
 "cells": [
  {
   "cell_type": "markdown",
   "source": [
    "### Knock11: Data を読み込んで不要なものを除外しよう"
   ],
   "metadata": {
    "collapsed": false,
    "pycharm": {
     "name": "#%% md\n"
    }
   }
  },
  {
   "cell_type": "code",
   "execution_count": 1,
   "outputs": [
    {
     "name": "stdout",
     "output_type": "stream",
     "text": [
      "703880\n"
     ]
    },
    {
     "data": {
      "text/plain": "   order_id  store_id customer_id  coupon_cd  sales_detail_id  \\\n0  79339111        49   C26387220         50         67393872   \n1  18941733        85   C48773811         26         91834983   \n2  56217880        76   C66287421         36         64409634   \n3  28447783       190   C41156423         19         73032165   \n4  32576156       191   C54568117         71         23281182   \n\n     order_accept_date       delivered_date  takeout_flag  total_amount  \\\n0  2020-04-01 11:00:00  2020-04-01 11:18:00             1          4144   \n1  2020-04-01 11:00:00  2020-04-01 11:22:00             0          2877   \n2  2020-04-01 11:00:00  2020-04-01 11:15:00             0          2603   \n3  2020-04-01 11:00:00  2020-04-01 11:16:00             0          2732   \n4  2020-04-01 11:00:00  2020-04-01 11:53:00             0          2987   \n\n   status store_name area_cd wide_area narrow_area takeout_name status_name  \n0       1        浅草店      TK        東京          東京        お持ち帰り        お支払済  \n1       2        目黒店      TK        東京          東京        デリバリー        お渡し済  \n2       2        本郷店      TK        東京          東京        デリバリー        お渡し済  \n3       2        栃木店      TO       北関東          栃木        デリバリー        お渡し済  \n4       2       伊勢崎店      GU       北関東          群馬        デリバリー        お渡し済  ",
      "text/html": "<div>\n<style scoped>\n    .dataframe tbody tr th:only-of-type {\n        vertical-align: middle;\n    }\n\n    .dataframe tbody tr th {\n        vertical-align: top;\n    }\n\n    .dataframe thead th {\n        text-align: right;\n    }\n</style>\n<table border=\"1\" class=\"dataframe\">\n  <thead>\n    <tr style=\"text-align: right;\">\n      <th></th>\n      <th>order_id</th>\n      <th>store_id</th>\n      <th>customer_id</th>\n      <th>coupon_cd</th>\n      <th>sales_detail_id</th>\n      <th>order_accept_date</th>\n      <th>delivered_date</th>\n      <th>takeout_flag</th>\n      <th>total_amount</th>\n      <th>status</th>\n      <th>store_name</th>\n      <th>area_cd</th>\n      <th>wide_area</th>\n      <th>narrow_area</th>\n      <th>takeout_name</th>\n      <th>status_name</th>\n    </tr>\n  </thead>\n  <tbody>\n    <tr>\n      <th>0</th>\n      <td>79339111</td>\n      <td>49</td>\n      <td>C26387220</td>\n      <td>50</td>\n      <td>67393872</td>\n      <td>2020-04-01 11:00:00</td>\n      <td>2020-04-01 11:18:00</td>\n      <td>1</td>\n      <td>4144</td>\n      <td>1</td>\n      <td>浅草店</td>\n      <td>TK</td>\n      <td>東京</td>\n      <td>東京</td>\n      <td>お持ち帰り</td>\n      <td>お支払済</td>\n    </tr>\n    <tr>\n      <th>1</th>\n      <td>18941733</td>\n      <td>85</td>\n      <td>C48773811</td>\n      <td>26</td>\n      <td>91834983</td>\n      <td>2020-04-01 11:00:00</td>\n      <td>2020-04-01 11:22:00</td>\n      <td>0</td>\n      <td>2877</td>\n      <td>2</td>\n      <td>目黒店</td>\n      <td>TK</td>\n      <td>東京</td>\n      <td>東京</td>\n      <td>デリバリー</td>\n      <td>お渡し済</td>\n    </tr>\n    <tr>\n      <th>2</th>\n      <td>56217880</td>\n      <td>76</td>\n      <td>C66287421</td>\n      <td>36</td>\n      <td>64409634</td>\n      <td>2020-04-01 11:00:00</td>\n      <td>2020-04-01 11:15:00</td>\n      <td>0</td>\n      <td>2603</td>\n      <td>2</td>\n      <td>本郷店</td>\n      <td>TK</td>\n      <td>東京</td>\n      <td>東京</td>\n      <td>デリバリー</td>\n      <td>お渡し済</td>\n    </tr>\n    <tr>\n      <th>3</th>\n      <td>28447783</td>\n      <td>190</td>\n      <td>C41156423</td>\n      <td>19</td>\n      <td>73032165</td>\n      <td>2020-04-01 11:00:00</td>\n      <td>2020-04-01 11:16:00</td>\n      <td>0</td>\n      <td>2732</td>\n      <td>2</td>\n      <td>栃木店</td>\n      <td>TO</td>\n      <td>北関東</td>\n      <td>栃木</td>\n      <td>デリバリー</td>\n      <td>お渡し済</td>\n    </tr>\n    <tr>\n      <th>4</th>\n      <td>32576156</td>\n      <td>191</td>\n      <td>C54568117</td>\n      <td>71</td>\n      <td>23281182</td>\n      <td>2020-04-01 11:00:00</td>\n      <td>2020-04-01 11:53:00</td>\n      <td>0</td>\n      <td>2987</td>\n      <td>2</td>\n      <td>伊勢崎店</td>\n      <td>GU</td>\n      <td>北関東</td>\n      <td>群馬</td>\n      <td>デリバリー</td>\n      <td>お渡し済</td>\n    </tr>\n  </tbody>\n</table>\n</div>"
     },
     "execution_count": 1,
     "metadata": {},
     "output_type": "execute_result"
    }
   ],
   "source": [
    "# 注文 Data を読み込み中身を確認\n",
    "import pandas as pd\n",
    "\n",
    "order_data = pd.read_csv('order_data.csv')\n",
    "print(order_data.shape[0])\n",
    "order_data.head()"
   ],
   "metadata": {
    "collapsed": false,
    "pycharm": {
     "name": "#%%\n"
    }
   }
  },
  {
   "cell_type": "code",
   "execution_count": 2,
   "outputs": [
    {
     "name": "stdout",
     "output_type": "stream",
     "text": [
      "574436\n"
     ]
    },
    {
     "data": {
      "text/plain": "Index(['order_id', 'store_id', 'customer_id', 'coupon_cd', 'sales_detail_id',\n       'order_accept_date', 'delivered_date', 'takeout_flag', 'total_amount',\n       'status', 'store_name', 'area_cd', 'wide_area', 'narrow_area',\n       'takeout_name', 'status_name'],\n      dtype='object')"
     },
     "execution_count": 2,
     "metadata": {},
     "output_type": "execute_result"
    }
   ],
   "source": [
    "# 今回の分析で必要ない Data を除外\n",
    "order_data = order_data.loc[\n",
    "    (order_data['status'] == 1)\n",
    "    | (order_data['status'] == 2)\n",
    "    ]\n",
    "print(order_data.shape[0])\n",
    "order_data.columns"
   ],
   "metadata": {
    "collapsed": false,
    "pycharm": {
     "name": "#%%\n"
    }
   }
  },
  {
   "cell_type": "markdown",
   "source": [
    "金額が Main の分析対象になるため、受付(status=0), キャンセル(status=9)は、除外"
   ],
   "metadata": {
    "collapsed": false,
    "pycharm": {
     "name": "#%% md\n"
    }
   }
  },
  {
   "cell_type": "code",
   "execution_count": 3,
   "outputs": [
    {
     "name": "stdout",
     "output_type": "stream",
     "text": [
      "(574436, 11)\n"
     ]
    },
    {
     "data": {
      "text/plain": "   store_id customer_id  coupon_cd    order_accept_date       delivered_date  \\\n0        49   C26387220         50  2020-04-01 11:00:00  2020-04-01 11:18:00   \n1        85   C48773811         26  2020-04-01 11:00:00  2020-04-01 11:22:00   \n2        76   C66287421         36  2020-04-01 11:00:00  2020-04-01 11:15:00   \n3       190   C41156423         19  2020-04-01 11:00:00  2020-04-01 11:16:00   \n4       191   C54568117         71  2020-04-01 11:00:00  2020-04-01 11:53:00   \n\n   total_amount store_name wide_area narrow_area takeout_name status_name  \n0          4144        浅草店        東京          東京        お持ち帰り        お支払済  \n1          2877        目黒店        東京          東京        デリバリー        お渡し済  \n2          2603        本郷店        東京          東京        デリバリー        お渡し済  \n3          2732        栃木店       北関東          栃木        デリバリー        お渡し済  \n4          2987       伊勢崎店       北関東          群馬        デリバリー        お渡し済  ",
      "text/html": "<div>\n<style scoped>\n    .dataframe tbody tr th:only-of-type {\n        vertical-align: middle;\n    }\n\n    .dataframe tbody tr th {\n        vertical-align: top;\n    }\n\n    .dataframe thead th {\n        text-align: right;\n    }\n</style>\n<table border=\"1\" class=\"dataframe\">\n  <thead>\n    <tr style=\"text-align: right;\">\n      <th></th>\n      <th>store_id</th>\n      <th>customer_id</th>\n      <th>coupon_cd</th>\n      <th>order_accept_date</th>\n      <th>delivered_date</th>\n      <th>total_amount</th>\n      <th>store_name</th>\n      <th>wide_area</th>\n      <th>narrow_area</th>\n      <th>takeout_name</th>\n      <th>status_name</th>\n    </tr>\n  </thead>\n  <tbody>\n    <tr>\n      <th>0</th>\n      <td>49</td>\n      <td>C26387220</td>\n      <td>50</td>\n      <td>2020-04-01 11:00:00</td>\n      <td>2020-04-01 11:18:00</td>\n      <td>4144</td>\n      <td>浅草店</td>\n      <td>東京</td>\n      <td>東京</td>\n      <td>お持ち帰り</td>\n      <td>お支払済</td>\n    </tr>\n    <tr>\n      <th>1</th>\n      <td>85</td>\n      <td>C48773811</td>\n      <td>26</td>\n      <td>2020-04-01 11:00:00</td>\n      <td>2020-04-01 11:22:00</td>\n      <td>2877</td>\n      <td>目黒店</td>\n      <td>東京</td>\n      <td>東京</td>\n      <td>デリバリー</td>\n      <td>お渡し済</td>\n    </tr>\n    <tr>\n      <th>2</th>\n      <td>76</td>\n      <td>C66287421</td>\n      <td>36</td>\n      <td>2020-04-01 11:00:00</td>\n      <td>2020-04-01 11:15:00</td>\n      <td>2603</td>\n      <td>本郷店</td>\n      <td>東京</td>\n      <td>東京</td>\n      <td>デリバリー</td>\n      <td>お渡し済</td>\n    </tr>\n    <tr>\n      <th>3</th>\n      <td>190</td>\n      <td>C41156423</td>\n      <td>19</td>\n      <td>2020-04-01 11:00:00</td>\n      <td>2020-04-01 11:16:00</td>\n      <td>2732</td>\n      <td>栃木店</td>\n      <td>北関東</td>\n      <td>栃木</td>\n      <td>デリバリー</td>\n      <td>お渡し済</td>\n    </tr>\n    <tr>\n      <th>4</th>\n      <td>191</td>\n      <td>C54568117</td>\n      <td>71</td>\n      <td>2020-04-01 11:00:00</td>\n      <td>2020-04-01 11:53:00</td>\n      <td>2987</td>\n      <td>伊勢崎店</td>\n      <td>北関東</td>\n      <td>群馬</td>\n      <td>デリバリー</td>\n      <td>お渡し済</td>\n    </tr>\n  </tbody>\n</table>\n</div>"
     },
     "execution_count": 3,
     "metadata": {},
     "output_type": "execute_result"
    }
   ],
   "source": [
    "# 不要な項目を除外\n",
    "analyze_data = order_data[\n",
    "    ['store_id', 'customer_id', 'coupon_cd', 'order_accept_date', 'delivered_date', 'total_amount', 'store_name',\n",
    "     'wide_area', 'narrow_area', 'takeout_name', 'status_name']]\n",
    "print(analyze_data.shape)\n",
    "analyze_data.head()"
   ],
   "metadata": {
    "collapsed": false,
    "pycharm": {
     "name": "#%%\n"
    }
   }
  },
  {
   "cell_type": "markdown",
   "source": [
    "Record 数や項目数が非常に多い Data を扱う場合、処理対象の Data をなるべく少なくしておいた方が\n",
    "- 処理速度\n",
    "- Memory 使用量\n",
    "\n",
    "の面で良い。"
   ],
   "metadata": {
    "collapsed": false,
    "pycharm": {
     "name": "#%% md\n"
    }
   }
  },
  {
   "cell_type": "markdown",
   "source": [
    "### Knock12: Data の全体像を把握しよう"
   ],
   "metadata": {
    "collapsed": false,
    "pycharm": {
     "name": "#%% md\n"
    }
   }
  },
  {
   "cell_type": "code",
   "execution_count": 4,
   "outputs": [
    {
     "data": {
      "text/plain": "            store_id      coupon_cd   total_amount\ncount  574436.000000  574436.000000  574436.000000\nmean       99.113844      49.478758    2960.087555\nstd        55.913615      28.888993     954.282731\nmin         1.000000       0.000000     698.000000\n25%        51.000000      24.000000    2308.000000\n50%        99.000000      49.000000    2808.000000\n75%       147.000000      75.000000    3617.000000\nmax       196.000000      99.000000    5100.000000",
      "text/html": "<div>\n<style scoped>\n    .dataframe tbody tr th:only-of-type {\n        vertical-align: middle;\n    }\n\n    .dataframe tbody tr th {\n        vertical-align: top;\n    }\n\n    .dataframe thead th {\n        text-align: right;\n    }\n</style>\n<table border=\"1\" class=\"dataframe\">\n  <thead>\n    <tr style=\"text-align: right;\">\n      <th></th>\n      <th>store_id</th>\n      <th>coupon_cd</th>\n      <th>total_amount</th>\n    </tr>\n  </thead>\n  <tbody>\n    <tr>\n      <th>count</th>\n      <td>574436.000000</td>\n      <td>574436.000000</td>\n      <td>574436.000000</td>\n    </tr>\n    <tr>\n      <th>mean</th>\n      <td>99.113844</td>\n      <td>49.478758</td>\n      <td>2960.087555</td>\n    </tr>\n    <tr>\n      <th>std</th>\n      <td>55.913615</td>\n      <td>28.888993</td>\n      <td>954.282731</td>\n    </tr>\n    <tr>\n      <th>min</th>\n      <td>1.000000</td>\n      <td>0.000000</td>\n      <td>698.000000</td>\n    </tr>\n    <tr>\n      <th>25%</th>\n      <td>51.000000</td>\n      <td>24.000000</td>\n      <td>2308.000000</td>\n    </tr>\n    <tr>\n      <th>50%</th>\n      <td>99.000000</td>\n      <td>49.000000</td>\n      <td>2808.000000</td>\n    </tr>\n    <tr>\n      <th>75%</th>\n      <td>147.000000</td>\n      <td>75.000000</td>\n      <td>3617.000000</td>\n    </tr>\n    <tr>\n      <th>max</th>\n      <td>196.000000</td>\n      <td>99.000000</td>\n      <td>5100.000000</td>\n    </tr>\n  </tbody>\n</table>\n</div>"
     },
     "execution_count": 4,
     "metadata": {},
     "output_type": "execute_result"
    }
   ],
   "source": [
    "# 分析用 Data の統計量を確認\n",
    "analyze_data.describe()"
   ],
   "metadata": {
    "collapsed": false,
    "pycharm": {
     "name": "#%%\n"
    }
   }
  },
  {
   "cell_type": "code",
   "execution_count": 5,
   "outputs": [
    {
     "data": {
      "text/plain": "store_id              int64\ncustomer_id          object\ncoupon_cd             int64\norder_accept_date    object\ndelivered_date       object\ntotal_amount          int64\nstore_name           object\nwide_area            object\nnarrow_area          object\ntakeout_name         object\nstatus_name          object\ndtype: object"
     },
     "execution_count": 5,
     "metadata": {},
     "output_type": "execute_result"
    }
   ],
   "source": [
    "# Data 型を確認\n",
    "analyze_data.dtypes"
   ],
   "metadata": {
    "collapsed": false,
    "pycharm": {
     "name": "#%%\n"
    }
   }
  },
  {
   "cell_type": "code",
   "execution_count": 6,
   "outputs": [
    {
     "name": "stderr",
     "output_type": "stream",
     "text": [
      "C:\\Users\\leone\\dsLab\\machine_learning_system_100_knocks\\.venv\\lib\\site-packages\\pandas\\core\\frame.py:2963: SettingWithCopyWarning: \n",
      "A value is trying to be set on a copy of a slice from a DataFrame.\n",
      "Try using .loc[row_indexer,col_indexer] = value instead\n",
      "\n",
      "See the caveats in the documentation: https://pandas.pydata.org/pandas-docs/stable/user_guide/indexing.html#returning-a-view-versus-a-copy\n",
      "  self[k1] = value[k2]\n"
     ]
    },
    {
     "data": {
      "text/plain": "store_id             object\ncustomer_id          object\ncoupon_cd            object\norder_accept_date    object\ndelivered_date       object\ntotal_amount          int64\nstore_name           object\nwide_area            object\nnarrow_area          object\ntakeout_name         object\nstatus_name          object\ndtype: object"
     },
     "execution_count": 6,
     "metadata": {},
     "output_type": "execute_result"
    }
   ],
   "source": [
    "# 一部の数値型の項目を文字列型に変更\n",
    "analyze_data[['store_id', 'coupon_cd']] = analyze_data[['store_id', 'coupon_cd']].astype(str)\n",
    "analyze_data.dtypes"
   ],
   "metadata": {
    "collapsed": false,
    "pycharm": {
     "name": "#%%\n"
    }
   }
  },
  {
   "cell_type": "code",
   "execution_count": 7,
   "outputs": [],
   "source": [
    "# Warning を表示しない\n",
    "import warnings\n",
    "\n",
    "warnings.filterwarnings('ignore')"
   ],
   "metadata": {
    "collapsed": false,
    "pycharm": {
     "name": "#%%\n"
    }
   }
  },
  {
   "cell_type": "code",
   "execution_count": 8,
   "outputs": [
    {
     "data": {
      "text/plain": "        total_amount\ncount  574436.000000\nmean     2960.087555\nstd       954.282731\nmin       698.000000\n25%      2308.000000\n50%      2808.000000\n75%      3617.000000\nmax      5100.000000",
      "text/html": "<div>\n<style scoped>\n    .dataframe tbody tr th:only-of-type {\n        vertical-align: middle;\n    }\n\n    .dataframe tbody tr th {\n        vertical-align: top;\n    }\n\n    .dataframe thead th {\n        text-align: right;\n    }\n</style>\n<table border=\"1\" class=\"dataframe\">\n  <thead>\n    <tr style=\"text-align: right;\">\n      <th></th>\n      <th>total_amount</th>\n    </tr>\n  </thead>\n  <tbody>\n    <tr>\n      <th>count</th>\n      <td>574436.000000</td>\n    </tr>\n    <tr>\n      <th>mean</th>\n      <td>2960.087555</td>\n    </tr>\n    <tr>\n      <th>std</th>\n      <td>954.282731</td>\n    </tr>\n    <tr>\n      <th>min</th>\n      <td>698.000000</td>\n    </tr>\n    <tr>\n      <th>25%</th>\n      <td>2308.000000</td>\n    </tr>\n    <tr>\n      <th>50%</th>\n      <td>2808.000000</td>\n    </tr>\n    <tr>\n      <th>75%</th>\n      <td>3617.000000</td>\n    </tr>\n    <tr>\n      <th>max</th>\n      <td>5100.000000</td>\n    </tr>\n  </tbody>\n</table>\n</div>"
     },
     "execution_count": 8,
     "metadata": {},
     "output_type": "execute_result"
    }
   ],
   "source": [
    "analyze_data.describe()"
   ],
   "metadata": {
    "collapsed": false,
    "pycharm": {
     "name": "#%%\n"
    }
   }
  },
  {
   "cell_type": "markdown",
   "source": [
    "ここで確認できる値\n",
    "- 全体としての統計\n",
    "- Pizza chain の Group 全体としての売上がどうなのか"
   ],
   "metadata": {
    "collapsed": false,
    "pycharm": {
     "name": "#%% md\n"
    }
   }
  },
  {
   "cell_type": "markdown",
   "source": [
    "### Knock13: 月別の売上を集計してみよう\n",
    "Data を月別に集計していく"
   ],
   "metadata": {
    "collapsed": false,
    "pycharm": {
     "name": "#%% md\n"
    }
   }
  },
  {
   "cell_type": "code",
   "execution_count": 9,
   "outputs": [
    {
     "data": {
      "text/plain": "    order_accept_date order_accept_month\n0 2020-04-01 11:00:00             202004\n1 2020-04-01 11:00:00             202004\n2 2020-04-01 11:00:00             202004\n3 2020-04-01 11:00:00             202004\n4 2020-04-01 11:00:00             202004",
      "text/html": "<div>\n<style scoped>\n    .dataframe tbody tr th:only-of-type {\n        vertical-align: middle;\n    }\n\n    .dataframe tbody tr th {\n        vertical-align: top;\n    }\n\n    .dataframe thead th {\n        text-align: right;\n    }\n</style>\n<table border=\"1\" class=\"dataframe\">\n  <thead>\n    <tr style=\"text-align: right;\">\n      <th></th>\n      <th>order_accept_date</th>\n      <th>order_accept_month</th>\n    </tr>\n  </thead>\n  <tbody>\n    <tr>\n      <th>0</th>\n      <td>2020-04-01 11:00:00</td>\n      <td>202004</td>\n    </tr>\n    <tr>\n      <th>1</th>\n      <td>2020-04-01 11:00:00</td>\n      <td>202004</td>\n    </tr>\n    <tr>\n      <th>2</th>\n      <td>2020-04-01 11:00:00</td>\n      <td>202004</td>\n    </tr>\n    <tr>\n      <th>3</th>\n      <td>2020-04-01 11:00:00</td>\n      <td>202004</td>\n    </tr>\n    <tr>\n      <th>4</th>\n      <td>2020-04-01 11:00:00</td>\n      <td>202004</td>\n    </tr>\n  </tbody>\n</table>\n</div>"
     },
     "execution_count": 9,
     "metadata": {},
     "output_type": "execute_result"
    }
   ],
   "source": [
    "# 日時の項目を Datetime型に変換し年月項目を作成\n",
    "analyze_data['order_accept_date'] = pd.to_datetime(analyze_data['order_accept_date'])\n",
    "analyze_data['order_accept_month'] = analyze_data['order_accept_date'].dt.strftime('%Y%m')\n",
    "analyze_data[['order_accept_date', 'order_accept_month']].head()"
   ],
   "metadata": {
    "collapsed": false,
    "pycharm": {
     "name": "#%%\n"
    }
   }
  },
  {
   "cell_type": "code",
   "execution_count": 10,
   "outputs": [
    {
     "data": {
      "text/plain": "       delivered_date delivered_month\n0 2020-04-01 11:18:00          202004\n1 2020-04-01 11:22:00          202004\n2 2020-04-01 11:15:00          202004\n3 2020-04-01 11:16:00          202004\n4 2020-04-01 11:53:00          202004",
      "text/html": "<div>\n<style scoped>\n    .dataframe tbody tr th:only-of-type {\n        vertical-align: middle;\n    }\n\n    .dataframe tbody tr th {\n        vertical-align: top;\n    }\n\n    .dataframe thead th {\n        text-align: right;\n    }\n</style>\n<table border=\"1\" class=\"dataframe\">\n  <thead>\n    <tr style=\"text-align: right;\">\n      <th></th>\n      <th>delivered_date</th>\n      <th>delivered_month</th>\n    </tr>\n  </thead>\n  <tbody>\n    <tr>\n      <th>0</th>\n      <td>2020-04-01 11:18:00</td>\n      <td>202004</td>\n    </tr>\n    <tr>\n      <th>1</th>\n      <td>2020-04-01 11:22:00</td>\n      <td>202004</td>\n    </tr>\n    <tr>\n      <th>2</th>\n      <td>2020-04-01 11:15:00</td>\n      <td>202004</td>\n    </tr>\n    <tr>\n      <th>3</th>\n      <td>2020-04-01 11:16:00</td>\n      <td>202004</td>\n    </tr>\n    <tr>\n      <th>4</th>\n      <td>2020-04-01 11:53:00</td>\n      <td>202004</td>\n    </tr>\n  </tbody>\n</table>\n</div>"
     },
     "execution_count": 10,
     "metadata": {},
     "output_type": "execute_result"
    }
   ],
   "source": [
    "# delivered_date も同様に型変換\n",
    "analyze_data['delivered_date'] = pd.to_datetime(analyze_data['delivered_date'])\n",
    "analyze_data['delivered_month'] = analyze_data['delivered_date'].dt.strftime('%Y%m')\n",
    "analyze_data[['delivered_date', 'delivered_month']].head()"
   ],
   "metadata": {
    "collapsed": false,
    "pycharm": {
     "name": "#%%\n"
    }
   }
  },
  {
   "cell_type": "markdown",
   "source": [
    "- 複数の日時項目が存在する場合、各項目の差分を計算して所要日数や所要時間を取得する Case もある。\n",
    "- 型の変換が中途半端だと、いざ使用とした時に混乱することがある為、すぐ使用しなくても型は揃えておくのが良い。"
   ],
   "metadata": {
    "collapsed": false,
    "pycharm": {
     "name": "#%% md\n"
    }
   }
  },
  {
   "cell_type": "code",
   "execution_count": 11,
   "outputs": [
    {
     "data": {
      "text/plain": "store_id                      object\ncustomer_id                   object\ncoupon_cd                     object\norder_accept_date     datetime64[ns]\ndelivered_date        datetime64[ns]\ntotal_amount                   int64\nstore_name                    object\nwide_area                     object\nnarrow_area                   object\ntakeout_name                  object\nstatus_name                   object\norder_accept_month            object\ndelivered_month               object\ndtype: object"
     },
     "execution_count": 11,
     "metadata": {},
     "output_type": "execute_result"
    }
   ],
   "source": [
    "# Data 型の確認\n",
    "analyze_data.dtypes"
   ],
   "metadata": {
    "collapsed": false,
    "pycharm": {
     "name": "#%%\n"
    }
   }
  },
  {
   "cell_type": "code",
   "execution_count": 12,
   "outputs": [
    {
     "data": {
      "text/plain": "                   total_amount                                          \\\n                          count         mean         std    min     25%   \norder_accept_month                                                        \n202004                 189414.0  2959.440638  954.271169  698.0  2308.0   \n202005                 195684.0  2960.327799  954.823248  698.0  2308.0   \n202006                 189338.0  2960.486437  953.740057  698.0  2308.0   \n\n                                            \n                       50%     75%     max  \norder_accept_month                          \n202004              2808.0  3586.0  5100.0  \n202005              2808.0  3586.0  5100.0  \n202006              2808.0  3617.0  5100.0  ",
      "text/html": "<div>\n<style scoped>\n    .dataframe tbody tr th:only-of-type {\n        vertical-align: middle;\n    }\n\n    .dataframe tbody tr th {\n        vertical-align: top;\n    }\n\n    .dataframe thead tr th {\n        text-align: left;\n    }\n\n    .dataframe thead tr:last-of-type th {\n        text-align: right;\n    }\n</style>\n<table border=\"1\" class=\"dataframe\">\n  <thead>\n    <tr>\n      <th></th>\n      <th colspan=\"8\" halign=\"left\">total_amount</th>\n    </tr>\n    <tr>\n      <th></th>\n      <th>count</th>\n      <th>mean</th>\n      <th>std</th>\n      <th>min</th>\n      <th>25%</th>\n      <th>50%</th>\n      <th>75%</th>\n      <th>max</th>\n    </tr>\n    <tr>\n      <th>order_accept_month</th>\n      <th></th>\n      <th></th>\n      <th></th>\n      <th></th>\n      <th></th>\n      <th></th>\n      <th></th>\n      <th></th>\n    </tr>\n  </thead>\n  <tbody>\n    <tr>\n      <th>202004</th>\n      <td>189414.0</td>\n      <td>2959.440638</td>\n      <td>954.271169</td>\n      <td>698.0</td>\n      <td>2308.0</td>\n      <td>2808.0</td>\n      <td>3586.0</td>\n      <td>5100.0</td>\n    </tr>\n    <tr>\n      <th>202005</th>\n      <td>195684.0</td>\n      <td>2960.327799</td>\n      <td>954.823248</td>\n      <td>698.0</td>\n      <td>2308.0</td>\n      <td>2808.0</td>\n      <td>3586.0</td>\n      <td>5100.0</td>\n    </tr>\n    <tr>\n      <th>202006</th>\n      <td>189338.0</td>\n      <td>2960.486437</td>\n      <td>953.740057</td>\n      <td>698.0</td>\n      <td>2308.0</td>\n      <td>2808.0</td>\n      <td>3617.0</td>\n      <td>5100.0</td>\n    </tr>\n  </tbody>\n</table>\n</div>"
     },
     "execution_count": 12,
     "metadata": {},
     "output_type": "execute_result"
    }
   ],
   "source": [
    "# 統計 Data を月月で確認\n",
    "month_data = analyze_data.groupby('order_accept_month')\n",
    "month_data.describe()"
   ],
   "metadata": {
    "collapsed": false,
    "pycharm": {
     "name": "#%%\n"
    }
   }
  },
  {
   "cell_type": "code",
   "execution_count": 13,
   "outputs": [
    {
     "data": {
      "text/plain": "                    total_amount\norder_accept_month              \n202004                 560559489\n202005                 579288785\n202006                 560532581",
      "text/html": "<div>\n<style scoped>\n    .dataframe tbody tr th:only-of-type {\n        vertical-align: middle;\n    }\n\n    .dataframe tbody tr th {\n        vertical-align: top;\n    }\n\n    .dataframe thead th {\n        text-align: right;\n    }\n</style>\n<table border=\"1\" class=\"dataframe\">\n  <thead>\n    <tr style=\"text-align: right;\">\n      <th></th>\n      <th>total_amount</th>\n    </tr>\n    <tr>\n      <th>order_accept_month</th>\n      <th></th>\n    </tr>\n  </thead>\n  <tbody>\n    <tr>\n      <th>202004</th>\n      <td>560559489</td>\n    </tr>\n    <tr>\n      <th>202005</th>\n      <td>579288785</td>\n    </tr>\n    <tr>\n      <th>202006</th>\n      <td>560532581</td>\n    </tr>\n  </tbody>\n</table>\n</div>"
     },
     "execution_count": 13,
     "metadata": {},
     "output_type": "execute_result"
    }
   ],
   "source": [
    "# 合計金額の確認\n",
    "month_data.sum()"
   ],
   "metadata": {
    "collapsed": false,
    "pycharm": {
     "name": "#%%\n"
    }
   }
  },
  {
   "cell_type": "markdown",
   "source": [
    "#### 集計\n",
    "- 月別\n",
    "- 地域別\n",
    "- 店舗別\n",
    "\n",
    "集計する視点を変えることで、Simple に分析を始めていくことができる。"
   ],
   "metadata": {
    "collapsed": false,
    "pycharm": {
     "name": "#%% md\n"
    }
   }
  },
  {
   "cell_type": "markdown",
   "source": [
    "### Knock14: 月別の推移を可視化してみよう\n",
    "- 表形式は値の比較に向いていない。（※表の中から数字を拾って比較する、という Step が見る側に求められ、全体を正しく順位付けするために頭の中で計算し続ける必要がある為。）\n",
    "- Graph を利用して可視化すると計算するまでもなく直感的な理解が得られる。\n",
    "- 情報を落としつつもわかりやすく可視化する行為は奥が深い。"
   ],
   "metadata": {
    "collapsed": false,
    "pycharm": {
     "name": "#%% md\n"
    }
   }
  },
  {
   "cell_type": "code",
   "execution_count": 14,
   "outputs": [
    {
     "data": {
      "text/plain": "<AxesSubplot:xlabel='order_accept_month'>"
     },
     "execution_count": 14,
     "metadata": {},
     "output_type": "execute_result"
    },
    {
     "data": {
      "text/plain": "<Figure size 432x288 with 1 Axes>",
      "image/png": "[encoded data removed]"
     },
     "metadata": {},
     "output_type": "display_data"
    }
   ],
   "source": [
    "import matplotlib.pyplot as plt\n",
    "month_data.sum().plot()"
   ],
   "metadata": {
    "collapsed": false,
    "pycharm": {
     "name": "#%%\n"
    }
   }
  },
  {
   "cell_type": "markdown",
   "source": [
    "単純に数字で比較するよりも、５月の売上が他よりも伸びていることを直感的に捉えられる。"
   ],
   "metadata": {
    "collapsed": false,
    "pycharm": {
     "name": "#%% md\n"
    }
   }
  },
  {
   "cell_type": "code",
   "execution_count": 15,
   "outputs": [
    {
     "data": {
      "text/plain": "<AxesSubplot:xlabel='order_accept_month'>"
     },
     "execution_count": 15,
     "metadata": {},
     "output_type": "execute_result"
    },
    {
     "data": {
      "text/plain": "<Figure size 432x288 with 1 Axes>",
      "image/png": "[encoded data removed]"
     },
     "metadata": {},
     "output_type": "display_data"
    }
   ],
   "source": [
    "# 売上の平均額を可視化\n",
    "month_data.mean().plot()"
   ],
   "metadata": {
    "collapsed": false,
    "pycharm": {
     "name": "#%%\n"
    }
   }
  },
  {
   "cell_type": "markdown",
   "source": [
    "傾向を見ていくと普段の売上がどの程度で、売上が上がったときどのような施策を打っていたかなどの分析をすることができる。"
   ],
   "metadata": {
    "collapsed": false,
    "pycharm": {
     "name": "#%% md\n"
    }
   }
  },
  {
   "cell_type": "markdown",
   "source": [
    "### Knock15: 売上から　Histogram を作成してみよう\n",
    "Histogram を作成することで売上の分布を見ることができる。"
   ],
   "metadata": {
    "collapsed": false,
    "pycharm": {
     "name": "#%% md\n"
    }
   }
  },
  {
   "cell_type": "code",
   "execution_count": 16,
   "outputs": [
    {
     "data": {
      "text/plain": "(array([ 21524.,      0.,  48969., 135664., 111217.,  77622.,  54146.,\n         59814.,  34394.,  31086.]),\n array([ 698. , 1138.2, 1578.4, 2018.6, 2458.8, 2899. , 3339.2, 3779.4,\n        4219.6, 4659.8, 5100. ]),\n <BarContainer object of 10 artists>)"
     },
     "execution_count": 16,
     "metadata": {},
     "output_type": "execute_result"
    },
    {
     "data": {
      "text/plain": "<Figure size 432x288 with 1 Axes>",
      "image/png": "[encoded data removed]"
     },
     "metadata": {},
     "output_type": "display_data"
    }
   ],
   "source": [
    "# Histogram を出力\n",
    "plt.hist(analyze_data['total_amount'])"
   ],
   "metadata": {
    "collapsed": false,
    "pycharm": {
     "name": "#%%\n"
    }
   }
  },
  {
   "cell_type": "markdown",
   "source": [
    "- 地域や店舗といった単位でみることで、客層の特徴を掴む手がかりに使える。\n",
    "- 次の施策を練る上でも大事な要素になる。\n",
    "- Party menu を用意する場合に、どのくらいの価格まで許容され、需要と Match するかなど検討する材料になる。"
   ],
   "metadata": {
    "collapsed": false,
    "pycharm": {
     "name": "#%% md\n"
    }
   }
  },
  {
   "cell_type": "code",
   "execution_count": 17,
   "outputs": [
    {
     "data": {
      "text/plain": "(array([10728., 10796.,     0.,     0.,     0., 48969., 45777., 78334.,\n        23175., 66451., 44368., 38745., 27653., 42503., 12508., 35285.,\n        23739., 11151., 23168., 22649.,  8437.]),\n array([ 698.        ,  907.61904762, 1117.23809524, 1326.85714286,\n        1536.47619048, 1746.0952381 , 1955.71428571, 2165.33333333,\n        2374.95238095, 2584.57142857, 2794.19047619, 3003.80952381,\n        3213.42857143, 3423.04761905, 3632.66666667, 3842.28571429,\n        4051.9047619 , 4261.52380952, 4471.14285714, 4680.76190476,\n        4890.38095238, 5100.        ]),\n <BarContainer object of 21 artists>)"
     },
     "execution_count": 17,
     "metadata": {},
     "output_type": "execute_result"
    },
    {
     "data": {
      "text/plain": "<Figure size 432x288 with 1 Axes>",
      "image/png": "[encoded data removed]"
     },
     "metadata": {},
     "output_type": "display_data"
    }
   ],
   "source": [
    "# もう少し階級が細かい Histogram\n",
    "plt.hist(analyze_data['total_amount'], bins=21)"
   ],
   "metadata": {
    "collapsed": false,
    "pycharm": {
     "name": "#%%\n"
    }
   }
  },
  {
   "cell_type": "markdown",
   "source": [
    "- どの粒度で見るべきかは状況によって変わる。\n",
    "- まずは自動的に出力されたものを見るところから始める。\n",
    "- あまり細かくしぎると、１つの凹凸に対する説明が難しくなる。\n",
    "- Bin を変えることで\n",
    "    - どのような傾向が見られるか\n",
    "    - どのように読み解くことができるか\n",
    "    - その説明に納得感が得られるか\n",
    "を考えると良い。"
   ],
   "metadata": {
    "collapsed": false,
    "pycharm": {
     "name": "#%% md\n"
    }
   }
  },
  {
   "cell_type": "markdown",
   "source": [
    "### Knock16: 都道府県別の売上を集計して可視化しよう\n",
    "- 分析をする際は大きなところから捉えて Break down していくのが Smooth.\n",
    "月別かつ都道府県別の売上を Pivot table を使った Cross 集計で表示していく。"
   ],
   "metadata": {
    "collapsed": false,
    "pycharm": {
     "name": "#%% md\n"
    }
   }
  },
  {
   "cell_type": "code",
   "execution_count": 18,
   "outputs": [
    {
     "data": {
      "text/plain": "narrow_area                  千葉           埼玉           東京           栃木  \\\norder_accept_month                                                       \n202004              2959.062000  2976.519634  2960.592173  2992.173548   \n202005              2953.545504  2977.290771  2962.603059  2998.165682   \n202006              2955.761885  2976.988380  2962.949987  2991.542844   \n\nnarrow_area                 神奈川           群馬           茨城  \norder_accept_month                                         \n202004              2948.001171  2942.046543  2947.479814  \n202005              2949.597054  2948.269611  2941.796835  \n202006              2950.520464  2945.504744  2935.951783  ",
      "text/html": "<div>\n<style scoped>\n    .dataframe tbody tr th:only-of-type {\n        vertical-align: middle;\n    }\n\n    .dataframe tbody tr th {\n        vertical-align: top;\n    }\n\n    .dataframe thead th {\n        text-align: right;\n    }\n</style>\n<table border=\"1\" class=\"dataframe\">\n  <thead>\n    <tr style=\"text-align: right;\">\n      <th>narrow_area</th>\n      <th>千葉</th>\n      <th>埼玉</th>\n      <th>東京</th>\n      <th>栃木</th>\n      <th>神奈川</th>\n      <th>群馬</th>\n      <th>茨城</th>\n    </tr>\n    <tr>\n      <th>order_accept_month</th>\n      <th></th>\n      <th></th>\n      <th></th>\n      <th></th>\n      <th></th>\n      <th></th>\n      <th></th>\n    </tr>\n  </thead>\n  <tbody>\n    <tr>\n      <th>202004</th>\n      <td>2959.062000</td>\n      <td>2976.519634</td>\n      <td>2960.592173</td>\n      <td>2992.173548</td>\n      <td>2948.001171</td>\n      <td>2942.046543</td>\n      <td>2947.479814</td>\n    </tr>\n    <tr>\n      <th>202005</th>\n      <td>2953.545504</td>\n      <td>2977.290771</td>\n      <td>2962.603059</td>\n      <td>2998.165682</td>\n      <td>2949.597054</td>\n      <td>2948.269611</td>\n      <td>2941.796835</td>\n    </tr>\n    <tr>\n      <th>202006</th>\n      <td>2955.761885</td>\n      <td>2976.988380</td>\n      <td>2962.949987</td>\n      <td>2991.542844</td>\n      <td>2950.520464</td>\n      <td>2945.504744</td>\n      <td>2935.951783</td>\n    </tr>\n  </tbody>\n</table>\n</div>"
     },
     "execution_count": 18,
     "metadata": {},
     "output_type": "execute_result"
    }
   ],
   "source": [
    "pre_data = pd.pivot_table(analyze_data, index='order_accept_month', columns='narrow_area', values='total_amount', aggfunc='mean')\n",
    "pre_data"
   ],
   "metadata": {
    "collapsed": false,
    "pycharm": {
     "name": "#%%\n"
    }
   }
  },
  {
   "cell_type": "markdown",
   "source": [
    "特徴を容易に捉えるための可視化が必要になってくる。"
   ],
   "metadata": {
    "collapsed": false,
    "pycharm": {
     "name": "#%% md\n"
    }
   }
  },
  {
   "cell_type": "code",
   "execution_count": 19,
   "outputs": [
    {
     "data": {
      "text/plain": "<matplotlib.legend.Legend at 0x1a82a0c2508>"
     },
     "execution_count": 19,
     "metadata": {},
     "output_type": "execute_result"
    },
    {
     "data": {
      "text/plain": "<Figure size 432x288 with 1 Axes>",
      "image/png": "[encoded data removed]"
     },
     "metadata": {},
     "output_type": "display_data"
    }
   ],
   "source": [
    "import japanize_matplotlib\n",
    "plt.plot(list(pre_data.index), pre_data['東京'], label='東京')\n",
    "plt.plot(list(pre_data.index), pre_data['神奈川'], label='神奈川')\n",
    "plt.plot(list(pre_data.index), pre_data['埼玉'], label='埼玉')\n",
    "plt.plot(list(pre_data.index), pre_data['千葉'], label='千葉')\n",
    "plt.plot(list(pre_data.index), pre_data['茨城'], label='茨城')\n",
    "plt.plot(list(pre_data.index), pre_data['栃木'], label='栃木')\n",
    "plt.plot(list(pre_data.index), pre_data['群馬'], label='群馬')\n",
    "plt.legend()"
   ],
   "metadata": {
    "collapsed": false,
    "pycharm": {
     "name": "#%%\n"
    }
   }
  },
  {
   "cell_type": "markdown",
   "source": [
    "### Knock17: Clustering に向けて Data を加工しよう\n",
    "店舗毎の特徴をもとに幾つかの Group に分けることができれば、Group の特徴に合わせた対応をとることができるかもしれない。"
   ],
   "metadata": {
    "collapsed": false,
    "pycharm": {
     "name": "#%% md\n"
    }
   }
  },
  {
   "cell_type": "code",
   "execution_count": 20,
   "outputs": [
    {
     "name": "stdout",
     "output_type": "stream",
     "text": [
      "196\n"
     ]
    },
    {
     "data": {
      "text/plain": "   size         mean  median   max   min\n0  2877  3129.834897    3050  5100  1857\n1  2294  2989.003923    2677  5100   698\n2  3776  2947.170286    2808  5100   698\n3  1740  3074.770115    2877  4744  1899\n4  2760  2845.661594    2791  4744   698",
      "text/html": "<div>\n<style scoped>\n    .dataframe tbody tr th:only-of-type {\n        vertical-align: middle;\n    }\n\n    .dataframe tbody tr th {\n        vertical-align: top;\n    }\n\n    .dataframe thead th {\n        text-align: right;\n    }\n</style>\n<table border=\"1\" class=\"dataframe\">\n  <thead>\n    <tr style=\"text-align: right;\">\n      <th></th>\n      <th>size</th>\n      <th>mean</th>\n      <th>median</th>\n      <th>max</th>\n      <th>min</th>\n    </tr>\n  </thead>\n  <tbody>\n    <tr>\n      <th>0</th>\n      <td>2877</td>\n      <td>3129.834897</td>\n      <td>3050</td>\n      <td>5100</td>\n      <td>1857</td>\n    </tr>\n    <tr>\n      <th>1</th>\n      <td>2294</td>\n      <td>2989.003923</td>\n      <td>2677</td>\n      <td>5100</td>\n      <td>698</td>\n    </tr>\n    <tr>\n      <th>2</th>\n      <td>3776</td>\n      <td>2947.170286</td>\n      <td>2808</td>\n      <td>5100</td>\n      <td>698</td>\n    </tr>\n    <tr>\n      <th>3</th>\n      <td>1740</td>\n      <td>3074.770115</td>\n      <td>2877</td>\n      <td>4744</td>\n      <td>1899</td>\n    </tr>\n    <tr>\n      <th>4</th>\n      <td>2760</td>\n      <td>2845.661594</td>\n      <td>2791</td>\n      <td>4744</td>\n      <td>698</td>\n    </tr>\n  </tbody>\n</table>\n</div>"
     },
     "execution_count": 20,
     "metadata": {},
     "output_type": "execute_result"
    }
   ],
   "source": [
    "# 注文 Data を店舗毎に集計し、Clustering に使用できる状態に\n",
    "store_clustering = analyze_data.groupby('store_id').agg(['size', 'mean', 'median', 'max', 'min'])['total_amount']\n",
    "store_clustering.reset_index(inplace=True, drop=True)\n",
    "print(store_clustering.shape[0])\n",
    "store_clustering.head()"
   ],
   "metadata": {
    "collapsed": false,
    "pycharm": {
     "name": "#%%\n"
    }
   }
  },
  {
   "cell_type": "code",
   "execution_count": 21,
   "outputs": [
    {
     "data": {
      "text/plain": "<Figure size 432x432 with 3 Axes>",
      "image/png": "[encoded data removed]"
     },
     "metadata": {},
     "output_type": "display_data"
    }
   ],
   "source": [
    "# 各店舗の状況を可視化する\n",
    "import seaborn as sns\n",
    "hexbin = sns.jointplot(x='mean', y='size', data=store_clustering, kind='hex')"
   ],
   "metadata": {
    "collapsed": false,
    "pycharm": {
     "name": "#%%\n"
    }
   }
  },
  {
   "cell_type": "markdown",
   "source": [
    "- 純粋な散布図は点の数がそのまま Plot されるが点の数が多すぎると、散布図の効果が発揮できないことがある。\n",
    "- 六角 binning は Area を六角形で区切り、そこに含まれる点の数を色の濃さで表現する"
   ],
   "metadata": {
    "collapsed": false,
    "pycharm": {
     "name": "#%% md\n"
    }
   }
  },
  {
   "cell_type": "markdown",
   "source": [
    "### Knock18: Clustering で店舗を Group 化してみよう\n",
    "- K-means法で Clustering を行なう。\n",
    ">K-means法\n",
    "> 教師なし学習。何が正解か知らないまま、与えられた特徴から Data を Group 分けしていくことができる。"
   ],
   "metadata": {
    "collapsed": false,
    "pycharm": {
     "name": "#%% md\n"
    }
   }
  },
  {
   "cell_type": "code",
   "execution_count": 22,
   "outputs": [
    {
     "name": "stdout",
     "output_type": "stream",
     "text": [
      "[0 3 2 1]\n"
     ]
    },
    {
     "data": {
      "text/plain": "   size         mean  median   max   min  cluster\n0  2877  3129.834897    3050  5100  1857        0\n1  2294  2989.003923    2677  5100   698        3\n2  3776  2947.170286    2808  5100   698        2\n3  1740  3074.770115    2877  4744  1899        0\n4  2760  2845.661594    2791  4744   698        3",
      "text/html": "<div>\n<style scoped>\n    .dataframe tbody tr th:only-of-type {\n        vertical-align: middle;\n    }\n\n    .dataframe tbody tr th {\n        vertical-align: top;\n    }\n\n    .dataframe thead th {\n        text-align: right;\n    }\n</style>\n<table border=\"1\" class=\"dataframe\">\n  <thead>\n    <tr style=\"text-align: right;\">\n      <th></th>\n      <th>size</th>\n      <th>mean</th>\n      <th>median</th>\n      <th>max</th>\n      <th>min</th>\n      <th>cluster</th>\n    </tr>\n  </thead>\n  <tbody>\n    <tr>\n      <th>0</th>\n      <td>2877</td>\n      <td>3129.834897</td>\n      <td>3050</td>\n      <td>5100</td>\n      <td>1857</td>\n      <td>0</td>\n    </tr>\n    <tr>\n      <th>1</th>\n      <td>2294</td>\n      <td>2989.003923</td>\n      <td>2677</td>\n      <td>5100</td>\n      <td>698</td>\n      <td>3</td>\n    </tr>\n    <tr>\n      <th>2</th>\n      <td>3776</td>\n      <td>2947.170286</td>\n      <td>2808</td>\n      <td>5100</td>\n      <td>698</td>\n      <td>2</td>\n    </tr>\n    <tr>\n      <th>3</th>\n      <td>1740</td>\n      <td>3074.770115</td>\n      <td>2877</td>\n      <td>4744</td>\n      <td>1899</td>\n      <td>0</td>\n    </tr>\n    <tr>\n      <th>4</th>\n      <td>2760</td>\n      <td>2845.661594</td>\n      <td>2791</td>\n      <td>4744</td>\n      <td>698</td>\n      <td>3</td>\n    </tr>\n  </tbody>\n</table>\n</div>"
     },
     "execution_count": 22,
     "metadata": {},
     "output_type": "execute_result"
    }
   ],
   "source": [
    "# Clustring を行なう\n",
    "from sklearn.cluster import KMeans\n",
    "from sklearn.preprocessing import StandardScaler\n",
    "\n",
    "# Data の標準化\n",
    "sc = StandardScaler()\n",
    "store_clustering_sc = sc.fit_transform(store_clustering)\n",
    "\n",
    "kmeans = KMeans(n_clusters=4, random_state=0)  # Cluster 数と Random-seed を定義\n",
    "clusters = kmeans.fit(store_clustering_sc)  # Model を構築\n",
    "store_clustering['cluster'] = clusters.labels_  # Clustering の結果を DataFrame に格納\n",
    "print(store_clustering['cluster'].unique())\n",
    "store_clustering.head()"
   ],
   "metadata": {
    "collapsed": false,
    "pycharm": {
     "name": "#%%\n"
    }
   }
  },
  {
   "cell_type": "markdown",
   "source": [
    "- 機械学習に利用する Data の桁が違う可能性がある場合、標準化して Scale を合わせる必要がある。\n",
    "- Cluster の数は一概にいくつが良い、とは言えない。\n",
    "- 毎回結果が変わってしまうので、ある程度分析が進むまでは Random-seed は固定しておくと良い。\n",
    "- Clustering 結果を Data として持つことで、今後の分析に利用できるようになる。"
   ],
   "metadata": {
    "collapsed": false,
    "pycharm": {
     "name": "#%% md\n"
    }
   }
  },
  {
   "cell_type": "markdown",
   "source": [
    "### Knock19: Group の傾向を分析してみよう"
   ],
   "metadata": {
    "collapsed": false,
    "pycharm": {
     "name": "#%% md\n"
    }
   }
  },
  {
   "cell_type": "code",
   "execution_count": 23,
   "outputs": [
    {
     "data": {
      "text/plain": "         月内件数  月内平均値  月内中央値  月内最大値  月内最小値\ncluster                                  \n0          14     14     14     14     14\n1          24     24     24     24     24\n2          89     89     89     89     89\n3          69     69     69     69     69",
      "text/html": "<div>\n<style scoped>\n    .dataframe tbody tr th:only-of-type {\n        vertical-align: middle;\n    }\n\n    .dataframe tbody tr th {\n        vertical-align: top;\n    }\n\n    .dataframe thead th {\n        text-align: right;\n    }\n</style>\n<table border=\"1\" class=\"dataframe\">\n  <thead>\n    <tr style=\"text-align: right;\">\n      <th></th>\n      <th>月内件数</th>\n      <th>月内平均値</th>\n      <th>月内中央値</th>\n      <th>月内最大値</th>\n      <th>月内最小値</th>\n    </tr>\n    <tr>\n      <th>cluster</th>\n      <th></th>\n      <th></th>\n      <th></th>\n      <th></th>\n      <th></th>\n    </tr>\n  </thead>\n  <tbody>\n    <tr>\n      <th>0</th>\n      <td>14</td>\n      <td>14</td>\n      <td>14</td>\n      <td>14</td>\n      <td>14</td>\n    </tr>\n    <tr>\n      <th>1</th>\n      <td>24</td>\n      <td>24</td>\n      <td>24</td>\n      <td>24</td>\n      <td>24</td>\n    </tr>\n    <tr>\n      <th>2</th>\n      <td>89</td>\n      <td>89</td>\n      <td>89</td>\n      <td>89</td>\n      <td>89</td>\n    </tr>\n    <tr>\n      <th>3</th>\n      <td>69</td>\n      <td>69</td>\n      <td>69</td>\n      <td>69</td>\n      <td>69</td>\n    </tr>\n  </tbody>\n</table>\n</div>"
     },
     "execution_count": 23,
     "metadata": {},
     "output_type": "execute_result"
    }
   ],
   "source": [
    "# 各 Cluster の件数を確認\n",
    "store_clustering.columns = ['月内件数', '月内平均値', '月内中央値', '月内最大値', '月内最小値', 'cluster']\n",
    "store_clustering.groupby('cluster').count()"
   ],
   "metadata": {
    "collapsed": false,
    "pycharm": {
     "name": "#%%\n"
    }
   }
  },
  {
   "cell_type": "code",
   "execution_count": 24,
   "outputs": [
    {
     "data": {
      "text/plain": "                月内件数        月内平均値        月内中央値        月内最大値        月内最小値\ncluster                                                                 \n0        2514.642857  3071.595911  2880.428571  4896.571429  1882.071429\n1        2801.583333  3063.532847  3009.375000  5023.666667   758.250000\n2        3274.797753  2967.584258  2796.808989  5080.000000   741.325843\n3        2616.463768  2887.247467  2728.217391  4756.304348   743.405797",
      "text/html": "<div>\n<style scoped>\n    .dataframe tbody tr th:only-of-type {\n        vertical-align: middle;\n    }\n\n    .dataframe tbody tr th {\n        vertical-align: top;\n    }\n\n    .dataframe thead th {\n        text-align: right;\n    }\n</style>\n<table border=\"1\" class=\"dataframe\">\n  <thead>\n    <tr style=\"text-align: right;\">\n      <th></th>\n      <th>月内件数</th>\n      <th>月内平均値</th>\n      <th>月内中央値</th>\n      <th>月内最大値</th>\n      <th>月内最小値</th>\n    </tr>\n    <tr>\n      <th>cluster</th>\n      <th></th>\n      <th></th>\n      <th></th>\n      <th></th>\n      <th></th>\n    </tr>\n  </thead>\n  <tbody>\n    <tr>\n      <th>0</th>\n      <td>2514.642857</td>\n      <td>3071.595911</td>\n      <td>2880.428571</td>\n      <td>4896.571429</td>\n      <td>1882.071429</td>\n    </tr>\n    <tr>\n      <th>1</th>\n      <td>2801.583333</td>\n      <td>3063.532847</td>\n      <td>3009.375000</td>\n      <td>5023.666667</td>\n      <td>758.250000</td>\n    </tr>\n    <tr>\n      <th>2</th>\n      <td>3274.797753</td>\n      <td>2967.584258</td>\n      <td>2796.808989</td>\n      <td>5080.000000</td>\n      <td>741.325843</td>\n    </tr>\n    <tr>\n      <th>3</th>\n      <td>2616.463768</td>\n      <td>2887.247467</td>\n      <td>2728.217391</td>\n      <td>4756.304348</td>\n      <td>743.405797</td>\n    </tr>\n  </tbody>\n</table>\n</div>"
     },
     "execution_count": 24,
     "metadata": {},
     "output_type": "execute_result"
    }
   ],
   "source": [
    "# 各 Cluster の金額を確認\n",
    "store_clustering.groupby('cluster').mean()"
   ],
   "metadata": {
    "collapsed": false,
    "pycharm": {
     "name": "#%%\n"
    }
   }
  },
  {
   "cell_type": "markdown",
   "source": [
    "#### 教師なし学習\n",
    "- 作られた Group がどういう Group なのか、人間が解釈して説明する必要がある。\n",
    "- 多くの Cluster を作成しても、細かい違いを人間が解釈できないことはよくある為、最適な Cluster の数は状況によって違うので色々と試す必要がある。"
   ],
   "metadata": {
    "collapsed": false,
    "pycharm": {
     "name": "#%% md\n"
    }
   }
  },
  {
   "cell_type": "markdown",
   "source": [
    "### Knock20: Clustering の結果を t-SNE で可視化しよう\n",
    "\n",
    "#### 次元削減\n",
    "次元数を減らす行為のこと。高次元 Data をそのまま２次元の Graph で表現することはできない為、次元数を減らして可視化できる状態にする必要がある。"
   ],
   "metadata": {
    "collapsed": false,
    "pycharm": {
     "name": "#%% md\n"
    }
   }
  },
  {
   "cell_type": "code",
   "execution_count": 25,
   "outputs": [
    {
     "data": {
      "text/plain": "      axis_0     axis_1  cluster\n0  -5.116744   3.308903        0\n1  11.047794   0.016504        3\n2  13.164879   9.757247        2\n3  -6.517968   1.094347        0\n4 -10.660534 -10.523395        3",
      "text/html": "<div>\n<style scoped>\n    .dataframe tbody tr th:only-of-type {\n        vertical-align: middle;\n    }\n\n    .dataframe tbody tr th {\n        vertical-align: top;\n    }\n\n    .dataframe thead th {\n        text-align: right;\n    }\n</style>\n<table border=\"1\" class=\"dataframe\">\n  <thead>\n    <tr style=\"text-align: right;\">\n      <th></th>\n      <th>axis_0</th>\n      <th>axis_1</th>\n      <th>cluster</th>\n    </tr>\n  </thead>\n  <tbody>\n    <tr>\n      <th>0</th>\n      <td>-5.116744</td>\n      <td>3.308903</td>\n      <td>0</td>\n    </tr>\n    <tr>\n      <th>1</th>\n      <td>11.047794</td>\n      <td>0.016504</td>\n      <td>3</td>\n    </tr>\n    <tr>\n      <th>2</th>\n      <td>13.164879</td>\n      <td>9.757247</td>\n      <td>2</td>\n    </tr>\n    <tr>\n      <th>3</th>\n      <td>-6.517968</td>\n      <td>1.094347</td>\n      <td>0</td>\n    </tr>\n    <tr>\n      <th>4</th>\n      <td>-10.660534</td>\n      <td>-10.523395</td>\n      <td>3</td>\n    </tr>\n  </tbody>\n</table>\n</div>"
     },
     "execution_count": 25,
     "metadata": {},
     "output_type": "execute_result"
    }
   ],
   "source": [
    "# t-SNE で次元削減\n",
    "from sklearn.manifold import TSNE\n",
    "\n",
    "tsne = TSNE(n_components=2, random_state=0)  # t-SNE を定義\n",
    "x = tsne.fit_transform(store_clustering_sc)  # Model を構築\n",
    "tsne_df = pd.DataFrame(x)  # DataFrame に格納\n",
    "tsne_df['cluster'] = store_clustering['cluster']  # Cluster の ID を連結\n",
    "tsne_df.columns = ['axis_0', 'axis_1', 'cluster']  # DataFrame の項目名を再設定\n",
    "tsne_df.head()"
   ],
   "metadata": {
    "collapsed": false,
    "pycharm": {
     "name": "#%%\n"
    }
   }
  },
  {
   "cell_type": "code",
   "execution_count": 26,
   "outputs": [
    {
     "data": {
      "text/plain": "<Figure size 432x288 with 1 Axes>",
      "image/png": "[encoded data removed]"
     },
     "metadata": {},
     "output_type": "display_data"
    }
   ],
   "source": [
    "# 散布図で可視化\n",
    "tsne_graph = sns.scatterplot(x='axis_0', y='axis_1', hue='cluster', data=tsne_df)"
   ],
   "metadata": {
    "collapsed": false,
    "pycharm": {
     "name": "#%%\n"
    }
   }
  },
  {
   "cell_type": "markdown",
   "source": [
    "- 次元削除された x軸と y軸が何を意味するのか説明は簡単ではないが Clustering がうまく行なわれたことを確認できる。\n",
    "- ここまででも問題のある Cluster に属する店舗に絞って調査、分析を行なっていくことができる。"
   ],
   "metadata": {
    "collapsed": false,
    "pycharm": {
     "name": "#%% md\n"
    }
   }
  },
  {
   "cell_type": "markdown",
   "source": [
    "分析の技術と知識を身に付けることで、様々な仮説が立てられ、それを証明する手段も身に付いていく。"
   ],
   "metadata": {
    "collapsed": false,
    "pycharm": {
     "name": "#%% md\n"
    }
   }
  }
 ],
 "metadata": {
  "kernelspec": {
   "display_name": "Python 3",
   "language": "python",
   "name": "python3"
  },
  "language_info": {
   "codemirror_mode": {
    "name": "ipython",
    "version": 2
   },
   "file_extension": ".py",
   "mimetype": "text/x-python",
   "name": "python",
   "nbconvert_exporter": "python",
   "pygments_lexer": "ipython2",
   "version": "2.7.6"
  }
 },
 "nbformat": 4,
 "nbformat_minor": 0
}