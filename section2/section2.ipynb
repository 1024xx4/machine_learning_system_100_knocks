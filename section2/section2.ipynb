{
 "cells": [
  {
   "cell_type": "markdown",
   "source": [
    "### Knock11: Data を読み込んで不要なものを除外しよう"
   ],
   "metadata": {
    "collapsed": false,
    "pycharm": {
     "name": "#%% md\n"
    }
   }
  },
  {
   "cell_type": "code",
   "execution_count": 1,
   "outputs": [
    {
     "name": "stdout",
     "output_type": "stream",
     "text": [
      "703880\n"
     ]
    },
    {
     "data": {
      "text/plain": "   order_id  store_id customer_id  coupon_cd  sales_detail_id  \\\n0  79339111        49   C26387220         50         67393872   \n1  18941733        85   C48773811         26         91834983   \n2  56217880        76   C66287421         36         64409634   \n3  28447783       190   C41156423         19         73032165   \n4  32576156       191   C54568117         71         23281182   \n\n     order_accept_date       delivered_date  takeout_flag  total_amount  \\\n0  2020-04-01 11:00:00  2020-04-01 11:18:00             1          4144   \n1  2020-04-01 11:00:00  2020-04-01 11:22:00             0          2877   \n2  2020-04-01 11:00:00  2020-04-01 11:15:00             0          2603   \n3  2020-04-01 11:00:00  2020-04-01 11:16:00             0          2732   \n4  2020-04-01 11:00:00  2020-04-01 11:53:00             0          2987   \n\n   status store_name area_cd wide_area narrow_area takeout_name status_name  \n0       1        浅草店      TK        東京          東京        お持ち帰り        お支払済  \n1       2        目黒店      TK        東京          東京        デリバリー        お渡し済  \n2       2        本郷店      TK        東京          東京        デリバリー        お渡し済  \n3       2        栃木店      TO       北関東          栃木        デリバリー        お渡し済  \n4       2       伊勢崎店      GU       北関東          群馬        デリバリー        お渡し済  ",
      "text/html": "<div>\n<style scoped>\n    .dataframe tbody tr th:only-of-type {\n        vertical-align: middle;\n    }\n\n    .dataframe tbody tr th {\n        vertical-align: top;\n    }\n\n    .dataframe thead th {\n        text-align: right;\n    }\n</style>\n<table border=\"1\" class=\"dataframe\">\n  <thead>\n    <tr style=\"text-align: right;\">\n      <th></th>\n      <th>order_id</th>\n      <th>store_id</th>\n      <th>customer_id</th>\n      <th>coupon_cd</th>\n      <th>sales_detail_id</th>\n      <th>order_accept_date</th>\n      <th>delivered_date</th>\n      <th>takeout_flag</th>\n      <th>total_amount</th>\n      <th>status</th>\n      <th>store_name</th>\n      <th>area_cd</th>\n      <th>wide_area</th>\n      <th>narrow_area</th>\n      <th>takeout_name</th>\n      <th>status_name</th>\n    </tr>\n  </thead>\n  <tbody>\n    <tr>\n      <th>0</th>\n      <td>79339111</td>\n      <td>49</td>\n      <td>C26387220</td>\n      <td>50</td>\n      <td>67393872</td>\n      <td>2020-04-01 11:00:00</td>\n      <td>2020-04-01 11:18:00</td>\n      <td>1</td>\n      <td>4144</td>\n      <td>1</td>\n      <td>浅草店</td>\n      <td>TK</td>\n      <td>東京</td>\n      <td>東京</td>\n      <td>お持ち帰り</td>\n      <td>お支払済</td>\n    </tr>\n    <tr>\n      <th>1</th>\n      <td>18941733</td>\n      <td>85</td>\n      <td>C48773811</td>\n      <td>26</td>\n      <td>91834983</td>\n      <td>2020-04-01 11:00:00</td>\n      <td>2020-04-01 11:22:00</td>\n      <td>0</td>\n      <td>2877</td>\n      <td>2</td>\n      <td>目黒店</td>\n      <td>TK</td>\n      <td>東京</td>\n      <td>東京</td>\n      <td>デリバリー</td>\n      <td>お渡し済</td>\n    </tr>\n    <tr>\n      <th>2</th>\n      <td>56217880</td>\n      <td>76</td>\n      <td>C66287421</td>\n      <td>36</td>\n      <td>64409634</td>\n      <td>2020-04-01 11:00:00</td>\n      <td>2020-04-01 11:15:00</td>\n      <td>0</td>\n      <td>2603</td>\n      <td>2</td>\n      <td>本郷店</td>\n      <td>TK</td>\n      <td>東京</td>\n      <td>東京</td>\n      <td>デリバリー</td>\n      <td>お渡し済</td>\n    </tr>\n    <tr>\n      <th>3</th>\n      <td>28447783</td>\n      <td>190</td>\n      <td>C41156423</td>\n      <td>19</td>\n      <td>73032165</td>\n      <td>2020-04-01 11:00:00</td>\n      <td>2020-04-01 11:16:00</td>\n      <td>0</td>\n      <td>2732</td>\n      <td>2</td>\n      <td>栃木店</td>\n      <td>TO</td>\n      <td>北関東</td>\n      <td>栃木</td>\n      <td>デリバリー</td>\n      <td>お渡し済</td>\n    </tr>\n    <tr>\n      <th>4</th>\n      <td>32576156</td>\n      <td>191</td>\n      <td>C54568117</td>\n      <td>71</td>\n      <td>23281182</td>\n      <td>2020-04-01 11:00:00</td>\n      <td>2020-04-01 11:53:00</td>\n      <td>0</td>\n      <td>2987</td>\n      <td>2</td>\n      <td>伊勢崎店</td>\n      <td>GU</td>\n      <td>北関東</td>\n      <td>群馬</td>\n      <td>デリバリー</td>\n      <td>お渡し済</td>\n    </tr>\n  </tbody>\n</table>\n</div>"
     },
     "execution_count": 1,
     "metadata": {},
     "output_type": "execute_result"
    }
   ],
   "source": [
    "# 注文 Data を読み込み中身を確認\n",
    "import pandas as pd\n",
    "\n",
    "order_data = pd.read_csv('order_data.csv')\n",
    "print(order_data.shape[0])\n",
    "order_data.head()"
   ],
   "metadata": {
    "collapsed": false,
    "pycharm": {
     "name": "#%%\n"
    }
   }
  },
  {
   "cell_type": "code",
   "execution_count": 2,
   "outputs": [
    {
     "name": "stdout",
     "output_type": "stream",
     "text": [
      "574436\n"
     ]
    },
    {
     "data": {
      "text/plain": "Index(['order_id', 'store_id', 'customer_id', 'coupon_cd', 'sales_detail_id',\n       'order_accept_date', 'delivered_date', 'takeout_flag', 'total_amount',\n       'status', 'store_name', 'area_cd', 'wide_area', 'narrow_area',\n       'takeout_name', 'status_name'],\n      dtype='object')"
     },
     "execution_count": 2,
     "metadata": {},
     "output_type": "execute_result"
    }
   ],
   "source": [
    "# 今回の分析で必要ない Data を除外\n",
    "order_data = order_data.loc[\n",
    "    (order_data['status'] == 1)\n",
    "    | (order_data['status'] == 2)\n",
    "    ]\n",
    "print(order_data.shape[0])\n",
    "order_data.columns"
   ],
   "metadata": {
    "collapsed": false,
    "pycharm": {
     "name": "#%%\n"
    }
   }
  },
  {
   "cell_type": "markdown",
   "source": [
    "金額が Main の分析対象になるため、受付(status=0), キャンセル(status=9)は、除外"
   ],
   "metadata": {
    "collapsed": false,
    "pycharm": {
     "name": "#%% md\n"
    }
   }
  },
  {
   "cell_type": "code",
   "execution_count": 3,
   "outputs": [
    {
     "name": "stdout",
     "output_type": "stream",
     "text": [
      "(574436, 11)\n"
     ]
    },
    {
     "data": {
      "text/plain": "   store_id customer_id  coupon_cd    order_accept_date       delivered_date  \\\n0        49   C26387220         50  2020-04-01 11:00:00  2020-04-01 11:18:00   \n1        85   C48773811         26  2020-04-01 11:00:00  2020-04-01 11:22:00   \n2        76   C66287421         36  2020-04-01 11:00:00  2020-04-01 11:15:00   \n3       190   C41156423         19  2020-04-01 11:00:00  2020-04-01 11:16:00   \n4       191   C54568117         71  2020-04-01 11:00:00  2020-04-01 11:53:00   \n\n   total_amount store_name wide_area narrow_area takeout_name status_name  \n0          4144        浅草店        東京          東京        お持ち帰り        お支払済  \n1          2877        目黒店        東京          東京        デリバリー        お渡し済  \n2          2603        本郷店        東京          東京        デリバリー        お渡し済  \n3          2732        栃木店       北関東          栃木        デリバリー        お渡し済  \n4          2987       伊勢崎店       北関東          群馬        デリバリー        お渡し済  ",
      "text/html": "<div>\n<style scoped>\n    .dataframe tbody tr th:only-of-type {\n        vertical-align: middle;\n    }\n\n    .dataframe tbody tr th {\n        vertical-align: top;\n    }\n\n    .dataframe thead th {\n        text-align: right;\n    }\n</style>\n<table border=\"1\" class=\"dataframe\">\n  <thead>\n    <tr style=\"text-align: right;\">\n      <th></th>\n      <th>store_id</th>\n      <th>customer_id</th>\n      <th>coupon_cd</th>\n      <th>order_accept_date</th>\n      <th>delivered_date</th>\n      <th>total_amount</th>\n      <th>store_name</th>\n      <th>wide_area</th>\n      <th>narrow_area</th>\n      <th>takeout_name</th>\n      <th>status_name</th>\n    </tr>\n  </thead>\n  <tbody>\n    <tr>\n      <th>0</th>\n      <td>49</td>\n      <td>C26387220</td>\n      <td>50</td>\n      <td>2020-04-01 11:00:00</td>\n      <td>2020-04-01 11:18:00</td>\n      <td>4144</td>\n      <td>浅草店</td>\n      <td>東京</td>\n      <td>東京</td>\n      <td>お持ち帰り</td>\n      <td>お支払済</td>\n    </tr>\n    <tr>\n      <th>1</th>\n      <td>85</td>\n      <td>C48773811</td>\n      <td>26</td>\n      <td>2020-04-01 11:00:00</td>\n      <td>2020-04-01 11:22:00</td>\n      <td>2877</td>\n      <td>目黒店</td>\n      <td>東京</td>\n      <td>東京</td>\n      <td>デリバリー</td>\n      <td>お渡し済</td>\n    </tr>\n    <tr>\n      <th>2</th>\n      <td>76</td>\n      <td>C66287421</td>\n      <td>36</td>\n      <td>2020-04-01 11:00:00</td>\n      <td>2020-04-01 11:15:00</td>\n      <td>2603</td>\n      <td>本郷店</td>\n      <td>東京</td>\n      <td>東京</td>\n      <td>デリバリー</td>\n      <td>お渡し済</td>\n    </tr>\n    <tr>\n      <th>3</th>\n      <td>190</td>\n      <td>C41156423</td>\n      <td>19</td>\n      <td>2020-04-01 11:00:00</td>\n      <td>2020-04-01 11:16:00</td>\n      <td>2732</td>\n      <td>栃木店</td>\n      <td>北関東</td>\n      <td>栃木</td>\n      <td>デリバリー</td>\n      <td>お渡し済</td>\n    </tr>\n    <tr>\n      <th>4</th>\n      <td>191</td>\n      <td>C54568117</td>\n      <td>71</td>\n      <td>2020-04-01 11:00:00</td>\n      <td>2020-04-01 11:53:00</td>\n      <td>2987</td>\n      <td>伊勢崎店</td>\n      <td>北関東</td>\n      <td>群馬</td>\n      <td>デリバリー</td>\n      <td>お渡し済</td>\n    </tr>\n  </tbody>\n</table>\n</div>"
     },
     "execution_count": 3,
     "metadata": {},
     "output_type": "execute_result"
    }
   ],
   "source": [
    "# 不要な項目を除外\n",
    "analyze_data = order_data[\n",
    "    ['store_id', 'customer_id', 'coupon_cd', 'order_accept_date', 'delivered_date', 'total_amount', 'store_name',\n",
    "     'wide_area', 'narrow_area', 'takeout_name', 'status_name']]\n",
    "print(analyze_data.shape)\n",
    "analyze_data.head()"
   ],
   "metadata": {
    "collapsed": false,
    "pycharm": {
     "name": "#%%\n"
    }
   }
  },
  {
   "cell_type": "markdown",
   "source": [
    "Record 数や項目数が非常に多い Data を扱う場合、処理対象の Data をなるべく少なくしておいた方が\n",
    "- 処理速度\n",
    "- Memory 使用量\n",
    "\n",
    "の面で良い。"
   ],
   "metadata": {
    "collapsed": false,
    "pycharm": {
     "name": "#%% md\n"
    }
   }
  },
  {
   "cell_type": "markdown",
   "source": [
    "### Knock12: Data の全体像を把握しよう"
   ],
   "metadata": {
    "collapsed": false,
    "pycharm": {
     "name": "#%% md\n"
    }
   }
  },
  {
   "cell_type": "code",
   "execution_count": 4,
   "outputs": [
    {
     "data": {
      "text/plain": "            store_id      coupon_cd   total_amount\ncount  574436.000000  574436.000000  574436.000000\nmean       99.113844      49.478758    2960.087555\nstd        55.913615      28.888993     954.282731\nmin         1.000000       0.000000     698.000000\n25%        51.000000      24.000000    2308.000000\n50%        99.000000      49.000000    2808.000000\n75%       147.000000      75.000000    3617.000000\nmax       196.000000      99.000000    5100.000000",
      "text/html": "<div>\n<style scoped>\n    .dataframe tbody tr th:only-of-type {\n        vertical-align: middle;\n    }\n\n    .dataframe tbody tr th {\n        vertical-align: top;\n    }\n\n    .dataframe thead th {\n        text-align: right;\n    }\n</style>\n<table border=\"1\" class=\"dataframe\">\n  <thead>\n    <tr style=\"text-align: right;\">\n      <th></th>\n      <th>store_id</th>\n      <th>coupon_cd</th>\n      <th>total_amount</th>\n    </tr>\n  </thead>\n  <tbody>\n    <tr>\n      <th>count</th>\n      <td>574436.000000</td>\n      <td>574436.000000</td>\n      <td>574436.000000</td>\n    </tr>\n    <tr>\n      <th>mean</th>\n      <td>99.113844</td>\n      <td>49.478758</td>\n      <td>2960.087555</td>\n    </tr>\n    <tr>\n      <th>std</th>\n      <td>55.913615</td>\n      <td>28.888993</td>\n      <td>954.282731</td>\n    </tr>\n    <tr>\n      <th>min</th>\n      <td>1.000000</td>\n      <td>0.000000</td>\n      <td>698.000000</td>\n    </tr>\n    <tr>\n      <th>25%</th>\n      <td>51.000000</td>\n      <td>24.000000</td>\n      <td>2308.000000</td>\n    </tr>\n    <tr>\n      <th>50%</th>\n      <td>99.000000</td>\n      <td>49.000000</td>\n      <td>2808.000000</td>\n    </tr>\n    <tr>\n      <th>75%</th>\n      <td>147.000000</td>\n      <td>75.000000</td>\n      <td>3617.000000</td>\n    </tr>\n    <tr>\n      <th>max</th>\n      <td>196.000000</td>\n      <td>99.000000</td>\n      <td>5100.000000</td>\n    </tr>\n  </tbody>\n</table>\n</div>"
     },
     "execution_count": 4,
     "metadata": {},
     "output_type": "execute_result"
    }
   ],
   "source": [
    "# 分析用 Data の統計量を確認\n",
    "analyze_data.describe()"
   ],
   "metadata": {
    "collapsed": false,
    "pycharm": {
     "name": "#%%\n"
    }
   }
  },
  {
   "cell_type": "code",
   "execution_count": 5,
   "outputs": [
    {
     "data": {
      "text/plain": "store_id              int64\ncustomer_id          object\ncoupon_cd             int64\norder_accept_date    object\ndelivered_date       object\ntotal_amount          int64\nstore_name           object\nwide_area            object\nnarrow_area          object\ntakeout_name         object\nstatus_name          object\ndtype: object"
     },
     "execution_count": 5,
     "metadata": {},
     "output_type": "execute_result"
    }
   ],
   "source": [
    "# Data 型を確認\n",
    "analyze_data.dtypes"
   ],
   "metadata": {
    "collapsed": false,
    "pycharm": {
     "name": "#%%\n"
    }
   }
  },
  {
   "cell_type": "code",
   "execution_count": 6,
   "outputs": [
    {
     "name": "stderr",
     "output_type": "stream",
     "text": [
      "C:\\Users\\leone\\dsLab\\machine_learning_system_100_knocks\\.venv\\lib\\site-packages\\pandas\\core\\frame.py:2963: SettingWithCopyWarning: \n",
      "A value is trying to be set on a copy of a slice from a DataFrame.\n",
      "Try using .loc[row_indexer,col_indexer] = value instead\n",
      "\n",
      "See the caveats in the documentation: https://pandas.pydata.org/pandas-docs/stable/user_guide/indexing.html#returning-a-view-versus-a-copy\n",
      "  self[k1] = value[k2]\n"
     ]
    },
    {
     "data": {
      "text/plain": "store_id             object\ncustomer_id          object\ncoupon_cd            object\norder_accept_date    object\ndelivered_date       object\ntotal_amount          int64\nstore_name           object\nwide_area            object\nnarrow_area          object\ntakeout_name         object\nstatus_name          object\ndtype: object"
     },
     "execution_count": 6,
     "metadata": {},
     "output_type": "execute_result"
    }
   ],
   "source": [
    "# 一部の数値型の項目を文字列型に変更\n",
    "analyze_data[['store_id', 'coupon_cd']] = analyze_data[['store_id', 'coupon_cd']].astype(str)\n",
    "analyze_data.dtypes"
   ],
   "metadata": {
    "collapsed": false,
    "pycharm": {
     "name": "#%%\n"
    }
   }
  },
  {
   "cell_type": "code",
   "execution_count": 7,
   "outputs": [],
   "source": [
    "# Warning を表示しない\n",
    "import warnings\n",
    "\n",
    "warnings.filterwarnings('ignore')"
   ],
   "metadata": {
    "collapsed": false,
    "pycharm": {
     "name": "#%%\n"
    }
   }
  },
  {
   "cell_type": "code",
   "execution_count": 8,
   "outputs": [
    {
     "data": {
      "text/plain": "        total_amount\ncount  574436.000000\nmean     2960.087555\nstd       954.282731\nmin       698.000000\n25%      2308.000000\n50%      2808.000000\n75%      3617.000000\nmax      5100.000000",
      "text/html": "<div>\n<style scoped>\n    .dataframe tbody tr th:only-of-type {\n        vertical-align: middle;\n    }\n\n    .dataframe tbody tr th {\n        vertical-align: top;\n    }\n\n    .dataframe thead th {\n        text-align: right;\n    }\n</style>\n<table border=\"1\" class=\"dataframe\">\n  <thead>\n    <tr style=\"text-align: right;\">\n      <th></th>\n      <th>total_amount</th>\n    </tr>\n  </thead>\n  <tbody>\n    <tr>\n      <th>count</th>\n      <td>574436.000000</td>\n    </tr>\n    <tr>\n      <th>mean</th>\n      <td>2960.087555</td>\n    </tr>\n    <tr>\n      <th>std</th>\n      <td>954.282731</td>\n    </tr>\n    <tr>\n      <th>min</th>\n      <td>698.000000</td>\n    </tr>\n    <tr>\n      <th>25%</th>\n      <td>2308.000000</td>\n    </tr>\n    <tr>\n      <th>50%</th>\n      <td>2808.000000</td>\n    </tr>\n    <tr>\n      <th>75%</th>\n      <td>3617.000000</td>\n    </tr>\n    <tr>\n      <th>max</th>\n      <td>5100.000000</td>\n    </tr>\n  </tbody>\n</table>\n</div>"
     },
     "execution_count": 8,
     "metadata": {},
     "output_type": "execute_result"
    }
   ],
   "source": [
    "analyze_data.describe()"
   ],
   "metadata": {
    "collapsed": false,
    "pycharm": {
     "name": "#%%\n"
    }
   }
  },
  {
   "cell_type": "markdown",
   "source": [
    "ここで確認できる値\n",
    "- 全体としての統計\n",
    "- Pizza chain の Group 全体としての売上がどうなのか"
   ],
   "metadata": {
    "collapsed": false,
    "pycharm": {
     "name": "#%% md\n"
    }
   }
  },
  {
   "cell_type": "markdown",
   "source": [
    "### Knock13: 月別の売上を集計してみよう\n",
    "Data を月別に集計していく"
   ],
   "metadata": {
    "collapsed": false,
    "pycharm": {
     "name": "#%% md\n"
    }
   }
  },
  {
   "cell_type": "code",
   "execution_count": 9,
   "outputs": [
    {
     "data": {
      "text/plain": "    order_accept_date order_accept_month\n0 2020-04-01 11:00:00             202004\n1 2020-04-01 11:00:00             202004\n2 2020-04-01 11:00:00             202004\n3 2020-04-01 11:00:00             202004\n4 2020-04-01 11:00:00             202004",
      "text/html": "<div>\n<style scoped>\n    .dataframe tbody tr th:only-of-type {\n        vertical-align: middle;\n    }\n\n    .dataframe tbody tr th {\n        vertical-align: top;\n    }\n\n    .dataframe thead th {\n        text-align: right;\n    }\n</style>\n<table border=\"1\" class=\"dataframe\">\n  <thead>\n    <tr style=\"text-align: right;\">\n      <th></th>\n      <th>order_accept_date</th>\n      <th>order_accept_month</th>\n    </tr>\n  </thead>\n  <tbody>\n    <tr>\n      <th>0</th>\n      <td>2020-04-01 11:00:00</td>\n      <td>202004</td>\n    </tr>\n    <tr>\n      <th>1</th>\n      <td>2020-04-01 11:00:00</td>\n      <td>202004</td>\n    </tr>\n    <tr>\n      <th>2</th>\n      <td>2020-04-01 11:00:00</td>\n      <td>202004</td>\n    </tr>\n    <tr>\n      <th>3</th>\n      <td>2020-04-01 11:00:00</td>\n      <td>202004</td>\n    </tr>\n    <tr>\n      <th>4</th>\n      <td>2020-04-01 11:00:00</td>\n      <td>202004</td>\n    </tr>\n  </tbody>\n</table>\n</div>"
     },
     "execution_count": 9,
     "metadata": {},
     "output_type": "execute_result"
    }
   ],
   "source": [
    "# 日時の項目を Datetime型に変換し年月項目を作成\n",
    "analyze_data['order_accept_date'] = pd.to_datetime(analyze_data['order_accept_date'])\n",
    "analyze_data['order_accept_month'] = analyze_data['order_accept_date'].dt.strftime('%Y%m')\n",
    "analyze_data[['order_accept_date', 'order_accept_month']].head()"
   ],
   "metadata": {
    "collapsed": false,
    "pycharm": {
     "name": "#%%\n"
    }
   }
  },
  {
   "cell_type": "code",
   "execution_count": 10,
   "outputs": [
    {
     "data": {
      "text/plain": "       delivered_date delivered_month\n0 2020-04-01 11:18:00          202004\n1 2020-04-01 11:22:00          202004\n2 2020-04-01 11:15:00          202004\n3 2020-04-01 11:16:00          202004\n4 2020-04-01 11:53:00          202004",
      "text/html": "<div>\n<style scoped>\n    .dataframe tbody tr th:only-of-type {\n        vertical-align: middle;\n    }\n\n    .dataframe tbody tr th {\n        vertical-align: top;\n    }\n\n    .dataframe thead th {\n        text-align: right;\n    }\n</style>\n<table border=\"1\" class=\"dataframe\">\n  <thead>\n    <tr style=\"text-align: right;\">\n      <th></th>\n      <th>delivered_date</th>\n      <th>delivered_month</th>\n    </tr>\n  </thead>\n  <tbody>\n    <tr>\n      <th>0</th>\n      <td>2020-04-01 11:18:00</td>\n      <td>202004</td>\n    </tr>\n    <tr>\n      <th>1</th>\n      <td>2020-04-01 11:22:00</td>\n      <td>202004</td>\n    </tr>\n    <tr>\n      <th>2</th>\n      <td>2020-04-01 11:15:00</td>\n      <td>202004</td>\n    </tr>\n    <tr>\n      <th>3</th>\n      <td>2020-04-01 11:16:00</td>\n      <td>202004</td>\n    </tr>\n    <tr>\n      <th>4</th>\n      <td>2020-04-01 11:53:00</td>\n      <td>202004</td>\n    </tr>\n  </tbody>\n</table>\n</div>"
     },
     "execution_count": 10,
     "metadata": {},
     "output_type": "execute_result"
    }
   ],
   "source": [
    "# delivered_date も同様に型変換\n",
    "analyze_data['delivered_date'] = pd.to_datetime(analyze_data['delivered_date'])\n",
    "analyze_data['delivered_month'] = analyze_data['delivered_date'].dt.strftime('%Y%m')\n",
    "analyze_data[['delivered_date', 'delivered_month']].head()"
   ],
   "metadata": {
    "collapsed": false,
    "pycharm": {
     "name": "#%%\n"
    }
   }
  },
  {
   "cell_type": "markdown",
   "source": [
    "- 複数の日時項目が存在する場合、各項目の差分を計算して所要日数や所要時間を取得する Case もある。\n",
    "- 型の変換が中途半端だと、いざ使用とした時に混乱することがある為、すぐ使用しなくても型は揃えておくのが良い。"
   ],
   "metadata": {
    "collapsed": false,
    "pycharm": {
     "name": "#%% md\n"
    }
   }
  },
  {
   "cell_type": "code",
   "execution_count": 11,
   "outputs": [
    {
     "data": {
      "text/plain": "store_id                      object\ncustomer_id                   object\ncoupon_cd                     object\norder_accept_date     datetime64[ns]\ndelivered_date        datetime64[ns]\ntotal_amount                   int64\nstore_name                    object\nwide_area                     object\nnarrow_area                   object\ntakeout_name                  object\nstatus_name                   object\norder_accept_month            object\ndelivered_month               object\ndtype: object"
     },
     "execution_count": 11,
     "metadata": {},
     "output_type": "execute_result"
    }
   ],
   "source": [
    "# Data 型の確認\n",
    "analyze_data.dtypes"
   ],
   "metadata": {
    "collapsed": false,
    "pycharm": {
     "name": "#%%\n"
    }
   }
  },
  {
   "cell_type": "code",
   "execution_count": 12,
   "outputs": [
    {
     "data": {
      "text/plain": "                   total_amount                                          \\\n                          count         mean         std    min     25%   \norder_accept_month                                                        \n202004                 189414.0  2959.440638  954.271169  698.0  2308.0   \n202005                 195684.0  2960.327799  954.823248  698.0  2308.0   \n202006                 189338.0  2960.486437  953.740057  698.0  2308.0   \n\n                                            \n                       50%     75%     max  \norder_accept_month                          \n202004              2808.0  3586.0  5100.0  \n202005              2808.0  3586.0  5100.0  \n202006              2808.0  3617.0  5100.0  ",
      "text/html": "<div>\n<style scoped>\n    .dataframe tbody tr th:only-of-type {\n        vertical-align: middle;\n    }\n\n    .dataframe tbody tr th {\n        vertical-align: top;\n    }\n\n    .dataframe thead tr th {\n        text-align: left;\n    }\n\n    .dataframe thead tr:last-of-type th {\n        text-align: right;\n    }\n</style>\n<table border=\"1\" class=\"dataframe\">\n  <thead>\n    <tr>\n      <th></th>\n      <th colspan=\"8\" halign=\"left\">total_amount</th>\n    </tr>\n    <tr>\n      <th></th>\n      <th>count</th>\n      <th>mean</th>\n      <th>std</th>\n      <th>min</th>\n      <th>25%</th>\n      <th>50%</th>\n      <th>75%</th>\n      <th>max</th>\n    </tr>\n    <tr>\n      <th>order_accept_month</th>\n      <th></th>\n      <th></th>\n      <th></th>\n      <th></th>\n      <th></th>\n      <th></th>\n      <th></th>\n      <th></th>\n    </tr>\n  </thead>\n  <tbody>\n    <tr>\n      <th>202004</th>\n      <td>189414.0</td>\n      <td>2959.440638</td>\n      <td>954.271169</td>\n      <td>698.0</td>\n      <td>2308.0</td>\n      <td>2808.0</td>\n      <td>3586.0</td>\n      <td>5100.0</td>\n    </tr>\n    <tr>\n      <th>202005</th>\n      <td>195684.0</td>\n      <td>2960.327799</td>\n      <td>954.823248</td>\n      <td>698.0</td>\n      <td>2308.0</td>\n      <td>2808.0</td>\n      <td>3586.0</td>\n      <td>5100.0</td>\n    </tr>\n    <tr>\n      <th>202006</th>\n      <td>189338.0</td>\n      <td>2960.486437</td>\n      <td>953.740057</td>\n      <td>698.0</td>\n      <td>2308.0</td>\n      <td>2808.0</td>\n      <td>3617.0</td>\n      <td>5100.0</td>\n    </tr>\n  </tbody>\n</table>\n</div>"
     },
     "execution_count": 12,
     "metadata": {},
     "output_type": "execute_result"
    }
   ],
   "source": [
    "# 統計 Data を月月で確認\n",
    "month_data = analyze_data.groupby('order_accept_month')\n",
    "month_data.describe()"
   ],
   "metadata": {
    "collapsed": false,
    "pycharm": {
     "name": "#%%\n"
    }
   }
  },
  {
   "cell_type": "code",
   "execution_count": 13,
   "outputs": [
    {
     "data": {
      "text/plain": "                    total_amount\norder_accept_month              \n202004                 560559489\n202005                 579288785\n202006                 560532581",
      "text/html": "<div>\n<style scoped>\n    .dataframe tbody tr th:only-of-type {\n        vertical-align: middle;\n    }\n\n    .dataframe tbody tr th {\n        vertical-align: top;\n    }\n\n    .dataframe thead th {\n        text-align: right;\n    }\n</style>\n<table border=\"1\" class=\"dataframe\">\n  <thead>\n    <tr style=\"text-align: right;\">\n      <th></th>\n      <th>total_amount</th>\n    </tr>\n    <tr>\n      <th>order_accept_month</th>\n      <th></th>\n    </tr>\n  </thead>\n  <tbody>\n    <tr>\n      <th>202004</th>\n      <td>560559489</td>\n    </tr>\n    <tr>\n      <th>202005</th>\n      <td>579288785</td>\n    </tr>\n    <tr>\n      <th>202006</th>\n      <td>560532581</td>\n    </tr>\n  </tbody>\n</table>\n</div>"
     },
     "execution_count": 13,
     "metadata": {},
     "output_type": "execute_result"
    }
   ],
   "source": [
    "# 合計金額の確認\n",
    "month_data.sum()"
   ],
   "metadata": {
    "collapsed": false,
    "pycharm": {
     "name": "#%%\n"
    }
   }
  },
  {
   "cell_type": "markdown",
   "source": [
    "#### 集計\n",
    "- 月別\n",
    "- 地域別\n",
    "- 店舗別\n",
    "\n",
    "集計する視点を変えることで、Simple に分析を始めていくことができる。"
   ],
   "metadata": {
    "collapsed": false,
    "pycharm": {
     "name": "#%% md\n"
    }
   }
  },
  {
   "cell_type": "code",
   "execution_count": 13,
   "outputs": [],
   "source": [],
   "metadata": {
    "collapsed": false,
    "pycharm": {
     "name": "#%%\n"
    }
   }
  }
 ],
 "metadata": {
  "kernelspec": {
   "display_name": "Python 3",
   "language": "python",
   "name": "python3"
  },
  "language_info": {
   "codemirror_mode": {
    "name": "ipython",
    "version": 2
   },
   "file_extension": ".py",
   "mimetype": "text/x-python",
   "name": "python",
   "nbconvert_exporter": "python",
   "pygments_lexer": "ipython2",
   "version": "2.7.6"
  }
 },
 "nbformat": 4,
 "nbformat_minor": 0
}