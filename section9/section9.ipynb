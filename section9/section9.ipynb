{
 "cells": [
  {
   "cell_type": "markdown",
   "source": [
    "### Knock81: Directory を生成して初期の変数定義をしよう\n",
    "- Data flow を考え、押さえるべき Data を把握する"
   ],
   "metadata": {
    "collapsed": false,
    "pycharm": {
     "name": "#%% md\n"
    }
   }
  },
  {
   "cell_type": "code",
   "execution_count": 1,
   "outputs": [],
   "source": [
    "# Directory 作成\n",
    "import os\n",
    "\n",
    "data_dir = 'data'\n",
    "input_dir = os.path.join(data_dir, '00_imput')\n",
    "store_monthly_dir = os.path.join(data_dir, '01_store_monthly')\n",
    "ml_base_dir = os.path.join(data_dir, '02_ml_base')\n",
    "\n",
    "output_ml_result_dir = os.path.join(data_dir, '10_output_ml_result')\n",
    "output_report_dir = os.path.join(data_dir, '11_output_report')\n",
    "\n",
    "master_dir = os.path.join(data_dir, '99_master')\n",
    "model_dir = 'models'\n",
    "\n",
    "os.makedirs(input_dir, exist_ok=True)\n",
    "os.makedirs(store_monthly_dir, exist_ok=True)\n",
    "os.makedirs(ml_base_dir, exist_ok=True)\n",
    "os.makedirs(output_ml_result_dir, exist_ok=True)\n",
    "os.makedirs(output_report_dir, exist_ok=True)\n",
    "os.makedirs(master_dir, exist_ok=True)\n",
    "os.makedirs(model_dir, exist_ok=True)"
   ],
   "metadata": {
    "collapsed": false,
    "pycharm": {
     "name": "#%%\n"
    }
   }
  },
  {
   "cell_type": "code",
   "execution_count": 2,
   "outputs": [],
   "source": [
    "# 初期変数定義\n",
    "tg_ym = '202004'\n",
    "\n",
    "target_file = 'tbl_order_' + tg_ym + '.csv'\n",
    "m_area_file = 'm_area.csv'\n",
    "m_store_file = 'm_store.csv'\n",
    "store_monthly_file = 'store_monthly_data.csv'\n",
    "ml_base_file = 'ml_base_data.csv'"
   ],
   "metadata": {
    "collapsed": false,
    "pycharm": {
     "name": "#%%\n"
    }
   }
  },
  {
   "cell_type": "markdown",
   "source": [
    "- 対象を指定するような変数は、一番先頭に持ってくると、変更箇所が分かりやすく間違いが起きにくくなる。\n",
    "- System を固くする場合は config file 等で指定するかたちにする、など検討する。"
   ],
   "metadata": {
    "collapsed": false,
    "pycharm": {
     "name": "#%% md\n"
    }
   }
  },
  {
   "cell_type": "markdown",
   "source": [
    "### Knock82: 更新 Data を読み込んで店舗別 Data を作成しよう"
   ],
   "metadata": {
    "collapsed": false,
    "pycharm": {
     "name": "#%% md\n"
    }
   }
  },
  {
   "cell_type": "code",
   "execution_count": 3,
   "outputs": [
    {
     "name": "stdout",
     "output_type": "stream",
     "text": [
      "日付が一致しました\n"
     ]
    }
   ],
   "source": [
    "# 更新 Data の読み込み\n",
    "import pandas as pd\n",
    "\n",
    "m_area = pd.read_csv(os.path.join(master_dir, m_area_file))\n",
    "m_store = pd.read_csv(os.path.join(master_dir, m_store_file))\n",
    "target_data = pd.read_csv(os.path.join(input_dir, target_file))\n",
    "\n",
    "import datetime\n",
    "\n",
    "max_date = pd.to_datetime(target_data['order_accept_date']).max()\n",
    "min_date = pd.to_datetime(target_data['order_accept_date']).min()\n",
    "max_str_date = max_date.strftime('%Y%m')\n",
    "min_str_date = min_date.strftime('%Y%m')\n",
    "\n",
    "if tg_ym == min_str_date and tg_ym == max_str_date:\n",
    "    print('日付が一致しました')\n",
    "else:\n",
    "    raise Exception('日付が一致しません')"
   ],
   "metadata": {
    "collapsed": false,
    "pycharm": {
     "name": "#%%\n"
    }
   }
  },
  {
   "cell_type": "code",
   "execution_count": 4,
   "outputs": [],
   "source": [
    "# 店舗別集権を行なうための関数\n",
    "def calc_delta(t):\n",
    "    t1, t2 = t\n",
    "    delta = t2 - t1\n",
    "    return delta.total_seconds() / 60\n",
    "\n",
    "\n",
    "def data_processing(order_data):\n",
    "    order_data = order_data.loc[order_data['store_id'] != 999]\n",
    "    order_data = pd.merge(order_data, m_store, on='store_id', how='left')\n",
    "    order_data = pd.merge(order_data, m_area, on='area_cd', how='left')\n",
    "    order_data.loc[order_data['takeout_flag'] == 0, 'takeout_name'] = 'デリバリー'\n",
    "    order_data.loc[order_data['takeout_flag'] == 1, 'takeout_name'] = 'お持ち帰り'\n",
    "    order_data.loc[order_data['status'] == 0, 'status_name'] = '受付'\n",
    "    order_data.loc[order_data['status'] == 1, 'status_name'] = 'お支払済'\n",
    "    order_data.loc[order_data['status'] == 2, 'status_name'] = 'お渡し済'\n",
    "    order_data.loc[order_data['status'] == 9, 'status_name'] = 'キャンセル'\n",
    "\n",
    "    order_data.loc[:, 'order_accept_datetime'] = pd.to_datetime(order_data['order_accept_date'])\n",
    "    order_data.loc[:, 'delivered_datetime'] = pd.to_datetime(order_data['delivered_date'])\n",
    "    order_data.loc[:, 'delta'] = order_data[['order_accept_datetime', 'delivered_datetime']].apply(calc_delta, axis=1)\n",
    "    order_data.loc[:, 'order_accept_hour'] = order_data['order_accept_datetime'].dt.hour\n",
    "    order_data.loc[:, 'order_accept_weekday'] = order_data['order_accept_datetime'].dt.weekday\n",
    "    order_data.loc[order_data['order_accept_weekday'] >= 5, 'weekday_info'] = '休日'\n",
    "    order_data.loc[order_data['order_accept_weekday'] < 5, 'weekday_info'] = '平日'\n",
    "\n",
    "    store_data = order_data.groupby(['store_name']).count()[['order_id']]\n",
    "    store_f = order_data.loc[\n",
    "        (order_data['status_name'] == 'お渡し済')\n",
    "        | (order_data['status_name'] == 'お支払済')\n",
    "        ].groupby(['store_name']).count()[['order_id']]\n",
    "    store_c = order_data.loc[order_data['status_name'] == 'キャンセル'].groupby(['store_name']).count()[['order_id']]\n",
    "    store_d = order_data.loc[order_data['takeout_name'] == 'デリバリー'].groupby(['store_name']).count()[['order_id']]\n",
    "    store_t = order_data.loc[order_data['takeout_name'] == 'お持ち帰り'].groupby(['store_name']).count()[['order_id']]\n",
    "    store_weekday = order_data.loc[order_data['weekday_info'] == '平日'].groupby(['store_name']).count()[['order_id']]\n",
    "    store_weekend = order_data.loc[order_data['weekday_info'] == '休日'].groupby(['store_name']).count()[['order_id']]\n",
    "\n",
    "    times = order_data['order_accept_hour'].unique()\n",
    "    store_time = []\n",
    "    for time in times:\n",
    "        time_tmp = order_data.loc[order_data['order_accept_hour'] == time].groupby(['store_name']).count()[['order_id']]\n",
    "        time_tmp.columns = [f\"order_time_{time}\"]\n",
    "        store_time.append(time_tmp)\n",
    "    store_time = pd.concat(store_time, axis=1)\n",
    "    store_delta = order_data.loc[order_data['status_name'] != 'キャンセル'].groupby(['store_name']).mean()[['delta']]\n",
    "    store_data.columns = ['order']\n",
    "    store_f.columns = ['order_fin']\n",
    "    store_c.columns = ['order_cancel']\n",
    "    store_d.columns = ['order_delivery']\n",
    "    store_t.columns = ['order_takeout']\n",
    "    store_delta.columns = ['delta_avg']\n",
    "    store_weekday.columns = ['order_weekday']\n",
    "    store_weekend.columns = ['order_weekend']\n",
    "    store_data = pd.concat(\n",
    "        [store_data, store_f, store_c, store_d, store_t, store_weekday, store_weekend, store_time, store_delta], axis=1)\n",
    "\n",
    "    return store_data"
   ],
   "metadata": {
    "collapsed": false,
    "pycharm": {
     "name": "#%%\n"
    }
   }
  },
  {
   "cell_type": "code",
   "execution_count": 5,
   "outputs": [
    {
     "data": {
      "text/plain": "  store_name  order  order_fin  order_cancel  order_delivery  order_takeout  \\\n0      あきる野店   1147        945           202             848            299   \n\n   order_weekday  order_weekend  order_time_11  order_time_12  ...  \\\n0            842            305             92            125  ...   \n\n   order_time_14  order_time_15  order_time_16  order_time_17  order_time_18  \\\n0            101             97            105            103             97   \n\n   order_time_19  order_time_20  order_time_21  delta_avg  year_month  \n0            110            109             96  34.520635      202004  \n\n[1 rows x 21 columns]",
      "text/html": "<div>\n<style scoped>\n    .dataframe tbody tr th:only-of-type {\n        vertical-align: middle;\n    }\n\n    .dataframe tbody tr th {\n        vertical-align: top;\n    }\n\n    .dataframe thead th {\n        text-align: right;\n    }\n</style>\n<table border=\"1\" class=\"dataframe\">\n  <thead>\n    <tr style=\"text-align: right;\">\n      <th></th>\n      <th>store_name</th>\n      <th>order</th>\n      <th>order_fin</th>\n      <th>order_cancel</th>\n      <th>order_delivery</th>\n      <th>order_takeout</th>\n      <th>order_weekday</th>\n      <th>order_weekend</th>\n      <th>order_time_11</th>\n      <th>order_time_12</th>\n      <th>...</th>\n      <th>order_time_14</th>\n      <th>order_time_15</th>\n      <th>order_time_16</th>\n      <th>order_time_17</th>\n      <th>order_time_18</th>\n      <th>order_time_19</th>\n      <th>order_time_20</th>\n      <th>order_time_21</th>\n      <th>delta_avg</th>\n      <th>year_month</th>\n    </tr>\n  </thead>\n  <tbody>\n    <tr>\n      <th>0</th>\n      <td>あきる野店</td>\n      <td>1147</td>\n      <td>945</td>\n      <td>202</td>\n      <td>848</td>\n      <td>299</td>\n      <td>842</td>\n      <td>305</td>\n      <td>92</td>\n      <td>125</td>\n      <td>...</td>\n      <td>101</td>\n      <td>97</td>\n      <td>105</td>\n      <td>103</td>\n      <td>97</td>\n      <td>110</td>\n      <td>109</td>\n      <td>96</td>\n      <td>34.520635</td>\n      <td>202004</td>\n    </tr>\n  </tbody>\n</table>\n<p>1 rows × 21 columns</p>\n</div>"
     },
     "execution_count": 5,
     "metadata": {},
     "output_type": "execute_result"
    }
   ],
   "source": [
    "# 店舗別集計 Data の作成\n",
    "store_data = data_processing(target_data)\n",
    "store_data.reset_index(drop=False, inplace=True)\n",
    "store_data.loc[:, 'year_month'] = tg_ym\n",
    "store_data.head(1)"
   ],
   "metadata": {
    "collapsed": false,
    "pycharm": {
     "name": "#%%\n"
    }
   }
  },
  {
   "cell_type": "markdown",
   "source": [
    "### Knock83: 月次店舗 Data の更新をしよう\n",
    "- 更新は、端的に言えば、Union すれば良いため、`pd.concat()` により結合はできる。\n",
    "- 何度も更新すると、同じ年月の同じ店舗の Data が複数存在してしまうため、重複の削除を必ず行う。その際に、最新 Data を残すようにする。"
   ],
   "metadata": {
    "collapsed": false,
    "pycharm": {
     "name": "#%% md\n"
    }
   }
  },
  {
   "cell_type": "code",
   "execution_count": 6,
   "outputs": [
    {
     "name": "stdout",
     "output_type": "stream",
     "text": [
      "更新前: 2535件\n",
      "更新後: 2535件\n"
     ]
    }
   ],
   "source": [
    "# 店舗別 Data の追加更新\n",
    "store_monthly_data = pd.read_csv(os.path.join(store_monthly_dir, store_monthly_file))\n",
    "print(f\"更新前: {len(store_monthly_data)}件\")\n",
    "store_monthly_data = pd.concat([store_monthly_data, store_data], ignore_index=True)\n",
    "store_monthly_data.loc[:, 'year_month'] = store_monthly_data['year_month'].astype(str)\n",
    "store_monthly_data.drop_duplicates(subset=['store_name', 'year_month'], inplace=True, keep='last')\n",
    "print(f\"更新後: {len(store_monthly_data)}件\")\n",
    "store_monthly_data.to_csv(os.path.join(store_monthly_dir, store_monthly_file), index=False)"
   ],
   "metadata": {
    "collapsed": false,
    "pycharm": {
     "name": "#%%\n"
    }
   }
  },
  {
   "cell_type": "markdown",
   "source": [
    "### Knock84: 機械学習用 Data の作成と更新をしよう\n",
    "目的変数を作成し、目的変数と説明変数の紐づけを行なう。"
   ],
   "metadata": {
    "collapsed": false,
    "pycharm": {
     "name": "#%% md\n"
    }
   }
  },
  {
   "cell_type": "code",
   "execution_count": 7,
   "outputs": [
    {
     "data": {
      "text/plain": "  store_name  y_weekday  y_weekend  order  order_fin  order_cancel  \\\n0      あきる野店        1.0        0.0   1147        945           202   \n1     さいたま南店        1.0        1.0   1504       1217           287   \n2     さいたま緑店        1.0        1.0   1028        847           181   \n\n   order_delivery  order_takeout  order_weekday  order_weekend  ...  \\\n0             841            306            844            303  ...   \n1            1105            399           1104            400  ...   \n2             756            272            756            272  ...   \n\n   order_time_14  order_time_15  order_time_16  order_time_17  order_time_18  \\\n0            101             95            107            106            100   \n1            143            142            137            130            113   \n2             95            102             82             90             93   \n\n   order_time_19  order_time_20  order_time_21  delta_avg  year_month  \n0            108            109             96  34.110053      201904  \n1            140            132            155  35.337716      201904  \n2             95             95             84  34.291617      201904  \n\n[3 rows x 23 columns]",
      "text/html": "<div>\n<style scoped>\n    .dataframe tbody tr th:only-of-type {\n        vertical-align: middle;\n    }\n\n    .dataframe tbody tr th {\n        vertical-align: top;\n    }\n\n    .dataframe thead th {\n        text-align: right;\n    }\n</style>\n<table border=\"1\" class=\"dataframe\">\n  <thead>\n    <tr style=\"text-align: right;\">\n      <th></th>\n      <th>store_name</th>\n      <th>y_weekday</th>\n      <th>y_weekend</th>\n      <th>order</th>\n      <th>order_fin</th>\n      <th>order_cancel</th>\n      <th>order_delivery</th>\n      <th>order_takeout</th>\n      <th>order_weekday</th>\n      <th>order_weekend</th>\n      <th>...</th>\n      <th>order_time_14</th>\n      <th>order_time_15</th>\n      <th>order_time_16</th>\n      <th>order_time_17</th>\n      <th>order_time_18</th>\n      <th>order_time_19</th>\n      <th>order_time_20</th>\n      <th>order_time_21</th>\n      <th>delta_avg</th>\n      <th>year_month</th>\n    </tr>\n  </thead>\n  <tbody>\n    <tr>\n      <th>0</th>\n      <td>あきる野店</td>\n      <td>1.0</td>\n      <td>0.0</td>\n      <td>1147</td>\n      <td>945</td>\n      <td>202</td>\n      <td>841</td>\n      <td>306</td>\n      <td>844</td>\n      <td>303</td>\n      <td>...</td>\n      <td>101</td>\n      <td>95</td>\n      <td>107</td>\n      <td>106</td>\n      <td>100</td>\n      <td>108</td>\n      <td>109</td>\n      <td>96</td>\n      <td>34.110053</td>\n      <td>201904</td>\n    </tr>\n    <tr>\n      <th>1</th>\n      <td>さいたま南店</td>\n      <td>1.0</td>\n      <td>1.0</td>\n      <td>1504</td>\n      <td>1217</td>\n      <td>287</td>\n      <td>1105</td>\n      <td>399</td>\n      <td>1104</td>\n      <td>400</td>\n      <td>...</td>\n      <td>143</td>\n      <td>142</td>\n      <td>137</td>\n      <td>130</td>\n      <td>113</td>\n      <td>140</td>\n      <td>132</td>\n      <td>155</td>\n      <td>35.337716</td>\n      <td>201904</td>\n    </tr>\n    <tr>\n      <th>2</th>\n      <td>さいたま緑店</td>\n      <td>1.0</td>\n      <td>1.0</td>\n      <td>1028</td>\n      <td>847</td>\n      <td>181</td>\n      <td>756</td>\n      <td>272</td>\n      <td>756</td>\n      <td>272</td>\n      <td>...</td>\n      <td>95</td>\n      <td>102</td>\n      <td>82</td>\n      <td>90</td>\n      <td>93</td>\n      <td>95</td>\n      <td>95</td>\n      <td>84</td>\n      <td>34.291617</td>\n      <td>201904</td>\n    </tr>\n  </tbody>\n</table>\n<p>3 rows × 23 columns</p>\n</div>"
     },
     "execution_count": 7,
     "metadata": {},
     "output_type": "execute_result"
    }
   ],
   "source": [
    "# 機械学習葉 Data の作成\n",
    "from dateutil.relativedelta import relativedelta\n",
    "\n",
    "y = store_monthly_data[['store_name', 'year_month', 'order_weekday', 'order_weekend']].copy()\n",
    "y.loc[:, 'one_month_ago'] = pd.to_datetime(y['year_month'], format='%Y%m')\n",
    "y.loc[:, 'one_month_ago'] = y['one_month_ago'].map(lambda x: x - relativedelta(months=1))\n",
    "y.loc[:, 'one_month_ago'] = y['one_month_ago'].dt.strftime('%Y%m')\n",
    "\n",
    "y_one_month_ago = y.copy()\n",
    "y_one_month_ago.rename(\n",
    "    columns={'order_weekday': 'order_weekday_one_month_ago', 'order_weekend': 'order_weekend_one_month_ago',\n",
    "             'year_month': 'year_month_for_join'}, inplace=True)\n",
    "\n",
    "y = pd.merge(y, y_one_month_ago[\n",
    "    ['store_name', 'year_month_for_join', 'order_weekday_one_month_ago', 'order_weekend_one_month_ago']],\n",
    "             left_on=['store_name', 'one_month_ago'], right_on=['store_name', 'year_month_for_join'], how='left')\n",
    "\n",
    "y.dropna(inplace=True)\n",
    "y.loc[y['order_weekday'] - y['order_weekday_one_month_ago'] > 0, 'y_weekday'] = 1\n",
    "y.loc[y['order_weekday'] - y['order_weekday_one_month_ago'] <= 0, 'y_weekday'] = 0\n",
    "y.loc[y['order_weekend'] - y['order_weekend_one_month_ago'] > 0, 'y_weekend'] = 1\n",
    "y.loc[y['order_weekend'] - y['order_weekend_one_month_ago'] <= 0, 'y_weekend'] = 0\n",
    "\n",
    "y.rename(columns={'year_month': 'target_year_month'}, inplace=True)\n",
    "y = y[['store_name', 'target_year_month', 'one_month_ago', 'y_weekday', 'y_weekend']].copy()\n",
    "ml_data = pd.merge(y, store_monthly_data, left_on=['store_name', 'one_month_ago'],\n",
    "                   right_on=['store_name', 'year_month'], how='left')\n",
    "\n",
    "del ml_data['target_year_month']\n",
    "del ml_data['one_month_ago']\n",
    "ml_data.head(3)"
   ],
   "metadata": {
    "collapsed": false,
    "pycharm": {
     "name": "#%%\n"
    }
   }
  },
  {
   "cell_type": "code",
   "execution_count": 8,
   "outputs": [
    {
     "name": "stdout",
     "output_type": "stream",
     "text": [
      "更新前: 2340件\n",
      "更新後: 2340件\n"
     ]
    }
   ],
   "source": [
    "# 機械学習 Data の作成\n",
    "ml_base_data = pd.read_csv(os.path.join(ml_base_dir, ml_base_file))\n",
    "print(f\"更新前: {len(ml_base_data)}件\")\n",
    "ml_base_data = pd.concat([ml_base_data, ml_data], ignore_index=True)\n",
    "ml_base_data.loc[:, 'year_month'] = ml_base_data['year_month'].astype(str)\n",
    "ml_base_data.drop_duplicates(subset=['store_name', 'year_month'], inplace=True, keep='last')\n",
    "print(f\"更新後: {len(ml_base_data)}件\")\n",
    "ml_base_data.to_csv(os.path.join(ml_base_dir, ml_base_file), index=False)"
   ],
   "metadata": {
    "collapsed": false,
    "pycharm": {
     "name": "#%%\n"
    }
   }
  },
  {
   "cell_type": "markdown",
   "source": [
    "### Knock85: 機械学習 Model 用の事前 Data 加工をしよう\n",
    "機械学習用に Data が更新されたら、その Data で Model 構築を行なう。"
   ],
   "metadata": {
    "collapsed": false,
    "pycharm": {
     "name": "#%% md\n"
    }
   }
  },
  {
   "cell_type": "code",
   "execution_count": 9,
   "outputs": [
    {
     "name": "stdout",
     "output_type": "stream",
     "text": [
      "Train: 1638件 / Test: 702件\n",
      "Weekday Train0: 777件\n",
      "Weekday Train1: 861件\n",
      "Weekday Test0: 311件\n",
      "Weekday Test1: 391件\n",
      "Weekend Train0: 843件\n",
      "Weekend Train1: 795件\n",
      "Weekend Test0: 355件\n",
      "Weekend Test1: 347件\n"
     ]
    }
   ],
   "source": [
    "# 機械学習用の事前 Data 加工\n",
    "\n",
    "# Categorical 変数の対応\n",
    "category_data = pd.get_dummies(ml_base_data['store_name'], prefix='store', prefix_sep='_')\n",
    "del category_data['store_麻生店']\n",
    "del ml_base_data['year_month']\n",
    "del ml_base_data['store_name']\n",
    "ml_data = pd.concat([ml_base_data, category_data], axis=1)\n",
    "\n",
    "# 学習と Test data の分割\n",
    "from sklearn.model_selection import train_test_split\n",
    "\n",
    "train_data, test_data = train_test_split(ml_base_data, test_size=0.3, random_state=0)\n",
    "print(f\"Train: {len(train_data)}件 / Test: {len(test_data)}件\")\n",
    "print(f\"Weekday Train0: {len(train_data.loc[train_data['y_weekday'] == 0])}件\")\n",
    "print(f\"Weekday Train1: {len(train_data.loc[train_data['y_weekday'] == 1])}件\")\n",
    "print(f\"Weekday Test0: {len(test_data.loc[test_data['y_weekday'] == 0])}件\")\n",
    "print(f\"Weekday Test1: {len(test_data.loc[test_data['y_weekday'] == 1])}件\")\n",
    "\n",
    "print(f\"Weekend Train0: {len(train_data.loc[train_data['y_weekend'] == 0])}件\")\n",
    "print(f\"Weekend Train1: {len(train_data.loc[train_data['y_weekend'] == 1])}件\")\n",
    "print(f\"Weekend Test0: {len(test_data.loc[test_data['y_weekend'] == 0])}件\")\n",
    "print(f\"Weekend Test1: {len(test_data.loc[test_data['y_weekend'] == 1])}件\")"
   ],
   "metadata": {
    "collapsed": false,
    "pycharm": {
     "name": "#%%\n"
    }
   }
  },
  {
   "cell_type": "markdown",
   "source": [
    "### Knock86: 機械学習 Model の構築・評価をしよう"
   ],
   "metadata": {
    "collapsed": false,
    "pycharm": {
     "name": "#%% md\n"
    }
   }
  },
  {
   "cell_type": "code",
   "execution_count": 10,
   "outputs": [],
   "source": [
    "# Model 構築および評価を行なう関数\n",
    "def make_model_and_eval(model, X_train, X_test, y_train, y_test):\n",
    "    model.fit(X_train, y_train)\n",
    "    y_pred_train = model.predict(X_train)\n",
    "    y_pred_test = model.predict(X_test)\n",
    "\n",
    "    acc_train = accuracy_score(y_train, y_pred_train)\n",
    "    acc_test = accuracy_score(y_test, y_pred_test)\n",
    "    f1_train = f1_score(y_train, y_pred_train)\n",
    "    f1_test = f1_score(y_test, y_pred_test)\n",
    "    recall_train = recall_score(y_train, y_pred_train)\n",
    "    recall_test = recall_score(y_test, y_pred_test)\n",
    "    precision_train = precision_score(y_train, y_pred_train)\n",
    "    precision_test = precision_score(y_test, y_pred_test)\n",
    "    tn_train, fp_train, fn_train, tp_train = confusion_matrix(y_train, y_pred_train).ravel()\n",
    "    tn_test, fp_test, fn_test, tp_test = confusion_matrix(y_test, y_pred_test).ravel()\n",
    "    score_train = pd.DataFrame({'DataCategory': ['train'],\n",
    "                                'acc': [acc_train],\n",
    "                                'f1': [f1_train],\n",
    "                                'recall': [recall_train],\n",
    "                                'precision': [precision_train],\n",
    "                                'tp': [tp_train],\n",
    "                                'fn': [fn_train],\n",
    "                                'fp': [fp_train],\n",
    "                                'tn': [tn_train]})\n",
    "    score_test = pd.DataFrame({'DataCategory': ['test'],\n",
    "                               'acc': [acc_test],\n",
    "                               'f1': [f1_train],\n",
    "                               'recall': [recall_test],\n",
    "                               'precision': [precision_test],\n",
    "                               'tp': [tp_test],\n",
    "                               'fn': [fn_test],\n",
    "                               'fp': [fp_test],\n",
    "                               'tn': [tn_test]})\n",
    "    score = pd.concat([score_train, score_test], ignore_index=True)\n",
    "    importance = pd.DataFrame({'cols': X_train.columns, 'importance': model.feature_importances_})\n",
    "    importance = importance.sort_values('importance', ascending=False)\n",
    "    cols = pd.DataFrame({'X_cols': X_train.columns})\n",
    "    display(score)\n",
    "    return score, importance, model, cols"
   ],
   "metadata": {
    "collapsed": false,
    "pycharm": {
     "name": "#%%\n"
    }
   }
  },
  {
   "cell_type": "code",
   "execution_count": 11,
   "outputs": [
    {
     "name": "stdout",
     "output_type": "stream",
     "text": [
      "data\\10_output_ml_result\\results_202004\n",
      "tree\n"
     ]
    },
    {
     "data": {
      "text/plain": "  DataCategory       acc   f1    recall  precision   tp  fn  fp   tn\n0        train  1.000000  1.0  1.000000   1.000000  861   0   0  777\n1         test  0.824786  1.0  0.823529   0.856383  322  69  54  257",
      "text/html": "<div>\n<style scoped>\n    .dataframe tbody tr th:only-of-type {\n        vertical-align: middle;\n    }\n\n    .dataframe tbody tr th {\n        vertical-align: top;\n    }\n\n    .dataframe thead th {\n        text-align: right;\n    }\n</style>\n<table border=\"1\" class=\"dataframe\">\n  <thead>\n    <tr style=\"text-align: right;\">\n      <th></th>\n      <th>DataCategory</th>\n      <th>acc</th>\n      <th>f1</th>\n      <th>recall</th>\n      <th>precision</th>\n      <th>tp</th>\n      <th>fn</th>\n      <th>fp</th>\n      <th>tn</th>\n    </tr>\n  </thead>\n  <tbody>\n    <tr>\n      <th>0</th>\n      <td>train</td>\n      <td>1.000000</td>\n      <td>1.0</td>\n      <td>1.000000</td>\n      <td>1.000000</td>\n      <td>861</td>\n      <td>0</td>\n      <td>0</td>\n      <td>777</td>\n    </tr>\n    <tr>\n      <th>1</th>\n      <td>test</td>\n      <td>0.824786</td>\n      <td>1.0</td>\n      <td>0.823529</td>\n      <td>0.856383</td>\n      <td>322</td>\n      <td>69</td>\n      <td>54</td>\n      <td>257</td>\n    </tr>\n  </tbody>\n</table>\n</div>"
     },
     "metadata": {},
     "output_type": "display_data"
    },
    {
     "name": "stdout",
     "output_type": "stream",
     "text": [
      "RandomForest\n"
     ]
    },
    {
     "data": {
      "text/plain": "  DataCategory       acc   f1    recall  precision   tp  fn  fp   tn\n0        train  1.000000  1.0  1.000000   1.000000  861   0   0  777\n1         test  0.809117  1.0  0.826087   0.830334  323  68  66  245",
      "text/html": "<div>\n<style scoped>\n    .dataframe tbody tr th:only-of-type {\n        vertical-align: middle;\n    }\n\n    .dataframe tbody tr th {\n        vertical-align: top;\n    }\n\n    .dataframe thead th {\n        text-align: right;\n    }\n</style>\n<table border=\"1\" class=\"dataframe\">\n  <thead>\n    <tr style=\"text-align: right;\">\n      <th></th>\n      <th>DataCategory</th>\n      <th>acc</th>\n      <th>f1</th>\n      <th>recall</th>\n      <th>precision</th>\n      <th>tp</th>\n      <th>fn</th>\n      <th>fp</th>\n      <th>tn</th>\n    </tr>\n  </thead>\n  <tbody>\n    <tr>\n      <th>0</th>\n      <td>train</td>\n      <td>1.000000</td>\n      <td>1.0</td>\n      <td>1.000000</td>\n      <td>1.000000</td>\n      <td>861</td>\n      <td>0</td>\n      <td>0</td>\n      <td>777</td>\n    </tr>\n    <tr>\n      <th>1</th>\n      <td>test</td>\n      <td>0.809117</td>\n      <td>1.0</td>\n      <td>0.826087</td>\n      <td>0.830334</td>\n      <td>323</td>\n      <td>68</td>\n      <td>66</td>\n      <td>245</td>\n    </tr>\n  </tbody>\n</table>\n</div>"
     },
     "metadata": {},
     "output_type": "display_data"
    },
    {
     "name": "stdout",
     "output_type": "stream",
     "text": [
      "GradientBoosting\n"
     ]
    },
    {
     "data": {
      "text/plain": "  DataCategory       acc        f1    recall  precision   tp  fn   fp   tn\n0        train  0.868132  0.877133  0.895470   0.859532  771  90  126  651\n1         test  0.803419  0.877133  0.841432   0.812346  329  62   76  235",
      "text/html": "<div>\n<style scoped>\n    .dataframe tbody tr th:only-of-type {\n        vertical-align: middle;\n    }\n\n    .dataframe tbody tr th {\n        vertical-align: top;\n    }\n\n    .dataframe thead th {\n        text-align: right;\n    }\n</style>\n<table border=\"1\" class=\"dataframe\">\n  <thead>\n    <tr style=\"text-align: right;\">\n      <th></th>\n      <th>DataCategory</th>\n      <th>acc</th>\n      <th>f1</th>\n      <th>recall</th>\n      <th>precision</th>\n      <th>tp</th>\n      <th>fn</th>\n      <th>fp</th>\n      <th>tn</th>\n    </tr>\n  </thead>\n  <tbody>\n    <tr>\n      <th>0</th>\n      <td>train</td>\n      <td>0.868132</td>\n      <td>0.877133</td>\n      <td>0.895470</td>\n      <td>0.859532</td>\n      <td>771</td>\n      <td>90</td>\n      <td>126</td>\n      <td>651</td>\n    </tr>\n    <tr>\n      <th>1</th>\n      <td>test</td>\n      <td>0.803419</td>\n      <td>0.877133</td>\n      <td>0.841432</td>\n      <td>0.812346</td>\n      <td>329</td>\n      <td>62</td>\n      <td>76</td>\n      <td>235</td>\n    </tr>\n  </tbody>\n</table>\n</div>"
     },
     "metadata": {},
     "output_type": "display_data"
    },
    {
     "name": "stdout",
     "output_type": "stream",
     "text": [
      "tree\n"
     ]
    },
    {
     "data": {
      "text/plain": "  DataCategory       acc   f1    recall  precision   tp  fn  fp   tn\n0        train  1.000000  1.0  1.000000   1.000000  795   0   0  843\n1         test  0.746439  1.0  0.743516   0.743516  258  89  89  266",
      "text/html": "<div>\n<style scoped>\n    .dataframe tbody tr th:only-of-type {\n        vertical-align: middle;\n    }\n\n    .dataframe tbody tr th {\n        vertical-align: top;\n    }\n\n    .dataframe thead th {\n        text-align: right;\n    }\n</style>\n<table border=\"1\" class=\"dataframe\">\n  <thead>\n    <tr style=\"text-align: right;\">\n      <th></th>\n      <th>DataCategory</th>\n      <th>acc</th>\n      <th>f1</th>\n      <th>recall</th>\n      <th>precision</th>\n      <th>tp</th>\n      <th>fn</th>\n      <th>fp</th>\n      <th>tn</th>\n    </tr>\n  </thead>\n  <tbody>\n    <tr>\n      <th>0</th>\n      <td>train</td>\n      <td>1.000000</td>\n      <td>1.0</td>\n      <td>1.000000</td>\n      <td>1.000000</td>\n      <td>795</td>\n      <td>0</td>\n      <td>0</td>\n      <td>843</td>\n    </tr>\n    <tr>\n      <th>1</th>\n      <td>test</td>\n      <td>0.746439</td>\n      <td>1.0</td>\n      <td>0.743516</td>\n      <td>0.743516</td>\n      <td>258</td>\n      <td>89</td>\n      <td>89</td>\n      <td>266</td>\n    </tr>\n  </tbody>\n</table>\n</div>"
     },
     "metadata": {},
     "output_type": "display_data"
    },
    {
     "name": "stdout",
     "output_type": "stream",
     "text": [
      "RandomForest\n"
     ]
    },
    {
     "data": {
      "text/plain": "  DataCategory       acc   f1    recall  precision   tp  fn  fp   tn\n0        train  1.000000  1.0  1.000000   1.000000  795   0   0  843\n1         test  0.834758  1.0  0.752161   0.896907  261  86  30  325",
      "text/html": "<div>\n<style scoped>\n    .dataframe tbody tr th:only-of-type {\n        vertical-align: middle;\n    }\n\n    .dataframe tbody tr th {\n        vertical-align: top;\n    }\n\n    .dataframe thead th {\n        text-align: right;\n    }\n</style>\n<table border=\"1\" class=\"dataframe\">\n  <thead>\n    <tr style=\"text-align: right;\">\n      <th></th>\n      <th>DataCategory</th>\n      <th>acc</th>\n      <th>f1</th>\n      <th>recall</th>\n      <th>precision</th>\n      <th>tp</th>\n      <th>fn</th>\n      <th>fp</th>\n      <th>tn</th>\n    </tr>\n  </thead>\n  <tbody>\n    <tr>\n      <th>0</th>\n      <td>train</td>\n      <td>1.000000</td>\n      <td>1.0</td>\n      <td>1.000000</td>\n      <td>1.000000</td>\n      <td>795</td>\n      <td>0</td>\n      <td>0</td>\n      <td>843</td>\n    </tr>\n    <tr>\n      <th>1</th>\n      <td>test</td>\n      <td>0.834758</td>\n      <td>1.0</td>\n      <td>0.752161</td>\n      <td>0.896907</td>\n      <td>261</td>\n      <td>86</td>\n      <td>30</td>\n      <td>325</td>\n    </tr>\n  </tbody>\n</table>\n</div>"
     },
     "metadata": {},
     "output_type": "display_data"
    },
    {
     "name": "stdout",
     "output_type": "stream",
     "text": [
      "GradientBoosting\n"
     ]
    },
    {
     "data": {
      "text/plain": "  DataCategory       acc        f1    recall  precision   tp   fn  fp   tn\n0        train  0.863858  0.851234  0.802516    0.90625  638  157  66  777\n1         test  0.840456  0.851234  0.757925    0.90378  263   84  28  327",
      "text/html": "<div>\n<style scoped>\n    .dataframe tbody tr th:only-of-type {\n        vertical-align: middle;\n    }\n\n    .dataframe tbody tr th {\n        vertical-align: top;\n    }\n\n    .dataframe thead th {\n        text-align: right;\n    }\n</style>\n<table border=\"1\" class=\"dataframe\">\n  <thead>\n    <tr style=\"text-align: right;\">\n      <th></th>\n      <th>DataCategory</th>\n      <th>acc</th>\n      <th>f1</th>\n      <th>recall</th>\n      <th>precision</th>\n      <th>tp</th>\n      <th>fn</th>\n      <th>fp</th>\n      <th>tn</th>\n    </tr>\n  </thead>\n  <tbody>\n    <tr>\n      <th>0</th>\n      <td>train</td>\n      <td>0.863858</td>\n      <td>0.851234</td>\n      <td>0.802516</td>\n      <td>0.90625</td>\n      <td>638</td>\n      <td>157</td>\n      <td>66</td>\n      <td>777</td>\n    </tr>\n    <tr>\n      <th>1</th>\n      <td>test</td>\n      <td>0.840456</td>\n      <td>0.851234</td>\n      <td>0.757925</td>\n      <td>0.90378</td>\n      <td>263</td>\n      <td>84</td>\n      <td>28</td>\n      <td>327</td>\n    </tr>\n  </tbody>\n</table>\n</div>"
     },
     "metadata": {},
     "output_type": "display_data"
    }
   ],
   "source": [
    "# Model 構築および評価\n",
    "from sklearn.metrics import accuracy_score, f1_score, recall_score, precision_score, confusion_matrix\n",
    "from sklearn.ensemble import RandomForestClassifier, GradientBoostingClassifier\n",
    "from sklearn.tree import DecisionTreeClassifier\n",
    "import pickle\n",
    "\n",
    "X_cols = list(train_data.columns)\n",
    "X_cols.remove('y_weekday')\n",
    "X_cols.remove('y_weekend')\n",
    "targets_y = ['y_weekday', 'y_weekend']\n",
    "\n",
    "target_output_dir_name = f\"results_{tg_ym}\"\n",
    "target_output_dir = os.path.join(output_ml_result_dir, target_output_dir_name)\n",
    "os.makedirs(target_output_dir, exist_ok=True)\n",
    "print(target_output_dir)\n",
    "\n",
    "score_all = []\n",
    "importance_all = []\n",
    "\n",
    "for target_y in targets_y:\n",
    "    y_train = train_data[target_y]\n",
    "    X_train = train_data[X_cols]\n",
    "    y_test = test_data[target_y]\n",
    "    X_test = test_data[X_cols]\n",
    "\n",
    "    models = {\n",
    "        'tree': DecisionTreeClassifier(random_state=0),\n",
    "        'RandomForest': RandomForestClassifier(random_state=0),\n",
    "        'GradientBoosting': GradientBoostingClassifier(random_state=0)\n",
    "    }\n",
    "\n",
    "    for model_name, model in models.items():\n",
    "        print(model_name)\n",
    "        score, importance, model, cols = make_model_and_eval(model, X_train, X_test, y_train, y_test)\n",
    "        score['model_name'] = model_name\n",
    "        importance['model_name'] = model_name\n",
    "        score['model_target'] = target_y\n",
    "        importance['model_target'] = target_y\n",
    "\n",
    "        model_nema = f\"model_{target_y}_{model_name}\"\n",
    "        model_path = os.path.join(target_output_dir, model_nema)\n",
    "        with open(model_path, mode='wb') as f:\n",
    "            pickle.dump(model, f, protocol=2)\n",
    "        score_all.append(score)\n",
    "        importance_all.append(importance)\n",
    "\n",
    "score_all = pd.concat(score_all, ignore_index=True)\n",
    "importance_all = pd.concat(importance_all, ignore_index=True)\n",
    "cols = pd.DataFrame({'X_cols': X_train.columns})\n",
    "\n",
    "score_name = 'score.csv'\n",
    "importance_name = 'importance.csv'\n",
    "cols_name = 'X_cols.csv'\n",
    "score_path = os.path.join(target_output_dir, score_name)\n",
    "importance_path = os.path.join(target_output_dir, importance_name)\n",
    "cols_path = os.path.join(target_output_dir, cols_name)\n",
    "score_all.to_csv(score_path, index=False)\n",
    "importance_all.to_csv(importance_path, index=False)\n",
    "cols.to_csv(cols_path, index=False)"
   ],
   "metadata": {
    "collapsed": false,
    "pycharm": {
     "name": "#%%\n"
    }
   }
  },
  {
   "cell_type": "markdown",
   "source": [
    "- models directory に格納されている既存の Model file との交換は、Model 精度をある程度の期間など経過観察して判断した方が良いため、自動更新にしない。\n",
    "- 意図しない Data が入ると逆効果になる可能性もあるため、新規 Data 予測をどの Model で実施するは慎重に判断すべき。"
   ],
   "metadata": {
    "collapsed": false,
    "pycharm": {
     "name": "#%% md\n"
    }
   }
  },
  {
   "cell_type": "markdown",
   "source": [
    "### Knock87: 新規 Data 予測に向けた準備をしよう"
   ],
   "metadata": {
    "collapsed": false,
    "pycharm": {
     "name": "#%% md\n"
    }
   }
  },
  {
   "cell_type": "code",
   "execution_count": 12,
   "outputs": [],
   "source": [
    "# 予測に向けた Data 準備\n",
    "## Categorical 変数の対応\n",
    "## 説明変数列への絞り込み\n",
    "\n",
    "category_data = pd.get_dummies(store_data['store_name'], prefix='store', prefix_sep='_')\n",
    "del category_data['store_麻生店']\n",
    "store_data = pd.concat([store_data, category_data], axis=1)\n",
    "\n",
    "X_cols_name = 'X_cols.csv'\n",
    "X_cols = pd.read_csv(os.path.join(model_dir, X_cols_name))\n",
    "X_cols = X_cols['X_cols']\n",
    "\n",
    "X = store_data[X_cols].copy()"
   ],
   "metadata": {
    "collapsed": false,
    "pycharm": {
     "name": "#%%\n"
    }
   }
  },
  {
   "cell_type": "code",
   "execution_count": 13,
   "outputs": [],
   "source": [
    "# Model の準備\n",
    "model_weekday_name = 'model_y_weekday_GradientBoosting.pickle'\n",
    "model_weekend_name = 'model_y_weekend_GradientBoosting.pickle'\n",
    "\n",
    "model_weekday_path = os.path.join(model_dir, model_weekday_name)\n",
    "model_weekend_path = os.path.join(model_dir, model_weekend_name)\n",
    "\n",
    "with open(model_weekday_path, mode='rb') as f:\n",
    "    model_weekday = pickle.load(f)\n",
    "\n",
    "with open(model_weekend_path, mode='rb') as f:\n",
    "    model_weekend = pickle.load(f)"
   ],
   "metadata": {
    "collapsed": false,
    "pycharm": {
     "name": "#%%\n"
    }
   }
  },
  {
   "cell_type": "code",
   "execution_count": null,
   "outputs": [],
   "source": [],
   "metadata": {
    "collapsed": false,
    "pycharm": {
     "name": "#%%\n"
    }
   }
  }
 ],
 "metadata": {
  "kernelspec": {
   "display_name": "Python 3",
   "language": "python",
   "name": "python3"
  },
  "language_info": {
   "codemirror_mode": {
    "name": "ipython",
    "version": 2
   },
   "file_extension": ".py",
   "mimetype": "text/x-python",
   "name": "python",
   "nbconvert_exporter": "python",
   "pygments_lexer": "ipython2",
   "version": "2.7.6"
  }
 },
 "nbformat": 4,
 "nbformat_minor": 0
}