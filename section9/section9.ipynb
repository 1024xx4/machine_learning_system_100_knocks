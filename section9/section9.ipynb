{
 "cells": [
  {
   "cell_type": "markdown",
   "source": [
    "### Knock81: Directory を生成して初期の変数定義をしよう\n",
    "- Data flow を考え、押さえるべき Data を把握する"
   ],
   "metadata": {
    "collapsed": false,
    "pycharm": {
     "name": "#%% md\n"
    }
   }
  },
  {
   "cell_type": "code",
   "execution_count": 1,
   "outputs": [],
   "source": [
    "# Directory 作成\n",
    "import os\n",
    "\n",
    "data_dir = 'data'\n",
    "input_dir = os.path.join(data_dir, '00_imput')\n",
    "store_monthly_dir = os.path.join(data_dir, '01_store_monthly')\n",
    "ml_base_dir = os.path.join(data_dir, '02_ml_base')\n",
    "\n",
    "output_ml_result_dir = os.path.join(data_dir, '10_output_ml_result')\n",
    "output_report_dir = os.path.join(data_dir, '11_output_report')\n",
    "\n",
    "master_dir = os.path.join(data_dir, '99_master')\n",
    "model_dir = 'models'\n",
    "\n",
    "os.makedirs(input_dir, exist_ok=True)\n",
    "os.makedirs(store_monthly_dir, exist_ok=True)\n",
    "os.makedirs(ml_base_dir, exist_ok=True)\n",
    "os.makedirs(output_ml_result_dir, exist_ok=True)\n",
    "os.makedirs(output_report_dir, exist_ok=True)\n",
    "os.makedirs(master_dir, exist_ok=True)\n",
    "os.makedirs(model_dir, exist_ok=True)"
   ],
   "metadata": {
    "collapsed": false,
    "pycharm": {
     "name": "#%%\n"
    }
   }
  },
  {
   "cell_type": "code",
   "execution_count": 2,
   "outputs": [],
   "source": [
    "# 初期変数定義\n",
    "tg_ym = '202004'\n",
    "\n",
    "target_file = 'tbl_order_' + tg_ym + '.csv'\n",
    "m_area_file = 'm_area.csv'\n",
    "m_store_file = 'm_store.csv'\n",
    "store_monthly_file = 'store_monthly_data.csv'\n",
    "ml_base_file = 'ml_base.data.csv'"
   ],
   "metadata": {
    "collapsed": false,
    "pycharm": {
     "name": "#%%\n"
    }
   }
  },
  {
   "cell_type": "markdown",
   "source": [
    "- 対象を指定するような変数は、一番先頭に持ってくると、変更箇所が分かりやすく間違いが起きにくくなる。\n",
    "- System を固くする場合は config file 等で指定するかたちにする、など検討する。"
   ],
   "metadata": {
    "collapsed": false,
    "pycharm": {
     "name": "#%% md\n"
    }
   }
  },
  {
   "cell_type": "markdown",
   "source": [
    "### Knock82: 更新 Data を読み込んで店舗別 Data を作成しよう"
   ],
   "metadata": {
    "collapsed": false,
    "pycharm": {
     "name": "#%% md\n"
    }
   }
  },
  {
   "cell_type": "code",
   "execution_count": 3,
   "outputs": [
    {
     "name": "stdout",
     "output_type": "stream",
     "text": [
      "日付が一致しました\n"
     ]
    }
   ],
   "source": [
    "# 更新 Data の読み込み\n",
    "import pandas as pd\n",
    "\n",
    "m_area = pd.read_csv(os.path.join(master_dir, m_area_file))\n",
    "m_store = pd.read_csv(os.path.join(master_dir, m_store_file))\n",
    "target_data = pd.read_csv(os.path.join(input_dir, target_file))\n",
    "\n",
    "import datetime\n",
    "\n",
    "max_date = pd.to_datetime(target_data['order_accept_date']).max()\n",
    "min_date = pd.to_datetime(target_data['order_accept_date']).min()\n",
    "max_str_date = max_date.strftime('%Y%m')\n",
    "min_str_date = min_date.strftime('%Y%m')\n",
    "\n",
    "if tg_ym == min_str_date and tg_ym == max_str_date:\n",
    "    print('日付が一致しました')\n",
    "else:\n",
    "    raise Exception('日付が一致しません')"
   ],
   "metadata": {
    "collapsed": false,
    "pycharm": {
     "name": "#%%\n"
    }
   }
  },
  {
   "cell_type": "code",
   "execution_count": 4,
   "outputs": [],
   "source": [
    "# 店舗別集権を行なうための関数\n",
    "def calc_delta(t):\n",
    "    t1, t2 = t\n",
    "    delta = t2 - t1\n",
    "    return delta.total_seconds() / 60\n",
    "\n",
    "\n",
    "def data_processing(order_data):\n",
    "    order_data = order_data.loc[order_data['store_id'] != 999]\n",
    "    order_data = pd.merge(order_data, m_store, on='store_id', how='left')\n",
    "    order_data = pd.merge(order_data, m_area, on='area_cd', how='left')\n",
    "    order_data.loc[order_data['takeout_flag'] == 0, 'takeout_name'] = 'デリバリー'\n",
    "    order_data.loc[order_data['takeout_flag'] == 1, 'takeout_name'] = 'お持ち帰り'\n",
    "    order_data.loc[order_data['status'] == 0, 'status_name'] = '受付'\n",
    "    order_data.loc[order_data['status'] == 1, 'status_name'] = 'お支払済'\n",
    "    order_data.loc[order_data['status'] == 2, 'status_name'] = 'お渡し済'\n",
    "    order_data.loc[order_data['status'] == 9, 'status_name'] = 'キャンセル'\n",
    "\n",
    "    order_data.loc[:, 'order_accept_datetime'] = pd.to_datetime(order_data['order_accept_date'])\n",
    "    order_data.loc[:, 'delivered_datetime'] = pd.to_datetime(order_data['delivered_date'])\n",
    "    order_data.loc[:, 'delta'] = order_data[['order_accept_datetime', 'delivered_datetime']].apply(calc_delta, axis=1)\n",
    "    order_data.loc[:, 'order_accept_hour'] = order_data['order_accept_datetime'].dt.hour\n",
    "    order_data.loc[:, 'order_accept_weekday'] = order_data['order_accept_datetime'].dt.weekday\n",
    "    order_data.loc[order_data['order_accept_weekday'] >= 5, 'weekday_info'] = '休日'\n",
    "    order_data.loc[order_data['order_accept_weekday'] < 5, 'weekday_info'] = '平日'\n",
    "\n",
    "    store_data = order_data.groupby(['store_name']).count()[['order_id']]\n",
    "    store_f = order_data.loc[\n",
    "        (order_data['status_name'] == 'お渡し済')\n",
    "        | (order_data['status_name'] == 'お支払済')\n",
    "        ].groupby(['store_name']).count()[['order_id']]\n",
    "    store_c = order_data.loc[order_data['status_name'] == 'キャンセル'].groupby(['store_name']).count()[['order_id']]\n",
    "    store_d = order_data.loc[order_data['takeout_name'] == 'デリバリー'].groupby(['store_name']).count()[['order_id']]\n",
    "    store_t = order_data.loc[order_data['takeout_name'] == 'お持ち帰り'].groupby(['store_name']).count()[['order_id']]\n",
    "    store_weekday = order_data.loc[order_data['weekday_info'] == '平日'].groupby(['store_name']).count()[['order_id']]\n",
    "    store_weekend = order_data.loc[order_data['weekday_info'] == '休日'].groupby(['store_name']).count()[['order_id']]\n",
    "\n",
    "    times = order_data['order_accept_hour'].unique()\n",
    "    store_time = []\n",
    "    for time in times:\n",
    "        time_tmp = order_data.loc[order_data['order_accept_hour'] == time].groupby(['store_name']).count()[['order_id']]\n",
    "        time_tmp.columns = [f\"order_time_{time}\"]\n",
    "        store_time.append(time_tmp)\n",
    "    store_time = pd.concat(store_time, axis=1)\n",
    "    store_delta = order_data.loc[order_data['status_name'] != 'キャンセル'].groupby(['store_name']).mean()[['delta']]\n",
    "    store_data.columns = ['order']\n",
    "    store_f.columns = ['order_fin']\n",
    "    store_c.columns = ['order_cancel']\n",
    "    store_d.columns = ['order_delivery']\n",
    "    store_t.columns = ['order_takeout']\n",
    "    store_delta.columns = ['delta_avg']\n",
    "    store_weekday.columns = ['order_weekday']\n",
    "    store_weekend.columns = ['order_weekend']\n",
    "    store_data = pd.concat(\n",
    "        [store_data, store_f, store_c, store_d, store_t, store_weekday, store_weekend, store_time, store_delta], axis=1)\n",
    "\n",
    "    return store_data"
   ],
   "metadata": {
    "collapsed": false,
    "pycharm": {
     "name": "#%%\n"
    }
   }
  },
  {
   "cell_type": "code",
   "execution_count": 5,
   "outputs": [
    {
     "data": {
      "text/plain": "  store_name  order  order_fin  order_cancel  order_delivery  order_takeout  \\\n0      あきる野店   1147        945           202             848            299   \n\n   order_weekday  order_weekend  order_time_11  order_time_12  ...  \\\n0            842            305             92            125  ...   \n\n   order_time_14  order_time_15  order_time_16  order_time_17  order_time_18  \\\n0            101             97            105            103             97   \n\n   order_time_19  order_time_20  order_time_21  delta_avg  year_month  \n0            110            109             96  34.520635      202004  \n\n[1 rows x 21 columns]",
      "text/html": "<div>\n<style scoped>\n    .dataframe tbody tr th:only-of-type {\n        vertical-align: middle;\n    }\n\n    .dataframe tbody tr th {\n        vertical-align: top;\n    }\n\n    .dataframe thead th {\n        text-align: right;\n    }\n</style>\n<table border=\"1\" class=\"dataframe\">\n  <thead>\n    <tr style=\"text-align: right;\">\n      <th></th>\n      <th>store_name</th>\n      <th>order</th>\n      <th>order_fin</th>\n      <th>order_cancel</th>\n      <th>order_delivery</th>\n      <th>order_takeout</th>\n      <th>order_weekday</th>\n      <th>order_weekend</th>\n      <th>order_time_11</th>\n      <th>order_time_12</th>\n      <th>...</th>\n      <th>order_time_14</th>\n      <th>order_time_15</th>\n      <th>order_time_16</th>\n      <th>order_time_17</th>\n      <th>order_time_18</th>\n      <th>order_time_19</th>\n      <th>order_time_20</th>\n      <th>order_time_21</th>\n      <th>delta_avg</th>\n      <th>year_month</th>\n    </tr>\n  </thead>\n  <tbody>\n    <tr>\n      <th>0</th>\n      <td>あきる野店</td>\n      <td>1147</td>\n      <td>945</td>\n      <td>202</td>\n      <td>848</td>\n      <td>299</td>\n      <td>842</td>\n      <td>305</td>\n      <td>92</td>\n      <td>125</td>\n      <td>...</td>\n      <td>101</td>\n      <td>97</td>\n      <td>105</td>\n      <td>103</td>\n      <td>97</td>\n      <td>110</td>\n      <td>109</td>\n      <td>96</td>\n      <td>34.520635</td>\n      <td>202004</td>\n    </tr>\n  </tbody>\n</table>\n<p>1 rows × 21 columns</p>\n</div>"
     },
     "execution_count": 5,
     "metadata": {},
     "output_type": "execute_result"
    }
   ],
   "source": [
    "# 店舗別集計 Data の作成\n",
    "store_data = data_processing(target_data)\n",
    "store_data.reset_index(drop=False, inplace=True)\n",
    "store_data.loc[:, 'year_month'] = tg_ym\n",
    "store_data.head(1)"
   ],
   "metadata": {
    "collapsed": false,
    "pycharm": {
     "name": "#%%\n"
    }
   }
  },
  {
   "cell_type": "code",
   "execution_count": 5,
   "outputs": [],
   "source": [],
   "metadata": {
    "collapsed": false,
    "pycharm": {
     "name": "#%%\n"
    }
   }
  }
 ],
 "metadata": {
  "kernelspec": {
   "display_name": "Python 3",
   "language": "python",
   "name": "python3"
  },
  "language_info": {
   "codemirror_mode": {
    "name": "ipython",
    "version": 2
   },
   "file_extension": ".py",
   "mimetype": "text/x-python",
   "name": "python",
   "nbconvert_exporter": "python",
   "pygments_lexer": "ipython2",
   "version": "2.7.6"
  }
 },
 "nbformat": 4,
 "nbformat_minor": 0
}