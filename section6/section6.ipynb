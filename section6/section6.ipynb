{
 "cells": [
  {
   "cell_type": "markdown",
   "source": [
    "### Knock51: Data 加工の下準備をしよう\n",
    "- Data 加工の下準備に入る前に、どのような機械学習 Model を構築するかを考える。\n",
    "- 今回は、教師あり学習（二値分類）Model\n",
    "    - 前月までの Data から、来月の Order 数が増加するのか減少するのか予測する Case は、Order 数自体を予測するのではなく、増加するのか減少するのか減少かを予測する。"
   ],
   "metadata": {
    "collapsed": false,
    "pycharm": {
     "name": "#%% md\n"
    }
   }
  },
  {
   "cell_type": "code",
   "execution_count": 1,
   "outputs": [],
   "source": [
    "# Directory 作成\n",
    "import os\n",
    "\n",
    "data_dir = 'data'\n",
    "input_dir = os.path.join(data_dir, '0_input')\n",
    "output_dir = os.path.join(data_dir, '1_output')\n",
    "master_dir = os.path.join(data_dir, '99_master')\n",
    "os.makedirs(input_dir, exist_ok=True)\n",
    "os.makedirs(output_dir, exist_ok=True)\n",
    "os.makedirs(master_dir, exist_ok=True)"
   ],
   "metadata": {
    "collapsed": false,
    "pycharm": {
     "name": "#%%\n"
    }
   }
  },
  {
   "cell_type": "markdown",
   "source": [
    "Data を読み込む際に File 複数が存在する場合、一つ一つ指定していたら大変なので、自動的に Directory の中身を取りに行き、配列として Path を定義する"
   ],
   "metadata": {
    "collapsed": false,
    "pycharm": {
     "name": "#%% md\n"
    }
   }
  },
  {
   "cell_type": "code",
   "execution_count": 2,
   "outputs": [
    {
     "data": {
      "text/plain": "['data\\\\0_input\\\\tbl_order_201904.csv',\n 'data\\\\0_input\\\\tbl_order_201905.csv',\n 'data\\\\0_input\\\\tbl_order_201906.csv',\n 'data\\\\0_input\\\\tbl_order_201907.csv',\n 'data\\\\0_input\\\\tbl_order_201908.csv',\n 'data\\\\0_input\\\\tbl_order_201909.csv',\n 'data\\\\0_input\\\\tbl_order_201910.csv',\n 'data\\\\0_input\\\\tbl_order_201911.csv',\n 'data\\\\0_input\\\\tbl_order_201912.csv',\n 'data\\\\0_input\\\\tbl_order_202001.csv',\n 'data\\\\0_input\\\\tbl_order_202002.csv',\n 'data\\\\0_input\\\\tbl_order_202003.csv']"
     },
     "execution_count": 2,
     "metadata": {},
     "output_type": "execute_result"
    }
   ],
   "source": [
    "# 注文 Data path の取得\n",
    "import glob\n",
    "tbl_order_file = os.path.join(input_dir, 'tbl_order_*.csv')\n",
    "tbl_order_path = glob.glob(tbl_order_file)\n",
    "tbl_order_path"
   ],
   "metadata": {
    "collapsed": false,
    "pycharm": {
     "name": "#%%\n"
    }
   }
  },
  {
   "cell_type": "markdown",
   "source": [
    "### Knock52: Data の読み込みを行ない加工の方向性を検討しよう"
   ],
   "metadata": {
    "collapsed": false,
    "pycharm": {
     "name": "#%% md\n"
    }
   }
  },
  {
   "cell_type": "code",
   "execution_count": 3,
   "outputs": [
    {
     "data": {
      "text/plain": "  area_cd wide_area narrow_area\n0      TK        東京          東京\n1      KN       神奈川         神奈川\n2      CH        千葉          千葉",
      "text/html": "<div>\n<style scoped>\n    .dataframe tbody tr th:only-of-type {\n        vertical-align: middle;\n    }\n\n    .dataframe tbody tr th {\n        vertical-align: top;\n    }\n\n    .dataframe thead th {\n        text-align: right;\n    }\n</style>\n<table border=\"1\" class=\"dataframe\">\n  <thead>\n    <tr style=\"text-align: right;\">\n      <th></th>\n      <th>area_cd</th>\n      <th>wide_area</th>\n      <th>narrow_area</th>\n    </tr>\n  </thead>\n  <tbody>\n    <tr>\n      <th>0</th>\n      <td>TK</td>\n      <td>東京</td>\n      <td>東京</td>\n    </tr>\n    <tr>\n      <th>1</th>\n      <td>KN</td>\n      <td>神奈川</td>\n      <td>神奈川</td>\n    </tr>\n    <tr>\n      <th>2</th>\n      <td>CH</td>\n      <td>千葉</td>\n      <td>千葉</td>\n    </tr>\n  </tbody>\n</table>\n</div>"
     },
     "execution_count": 3,
     "metadata": {},
     "output_type": "execute_result"
    }
   ],
   "source": [
    "# Master data の読み込み\n",
    "import pandas as pd\n",
    "\n",
    "m_area_file = 'm_area.csv'\n",
    "m_store_file = 'm_store.csv'\n",
    "m_area = pd.read_csv(os.path.join(master_dir, m_area_file))\n",
    "m_store = pd.read_csv(os.path.join(master_dir, m_store_file))\n",
    "m_area.head(3)"
   ],
   "metadata": {
    "collapsed": false,
    "pycharm": {
     "name": "#%%\n"
    }
   }
  },
  {
   "cell_type": "markdown",
   "source": [
    "Directory 構造をしっかり考え、変数名を統一することで、簡単に使い回すことができる。"
   ],
   "metadata": {
    "collapsed": false,
    "pycharm": {
     "name": "#%% md\n"
    }
   }
  },
  {
   "cell_type": "code",
   "execution_count": 4,
   "outputs": [
    {
     "name": "stdout",
     "output_type": "stream",
     "text": [
      "読み込み Data: data\\0_input\\tbl_order_201904.csv\n",
      "Data 件数: 233393\n"
     ]
    },
    {
     "data": {
      "text/plain": "   order_id  store_id customer_id  coupon_cd  sales_detail_id  \\\n0  22808272        39   C80973292         40         22222408   \n1  10902625        63   C94948343         20         79467084   \n2   5990375        63   C91814442          1         61749935   \n\n     order_accept_date       delivered_date  takeout_flag  total_amount  \\\n0  2019-04-01 11:00:00  2019-04-01 11:26:00             1          2112   \n1  2019-04-01 11:00:00  2019-04-01 11:47:00             0          2154   \n2  2019-04-01 11:00:00  2019-04-01 11:10:00             0          3050   \n\n   status  \n0       1  \n1       2  \n2       2  ",
      "text/html": "<div>\n<style scoped>\n    .dataframe tbody tr th:only-of-type {\n        vertical-align: middle;\n    }\n\n    .dataframe tbody tr th {\n        vertical-align: top;\n    }\n\n    .dataframe thead th {\n        text-align: right;\n    }\n</style>\n<table border=\"1\" class=\"dataframe\">\n  <thead>\n    <tr style=\"text-align: right;\">\n      <th></th>\n      <th>order_id</th>\n      <th>store_id</th>\n      <th>customer_id</th>\n      <th>coupon_cd</th>\n      <th>sales_detail_id</th>\n      <th>order_accept_date</th>\n      <th>delivered_date</th>\n      <th>takeout_flag</th>\n      <th>total_amount</th>\n      <th>status</th>\n    </tr>\n  </thead>\n  <tbody>\n    <tr>\n      <th>0</th>\n      <td>22808272</td>\n      <td>39</td>\n      <td>C80973292</td>\n      <td>40</td>\n      <td>22222408</td>\n      <td>2019-04-01 11:00:00</td>\n      <td>2019-04-01 11:26:00</td>\n      <td>1</td>\n      <td>2112</td>\n      <td>1</td>\n    </tr>\n    <tr>\n      <th>1</th>\n      <td>10902625</td>\n      <td>63</td>\n      <td>C94948343</td>\n      <td>20</td>\n      <td>79467084</td>\n      <td>2019-04-01 11:00:00</td>\n      <td>2019-04-01 11:47:00</td>\n      <td>0</td>\n      <td>2154</td>\n      <td>2</td>\n    </tr>\n    <tr>\n      <th>2</th>\n      <td>5990375</td>\n      <td>63</td>\n      <td>C91814442</td>\n      <td>1</td>\n      <td>61749935</td>\n      <td>2019-04-01 11:00:00</td>\n      <td>2019-04-01 11:10:00</td>\n      <td>0</td>\n      <td>3050</td>\n      <td>2</td>\n    </tr>\n  </tbody>\n</table>\n</div>"
     },
     "execution_count": 4,
     "metadata": {},
     "output_type": "execute_result"
    }
   ],
   "source": [
    "# 注文 Data の読み込み\n",
    "tbl_order_path = tbl_order_path[0]\n",
    "print(f\"読み込み Data: {tbl_order_path}\")\n",
    "order_data = pd.read_csv(tbl_order_path)\n",
    "print(f\"Data 件数: {len(order_data)}\")\n",
    "order_data.head(3)"
   ],
   "metadata": {
    "collapsed": false,
    "pycharm": {
     "name": "#%%\n"
    }
   }
  },
  {
   "cell_type": "markdown",
   "source": [
    "Data 件数が非常に多い（7桁くらい）場合、Data をやり取りするには、処理に時間がかかってしまう。\n",
    "よって、まずは少量の Data 量で加工の方向を考え、全期間の Data に適用する。"
   ],
   "metadata": {
    "collapsed": false,
    "pycharm": {
     "name": "#%% md\n"
    }
   }
  },
  {
   "cell_type": "markdown",
   "source": [
    "### Knock53: 1ヶ月分の Data の基本的な Data 加工を実施しよう"
   ],
   "metadata": {
    "collapsed": false,
    "pycharm": {
     "name": "#%% md\n"
    }
   }
  },
  {
   "cell_type": "code",
   "execution_count": 5,
   "outputs": [
    {
     "data": {
      "text/plain": "   order_id  store_id customer_id  coupon_cd  sales_detail_id  \\\n0  22808272        39   C80973292         40         22222408   \n1  10902625        63   C94948343         20         79467084   \n2   5990375        63   C91814442          1         61749935   \n\n     order_accept_date       delivered_date  takeout_flag  total_amount  \\\n0  2019-04-01 11:00:00  2019-04-01 11:26:00             1          2112   \n1  2019-04-01 11:00:00  2019-04-01 11:47:00             0          2154   \n2  2019-04-01 11:00:00  2019-04-01 11:10:00             0          3050   \n\n   status store_name area_cd wide_area narrow_area takeout_name status_name  \n0       1        杉並店      TK        東京          東京        お持ち帰り        お支払済  \n1       2       西多摩店      TK        東京          東京        デリバリー        お渡し済  \n2       2       西多摩店      TK        東京          東京        デリバリー        お渡し済  ",
      "text/html": "<div>\n<style scoped>\n    .dataframe tbody tr th:only-of-type {\n        vertical-align: middle;\n    }\n\n    .dataframe tbody tr th {\n        vertical-align: top;\n    }\n\n    .dataframe thead th {\n        text-align: right;\n    }\n</style>\n<table border=\"1\" class=\"dataframe\">\n  <thead>\n    <tr style=\"text-align: right;\">\n      <th></th>\n      <th>order_id</th>\n      <th>store_id</th>\n      <th>customer_id</th>\n      <th>coupon_cd</th>\n      <th>sales_detail_id</th>\n      <th>order_accept_date</th>\n      <th>delivered_date</th>\n      <th>takeout_flag</th>\n      <th>total_amount</th>\n      <th>status</th>\n      <th>store_name</th>\n      <th>area_cd</th>\n      <th>wide_area</th>\n      <th>narrow_area</th>\n      <th>takeout_name</th>\n      <th>status_name</th>\n    </tr>\n  </thead>\n  <tbody>\n    <tr>\n      <th>0</th>\n      <td>22808272</td>\n      <td>39</td>\n      <td>C80973292</td>\n      <td>40</td>\n      <td>22222408</td>\n      <td>2019-04-01 11:00:00</td>\n      <td>2019-04-01 11:26:00</td>\n      <td>1</td>\n      <td>2112</td>\n      <td>1</td>\n      <td>杉並店</td>\n      <td>TK</td>\n      <td>東京</td>\n      <td>東京</td>\n      <td>お持ち帰り</td>\n      <td>お支払済</td>\n    </tr>\n    <tr>\n      <th>1</th>\n      <td>10902625</td>\n      <td>63</td>\n      <td>C94948343</td>\n      <td>20</td>\n      <td>79467084</td>\n      <td>2019-04-01 11:00:00</td>\n      <td>2019-04-01 11:47:00</td>\n      <td>0</td>\n      <td>2154</td>\n      <td>2</td>\n      <td>西多摩店</td>\n      <td>TK</td>\n      <td>東京</td>\n      <td>東京</td>\n      <td>デリバリー</td>\n      <td>お渡し済</td>\n    </tr>\n    <tr>\n      <th>2</th>\n      <td>5990375</td>\n      <td>63</td>\n      <td>C91814442</td>\n      <td>1</td>\n      <td>61749935</td>\n      <td>2019-04-01 11:00:00</td>\n      <td>2019-04-01 11:10:00</td>\n      <td>0</td>\n      <td>3050</td>\n      <td>2</td>\n      <td>西多摩店</td>\n      <td>TK</td>\n      <td>東京</td>\n      <td>東京</td>\n      <td>デリバリー</td>\n      <td>お渡し済</td>\n    </tr>\n  </tbody>\n</table>\n</div>"
     },
     "execution_count": 5,
     "metadata": {},
     "output_type": "execute_result"
    }
   ],
   "source": [
    "# 基本的な Data 加工\n",
    "order_data = order_data.loc[order_data['store_id'] != 999]\n",
    "\n",
    "order_data = pd.merge(order_data, m_store, on='store_id', how='left')\n",
    "order_data = pd.merge(order_data, m_area, on='area_cd', how='left')\n",
    "\n",
    "order_data.loc[order_data['takeout_flag'] == 0, 'takeout_name'] = \"デリバリー\"\n",
    "order_data.loc[order_data['takeout_flag'] == 1, 'takeout_name'] = \"お持ち帰り\"\n",
    "\n",
    "order_data.loc[order_data['status'] == 0, 'status_name'] = \"受付\"\n",
    "order_data.loc[order_data['status'] == 1, 'status_name'] = \"お支払済\"\n",
    "order_data.loc[order_data['status'] == 2, 'status_name'] = \"お渡し済\"\n",
    "order_data.loc[order_data['status'] == 9, 'status_name'] = \"キャンセル\"\n",
    "order_data.head(3)"
   ],
   "metadata": {
    "collapsed": false,
    "pycharm": {
     "name": "#%%\n"
    }
   }
  },
  {
   "cell_type": "code",
   "execution_count": 6,
   "outputs": [
    {
     "data": {
      "text/plain": "order_id             0\nstore_id             0\ncustomer_id          0\ncoupon_cd            0\nsales_detail_id      0\norder_accept_date    0\ndelivered_date       0\ntakeout_flag         0\ntotal_amount         0\nstatus               0\nstore_name           0\narea_cd              0\nwide_area            0\nnarrow_area          0\ntakeout_name         0\nstatus_name          0\ndtype: int64"
     },
     "execution_count": 6,
     "metadata": {},
     "output_type": "execute_result"
    }
   ],
   "source": [
    "# 欠損値の確認\n",
    "order_data.isna().sum()"
   ],
   "metadata": {
    "collapsed": false,
    "pycharm": {
     "name": "#%%\n"
    }
   }
  },
  {
   "cell_type": "code",
   "execution_count": null,
   "outputs": [],
   "source": [],
   "metadata": {
    "collapsed": false,
    "pycharm": {
     "name": "#%%\n"
    }
   }
  }
 ],
 "metadata": {
  "kernelspec": {
   "display_name": "Python 3",
   "language": "python",
   "name": "python3"
  },
  "language_info": {
   "codemirror_mode": {
    "name": "ipython",
    "version": 2
   },
   "file_extension": ".py",
   "mimetype": "text/x-python",
   "name": "python",
   "nbconvert_exporter": "python",
   "pygments_lexer": "ipython2",
   "version": "2.7.6"
  }
 },
 "nbformat": 4,
 "nbformat_minor": 0
}