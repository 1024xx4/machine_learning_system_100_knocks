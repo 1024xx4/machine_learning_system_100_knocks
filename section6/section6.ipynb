{
 "cells": [
  {
   "cell_type": "markdown",
   "source": [
    "### Knock51: Data 加工の下準備をしよう\n",
    "- Data 加工の下準備に入る前に、どのような機械学習 Model を構築するかを考える。\n",
    "- 今回は、教師あり学習（二値分類）Model\n",
    "    - 前月までの Data から、来月の Order 数が増加するのか減少するのか予測する Case は、Order 数自体を予測するのではなく、増加するのか減少するのか減少かを予測する。"
   ],
   "metadata": {
    "collapsed": false,
    "pycharm": {
     "name": "#%% md\n"
    }
   }
  },
  {
   "cell_type": "code",
   "execution_count": 1,
   "outputs": [],
   "source": [
    "# Directory 作成\n",
    "import os\n",
    "\n",
    "data_dir = 'data'\n",
    "input_dir = os.path.join(data_dir, '0_input')\n",
    "output_dir = os.path.join(data_dir, '1_output')\n",
    "master_dir = os.path.join(data_dir, '99_master')\n",
    "os.makedirs(input_dir, exist_ok=True)\n",
    "os.makedirs(output_dir, exist_ok=True)\n",
    "os.makedirs(master_dir, exist_ok=True)"
   ],
   "metadata": {
    "collapsed": false,
    "pycharm": {
     "name": "#%%\n"
    }
   }
  },
  {
   "cell_type": "markdown",
   "source": [
    "Data を読み込む際に File 複数が存在する場合、一つ一つ指定していたら大変なので、自動的に Directory の中身を取りに行き、配列として Path を定義する"
   ],
   "metadata": {
    "collapsed": false,
    "pycharm": {
     "name": "#%% md\n"
    }
   }
  },
  {
   "cell_type": "code",
   "execution_count": 2,
   "outputs": [
    {
     "data": {
      "text/plain": "['data\\\\0_input\\\\tbl_order_201904.csv',\n 'data\\\\0_input\\\\tbl_order_201905.csv',\n 'data\\\\0_input\\\\tbl_order_201906.csv',\n 'data\\\\0_input\\\\tbl_order_201907.csv',\n 'data\\\\0_input\\\\tbl_order_201908.csv',\n 'data\\\\0_input\\\\tbl_order_201909.csv',\n 'data\\\\0_input\\\\tbl_order_201910.csv',\n 'data\\\\0_input\\\\tbl_order_201911.csv',\n 'data\\\\0_input\\\\tbl_order_201912.csv',\n 'data\\\\0_input\\\\tbl_order_202001.csv',\n 'data\\\\0_input\\\\tbl_order_202002.csv',\n 'data\\\\0_input\\\\tbl_order_202003.csv']"
     },
     "execution_count": 2,
     "metadata": {},
     "output_type": "execute_result"
    }
   ],
   "source": [
    "# 注文 Data path の取得\n",
    "import glob\n",
    "tbl_order_file = os.path.join(input_dir, 'tbl_order_*.csv')\n",
    "tbl_order_paths = glob.glob(tbl_order_file)\n",
    "tbl_order_paths"
   ],
   "metadata": {
    "collapsed": false,
    "pycharm": {
     "name": "#%%\n"
    }
   }
  },
  {
   "cell_type": "markdown",
   "source": [
    "### Knock52: Data の読み込みを行ない加工の方向性を検討しよう"
   ],
   "metadata": {
    "collapsed": false,
    "pycharm": {
     "name": "#%% md\n"
    }
   }
  },
  {
   "cell_type": "code",
   "execution_count": 3,
   "outputs": [
    {
     "data": {
      "text/plain": "  area_cd wide_area narrow_area\n0      TK        東京          東京\n1      KN       神奈川         神奈川\n2      CH        千葉          千葉",
      "text/html": "<div>\n<style scoped>\n    .dataframe tbody tr th:only-of-type {\n        vertical-align: middle;\n    }\n\n    .dataframe tbody tr th {\n        vertical-align: top;\n    }\n\n    .dataframe thead th {\n        text-align: right;\n    }\n</style>\n<table border=\"1\" class=\"dataframe\">\n  <thead>\n    <tr style=\"text-align: right;\">\n      <th></th>\n      <th>area_cd</th>\n      <th>wide_area</th>\n      <th>narrow_area</th>\n    </tr>\n  </thead>\n  <tbody>\n    <tr>\n      <th>0</th>\n      <td>TK</td>\n      <td>東京</td>\n      <td>東京</td>\n    </tr>\n    <tr>\n      <th>1</th>\n      <td>KN</td>\n      <td>神奈川</td>\n      <td>神奈川</td>\n    </tr>\n    <tr>\n      <th>2</th>\n      <td>CH</td>\n      <td>千葉</td>\n      <td>千葉</td>\n    </tr>\n  </tbody>\n</table>\n</div>"
     },
     "execution_count": 3,
     "metadata": {},
     "output_type": "execute_result"
    }
   ],
   "source": [
    "# Master data の読み込み\n",
    "import pandas as pd\n",
    "\n",
    "m_area_file = 'm_area.csv'\n",
    "m_store_file = 'm_store.csv'\n",
    "m_area = pd.read_csv(os.path.join(master_dir, m_area_file))\n",
    "m_store = pd.read_csv(os.path.join(master_dir, m_store_file))\n",
    "m_area.head(3)"
   ],
   "metadata": {
    "collapsed": false,
    "pycharm": {
     "name": "#%%\n"
    }
   }
  },
  {
   "cell_type": "markdown",
   "source": [
    "Directory 構造をしっかり考え、変数名を統一することで、簡単に使い回すことができる。"
   ],
   "metadata": {
    "collapsed": false,
    "pycharm": {
     "name": "#%% md\n"
    }
   }
  },
  {
   "cell_type": "code",
   "execution_count": 4,
   "outputs": [
    {
     "name": "stdout",
     "output_type": "stream",
     "text": [
      "読み込み Data: data\\0_input\\tbl_order_201904.csv\n",
      "Data 件数: 233393\n"
     ]
    },
    {
     "data": {
      "text/plain": "   order_id  store_id customer_id  coupon_cd  sales_detail_id  \\\n0  22808272        39   C80973292         40         22222408   \n1  10902625        63   C94948343         20         79467084   \n2   5990375        63   C91814442          1         61749935   \n\n     order_accept_date       delivered_date  takeout_flag  total_amount  \\\n0  2019-04-01 11:00:00  2019-04-01 11:26:00             1          2112   \n1  2019-04-01 11:00:00  2019-04-01 11:47:00             0          2154   \n2  2019-04-01 11:00:00  2019-04-01 11:10:00             0          3050   \n\n   status  \n0       1  \n1       2  \n2       2  ",
      "text/html": "<div>\n<style scoped>\n    .dataframe tbody tr th:only-of-type {\n        vertical-align: middle;\n    }\n\n    .dataframe tbody tr th {\n        vertical-align: top;\n    }\n\n    .dataframe thead th {\n        text-align: right;\n    }\n</style>\n<table border=\"1\" class=\"dataframe\">\n  <thead>\n    <tr style=\"text-align: right;\">\n      <th></th>\n      <th>order_id</th>\n      <th>store_id</th>\n      <th>customer_id</th>\n      <th>coupon_cd</th>\n      <th>sales_detail_id</th>\n      <th>order_accept_date</th>\n      <th>delivered_date</th>\n      <th>takeout_flag</th>\n      <th>total_amount</th>\n      <th>status</th>\n    </tr>\n  </thead>\n  <tbody>\n    <tr>\n      <th>0</th>\n      <td>22808272</td>\n      <td>39</td>\n      <td>C80973292</td>\n      <td>40</td>\n      <td>22222408</td>\n      <td>2019-04-01 11:00:00</td>\n      <td>2019-04-01 11:26:00</td>\n      <td>1</td>\n      <td>2112</td>\n      <td>1</td>\n    </tr>\n    <tr>\n      <th>1</th>\n      <td>10902625</td>\n      <td>63</td>\n      <td>C94948343</td>\n      <td>20</td>\n      <td>79467084</td>\n      <td>2019-04-01 11:00:00</td>\n      <td>2019-04-01 11:47:00</td>\n      <td>0</td>\n      <td>2154</td>\n      <td>2</td>\n    </tr>\n    <tr>\n      <th>2</th>\n      <td>5990375</td>\n      <td>63</td>\n      <td>C91814442</td>\n      <td>1</td>\n      <td>61749935</td>\n      <td>2019-04-01 11:00:00</td>\n      <td>2019-04-01 11:10:00</td>\n      <td>0</td>\n      <td>3050</td>\n      <td>2</td>\n    </tr>\n  </tbody>\n</table>\n</div>"
     },
     "execution_count": 4,
     "metadata": {},
     "output_type": "execute_result"
    }
   ],
   "source": [
    "# 注文 Data の読み込み\n",
    "tbl_order_path = tbl_order_paths[0]\n",
    "print(f\"読み込み Data: {tbl_order_path}\")\n",
    "order_data = pd.read_csv(tbl_order_path)\n",
    "print(f\"Data 件数: {len(order_data)}\")\n",
    "order_data.head(3)"
   ],
   "metadata": {
    "collapsed": false,
    "pycharm": {
     "name": "#%%\n"
    }
   }
  },
  {
   "cell_type": "markdown",
   "source": [
    "Data 件数が非常に多い（7桁くらい）場合、Data をやり取りするには、処理に時間がかかってしまう。\n",
    "よって、まずは少量の Data 量で加工の方向を考え、全期間の Data に適用する。"
   ],
   "metadata": {
    "collapsed": false,
    "pycharm": {
     "name": "#%% md\n"
    }
   }
  },
  {
   "cell_type": "markdown",
   "source": [
    "### Knock53: 1ヶ月分の Data の基本的な Data 加工を実施しよう"
   ],
   "metadata": {
    "collapsed": false,
    "pycharm": {
     "name": "#%% md\n"
    }
   }
  },
  {
   "cell_type": "code",
   "execution_count": 5,
   "outputs": [
    {
     "data": {
      "text/plain": "   order_id  store_id customer_id  coupon_cd  sales_detail_id  \\\n0  22808272        39   C80973292         40         22222408   \n1  10902625        63   C94948343         20         79467084   \n2   5990375        63   C91814442          1         61749935   \n\n     order_accept_date       delivered_date  takeout_flag  total_amount  \\\n0  2019-04-01 11:00:00  2019-04-01 11:26:00             1          2112   \n1  2019-04-01 11:00:00  2019-04-01 11:47:00             0          2154   \n2  2019-04-01 11:00:00  2019-04-01 11:10:00             0          3050   \n\n   status store_name area_cd wide_area narrow_area takeout_name status_name  \n0       1        杉並店      TK        東京          東京        お持ち帰り        お支払済  \n1       2       西多摩店      TK        東京          東京        デリバリー        お渡し済  \n2       2       西多摩店      TK        東京          東京        デリバリー        お渡し済  ",
      "text/html": "<div>\n<style scoped>\n    .dataframe tbody tr th:only-of-type {\n        vertical-align: middle;\n    }\n\n    .dataframe tbody tr th {\n        vertical-align: top;\n    }\n\n    .dataframe thead th {\n        text-align: right;\n    }\n</style>\n<table border=\"1\" class=\"dataframe\">\n  <thead>\n    <tr style=\"text-align: right;\">\n      <th></th>\n      <th>order_id</th>\n      <th>store_id</th>\n      <th>customer_id</th>\n      <th>coupon_cd</th>\n      <th>sales_detail_id</th>\n      <th>order_accept_date</th>\n      <th>delivered_date</th>\n      <th>takeout_flag</th>\n      <th>total_amount</th>\n      <th>status</th>\n      <th>store_name</th>\n      <th>area_cd</th>\n      <th>wide_area</th>\n      <th>narrow_area</th>\n      <th>takeout_name</th>\n      <th>status_name</th>\n    </tr>\n  </thead>\n  <tbody>\n    <tr>\n      <th>0</th>\n      <td>22808272</td>\n      <td>39</td>\n      <td>C80973292</td>\n      <td>40</td>\n      <td>22222408</td>\n      <td>2019-04-01 11:00:00</td>\n      <td>2019-04-01 11:26:00</td>\n      <td>1</td>\n      <td>2112</td>\n      <td>1</td>\n      <td>杉並店</td>\n      <td>TK</td>\n      <td>東京</td>\n      <td>東京</td>\n      <td>お持ち帰り</td>\n      <td>お支払済</td>\n    </tr>\n    <tr>\n      <th>1</th>\n      <td>10902625</td>\n      <td>63</td>\n      <td>C94948343</td>\n      <td>20</td>\n      <td>79467084</td>\n      <td>2019-04-01 11:00:00</td>\n      <td>2019-04-01 11:47:00</td>\n      <td>0</td>\n      <td>2154</td>\n      <td>2</td>\n      <td>西多摩店</td>\n      <td>TK</td>\n      <td>東京</td>\n      <td>東京</td>\n      <td>デリバリー</td>\n      <td>お渡し済</td>\n    </tr>\n    <tr>\n      <th>2</th>\n      <td>5990375</td>\n      <td>63</td>\n      <td>C91814442</td>\n      <td>1</td>\n      <td>61749935</td>\n      <td>2019-04-01 11:00:00</td>\n      <td>2019-04-01 11:10:00</td>\n      <td>0</td>\n      <td>3050</td>\n      <td>2</td>\n      <td>西多摩店</td>\n      <td>TK</td>\n      <td>東京</td>\n      <td>東京</td>\n      <td>デリバリー</td>\n      <td>お渡し済</td>\n    </tr>\n  </tbody>\n</table>\n</div>"
     },
     "execution_count": 5,
     "metadata": {},
     "output_type": "execute_result"
    }
   ],
   "source": [
    "# 基本的な Data 加工\n",
    "order_data = order_data.loc[order_data['store_id'] != 999]\n",
    "\n",
    "order_data = pd.merge(order_data, m_store, on='store_id', how='left')\n",
    "order_data = pd.merge(order_data, m_area, on='area_cd', how='left')\n",
    "\n",
    "order_data.loc[order_data['takeout_flag'] == 0, 'takeout_name'] = \"デリバリー\"\n",
    "order_data.loc[order_data['takeout_flag'] == 1, 'takeout_name'] = \"お持ち帰り\"\n",
    "\n",
    "order_data.loc[order_data['status'] == 0, 'status_name'] = \"受付\"\n",
    "order_data.loc[order_data['status'] == 1, 'status_name'] = \"お支払済\"\n",
    "order_data.loc[order_data['status'] == 2, 'status_name'] = \"お渡し済\"\n",
    "order_data.loc[order_data['status'] == 9, 'status_name'] = \"キャンセル\"\n",
    "order_data.head(3)"
   ],
   "metadata": {
    "collapsed": false,
    "pycharm": {
     "name": "#%%\n"
    }
   }
  },
  {
   "cell_type": "code",
   "execution_count": 6,
   "outputs": [
    {
     "data": {
      "text/plain": "order_id             0\nstore_id             0\ncustomer_id          0\ncoupon_cd            0\nsales_detail_id      0\norder_accept_date    0\ndelivered_date       0\ntakeout_flag         0\ntotal_amount         0\nstatus               0\nstore_name           0\narea_cd              0\nwide_area            0\nnarrow_area          0\ntakeout_name         0\nstatus_name          0\ndtype: int64"
     },
     "execution_count": 6,
     "metadata": {},
     "output_type": "execute_result"
    }
   ],
   "source": [
    "# 欠損値の確認\n",
    "order_data.isna().sum()"
   ],
   "metadata": {
    "collapsed": false,
    "pycharm": {
     "name": "#%%\n"
    }
   }
  },
  {
   "cell_type": "markdown",
   "source": [
    "### Knock54: 機械学習に使用する変数を作成しよう"
   ],
   "metadata": {
    "collapsed": false,
    "pycharm": {
     "name": "#%% md\n"
    }
   }
  },
  {
   "cell_type": "code",
   "execution_count": 7,
   "outputs": [
    {
     "data": {
      "text/plain": "   order_id  store_id customer_id  coupon_cd  sales_detail_id  \\\n0  22808272        39   C80973292         40         22222408   \n1  10902625        63   C94948343         20         79467084   \n2   5990375        63   C91814442          1         61749935   \n\n     order_accept_date       delivered_date  takeout_flag  total_amount  \\\n0  2019-04-01 11:00:00  2019-04-01 11:26:00             1          2112   \n1  2019-04-01 11:00:00  2019-04-01 11:47:00             0          2154   \n2  2019-04-01 11:00:00  2019-04-01 11:10:00             0          3050   \n\n   status store_name area_cd wide_area narrow_area takeout_name status_name  \\\n0       1        杉並店      TK        東京          東京        お持ち帰り        お支払済   \n1       2       西多摩店      TK        東京          東京        デリバリー        お渡し済   \n2       2       西多摩店      TK        東京          東京        デリバリー        お渡し済   \n\n  order_accept_datetime  delivered_datetime  delta  \n0   2019-04-01 11:00:00 2019-04-01 11:26:00   26.0  \n1   2019-04-01 11:00:00 2019-04-01 11:47:00   47.0  \n2   2019-04-01 11:00:00 2019-04-01 11:10:00   10.0  ",
      "text/html": "<div>\n<style scoped>\n    .dataframe tbody tr th:only-of-type {\n        vertical-align: middle;\n    }\n\n    .dataframe tbody tr th {\n        vertical-align: top;\n    }\n\n    .dataframe thead th {\n        text-align: right;\n    }\n</style>\n<table border=\"1\" class=\"dataframe\">\n  <thead>\n    <tr style=\"text-align: right;\">\n      <th></th>\n      <th>order_id</th>\n      <th>store_id</th>\n      <th>customer_id</th>\n      <th>coupon_cd</th>\n      <th>sales_detail_id</th>\n      <th>order_accept_date</th>\n      <th>delivered_date</th>\n      <th>takeout_flag</th>\n      <th>total_amount</th>\n      <th>status</th>\n      <th>store_name</th>\n      <th>area_cd</th>\n      <th>wide_area</th>\n      <th>narrow_area</th>\n      <th>takeout_name</th>\n      <th>status_name</th>\n      <th>order_accept_datetime</th>\n      <th>delivered_datetime</th>\n      <th>delta</th>\n    </tr>\n  </thead>\n  <tbody>\n    <tr>\n      <th>0</th>\n      <td>22808272</td>\n      <td>39</td>\n      <td>C80973292</td>\n      <td>40</td>\n      <td>22222408</td>\n      <td>2019-04-01 11:00:00</td>\n      <td>2019-04-01 11:26:00</td>\n      <td>1</td>\n      <td>2112</td>\n      <td>1</td>\n      <td>杉並店</td>\n      <td>TK</td>\n      <td>東京</td>\n      <td>東京</td>\n      <td>お持ち帰り</td>\n      <td>お支払済</td>\n      <td>2019-04-01 11:00:00</td>\n      <td>2019-04-01 11:26:00</td>\n      <td>26.0</td>\n    </tr>\n    <tr>\n      <th>1</th>\n      <td>10902625</td>\n      <td>63</td>\n      <td>C94948343</td>\n      <td>20</td>\n      <td>79467084</td>\n      <td>2019-04-01 11:00:00</td>\n      <td>2019-04-01 11:47:00</td>\n      <td>0</td>\n      <td>2154</td>\n      <td>2</td>\n      <td>西多摩店</td>\n      <td>TK</td>\n      <td>東京</td>\n      <td>東京</td>\n      <td>デリバリー</td>\n      <td>お渡し済</td>\n      <td>2019-04-01 11:00:00</td>\n      <td>2019-04-01 11:47:00</td>\n      <td>47.0</td>\n    </tr>\n    <tr>\n      <th>2</th>\n      <td>5990375</td>\n      <td>63</td>\n      <td>C91814442</td>\n      <td>1</td>\n      <td>61749935</td>\n      <td>2019-04-01 11:00:00</td>\n      <td>2019-04-01 11:10:00</td>\n      <td>0</td>\n      <td>3050</td>\n      <td>2</td>\n      <td>西多摩店</td>\n      <td>TK</td>\n      <td>東京</td>\n      <td>東京</td>\n      <td>デリバリー</td>\n      <td>お渡し済</td>\n      <td>2019-04-01 11:00:00</td>\n      <td>2019-04-01 11:10:00</td>\n      <td>10.0</td>\n    </tr>\n  </tbody>\n</table>\n</div>"
     },
     "execution_count": 7,
     "metadata": {},
     "output_type": "execute_result"
    }
   ],
   "source": [
    "# Pizza 提供までの時間の作成\n",
    "def calc_delta(t):\n",
    "    t1, t2 = t\n",
    "    delta = t2 - t1\n",
    "    return delta.total_seconds() / 60\n",
    "\n",
    "\n",
    "order_data.loc[:, 'order_accept_datetime'] = pd.to_datetime(order_data['order_accept_date'])\n",
    "order_data.loc[:, 'delivered_datetime'] = pd.to_datetime(order_data['delivered_date'])\n",
    "order_data.loc[:, 'delta'] = order_data[['order_accept_datetime', 'delivered_datetime']].apply(calc_delta, axis=1)\n",
    "order_data.head(3)"
   ],
   "metadata": {
    "collapsed": false,
    "pycharm": {
     "name": "#%%\n"
    }
   }
  },
  {
   "cell_type": "code",
   "execution_count": 8,
   "outputs": [
    {
     "data": {
      "text/plain": "   order_id  store_id customer_id  coupon_cd  sales_detail_id  \\\n0  22808272        39   C80973292         40         22222408   \n1  10902625        63   C94948343         20         79467084   \n2   5990375        63   C91814442          1         61749935   \n\n     order_accept_date       delivered_date  takeout_flag  total_amount  \\\n0  2019-04-01 11:00:00  2019-04-01 11:26:00             1          2112   \n1  2019-04-01 11:00:00  2019-04-01 11:47:00             0          2154   \n2  2019-04-01 11:00:00  2019-04-01 11:10:00             0          3050   \n\n   status  ... wide_area narrow_area takeout_name status_name  \\\n0       1  ...        東京          東京        お持ち帰り        お支払済   \n1       2  ...        東京          東京        デリバリー        お渡し済   \n2       2  ...        東京          東京        デリバリー        お渡し済   \n\n  order_accept_datetime  delivered_datetime delta order_accept_hour  \\\n0   2019-04-01 11:00:00 2019-04-01 11:26:00  26.0                11   \n1   2019-04-01 11:00:00 2019-04-01 11:47:00  47.0                11   \n2   2019-04-01 11:00:00 2019-04-01 11:10:00  10.0                11   \n\n   order_accept_weekday  weekday_info  \n0                     0            平日  \n1                     0            平日  \n2                     0            平日  \n\n[3 rows x 22 columns]",
      "text/html": "<div>\n<style scoped>\n    .dataframe tbody tr th:only-of-type {\n        vertical-align: middle;\n    }\n\n    .dataframe tbody tr th {\n        vertical-align: top;\n    }\n\n    .dataframe thead th {\n        text-align: right;\n    }\n</style>\n<table border=\"1\" class=\"dataframe\">\n  <thead>\n    <tr style=\"text-align: right;\">\n      <th></th>\n      <th>order_id</th>\n      <th>store_id</th>\n      <th>customer_id</th>\n      <th>coupon_cd</th>\n      <th>sales_detail_id</th>\n      <th>order_accept_date</th>\n      <th>delivered_date</th>\n      <th>takeout_flag</th>\n      <th>total_amount</th>\n      <th>status</th>\n      <th>...</th>\n      <th>wide_area</th>\n      <th>narrow_area</th>\n      <th>takeout_name</th>\n      <th>status_name</th>\n      <th>order_accept_datetime</th>\n      <th>delivered_datetime</th>\n      <th>delta</th>\n      <th>order_accept_hour</th>\n      <th>order_accept_weekday</th>\n      <th>weekday_info</th>\n    </tr>\n  </thead>\n  <tbody>\n    <tr>\n      <th>0</th>\n      <td>22808272</td>\n      <td>39</td>\n      <td>C80973292</td>\n      <td>40</td>\n      <td>22222408</td>\n      <td>2019-04-01 11:00:00</td>\n      <td>2019-04-01 11:26:00</td>\n      <td>1</td>\n      <td>2112</td>\n      <td>1</td>\n      <td>...</td>\n      <td>東京</td>\n      <td>東京</td>\n      <td>お持ち帰り</td>\n      <td>お支払済</td>\n      <td>2019-04-01 11:00:00</td>\n      <td>2019-04-01 11:26:00</td>\n      <td>26.0</td>\n      <td>11</td>\n      <td>0</td>\n      <td>平日</td>\n    </tr>\n    <tr>\n      <th>1</th>\n      <td>10902625</td>\n      <td>63</td>\n      <td>C94948343</td>\n      <td>20</td>\n      <td>79467084</td>\n      <td>2019-04-01 11:00:00</td>\n      <td>2019-04-01 11:47:00</td>\n      <td>0</td>\n      <td>2154</td>\n      <td>2</td>\n      <td>...</td>\n      <td>東京</td>\n      <td>東京</td>\n      <td>デリバリー</td>\n      <td>お渡し済</td>\n      <td>2019-04-01 11:00:00</td>\n      <td>2019-04-01 11:47:00</td>\n      <td>47.0</td>\n      <td>11</td>\n      <td>0</td>\n      <td>平日</td>\n    </tr>\n    <tr>\n      <th>2</th>\n      <td>5990375</td>\n      <td>63</td>\n      <td>C91814442</td>\n      <td>1</td>\n      <td>61749935</td>\n      <td>2019-04-01 11:00:00</td>\n      <td>2019-04-01 11:10:00</td>\n      <td>0</td>\n      <td>3050</td>\n      <td>2</td>\n      <td>...</td>\n      <td>東京</td>\n      <td>東京</td>\n      <td>デリバリー</td>\n      <td>お渡し済</td>\n      <td>2019-04-01 11:00:00</td>\n      <td>2019-04-01 11:10:00</td>\n      <td>10.0</td>\n      <td>11</td>\n      <td>0</td>\n      <td>平日</td>\n    </tr>\n  </tbody>\n</table>\n<p>3 rows × 22 columns</p>\n</div>"
     },
     "execution_count": 8,
     "metadata": {},
     "output_type": "execute_result"
    }
   ],
   "source": [
    "# 日付関連変数の作成\n",
    "order_data.loc[:, 'order_accept_hour'] = order_data['order_accept_datetime'].dt.hour\n",
    "order_data.loc[:, 'order_accept_weekday'] = order_data['order_accept_datetime'].dt.weekday\n",
    "order_data.loc[order_data['order_accept_weekday'] >= 5, 'weekday_info'] = \"休日\"\n",
    "order_data.loc[order_data['order_accept_weekday'] < 5, 'weekday_info'] = \"平日\"\n",
    "order_data.head(3)"
   ],
   "metadata": {
    "collapsed": false,
    "pycharm": {
     "name": "#%%\n"
    }
   }
  },
  {
   "cell_type": "markdown",
   "source": [
    "- weekday は、0 の月曜日に始まり、6 が日曜日となる。\n",
    "- 上記より、平日: 5 未満、休日: 5 以上で分岐できる。"
   ],
   "metadata": {
    "collapsed": false,
    "pycharm": {
     "name": "#%% md\n"
    }
   }
  },
  {
   "cell_type": "markdown",
   "source": [
    "### Knock55: 店舗単位に集計して変数を作成しよう"
   ],
   "metadata": {
    "collapsed": false,
    "pycharm": {
     "name": "#%% md\n"
    }
   }
  },
  {
   "cell_type": "code",
   "execution_count": 9,
   "outputs": [],
   "source": [
    "# Order 数の集計\n",
    "store_data = order_data.groupby(['store_name']).count()[['order_id']]\n",
    "store_f = order_data.loc[\n",
    "    (order_data['status_name'] == \"お渡し済\")\n",
    "    | (order_data['status_name'] == \"お支払済\")\n",
    "    ].groupby(['store_name']).count()[['order_id']]\n",
    "store_c = order_data.loc[order_data['status_name'] == \"キャンセル\"].groupby(['store_name']).count()[['order_id']]\n",
    "store_d = order_data.loc[order_data['takeout_name'] == \"デリバリー\"].groupby(['store_name']).count()[['order_id']]\n",
    "store_t = order_data.loc[order_data['takeout_name'] == \"お持ち帰り\"].groupby(['store_name']).count()[['order_id']]\n",
    "\n",
    "store_weekday = order_data.loc[order_data['weekday_info'] == \"平日\"].groupby(['store_name']).count()[['order_id']]\n",
    "store_weekend = order_data.loc[order_data['weekday_info'] == \"休日\"].groupby(['store_name']).count()[['order_id']]"
   ],
   "metadata": {
    "collapsed": false,
    "pycharm": {
     "name": "#%%\n"
    }
   }
  },
  {
   "cell_type": "code",
   "execution_count": 10,
   "outputs": [
    {
     "data": {
      "text/plain": "            order_time_11  order_time_12  order_time_13  order_time_14  \\\nstore_name                                                               \nあきる野店                  91            122            112            101   \nさいたま南店                130            135            147            143   \nさいたま緑店                 95             91            106             95   \n\n            order_time_15  order_time_16  order_time_17  order_time_18  \\\nstore_name                                                               \nあきる野店                  95            107            106            100   \nさいたま南店                142            137            130            113   \nさいたま緑店                102             82             90             93   \n\n            order_time_19  order_time_20  order_time_21  \nstore_name                                               \nあきる野店                 108            109             96  \nさいたま南店                140            132            155  \nさいたま緑店                 95             95             84  ",
      "text/html": "<div>\n<style scoped>\n    .dataframe tbody tr th:only-of-type {\n        vertical-align: middle;\n    }\n\n    .dataframe tbody tr th {\n        vertical-align: top;\n    }\n\n    .dataframe thead th {\n        text-align: right;\n    }\n</style>\n<table border=\"1\" class=\"dataframe\">\n  <thead>\n    <tr style=\"text-align: right;\">\n      <th></th>\n      <th>order_time_11</th>\n      <th>order_time_12</th>\n      <th>order_time_13</th>\n      <th>order_time_14</th>\n      <th>order_time_15</th>\n      <th>order_time_16</th>\n      <th>order_time_17</th>\n      <th>order_time_18</th>\n      <th>order_time_19</th>\n      <th>order_time_20</th>\n      <th>order_time_21</th>\n    </tr>\n    <tr>\n      <th>store_name</th>\n      <th></th>\n      <th></th>\n      <th></th>\n      <th></th>\n      <th></th>\n      <th></th>\n      <th></th>\n      <th></th>\n      <th></th>\n      <th></th>\n      <th></th>\n    </tr>\n  </thead>\n  <tbody>\n    <tr>\n      <th>あきる野店</th>\n      <td>91</td>\n      <td>122</td>\n      <td>112</td>\n      <td>101</td>\n      <td>95</td>\n      <td>107</td>\n      <td>106</td>\n      <td>100</td>\n      <td>108</td>\n      <td>109</td>\n      <td>96</td>\n    </tr>\n    <tr>\n      <th>さいたま南店</th>\n      <td>130</td>\n      <td>135</td>\n      <td>147</td>\n      <td>143</td>\n      <td>142</td>\n      <td>137</td>\n      <td>130</td>\n      <td>113</td>\n      <td>140</td>\n      <td>132</td>\n      <td>155</td>\n    </tr>\n    <tr>\n      <th>さいたま緑店</th>\n      <td>95</td>\n      <td>91</td>\n      <td>106</td>\n      <td>95</td>\n      <td>102</td>\n      <td>82</td>\n      <td>90</td>\n      <td>93</td>\n      <td>95</td>\n      <td>95</td>\n      <td>84</td>\n    </tr>\n  </tbody>\n</table>\n</div>"
     },
     "execution_count": 10,
     "metadata": {},
     "output_type": "execute_result"
    }
   ],
   "source": [
    "# 時間帯別 Order 数の集計\n",
    "times = order_data['order_accept_hour'].unique()\n",
    "store_time = []\n",
    "for time in times:\n",
    "    time_tmp = order_data.loc[order_data['order_accept_hour'] == time].groupby(['store_name']).count()[['order_id']]\n",
    "    time_tmp.columns = [f\"order_time_{time}\"]\n",
    "    store_time.append(time_tmp)\n",
    "store_time = pd.concat(store_time, axis=1)\n",
    "store_time.head(3)"
   ],
   "metadata": {
    "collapsed": false,
    "pycharm": {
     "name": "#%%\n"
    }
   }
  },
  {
   "cell_type": "code",
   "execution_count": 11,
   "outputs": [
    {
     "data": {
      "text/plain": "            order  order_fin  order_cancel  order_takeout  order_id  \\\nstore_name                                                            \nあきる野店        1147        945           202            841       306   \nさいたま南店       1504       1217           287           1105       399   \nさいたま緑店       1028        847           181            756       272   \n\n            order_weekday  order_weekend  order_time_11  order_time_12  \\\nstore_name                                                               \nあきる野店                 844            303             91            122   \nさいたま南店               1104            400            130            135   \nさいたま緑店                756            272             95             91   \n\n            order_time_13  order_time_14  order_time_15  order_time_16  \\\nstore_name                                                               \nあきる野店                 112            101             95            107   \nさいたま南店                147            143            142            137   \nさいたま緑店                106             95            102             82   \n\n            order_time_17  order_time_18  order_time_19  order_time_20  \\\nstore_name                                                               \nあきる野店                 106            100            108            109   \nさいたま南店                130            113            140            132   \nさいたま緑店                 90             93             95             95   \n\n            order_time_21  delta_avg  \nstore_name                            \nあきる野店                  96  34.110053  \nさいたま南店                155  35.337716  \nさいたま緑店                 84  34.291617  ",
      "text/html": "<div>\n<style scoped>\n    .dataframe tbody tr th:only-of-type {\n        vertical-align: middle;\n    }\n\n    .dataframe tbody tr th {\n        vertical-align: top;\n    }\n\n    .dataframe thead th {\n        text-align: right;\n    }\n</style>\n<table border=\"1\" class=\"dataframe\">\n  <thead>\n    <tr style=\"text-align: right;\">\n      <th></th>\n      <th>order</th>\n      <th>order_fin</th>\n      <th>order_cancel</th>\n      <th>order_takeout</th>\n      <th>order_id</th>\n      <th>order_weekday</th>\n      <th>order_weekend</th>\n      <th>order_time_11</th>\n      <th>order_time_12</th>\n      <th>order_time_13</th>\n      <th>order_time_14</th>\n      <th>order_time_15</th>\n      <th>order_time_16</th>\n      <th>order_time_17</th>\n      <th>order_time_18</th>\n      <th>order_time_19</th>\n      <th>order_time_20</th>\n      <th>order_time_21</th>\n      <th>delta_avg</th>\n    </tr>\n    <tr>\n      <th>store_name</th>\n      <th></th>\n      <th></th>\n      <th></th>\n      <th></th>\n      <th></th>\n      <th></th>\n      <th></th>\n      <th></th>\n      <th></th>\n      <th></th>\n      <th></th>\n      <th></th>\n      <th></th>\n      <th></th>\n      <th></th>\n      <th></th>\n      <th></th>\n      <th></th>\n      <th></th>\n    </tr>\n  </thead>\n  <tbody>\n    <tr>\n      <th>あきる野店</th>\n      <td>1147</td>\n      <td>945</td>\n      <td>202</td>\n      <td>841</td>\n      <td>306</td>\n      <td>844</td>\n      <td>303</td>\n      <td>91</td>\n      <td>122</td>\n      <td>112</td>\n      <td>101</td>\n      <td>95</td>\n      <td>107</td>\n      <td>106</td>\n      <td>100</td>\n      <td>108</td>\n      <td>109</td>\n      <td>96</td>\n      <td>34.110053</td>\n    </tr>\n    <tr>\n      <th>さいたま南店</th>\n      <td>1504</td>\n      <td>1217</td>\n      <td>287</td>\n      <td>1105</td>\n      <td>399</td>\n      <td>1104</td>\n      <td>400</td>\n      <td>130</td>\n      <td>135</td>\n      <td>147</td>\n      <td>143</td>\n      <td>142</td>\n      <td>137</td>\n      <td>130</td>\n      <td>113</td>\n      <td>140</td>\n      <td>132</td>\n      <td>155</td>\n      <td>35.337716</td>\n    </tr>\n    <tr>\n      <th>さいたま緑店</th>\n      <td>1028</td>\n      <td>847</td>\n      <td>181</td>\n      <td>756</td>\n      <td>272</td>\n      <td>756</td>\n      <td>272</td>\n      <td>95</td>\n      <td>91</td>\n      <td>106</td>\n      <td>95</td>\n      <td>102</td>\n      <td>82</td>\n      <td>90</td>\n      <td>93</td>\n      <td>95</td>\n      <td>95</td>\n      <td>84</td>\n      <td>34.291617</td>\n    </tr>\n  </tbody>\n</table>\n</div>"
     },
     "execution_count": 11,
     "metadata": {},
     "output_type": "execute_result"
    }
   ],
   "source": [
    "# 提供までの時間の集計と集計結果の結合\n",
    "store_delta = order_data.loc[(order_data['status_name'] != \"キャンセル\")].groupby(['store_name']).mean()[['delta']]\n",
    "store_data.columns = ['order']\n",
    "store_f.columns = ['order_fin']\n",
    "store_c.columns = ['order_cancel']\n",
    "store_d.columns = ['order_takeout']\n",
    "store_weekday.columns = ['order_weekday']\n",
    "store_weekend.columns = ['order_weekend']\n",
    "store_delta.columns = ['delta_avg']\n",
    "store_data = pd.concat(\n",
    "    [store_data, store_f, store_c, store_d, store_t, store_weekday, store_weekend, store_time, store_delta], axis=1)\n",
    "store_data.head(3)"
   ],
   "metadata": {
    "collapsed": false,
    "pycharm": {
     "name": "#%%\n"
    }
   }
  },
  {
   "cell_type": "markdown",
   "source": [
    "### Knock56: Data の加工と店舗別集計を関数で実行しよう"
   ],
   "metadata": {
    "collapsed": false,
    "pycharm": {
     "name": "#%% md\n"
    }
   }
  },
  {
   "cell_type": "code",
   "execution_count": 12,
   "outputs": [],
   "source": [
    "# Data 加工関数の作成\n",
    "def data_processing(order_data):\n",
    "    order_data = order_data.loc[order_data['store_id'] != 999]\n",
    "    order_data = pd.merge(order_data, m_store, on='store_id', how='left')\n",
    "    order_data = pd.merge(order_data, m_area, on='area_cd', how='left')\n",
    "    order_data.loc[order_data['takeout_flag'] == 0, 'takeout_name'] = \"デリバリー\"\n",
    "    order_data.loc[order_data['takeout_flag'] == 1, 'takeout_name'] = \"お持ち帰り\"\n",
    "    order_data.loc[order_data['status'] == 0, 'status_name'] = \"受付\"\n",
    "    order_data.loc[order_data['status'] == 1, 'status_name'] = \"お支払済\"\n",
    "    order_data.loc[order_data['status'] == 2, 'status_name'] = \"お渡し済\"\n",
    "    order_data.loc[order_data['status'] == 9, 'status_name'] = \"キャンセル\"\n",
    "\n",
    "    order_data.loc[:, 'order_accept_datetime'] = pd.to_datetime(order_data['order_accept_date'])\n",
    "    order_data.loc[:, 'delivered_datetime'] = pd.to_datetime(order_data['delivered_date'])\n",
    "    order_data.loc[:, 'delta'] = order_data[['order_accept_datetime', 'delivered_datetime']].apply(calc_delta, axis=1)\n",
    "    order_data.loc[:, 'order_accept_hour'] = order_data['order_accept_datetime'].dt.hour\n",
    "    order_data.loc[:, 'order_accept_weekday'] = order_data['order_accept_datetime'].dt.weekday\n",
    "    order_data.loc[order_data['order_accept_weekday'] >= 5, 'weekday_info'] = \"休日\"\n",
    "    order_data.loc[order_data['order_accept_weekday'] < 5, 'weekday_info'] = \"平日\"\n",
    "\n",
    "    store_data = order_data.groupby(['store_name']).count()[['order_id']]\n",
    "    store_f = order_data.loc[\n",
    "        (order_data['status_name'] == \"お渡し済\")\n",
    "        | (order_data['status_name'] == \"お支払済\")\n",
    "        ].groupby(['store_name']).count()[['order_id']]\n",
    "    store_c = order_data.loc[order_data['status_name'] == \"キャンセル\"].groupby(['store_name']).count()[['order_id']]\n",
    "    store_d = order_data.loc[order_data['takeout_name'] == \"デリバリー\"].groupby(['store_name']).count()[['order_id']]\n",
    "    store_t = order_data.loc[order_data['takeout_name'] == \"お持ち帰り\"].groupby(['store_name']).count()[['order_id']]\n",
    "    store_weekday = order_data.loc[order_data['weekday_info'] == \"平日\"].groupby(['store_name']).count()[['order_id']]\n",
    "    store_weekend = order_data.loc[order_data['weekday_info'] == \"休日\"].groupby(['store_name']).count()[['order_id']]\n",
    "    times = order_data['order_accept_hour'].unique()\n",
    "    store_time = []\n",
    "    for time in times:\n",
    "        time_tmp = order_data.loc[order_data['order_accept_hour'] == time].groupby(['store_name']).count()[['order_id']]\n",
    "        time_tmp.columns = [f\"order_time_{time}\"]\n",
    "        store_time.append(time_tmp)\n",
    "    store_time = pd.concat(store_time, axis=1)\n",
    "    store_delta = order_data.loc[order_data['status_name'] != \"キャンセル\"].groupby(['store_name']).mean()[['delta']]\n",
    "    store_data.columns = ['order']\n",
    "    store_f.columns = ['order_fin']\n",
    "    store_c.columns = ['order_cancel']\n",
    "    store_d.columns = ['order_delivery']\n",
    "    store_t.columns = ['order_takeout']\n",
    "    store_delta.columns = ['delta_avg']\n",
    "    store_weekday.columns = ['order_weekday']\n",
    "    store_weekend.columns = ['order_weekend']\n",
    "    store_data = pd.concat(\n",
    "        [store_data, store_f, store_c, store_d, store_t, store_weekday, store_weekend, store_time, store_delta], axis=1)\n",
    "    return store_data"
   ],
   "metadata": {
    "collapsed": false,
    "pycharm": {
     "name": "#%%\n"
    }
   }
  },
  {
   "cell_type": "code",
   "execution_count": 13,
   "outputs": [
    {
     "name": "stdout",
     "output_type": "stream",
     "text": [
      "読み込み Data: data\\0_input\\tbl_order_201904.csv\n"
     ]
    },
    {
     "data": {
      "text/plain": "            order  order_fin  order_cancel  order_delivery  order_takeout  \\\nstore_name                                                                  \nあきる野店        1147        945           202             841            306   \nさいたま南店       1504       1217           287            1105            399   \nさいたま緑店       1028        847           181             756            272   \n\n            order_weekday  order_weekend  order_time_11  order_time_12  \\\nstore_name                                                               \nあきる野店                 844            303             91            122   \nさいたま南店               1104            400            130            135   \nさいたま緑店                756            272             95             91   \n\n            order_time_13  order_time_14  order_time_15  order_time_16  \\\nstore_name                                                               \nあきる野店                 112            101             95            107   \nさいたま南店                147            143            142            137   \nさいたま緑店                106             95            102             82   \n\n            order_time_17  order_time_18  order_time_19  order_time_20  \\\nstore_name                                                               \nあきる野店                 106            100            108            109   \nさいたま南店                130            113            140            132   \nさいたま緑店                 90             93             95             95   \n\n            order_time_21  delta_avg  \nstore_name                            \nあきる野店                  96  34.110053  \nさいたま南店                155  35.337716  \nさいたま緑店                 84  34.291617  ",
      "text/html": "<div>\n<style scoped>\n    .dataframe tbody tr th:only-of-type {\n        vertical-align: middle;\n    }\n\n    .dataframe tbody tr th {\n        vertical-align: top;\n    }\n\n    .dataframe thead th {\n        text-align: right;\n    }\n</style>\n<table border=\"1\" class=\"dataframe\">\n  <thead>\n    <tr style=\"text-align: right;\">\n      <th></th>\n      <th>order</th>\n      <th>order_fin</th>\n      <th>order_cancel</th>\n      <th>order_delivery</th>\n      <th>order_takeout</th>\n      <th>order_weekday</th>\n      <th>order_weekend</th>\n      <th>order_time_11</th>\n      <th>order_time_12</th>\n      <th>order_time_13</th>\n      <th>order_time_14</th>\n      <th>order_time_15</th>\n      <th>order_time_16</th>\n      <th>order_time_17</th>\n      <th>order_time_18</th>\n      <th>order_time_19</th>\n      <th>order_time_20</th>\n      <th>order_time_21</th>\n      <th>delta_avg</th>\n    </tr>\n    <tr>\n      <th>store_name</th>\n      <th></th>\n      <th></th>\n      <th></th>\n      <th></th>\n      <th></th>\n      <th></th>\n      <th></th>\n      <th></th>\n      <th></th>\n      <th></th>\n      <th></th>\n      <th></th>\n      <th></th>\n      <th></th>\n      <th></th>\n      <th></th>\n      <th></th>\n      <th></th>\n      <th></th>\n    </tr>\n  </thead>\n  <tbody>\n    <tr>\n      <th>あきる野店</th>\n      <td>1147</td>\n      <td>945</td>\n      <td>202</td>\n      <td>841</td>\n      <td>306</td>\n      <td>844</td>\n      <td>303</td>\n      <td>91</td>\n      <td>122</td>\n      <td>112</td>\n      <td>101</td>\n      <td>95</td>\n      <td>107</td>\n      <td>106</td>\n      <td>100</td>\n      <td>108</td>\n      <td>109</td>\n      <td>96</td>\n      <td>34.110053</td>\n    </tr>\n    <tr>\n      <th>さいたま南店</th>\n      <td>1504</td>\n      <td>1217</td>\n      <td>287</td>\n      <td>1105</td>\n      <td>399</td>\n      <td>1104</td>\n      <td>400</td>\n      <td>130</td>\n      <td>135</td>\n      <td>147</td>\n      <td>143</td>\n      <td>142</td>\n      <td>137</td>\n      <td>130</td>\n      <td>113</td>\n      <td>140</td>\n      <td>132</td>\n      <td>155</td>\n      <td>35.337716</td>\n    </tr>\n    <tr>\n      <th>さいたま緑店</th>\n      <td>1028</td>\n      <td>847</td>\n      <td>181</td>\n      <td>756</td>\n      <td>272</td>\n      <td>756</td>\n      <td>272</td>\n      <td>95</td>\n      <td>91</td>\n      <td>106</td>\n      <td>95</td>\n      <td>102</td>\n      <td>82</td>\n      <td>90</td>\n      <td>93</td>\n      <td>95</td>\n      <td>95</td>\n      <td>84</td>\n      <td>34.291617</td>\n    </tr>\n  </tbody>\n</table>\n</div>"
     },
     "execution_count": 13,
     "metadata": {},
     "output_type": "execute_result"
    }
   ],
   "source": [
    "# Data 加工関数の実行\n",
    "tbl_order_path = tbl_order_paths[0]\n",
    "print(f\"読み込み Data: {tbl_order_path}\")\n",
    "order_data = pd.read_csv(tbl_order_path)\n",
    "store_data = data_processing(order_data)\n",
    "store_data.head(3)"
   ],
   "metadata": {
    "collapsed": false,
    "pycharm": {
     "name": "#%%\n"
    }
   }
  },
  {
   "cell_type": "markdown",
   "source": [
    "### Knock57: 全 Data の読み込みと Data 加工をやってみよう"
   ],
   "metadata": {
    "collapsed": false,
    "pycharm": {
     "name": "#%% md\n"
    }
   }
  },
  {
   "cell_type": "code",
   "execution_count": 14,
   "outputs": [
    {
     "name": "stdout",
     "output_type": "stream",
     "text": [
      "読み込み Data: data\\0_input\\tbl_order_201904.csv\n",
      "読み込み Data: data\\0_input\\tbl_order_201905.csv\n",
      "読み込み Data: data\\0_input\\tbl_order_201906.csv\n",
      "読み込み Data: data\\0_input\\tbl_order_201907.csv\n",
      "読み込み Data: data\\0_input\\tbl_order_201908.csv\n",
      "読み込み Data: data\\0_input\\tbl_order_201909.csv\n",
      "読み込み Data: data\\0_input\\tbl_order_201910.csv\n",
      "読み込み Data: data\\0_input\\tbl_order_201911.csv\n",
      "読み込み Data: data\\0_input\\tbl_order_201912.csv\n",
      "読み込み Data: data\\0_input\\tbl_order_202001.csv\n",
      "読み込み Data: data\\0_input\\tbl_order_202002.csv\n",
      "読み込み Data: data\\0_input\\tbl_order_202003.csv\n"
     ]
    },
    {
     "data": {
      "text/plain": "  store_name  order  order_fin  order_cancel  order_delivery  order_takeout  \\\n0      あきる野店   1147        945           202             841            306   \n1     さいたま南店   1504       1217           287            1105            399   \n2     さいたま緑店   1028        847           181             756            272   \n\n   order_weekday  order_weekend  order_time_11  order_time_12  ...  \\\n0            844            303             91            122  ...   \n1           1104            400            130            135  ...   \n2            756            272             95             91  ...   \n\n   order_time_14  order_time_15  order_time_16  order_time_17  order_time_18  \\\n0            101             95            107            106            100   \n1            143            142            137            130            113   \n2             95            102             82             90             93   \n\n   order_time_19  order_time_20  order_time_21  delta_avg  year_month  \n0            108            109             96  34.110053      201904  \n1            140            132            155  35.337716      201904  \n2             95             95             84  34.291617      201904  \n\n[3 rows x 21 columns]",
      "text/html": "<div>\n<style scoped>\n    .dataframe tbody tr th:only-of-type {\n        vertical-align: middle;\n    }\n\n    .dataframe tbody tr th {\n        vertical-align: top;\n    }\n\n    .dataframe thead th {\n        text-align: right;\n    }\n</style>\n<table border=\"1\" class=\"dataframe\">\n  <thead>\n    <tr style=\"text-align: right;\">\n      <th></th>\n      <th>store_name</th>\n      <th>order</th>\n      <th>order_fin</th>\n      <th>order_cancel</th>\n      <th>order_delivery</th>\n      <th>order_takeout</th>\n      <th>order_weekday</th>\n      <th>order_weekend</th>\n      <th>order_time_11</th>\n      <th>order_time_12</th>\n      <th>...</th>\n      <th>order_time_14</th>\n      <th>order_time_15</th>\n      <th>order_time_16</th>\n      <th>order_time_17</th>\n      <th>order_time_18</th>\n      <th>order_time_19</th>\n      <th>order_time_20</th>\n      <th>order_time_21</th>\n      <th>delta_avg</th>\n      <th>year_month</th>\n    </tr>\n  </thead>\n  <tbody>\n    <tr>\n      <th>0</th>\n      <td>あきる野店</td>\n      <td>1147</td>\n      <td>945</td>\n      <td>202</td>\n      <td>841</td>\n      <td>306</td>\n      <td>844</td>\n      <td>303</td>\n      <td>91</td>\n      <td>122</td>\n      <td>...</td>\n      <td>101</td>\n      <td>95</td>\n      <td>107</td>\n      <td>106</td>\n      <td>100</td>\n      <td>108</td>\n      <td>109</td>\n      <td>96</td>\n      <td>34.110053</td>\n      <td>201904</td>\n    </tr>\n    <tr>\n      <th>1</th>\n      <td>さいたま南店</td>\n      <td>1504</td>\n      <td>1217</td>\n      <td>287</td>\n      <td>1105</td>\n      <td>399</td>\n      <td>1104</td>\n      <td>400</td>\n      <td>130</td>\n      <td>135</td>\n      <td>...</td>\n      <td>143</td>\n      <td>142</td>\n      <td>137</td>\n      <td>130</td>\n      <td>113</td>\n      <td>140</td>\n      <td>132</td>\n      <td>155</td>\n      <td>35.337716</td>\n      <td>201904</td>\n    </tr>\n    <tr>\n      <th>2</th>\n      <td>さいたま緑店</td>\n      <td>1028</td>\n      <td>847</td>\n      <td>181</td>\n      <td>756</td>\n      <td>272</td>\n      <td>756</td>\n      <td>272</td>\n      <td>95</td>\n      <td>91</td>\n      <td>...</td>\n      <td>95</td>\n      <td>102</td>\n      <td>82</td>\n      <td>90</td>\n      <td>93</td>\n      <td>95</td>\n      <td>95</td>\n      <td>84</td>\n      <td>34.291617</td>\n      <td>201904</td>\n    </tr>\n  </tbody>\n</table>\n<p>3 rows × 21 columns</p>\n</div>"
     },
     "metadata": {},
     "output_type": "display_data"
    },
    {
     "data": {
      "text/plain": "     store_name  order  order_fin  order_cancel  order_delivery  \\\n2337        鴻巣店   1153        951           202             863   \n2338        鶴見店   1514       1236           278            1093   \n2339        麻生店   1397       1145           252            1050   \n\n      order_takeout  order_weekday  order_weekend  order_time_11  \\\n2337            290            821            332            105   \n2338            421           1071            443            144   \n2339            347            994            403            121   \n\n      order_time_12  ...  order_time_14  order_time_15  order_time_16  \\\n2337            107  ...            119             89            108   \n2338            138  ...            137            161            152   \n2339            115  ...            120            113            139   \n\n      order_time_17  order_time_18  order_time_19  order_time_20  \\\n2337             99            106            107            101   \n2338            130            136            138            129   \n2339            129            117            144            141   \n\n      order_time_21  delta_avg  year_month  \n2337            101  34.634069      202003  \n2338            131  34.817152      202003  \n2339            136  34.383406      202003  \n\n[3 rows x 21 columns]",
      "text/html": "<div>\n<style scoped>\n    .dataframe tbody tr th:only-of-type {\n        vertical-align: middle;\n    }\n\n    .dataframe tbody tr th {\n        vertical-align: top;\n    }\n\n    .dataframe thead th {\n        text-align: right;\n    }\n</style>\n<table border=\"1\" class=\"dataframe\">\n  <thead>\n    <tr style=\"text-align: right;\">\n      <th></th>\n      <th>store_name</th>\n      <th>order</th>\n      <th>order_fin</th>\n      <th>order_cancel</th>\n      <th>order_delivery</th>\n      <th>order_takeout</th>\n      <th>order_weekday</th>\n      <th>order_weekend</th>\n      <th>order_time_11</th>\n      <th>order_time_12</th>\n      <th>...</th>\n      <th>order_time_14</th>\n      <th>order_time_15</th>\n      <th>order_time_16</th>\n      <th>order_time_17</th>\n      <th>order_time_18</th>\n      <th>order_time_19</th>\n      <th>order_time_20</th>\n      <th>order_time_21</th>\n      <th>delta_avg</th>\n      <th>year_month</th>\n    </tr>\n  </thead>\n  <tbody>\n    <tr>\n      <th>2337</th>\n      <td>鴻巣店</td>\n      <td>1153</td>\n      <td>951</td>\n      <td>202</td>\n      <td>863</td>\n      <td>290</td>\n      <td>821</td>\n      <td>332</td>\n      <td>105</td>\n      <td>107</td>\n      <td>...</td>\n      <td>119</td>\n      <td>89</td>\n      <td>108</td>\n      <td>99</td>\n      <td>106</td>\n      <td>107</td>\n      <td>101</td>\n      <td>101</td>\n      <td>34.634069</td>\n      <td>202003</td>\n    </tr>\n    <tr>\n      <th>2338</th>\n      <td>鶴見店</td>\n      <td>1514</td>\n      <td>1236</td>\n      <td>278</td>\n      <td>1093</td>\n      <td>421</td>\n      <td>1071</td>\n      <td>443</td>\n      <td>144</td>\n      <td>138</td>\n      <td>...</td>\n      <td>137</td>\n      <td>161</td>\n      <td>152</td>\n      <td>130</td>\n      <td>136</td>\n      <td>138</td>\n      <td>129</td>\n      <td>131</td>\n      <td>34.817152</td>\n      <td>202003</td>\n    </tr>\n    <tr>\n      <th>2339</th>\n      <td>麻生店</td>\n      <td>1397</td>\n      <td>1145</td>\n      <td>252</td>\n      <td>1050</td>\n      <td>347</td>\n      <td>994</td>\n      <td>403</td>\n      <td>121</td>\n      <td>115</td>\n      <td>...</td>\n      <td>120</td>\n      <td>113</td>\n      <td>139</td>\n      <td>129</td>\n      <td>117</td>\n      <td>144</td>\n      <td>141</td>\n      <td>136</td>\n      <td>34.383406</td>\n      <td>202003</td>\n    </tr>\n  </tbody>\n</table>\n<p>3 rows × 21 columns</p>\n</div>"
     },
     "metadata": {},
     "output_type": "display_data"
    }
   ],
   "source": [
    "from IPython.display import display\n",
    "\n",
    "# 提供までの時間の集計と集計結果の結合\n",
    "store_all = []\n",
    "for tbl_order_path in tbl_order_paths:\n",
    "    print(f\"読み込み Data: {tbl_order_path}\")\n",
    "    tg_ym = tbl_order_path.split('_')[-1][:6]\n",
    "    order_data = pd.read_csv(tbl_order_path)\n",
    "    store_data = data_processing(order_data)\n",
    "    store_data.loc[:, 'year_month'] = tg_ym\n",
    "    store_data.reset_index(drop=False, inplace=True)\n",
    "    store_all.append(store_data)\n",
    "store_all = pd.concat(store_all, ignore_index=True)\n",
    "display(store_all.head(3))\n",
    "display(store_all.tail(3))\n",
    "store_monthly_name = 'store_monthly_data.csv'\n",
    "store_all.to_csv(os.path.join(output_dir, store_monthly_name), index=False)"
   ],
   "metadata": {
    "collapsed": false,
    "pycharm": {
     "name": "#%%\n"
    }
   }
  },
  {
   "cell_type": "markdown",
   "source": [
    "- **目的変数**: 機械学習において予測したい変数のこと\n",
    "- **説明変数**: 機械学習において予測に使用する変数のこと"
   ],
   "metadata": {
    "collapsed": false,
    "pycharm": {
     "name": "#%% md\n"
    }
   }
  },
  {
   "cell_type": "markdown",
   "source": [
    "### Knock58: 目的変数を作成しよう"
   ],
   "metadata": {
    "collapsed": false,
    "pycharm": {
     "name": "#%% md\n"
    }
   }
  },
  {
   "cell_type": "code",
   "execution_count": 15,
   "outputs": [
    {
     "data": {
      "text/plain": "  store_name year_month  order_weekday  order_weekend one_month_ago\n0      あきる野店     201904            844            303        201903\n1     さいたま南店     201904           1104            400        201903\n2     さいたま緑店     201904            756            272        201903",
      "text/html": "<div>\n<style scoped>\n    .dataframe tbody tr th:only-of-type {\n        vertical-align: middle;\n    }\n\n    .dataframe tbody tr th {\n        vertical-align: top;\n    }\n\n    .dataframe thead th {\n        text-align: right;\n    }\n</style>\n<table border=\"1\" class=\"dataframe\">\n  <thead>\n    <tr style=\"text-align: right;\">\n      <th></th>\n      <th>store_name</th>\n      <th>year_month</th>\n      <th>order_weekday</th>\n      <th>order_weekend</th>\n      <th>one_month_ago</th>\n    </tr>\n  </thead>\n  <tbody>\n    <tr>\n      <th>0</th>\n      <td>あきる野店</td>\n      <td>201904</td>\n      <td>844</td>\n      <td>303</td>\n      <td>201903</td>\n    </tr>\n    <tr>\n      <th>1</th>\n      <td>さいたま南店</td>\n      <td>201904</td>\n      <td>1104</td>\n      <td>400</td>\n      <td>201903</td>\n    </tr>\n    <tr>\n      <th>2</th>\n      <td>さいたま緑店</td>\n      <td>201904</td>\n      <td>756</td>\n      <td>272</td>\n      <td>201903</td>\n    </tr>\n  </tbody>\n</table>\n</div>"
     },
     "execution_count": 15,
     "metadata": {},
     "output_type": "execute_result"
    }
   ],
   "source": [
    "# 1ヶ月前日付の作成\n",
    "y = store_all[['store_name', 'year_month', 'order_weekday', 'order_weekend']].copy()\n",
    "y.loc[:, 'one_month_ago'] = pd.to_datetime(y['year_month'], format='%Y%m')\n",
    "\n",
    "from dateutil.relativedelta import relativedelta\n",
    "\n",
    "y.loc[:, 'one_month_ago'] = y['one_month_ago'].map(lambda x: x - relativedelta(months=1))\n",
    "y.loc[:, 'one_month_ago'] = y['one_month_ago'].dt.strftime('%Y%m')\n",
    "y.head(3)"
   ],
   "metadata": {
    "collapsed": false,
    "pycharm": {
     "name": "#%%\n"
    }
   }
  },
  {
   "cell_type": "code",
   "execution_count": 16,
   "outputs": [
    {
     "data": {
      "text/plain": "     store_name year_month  order_weekday  order_weekend one_month_ago  \\\n0         あきる野店     201904            844            303        201903   \n195       あきる野店     201905            883            302        201904   \n390       あきる野店     201906            764            384        201905   \n585       あきる野店     201907            882            308        201906   \n780       あきる野店     201908            835            343        201907   \n975       あきる野店     201909            802            347        201908   \n1170      あきる野店     201910            880            309        201909   \n1365      あきる野店     201911            796            341        201910   \n1560      あきる野店     201912            844            345        201911   \n1755      あきる野店     202001            881            305        201912   \n1950      あきる野店     202002            762            344        202001   \n2145      あきる野店     202003            839            347        202002   \n\n     year_month_for_join  order_weekday_one_month_ago  \\\n0                    NaN                          NaN   \n195               201904                        844.0   \n390               201905                        883.0   \n585               201906                        764.0   \n780               201907                        882.0   \n975               201908                        835.0   \n1170              201909                        802.0   \n1365              201910                        880.0   \n1560              201911                        796.0   \n1755              201912                        844.0   \n1950              202001                        881.0   \n2145              202002                        762.0   \n\n      order_weekend_one_month_ago  \n0                             NaN  \n195                         303.0  \n390                         302.0  \n585                         384.0  \n780                         308.0  \n975                         343.0  \n1170                        347.0  \n1365                        309.0  \n1560                        341.0  \n1755                        345.0  \n1950                        305.0  \n2145                        344.0  ",
      "text/html": "<div>\n<style scoped>\n    .dataframe tbody tr th:only-of-type {\n        vertical-align: middle;\n    }\n\n    .dataframe tbody tr th {\n        vertical-align: top;\n    }\n\n    .dataframe thead th {\n        text-align: right;\n    }\n</style>\n<table border=\"1\" class=\"dataframe\">\n  <thead>\n    <tr style=\"text-align: right;\">\n      <th></th>\n      <th>store_name</th>\n      <th>year_month</th>\n      <th>order_weekday</th>\n      <th>order_weekend</th>\n      <th>one_month_ago</th>\n      <th>year_month_for_join</th>\n      <th>order_weekday_one_month_ago</th>\n      <th>order_weekend_one_month_ago</th>\n    </tr>\n  </thead>\n  <tbody>\n    <tr>\n      <th>0</th>\n      <td>あきる野店</td>\n      <td>201904</td>\n      <td>844</td>\n      <td>303</td>\n      <td>201903</td>\n      <td>NaN</td>\n      <td>NaN</td>\n      <td>NaN</td>\n    </tr>\n    <tr>\n      <th>195</th>\n      <td>あきる野店</td>\n      <td>201905</td>\n      <td>883</td>\n      <td>302</td>\n      <td>201904</td>\n      <td>201904</td>\n      <td>844.0</td>\n      <td>303.0</td>\n    </tr>\n    <tr>\n      <th>390</th>\n      <td>あきる野店</td>\n      <td>201906</td>\n      <td>764</td>\n      <td>384</td>\n      <td>201905</td>\n      <td>201905</td>\n      <td>883.0</td>\n      <td>302.0</td>\n    </tr>\n    <tr>\n      <th>585</th>\n      <td>あきる野店</td>\n      <td>201907</td>\n      <td>882</td>\n      <td>308</td>\n      <td>201906</td>\n      <td>201906</td>\n      <td>764.0</td>\n      <td>384.0</td>\n    </tr>\n    <tr>\n      <th>780</th>\n      <td>あきる野店</td>\n      <td>201908</td>\n      <td>835</td>\n      <td>343</td>\n      <td>201907</td>\n      <td>201907</td>\n      <td>882.0</td>\n      <td>308.0</td>\n    </tr>\n    <tr>\n      <th>975</th>\n      <td>あきる野店</td>\n      <td>201909</td>\n      <td>802</td>\n      <td>347</td>\n      <td>201908</td>\n      <td>201908</td>\n      <td>835.0</td>\n      <td>343.0</td>\n    </tr>\n    <tr>\n      <th>1170</th>\n      <td>あきる野店</td>\n      <td>201910</td>\n      <td>880</td>\n      <td>309</td>\n      <td>201909</td>\n      <td>201909</td>\n      <td>802.0</td>\n      <td>347.0</td>\n    </tr>\n    <tr>\n      <th>1365</th>\n      <td>あきる野店</td>\n      <td>201911</td>\n      <td>796</td>\n      <td>341</td>\n      <td>201910</td>\n      <td>201910</td>\n      <td>880.0</td>\n      <td>309.0</td>\n    </tr>\n    <tr>\n      <th>1560</th>\n      <td>あきる野店</td>\n      <td>201912</td>\n      <td>844</td>\n      <td>345</td>\n      <td>201911</td>\n      <td>201911</td>\n      <td>796.0</td>\n      <td>341.0</td>\n    </tr>\n    <tr>\n      <th>1755</th>\n      <td>あきる野店</td>\n      <td>202001</td>\n      <td>881</td>\n      <td>305</td>\n      <td>201912</td>\n      <td>201912</td>\n      <td>844.0</td>\n      <td>345.0</td>\n    </tr>\n    <tr>\n      <th>1950</th>\n      <td>あきる野店</td>\n      <td>202002</td>\n      <td>762</td>\n      <td>344</td>\n      <td>202001</td>\n      <td>202001</td>\n      <td>881.0</td>\n      <td>305.0</td>\n    </tr>\n    <tr>\n      <th>2145</th>\n      <td>あきる野店</td>\n      <td>202003</td>\n      <td>839</td>\n      <td>347</td>\n      <td>202002</td>\n      <td>202002</td>\n      <td>762.0</td>\n      <td>344.0</td>\n    </tr>\n  </tbody>\n</table>\n</div>"
     },
     "execution_count": 16,
     "metadata": {},
     "output_type": "execute_result"
    }
   ],
   "source": [
    "# 1ヶ月前の Order 数の作成\n",
    "y_one_month_ago = y.copy()\n",
    "y_one_month_ago.rename(columns={'order_weekday': 'order_weekday_one_month_ago',\n",
    "                                'order_weekend': 'order_weekend_one_month_ago',\n",
    "                                'year_month': 'year_month_for_join'}, inplace=True)\n",
    "y = pd.merge(y, y_one_month_ago[\n",
    "    ['store_name', 'year_month_for_join', 'order_weekday_one_month_ago', 'order_weekend_one_month_ago']],\n",
    "             left_on=['store_name', 'one_month_ago'], right_on=['store_name', 'year_month_for_join'], how='left')\n",
    "y.loc[y['store_name'] == 'あきる野店']"
   ],
   "metadata": {
    "collapsed": false,
    "pycharm": {
     "name": "#%%\n"
    }
   }
  },
  {
   "cell_type": "code",
   "execution_count": 17,
   "outputs": [
    {
     "data": {
      "text/plain": "    store_name year_month  order_weekday  order_weekend one_month_ago  \\\n195      あきる野店     201905            883            302        201904   \n196     さいたま南店     201905           1152            401        201904   \n197     さいたま緑店     201905            796            274        201904   \n\n    year_month_for_join  order_weekday_one_month_ago  \\\n195              201904                        844.0   \n196              201904                       1104.0   \n197              201904                        756.0   \n\n     order_weekend_one_month_ago  y_weekday  y_weekend  \n195                        303.0        1.0        0.0  \n196                        400.0        1.0        1.0  \n197                        272.0        1.0        1.0  ",
      "text/html": "<div>\n<style scoped>\n    .dataframe tbody tr th:only-of-type {\n        vertical-align: middle;\n    }\n\n    .dataframe tbody tr th {\n        vertical-align: top;\n    }\n\n    .dataframe thead th {\n        text-align: right;\n    }\n</style>\n<table border=\"1\" class=\"dataframe\">\n  <thead>\n    <tr style=\"text-align: right;\">\n      <th></th>\n      <th>store_name</th>\n      <th>year_month</th>\n      <th>order_weekday</th>\n      <th>order_weekend</th>\n      <th>one_month_ago</th>\n      <th>year_month_for_join</th>\n      <th>order_weekday_one_month_ago</th>\n      <th>order_weekend_one_month_ago</th>\n      <th>y_weekday</th>\n      <th>y_weekend</th>\n    </tr>\n  </thead>\n  <tbody>\n    <tr>\n      <th>195</th>\n      <td>あきる野店</td>\n      <td>201905</td>\n      <td>883</td>\n      <td>302</td>\n      <td>201904</td>\n      <td>201904</td>\n      <td>844.0</td>\n      <td>303.0</td>\n      <td>1.0</td>\n      <td>0.0</td>\n    </tr>\n    <tr>\n      <th>196</th>\n      <td>さいたま南店</td>\n      <td>201905</td>\n      <td>1152</td>\n      <td>401</td>\n      <td>201904</td>\n      <td>201904</td>\n      <td>1104.0</td>\n      <td>400.0</td>\n      <td>1.0</td>\n      <td>1.0</td>\n    </tr>\n    <tr>\n      <th>197</th>\n      <td>さいたま緑店</td>\n      <td>201905</td>\n      <td>796</td>\n      <td>274</td>\n      <td>201904</td>\n      <td>201904</td>\n      <td>756.0</td>\n      <td>272.0</td>\n      <td>1.0</td>\n      <td>1.0</td>\n    </tr>\n  </tbody>\n</table>\n</div>"
     },
     "execution_count": 17,
     "metadata": {},
     "output_type": "execute_result"
    }
   ],
   "source": [
    "# 1ヶ月前の Order 数の作成\n",
    "y.dropna(inplace=True)\n",
    "y.loc[y['order_weekday'] - y['order_weekday_one_month_ago'] > 0, 'y_weekday'] = 1\n",
    "y.loc[y['order_weekday'] - y['order_weekday_one_month_ago'] <= 0, 'y_weekday'] = 0\n",
    "y.loc[y['order_weekend'] - y['order_weekend_one_month_ago'] > 0, 'y_weekend'] = 1\n",
    "y.loc[y['order_weekend'] - y['order_weekend_one_month_ago'] <= 0, 'y_weekend'] = 0\n",
    "y.head(3)"
   ],
   "metadata": {
    "collapsed": false,
    "pycharm": {
     "name": "#%%\n"
    }
   }
  },
  {
   "cell_type": "code",
   "execution_count": null,
   "outputs": [],
   "source": [],
   "metadata": {
    "collapsed": false,
    "pycharm": {
     "name": "#%%\n"
    }
   }
  },
  {
   "cell_type": "code",
   "execution_count": 9,
   "outputs": [],
   "source": [
    "# Order 数の集計\n",
    "store_data = order_data.groupby(['store_name']).count()[['order_id']]\n",
    "store_f = order_data.loc[\n",
    "    (order_data['status_name'] == \"お渡し済\")\n",
    "    | (order_data['status_name'] == \"お支払済\")\n",
    "    ].groupby(['store_name']).count()[['order_id']]\n",
    "store_c = order_data.loc[order_data['status_name'] == \"キャンセル\"].groupby(['store_name']).count()[['order_id']]\n",
    "store_d = order_data.loc[order_data['takeout_name'] == \"デリバリー\"].groupby(['store_name']).count()[['order_id']]\n",
    "store_t = order_data.loc[order_data['takeout_name'] == \"お持ち帰り\"].groupby(['store_name']).count()[['order_id']]\n",
    "\n",
    "store_weekday = order_data.loc[order_data['weekday_info'] == \"平日\"].groupby(['store_name']).count()[['order_id']]\n",
    "store_weekend = order_data.loc[order_data['weekday_info'] == \"休日\"].groupby(['store_name']).count()[['order_id']]"
   ],
   "metadata": {
    "collapsed": false,
    "pycharm": {
     "name": "#%%\n"
    }
   }
  },
  {
   "cell_type": "code",
   "execution_count": 12,
   "outputs": [
    {
     "data": {
      "text/plain": "            order_time_11  order_time_12  order_time_13  order_time_14  \\\nstore_name                                                               \nあきる野店                  91            122            112            101   \nさいたま南店                130            135            147            143   \nさいたま緑店                 95             91            106             95   \n\n            order_time_15  order_time_16  order_time_17  order_time_18  \\\nstore_name                                                               \nあきる野店                  95            107            106            100   \nさいたま南店                142            137            130            113   \nさいたま緑店                102             82             90             93   \n\n            order_time_19  order_time_20  order_time_21  \nstore_name                                               \nあきる野店                 108            109             96  \nさいたま南店                140            132            155  \nさいたま緑店                 95             95             84  ",
      "text/html": "<div>\n<style scoped>\n    .dataframe tbody tr th:only-of-type {\n        vertical-align: middle;\n    }\n\n    .dataframe tbody tr th {\n        vertical-align: top;\n    }\n\n    .dataframe thead th {\n        text-align: right;\n    }\n</style>\n<table border=\"1\" class=\"dataframe\">\n  <thead>\n    <tr style=\"text-align: right;\">\n      <th></th>\n      <th>order_time_11</th>\n      <th>order_time_12</th>\n      <th>order_time_13</th>\n      <th>order_time_14</th>\n      <th>order_time_15</th>\n      <th>order_time_16</th>\n      <th>order_time_17</th>\n      <th>order_time_18</th>\n      <th>order_time_19</th>\n      <th>order_time_20</th>\n      <th>order_time_21</th>\n    </tr>\n    <tr>\n      <th>store_name</th>\n      <th></th>\n      <th></th>\n      <th></th>\n      <th></th>\n      <th></th>\n      <th></th>\n      <th></th>\n      <th></th>\n      <th></th>\n      <th></th>\n      <th></th>\n    </tr>\n  </thead>\n  <tbody>\n    <tr>\n      <th>あきる野店</th>\n      <td>91</td>\n      <td>122</td>\n      <td>112</td>\n      <td>101</td>\n      <td>95</td>\n      <td>107</td>\n      <td>106</td>\n      <td>100</td>\n      <td>108</td>\n      <td>109</td>\n      <td>96</td>\n    </tr>\n    <tr>\n      <th>さいたま南店</th>\n      <td>130</td>\n      <td>135</td>\n      <td>147</td>\n      <td>143</td>\n      <td>142</td>\n      <td>137</td>\n      <td>130</td>\n      <td>113</td>\n      <td>140</td>\n      <td>132</td>\n      <td>155</td>\n    </tr>\n    <tr>\n      <th>さいたま緑店</th>\n      <td>95</td>\n      <td>91</td>\n      <td>106</td>\n      <td>95</td>\n      <td>102</td>\n      <td>82</td>\n      <td>90</td>\n      <td>93</td>\n      <td>95</td>\n      <td>95</td>\n      <td>84</td>\n    </tr>\n  </tbody>\n</table>\n</div>"
     },
     "execution_count": 12,
     "metadata": {},
     "output_type": "execute_result"
    }
   ],
   "source": [
    "# 時間帯別 Order 数の集計\n",
    "times = order_data['order_accept_hour'].unique()\n",
    "store_time = []\n",
    "for time in times:\n",
    "    time_tmp = order_data.loc[order_data['order_accept_hour'] == time].groupby(['store_name']).count()[['order_id']]\n",
    "    time_tmp.columns = [f\"order_time_{time}\"]\n",
    "    store_time.append(time_tmp)\n",
    "store_time = pd.concat(store_time, axis=1)\n",
    "store_time.head(3)"
   ],
   "metadata": {
    "collapsed": false,
    "pycharm": {
     "name": "#%%\n"
    }
   }
  },
  {
   "cell_type": "code",
   "execution_count": null,
   "outputs": [],
   "source": [
    "# 提供までの時間の集計と集計結果の結合\n",
    "store_delta = order_data.loc[(order_data['status_name'] != \"キャンセル\")].groupby(['store_name']).mean()[['delta']]\n",
    "store_data.columns = ['order']\n",
    "store_f.columns = ['order_fin']\n",
    "store_c.columns = ['order_cancel']\n",
    "store_"
   ],
   "metadata": {
    "collapsed": false,
    "pycharm": {
     "name": "#%%\n"
    }
   }
  }
 ],
 "metadata": {
  "kernelspec": {
   "display_name": "Python 3",
   "language": "python",
   "name": "python3"
  },
  "language_info": {
   "codemirror_mode": {
    "name": "ipython",
    "version": 2
   },
   "file_extension": ".py",
   "mimetype": "text/x-python",
   "name": "python",
   "nbconvert_exporter": "python",
   "pygments_lexer": "ipython2",
   "version": "2.7.6"
  }
 },
 "nbformat": 4,
 "nbformat_minor": 0
}