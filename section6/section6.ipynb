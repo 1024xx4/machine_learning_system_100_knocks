{
 "cells": [
  {
   "cell_type": "markdown",
   "source": [
    "### Knock51: Data 加工の下準備をしよう\n",
    "- Data 加工の下準備に入る前に、どのような機械学習 Model を構築するかを考える。\n",
    "- 今回は、教師あり学習（二値分類）Model\n",
    "    - 前月までの Data から、来月の Order 数が増加するのか減少するのか予測する Case は、Order 数自体を予測するのではなく、増加するのか減少するのか減少かを予測する。"
   ],
   "metadata": {
    "collapsed": false,
    "pycharm": {
     "name": "#%% md\n"
    }
   }
  },
  {
   "cell_type": "code",
   "execution_count": 1,
   "outputs": [],
   "source": [
    "# Directory 作成\n",
    "import os\n",
    "\n",
    "data_dir = 'data'\n",
    "input_dir = os.path.join(data_dir, '0_input')\n",
    "output_dir = os.path.join(data_dir, '1_output')\n",
    "master_dir = os.path.join(data_dir, '99_master')\n",
    "os.makedirs(input_dir, exist_ok=True)\n",
    "os.makedirs(output_dir, exist_ok=True)\n",
    "os.makedirs(master_dir, exist_ok=True)"
   ],
   "metadata": {
    "collapsed": false,
    "pycharm": {
     "name": "#%%\n"
    }
   }
  },
  {
   "cell_type": "markdown",
   "source": [
    "Data を読み込む際に File 複数が存在する場合、一つ一つ指定していたら大変なので、自動的に Directory の中身を取りに行き、配列として Path を定義する"
   ],
   "metadata": {
    "collapsed": false,
    "pycharm": {
     "name": "#%% md\n"
    }
   }
  },
  {
   "cell_type": "code",
   "execution_count": 2,
   "outputs": [
    {
     "data": {
      "text/plain": "['data\\\\0_input\\\\tbl_order_201904.csv',\n 'data\\\\0_input\\\\tbl_order_201905.csv',\n 'data\\\\0_input\\\\tbl_order_201906.csv',\n 'data\\\\0_input\\\\tbl_order_201907.csv',\n 'data\\\\0_input\\\\tbl_order_201908.csv',\n 'data\\\\0_input\\\\tbl_order_201909.csv',\n 'data\\\\0_input\\\\tbl_order_201910.csv',\n 'data\\\\0_input\\\\tbl_order_201911.csv',\n 'data\\\\0_input\\\\tbl_order_201912.csv',\n 'data\\\\0_input\\\\tbl_order_202001.csv',\n 'data\\\\0_input\\\\tbl_order_202002.csv',\n 'data\\\\0_input\\\\tbl_order_202003.csv']"
     },
     "execution_count": 2,
     "metadata": {},
     "output_type": "execute_result"
    }
   ],
   "source": [
    "# 注文 Data path の取得\n",
    "import glob\n",
    "tbl_order_file = os.path.join(input_dir, 'tbl_order_*.csv')\n",
    "tbl_order_path = glob.glob(tbl_order_file)\n",
    "tbl_order_path"
   ],
   "metadata": {
    "collapsed": false,
    "pycharm": {
     "name": "#%%\n"
    }
   }
  },
  {
   "cell_type": "code",
   "execution_count": null,
   "outputs": [],
   "source": [],
   "metadata": {
    "collapsed": false,
    "pycharm": {
     "name": "#%%\n"
    }
   }
  }
 ],
 "metadata": {
  "kernelspec": {
   "display_name": "Python 3",
   "language": "python",
   "name": "python3"
  },
  "language_info": {
   "codemirror_mode": {
    "name": "ipython",
    "version": 2
   },
   "file_extension": ".py",
   "mimetype": "text/x-python",
   "name": "python",
   "nbconvert_exporter": "python",
   "pygments_lexer": "ipython2",
   "version": "2.7.6"
  }
 },
 "nbformat": 4,
 "nbformat_minor": 0
}