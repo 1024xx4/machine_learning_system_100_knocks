{
 "cells": [
  {
   "cell_type": "markdown",
   "source": [
    "### Knock61: Directory 生成をして機械学習用 Data を読み込もう"
   ],
   "metadata": {
    "collapsed": false,
    "pycharm": {
     "name": "#%% md\n"
    }
   }
  },
  {
   "cell_type": "code",
   "execution_count": 1,
   "outputs": [],
   "source": [
    "# Directory 作成\n",
    "import os\n",
    "data_dir = 'data'\n",
    "input_dir = os.path.join(data_dir, '0_input')\n",
    "output_dir = os.path.join(data_dir, '1_output')\n",
    "os.makedirs(input_dir, exist_ok=True)\n",
    "os.makedirs(output_dir, exist_ok=True)"
   ],
   "metadata": {
    "collapsed": false,
    "pycharm": {
     "name": "#%%\n"
    }
   }
  },
  {
   "cell_type": "code",
   "execution_count": 2,
   "outputs": [
    {
     "data": {
      "text/plain": "  store_name  y_weekday  y_weekend  order  order_fin  order_cancel  \\\n0      あきる野店        1.0        0.0   1147        945           202   \n1     さいたま南店        1.0        1.0   1504       1217           287   \n2     さいたま緑店        1.0        1.0   1028        847           181   \n\n   order_delivery  order_takeout  order_weekday  order_weekend  ...  \\\n0             841            306            844            303  ...   \n1            1105            399           1104            400  ...   \n2             756            272            756            272  ...   \n\n   order_time_14  order_time_15  order_time_16  order_time_17  order_time_18  \\\n0            101             95            107            106            100   \n1            143            142            137            130            113   \n2             95            102             82             90             93   \n\n   order_time_19  order_time_20  order_time_21  delta_avg  year_month  \n0            108            109             96  34.110053      201904  \n1            140            132            155  35.337716      201904  \n2             95             95             84  34.291617      201904  \n\n[3 rows x 23 columns]",
      "text/html": "<div>\n<style scoped>\n    .dataframe tbody tr th:only-of-type {\n        vertical-align: middle;\n    }\n\n    .dataframe tbody tr th {\n        vertical-align: top;\n    }\n\n    .dataframe thead th {\n        text-align: right;\n    }\n</style>\n<table border=\"1\" class=\"dataframe\">\n  <thead>\n    <tr style=\"text-align: right;\">\n      <th></th>\n      <th>store_name</th>\n      <th>y_weekday</th>\n      <th>y_weekend</th>\n      <th>order</th>\n      <th>order_fin</th>\n      <th>order_cancel</th>\n      <th>order_delivery</th>\n      <th>order_takeout</th>\n      <th>order_weekday</th>\n      <th>order_weekend</th>\n      <th>...</th>\n      <th>order_time_14</th>\n      <th>order_time_15</th>\n      <th>order_time_16</th>\n      <th>order_time_17</th>\n      <th>order_time_18</th>\n      <th>order_time_19</th>\n      <th>order_time_20</th>\n      <th>order_time_21</th>\n      <th>delta_avg</th>\n      <th>year_month</th>\n    </tr>\n  </thead>\n  <tbody>\n    <tr>\n      <th>0</th>\n      <td>あきる野店</td>\n      <td>1.0</td>\n      <td>0.0</td>\n      <td>1147</td>\n      <td>945</td>\n      <td>202</td>\n      <td>841</td>\n      <td>306</td>\n      <td>844</td>\n      <td>303</td>\n      <td>...</td>\n      <td>101</td>\n      <td>95</td>\n      <td>107</td>\n      <td>106</td>\n      <td>100</td>\n      <td>108</td>\n      <td>109</td>\n      <td>96</td>\n      <td>34.110053</td>\n      <td>201904</td>\n    </tr>\n    <tr>\n      <th>1</th>\n      <td>さいたま南店</td>\n      <td>1.0</td>\n      <td>1.0</td>\n      <td>1504</td>\n      <td>1217</td>\n      <td>287</td>\n      <td>1105</td>\n      <td>399</td>\n      <td>1104</td>\n      <td>400</td>\n      <td>...</td>\n      <td>143</td>\n      <td>142</td>\n      <td>137</td>\n      <td>130</td>\n      <td>113</td>\n      <td>140</td>\n      <td>132</td>\n      <td>155</td>\n      <td>35.337716</td>\n      <td>201904</td>\n    </tr>\n    <tr>\n      <th>2</th>\n      <td>さいたま緑店</td>\n      <td>1.0</td>\n      <td>1.0</td>\n      <td>1028</td>\n      <td>847</td>\n      <td>181</td>\n      <td>756</td>\n      <td>272</td>\n      <td>756</td>\n      <td>272</td>\n      <td>...</td>\n      <td>95</td>\n      <td>102</td>\n      <td>82</td>\n      <td>90</td>\n      <td>93</td>\n      <td>95</td>\n      <td>95</td>\n      <td>84</td>\n      <td>34.291617</td>\n      <td>201904</td>\n    </tr>\n  </tbody>\n</table>\n<p>3 rows × 23 columns</p>\n</div>"
     },
     "execution_count": 2,
     "metadata": {},
     "output_type": "execute_result"
    }
   ],
   "source": [
    "# 機械学習用 Data の読み込み\n",
    "import pandas as pd\n",
    "ml_data_file = 'ml_base_data.csv'\n",
    "ml_data = pd.read_csv(os.path.join(input_dir, ml_data_file))\n",
    "ml_data.head(3)"
   ],
   "metadata": {
    "collapsed": false,
    "pycharm": {
     "name": "#%%\n"
    }
   }
  },
  {
   "cell_type": "markdown",
   "source": [
    "### Knock62: Categorical 変数の対応をしよう\n",
    "- One-hot-encoding: Categorical 変数を、特定の Category に属していたら 1 の Flag を立てる形式"
   ],
   "metadata": {
    "collapsed": false,
    "pycharm": {
     "name": "#%% md\n"
    }
   }
  },
  {
   "cell_type": "code",
   "execution_count": 3,
   "outputs": [
    {
     "data": {
      "text/plain": "   store_あきる野店  store_さいたま南店  store_さいたま緑店  store_さいたま西店  store_つくば店  \\\n0            1             0             0             0           0   \n1            0             1             0             0           0   \n2            0             0             1             0           0   \n\n   store_三浦店  store_三鷹店  store_上尾店  store_上野店  store_世田谷店  ...  store_駒込店  \\\n0          0          0          0          0           0  ...          0   \n1          0          0          0          0           0  ...          0   \n2          0          0          0          0           0  ...          0   \n\n   store_高円寺店  store_高島平店  store_高崎店  store_高座店  store_高津店  store_高田馬場店  \\\n0           0           0          0          0          0            0   \n1           0           0          0          0          0            0   \n2           0           0          0          0          0            0   \n\n   store_鴻巣店  store_鶴見店  store_麻生店  \n0          0          0          0  \n1          0          0          0  \n2          0          0          0  \n\n[3 rows x 195 columns]",
      "text/html": "<div>\n<style scoped>\n    .dataframe tbody tr th:only-of-type {\n        vertical-align: middle;\n    }\n\n    .dataframe tbody tr th {\n        vertical-align: top;\n    }\n\n    .dataframe thead th {\n        text-align: right;\n    }\n</style>\n<table border=\"1\" class=\"dataframe\">\n  <thead>\n    <tr style=\"text-align: right;\">\n      <th></th>\n      <th>store_あきる野店</th>\n      <th>store_さいたま南店</th>\n      <th>store_さいたま緑店</th>\n      <th>store_さいたま西店</th>\n      <th>store_つくば店</th>\n      <th>store_三浦店</th>\n      <th>store_三鷹店</th>\n      <th>store_上尾店</th>\n      <th>store_上野店</th>\n      <th>store_世田谷店</th>\n      <th>...</th>\n      <th>store_駒込店</th>\n      <th>store_高円寺店</th>\n      <th>store_高島平店</th>\n      <th>store_高崎店</th>\n      <th>store_高座店</th>\n      <th>store_高津店</th>\n      <th>store_高田馬場店</th>\n      <th>store_鴻巣店</th>\n      <th>store_鶴見店</th>\n      <th>store_麻生店</th>\n    </tr>\n  </thead>\n  <tbody>\n    <tr>\n      <th>0</th>\n      <td>1</td>\n      <td>0</td>\n      <td>0</td>\n      <td>0</td>\n      <td>0</td>\n      <td>0</td>\n      <td>0</td>\n      <td>0</td>\n      <td>0</td>\n      <td>0</td>\n      <td>...</td>\n      <td>0</td>\n      <td>0</td>\n      <td>0</td>\n      <td>0</td>\n      <td>0</td>\n      <td>0</td>\n      <td>0</td>\n      <td>0</td>\n      <td>0</td>\n      <td>0</td>\n    </tr>\n    <tr>\n      <th>1</th>\n      <td>0</td>\n      <td>1</td>\n      <td>0</td>\n      <td>0</td>\n      <td>0</td>\n      <td>0</td>\n      <td>0</td>\n      <td>0</td>\n      <td>0</td>\n      <td>0</td>\n      <td>...</td>\n      <td>0</td>\n      <td>0</td>\n      <td>0</td>\n      <td>0</td>\n      <td>0</td>\n      <td>0</td>\n      <td>0</td>\n      <td>0</td>\n      <td>0</td>\n      <td>0</td>\n    </tr>\n    <tr>\n      <th>2</th>\n      <td>0</td>\n      <td>0</td>\n      <td>1</td>\n      <td>0</td>\n      <td>0</td>\n      <td>0</td>\n      <td>0</td>\n      <td>0</td>\n      <td>0</td>\n      <td>0</td>\n      <td>...</td>\n      <td>0</td>\n      <td>0</td>\n      <td>0</td>\n      <td>0</td>\n      <td>0</td>\n      <td>0</td>\n      <td>0</td>\n      <td>0</td>\n      <td>0</td>\n      <td>0</td>\n    </tr>\n  </tbody>\n</table>\n<p>3 rows × 195 columns</p>\n</div>"
     },
     "metadata": {},
     "output_type": "display_data"
    }
   ],
   "source": [
    "from IPython.display import display\n",
    "\n",
    "# One-hot-encoding\n",
    "category_data = pd.get_dummies(ml_data['store_name'], prefix='store', prefix_sep='_')\n",
    "display(category_data.head(3))"
   ],
   "metadata": {
    "collapsed": false,
    "pycharm": {
     "name": "#%%\n"
    }
   }
  },
  {
   "cell_type": "markdown",
   "source": [
    "- pandas の `get_dummies()` を使用すると簡単に One-hot-encoding ができる。\n",
    "- **多重共線性の防止**: Categorical 変数は１列消すことが一般的。（すべての Flag が 0 だった場合に削除した変数と情報が特定できる為）\n",
    "- 元の Data に結合する際に、One-hot-encoding の元となった変数は削除する。"
   ],
   "metadata": {
    "collapsed": false,
    "pycharm": {
     "name": "#%% md\n"
    }
   }
  },
  {
   "cell_type": "code",
   "execution_count": 4,
   "outputs": [
    {
     "data": {
      "text/plain": "Index(['y_weekday', 'y_weekend', 'order', 'order_fin', 'order_cancel',\n       'order_delivery', 'order_takeout', 'order_weekday', 'order_weekend',\n       'order_time_11',\n       ...\n       'store_駒沢店', 'store_駒込店', 'store_高円寺店', 'store_高島平店', 'store_高崎店',\n       'store_高座店', 'store_高津店', 'store_高田馬場店', 'store_鴻巣店', 'store_鶴見店'],\n      dtype='object', length=215)"
     },
     "execution_count": 4,
     "metadata": {},
     "output_type": "execute_result"
    }
   ],
   "source": [
    "# Categorical 変数の結合\n",
    "del category_data['store_麻生店']\n",
    "del ml_data['year_month']\n",
    "del ml_data['store_name']\n",
    "ml_data = pd.concat([ml_data, category_data], axis=1)\n",
    "ml_data.columns"
   ],
   "metadata": {
    "collapsed": false,
    "pycharm": {
     "name": "#%%\n"
    }
   }
  },
  {
   "cell_type": "markdown",
   "source": [
    "One-hot-encoding を行なうと、情報としてはわかりにくく、他で使用する際に使いにくくなる為、機械学習に投入する直前で対応すると良い。"
   ],
   "metadata": {
    "collapsed": false,
    "pycharm": {
     "name": "#%% md\n"
    }
   }
  },
  {
   "cell_type": "markdown",
   "source": [
    "### Knock63: 学習 Data と Test data を分割しよう\n",
    "- 機械学習の目的は、未知な Data に対応せること。\n",
    "- 未知な Data に対応できる Model が汎用的な良い Model とされ、**汎用性が高い** と表現される。\n",
    "- 全 Data を Model 構築に使用してしまうと、その Model は未知な Data に対応できるか評価できなくなってしまうため、\n",
    "    - 学習 Data\n",
    "    - Test data\n",
    "    に **分割** する。"
   ],
   "metadata": {
    "collapsed": false,
    "pycharm": {
     "name": "#%% md\n"
    }
   }
  },
  {
   "cell_type": "markdown",
   "source": [
    "#### 学習 Data と Test data の分割\n",
    "学習 Data と Test data の分割比率に正解はなく、試行錯誤する要素の１つだが、\n",
    "- 7:3\n",
    "- 75:25\n",
    "- 8:2\n",
    "\n",
    "あたりがよく使用される。\n",
    "\n",
    "Sample 数が少ないと分割比率による精度の差が顕著にでてくる。その場合、**交差検証** などの分割手法で正しく精度を検証することが重要になってくる。"
   ],
   "metadata": {
    "collapsed": false,
    "pycharm": {
     "name": "#%% md\n"
    }
   }
  },
  {
   "cell_type": "code",
   "execution_count": 5,
   "outputs": [
    {
     "name": "stdout",
     "output_type": "stream",
     "text": [
      "Train: 1501件 / Test: 644\n",
      "Weekday Train0: 685件\n",
      "Weekday Train1: 816件\n",
      "Weekday Test0: 290件\n",
      "Weekday Test1: 354件\n",
      "Weekend Train0: 708件\n",
      "Weekend Train1: 793件\n",
      "Weekend Test0: 295件\n",
      "Weekend Test1: 349件\n"
     ]
    }
   ],
   "source": [
    "# 学習 Data と Test data の分割\n",
    "from sklearn.model_selection import train_test_split\n",
    "\n",
    "train_data, test_data = train_test_split(ml_data, test_size=0.3, random_state=0)\n",
    "print(f\"Train: {len(train_data)}件 / Test: {len(test_data)}\")\n",
    "print(f\"Weekday Train0: {len(train_data.loc[train_data['y_weekday'] == 0])}件\")\n",
    "print(f\"Weekday Train1: {len(train_data.loc[train_data['y_weekday'] == 1])}件\")\n",
    "print(f\"Weekday Test0: {len(test_data.loc[test_data['y_weekday'] == 0])}件\")\n",
    "print(f\"Weekday Test1: {len(test_data.loc[test_data['y_weekday'] == 1])}件\")\n",
    "\n",
    "print(f\"Weekend Train0: {len(train_data.loc[train_data['y_weekend'] == 0])}件\")\n",
    "print(f\"Weekend Train1: {len(train_data.loc[train_data['y_weekend'] == 1])}件\")\n",
    "print(f\"Weekend Test0: {len(test_data.loc[test_data['y_weekend'] == 0])}件\")\n",
    "print(f\"Weekend Test1: {len(test_data.loc[test_data['y_weekend'] == 1])}件\")"
   ],
   "metadata": {
    "collapsed": false,
    "pycharm": {
     "name": "#%%\n"
    }
   }
  },
  {
   "cell_type": "markdown",
   "source": [
    "### Knock64: １つの Model を構築しよう"
   ],
   "metadata": {
    "collapsed": false,
    "pycharm": {
     "name": "#%% md\n"
    }
   }
  },
  {
   "cell_type": "code",
   "execution_count": 6,
   "outputs": [
    {
     "data": {
      "text/plain": "1137    1.0\n971     0.0\n1983    1.0\nName: y_weekday, dtype: float64"
     },
     "metadata": {},
     "output_type": "display_data"
    },
    {
     "data": {
      "text/plain": "      order  order_fin  order_cancel  order_delivery  order_takeout  \\\n1137    977        809           168             724            253   \n971    1099        904           195             816            283   \n1983    966        794           172             724            242   \n\n      order_weekday  order_weekend  order_time_11  order_time_12  \\\n1137            685            292            102             88   \n971             779            320             99            102   \n1983            671            295             80             95   \n\n      order_time_13  ...  store_駒沢店  store_駒込店  store_高円寺店  store_高島平店  \\\n1137             84  ...          0          0           0           0   \n971             101  ...          0          0           0           0   \n1983             87  ...          0          0           0           0   \n\n      store_高崎店  store_高座店  store_高津店  store_高田馬場店  store_鴻巣店  store_鶴見店  \n1137          0          0          0            0          0          0  \n971           0          0          0            1          0          0  \n1983          0          0          0            0          0          0  \n\n[3 rows x 213 columns]",
      "text/html": "<div>\n<style scoped>\n    .dataframe tbody tr th:only-of-type {\n        vertical-align: middle;\n    }\n\n    .dataframe tbody tr th {\n        vertical-align: top;\n    }\n\n    .dataframe thead th {\n        text-align: right;\n    }\n</style>\n<table border=\"1\" class=\"dataframe\">\n  <thead>\n    <tr style=\"text-align: right;\">\n      <th></th>\n      <th>order</th>\n      <th>order_fin</th>\n      <th>order_cancel</th>\n      <th>order_delivery</th>\n      <th>order_takeout</th>\n      <th>order_weekday</th>\n      <th>order_weekend</th>\n      <th>order_time_11</th>\n      <th>order_time_12</th>\n      <th>order_time_13</th>\n      <th>...</th>\n      <th>store_駒沢店</th>\n      <th>store_駒込店</th>\n      <th>store_高円寺店</th>\n      <th>store_高島平店</th>\n      <th>store_高崎店</th>\n      <th>store_高座店</th>\n      <th>store_高津店</th>\n      <th>store_高田馬場店</th>\n      <th>store_鴻巣店</th>\n      <th>store_鶴見店</th>\n    </tr>\n  </thead>\n  <tbody>\n    <tr>\n      <th>1137</th>\n      <td>977</td>\n      <td>809</td>\n      <td>168</td>\n      <td>724</td>\n      <td>253</td>\n      <td>685</td>\n      <td>292</td>\n      <td>102</td>\n      <td>88</td>\n      <td>84</td>\n      <td>...</td>\n      <td>0</td>\n      <td>0</td>\n      <td>0</td>\n      <td>0</td>\n      <td>0</td>\n      <td>0</td>\n      <td>0</td>\n      <td>0</td>\n      <td>0</td>\n      <td>0</td>\n    </tr>\n    <tr>\n      <th>971</th>\n      <td>1099</td>\n      <td>904</td>\n      <td>195</td>\n      <td>816</td>\n      <td>283</td>\n      <td>779</td>\n      <td>320</td>\n      <td>99</td>\n      <td>102</td>\n      <td>101</td>\n      <td>...</td>\n      <td>0</td>\n      <td>0</td>\n      <td>0</td>\n      <td>0</td>\n      <td>0</td>\n      <td>0</td>\n      <td>0</td>\n      <td>1</td>\n      <td>0</td>\n      <td>0</td>\n    </tr>\n    <tr>\n      <th>1983</th>\n      <td>966</td>\n      <td>794</td>\n      <td>172</td>\n      <td>724</td>\n      <td>242</td>\n      <td>671</td>\n      <td>295</td>\n      <td>80</td>\n      <td>95</td>\n      <td>87</td>\n      <td>...</td>\n      <td>0</td>\n      <td>0</td>\n      <td>0</td>\n      <td>0</td>\n      <td>0</td>\n      <td>0</td>\n      <td>0</td>\n      <td>0</td>\n      <td>0</td>\n      <td>0</td>\n    </tr>\n  </tbody>\n</table>\n<p>3 rows × 213 columns</p>\n</div>"
     },
     "metadata": {},
     "output_type": "display_data"
    }
   ],
   "source": [
    "# 説明変数, 目的変数の作成\n",
    "X_cols = list(train_data.columns)\n",
    "X_cols.remove('y_weekday')\n",
    "X_cols.remove('y_weekend')\n",
    "target_y = 'y_weekday'\n",
    "y_train = train_data[target_y]\n",
    "X_train = train_data[X_cols]\n",
    "y_test = test_data[target_y]\n",
    "X_test = test_data[X_cols]\n",
    "display(y_train.head(3))\n",
    "display(X_train.head(3))"
   ],
   "metadata": {
    "collapsed": false,
    "pycharm": {
     "name": "#%%\n"
    }
   }
  },
  {
   "cell_type": "code",
   "execution_count": 7,
   "outputs": [
    {
     "data": {
      "text/plain": "DecisionTreeClassifier(random_state=0)"
     },
     "execution_count": 7,
     "metadata": {},
     "output_type": "execute_result"
    }
   ],
   "source": [
    "# 決定木 Model の構築\n",
    "from sklearn.tree import DecisionTreeClassifier\n",
    "\n",
    "model = DecisionTreeClassifier(random_state=0)\n",
    "model.fit(X_train, y_train)"
   ],
   "metadata": {
    "collapsed": false,
    "pycharm": {
     "name": "#%%\n"
    }
   }
  },
  {
   "cell_type": "markdown",
   "source": [
    "- Model を定義して、`fit()` するだけで Model が構築される。\n",
    "- Model を定義する際に、**乱数種** の固定を忘れない。"
   ],
   "metadata": {
    "collapsed": false,
    "pycharm": {
     "name": "#%% md\n"
    }
   }
  },
  {
   "cell_type": "markdown",
   "source": [
    "### Knock65: 評価を実施してみよう\n",
    "Model 構築ができたら、次は評価"
   ],
   "metadata": {
    "collapsed": false,
    "pycharm": {
     "name": "#%% md\n"
    }
   }
  },
  {
   "cell_type": "code",
   "execution_count": 8,
   "outputs": [
    {
     "data": {
      "text/plain": "array([0., 1., 1., 0., 1., 1., 1., 0., 1., 1., 1., 1., 1., 1., 1., 0., 1.,\n       0., 0., 1., 0., 0., 1., 0., 0., 1., 1., 1., 1., 1., 0., 0., 0., 1.,\n       1., 0., 1., 0., 0., 1., 1., 1., 0., 0., 0., 1., 1., 0., 1., 0., 0.,\n       0., 0., 1., 1., 1., 0., 1., 1., 0., 0., 1., 1., 0., 0., 1., 1., 1.,\n       1., 0., 1., 1., 1., 1., 1., 1., 0., 1., 1., 1., 1., 1., 0., 0., 1.,\n       0., 1., 0., 1., 1., 1., 1., 1., 0., 1., 1., 0., 1., 0., 1., 0., 0.,\n       0., 0., 0., 0., 1., 0., 0., 0., 0., 0., 1., 0., 1., 0., 0., 1., 0.,\n       1., 1., 0., 0., 0., 0., 1., 0., 0., 0., 1., 1., 1., 0., 1., 1., 1.,\n       0., 1., 0., 0., 1., 1., 0., 1., 1., 0., 1., 1., 0., 1., 1., 0., 0.,\n       0., 1., 0., 0., 1., 1., 1., 0., 1., 0., 1., 1., 1., 0., 0., 1., 1.,\n       0., 1., 1., 1., 0., 1., 0., 1., 0., 0., 1., 1., 1., 1., 1., 0., 0.,\n       1., 0., 1., 0., 0., 1., 1., 1., 1., 1., 1., 0., 1., 1., 0., 1., 0.,\n       1., 0., 1., 1., 1., 0., 1., 0., 0., 0., 1., 1., 1., 0., 1., 1., 0.,\n       0., 1., 1., 0., 0., 1., 1., 0., 1., 0., 0., 0., 0., 1., 0., 1., 0.,\n       0., 1., 0., 1., 1., 0., 0., 1., 1., 1., 0., 1., 0., 1., 1., 0., 0.,\n       0., 0., 0., 0., 1., 1., 0., 0., 1., 0., 0., 0., 0., 0., 1., 0., 1.,\n       1., 1., 0., 0., 1., 1., 1., 1., 0., 0., 1., 0., 0., 1., 1., 0., 0.,\n       0., 0., 1., 1., 1., 0., 1., 0., 1., 0., 0., 1., 1., 0., 1., 0., 0.,\n       1., 0., 0., 1., 0., 0., 1., 0., 0., 0., 1., 0., 0., 0., 0., 0., 0.,\n       0., 1., 0., 1., 1., 0., 0., 1., 0., 0., 0., 1., 0., 0., 0., 0., 0.,\n       1., 0., 0., 1., 1., 0., 1., 0., 0., 0., 1., 1., 0., 1., 1., 1., 1.,\n       1., 0., 0., 1., 1., 1., 1., 0., 1., 0., 1., 1., 1., 1., 0., 1., 1.,\n       1., 0., 1., 0., 1., 0., 0., 1., 0., 0., 1., 0., 1., 0., 1., 0., 0.,\n       0., 1., 1., 1., 0., 0., 0., 1., 1., 0., 0., 0., 0., 0., 1., 1., 1.,\n       0., 0., 0., 1., 1., 0., 0., 1., 0., 0., 0., 0., 1., 0., 1., 0., 0.,\n       0., 1., 0., 0., 0., 1., 0., 1., 1., 0., 0., 1., 1., 1., 0., 1., 1.,\n       1., 1., 0., 1., 1., 0., 1., 1., 1., 1., 0., 0., 0., 1., 1., 0., 1.,\n       1., 1., 1., 1., 0., 0., 1., 1., 1., 0., 1., 0., 1., 1., 1., 1., 1.,\n       0., 0., 0., 0., 1., 0., 0., 1., 0., 1., 0., 1., 1., 1., 0., 0., 0.,\n       0., 0., 0., 0., 0., 1., 1., 1., 0., 0., 1., 0., 0., 1., 0., 1., 1.,\n       1., 0., 1., 0., 1., 1., 1., 0., 1., 1., 0., 1., 1., 1., 0., 0., 1.,\n       0., 0., 1., 0., 0., 0., 1., 1., 1., 0., 0., 1., 1., 1., 1., 1., 1.,\n       0., 1., 1., 0., 1., 0., 1., 0., 0., 1., 1., 1., 0., 0., 0., 1., 0.,\n       0., 0., 0., 1., 1., 1., 0., 1., 1., 1., 1., 0., 0., 1., 0., 1., 1.,\n       1., 0., 0., 1., 1., 1., 1., 0., 1., 1., 1., 1., 1., 0., 0., 1., 0.,\n       1., 1., 0., 0., 1., 1., 1., 1., 0., 0., 1., 0., 0., 1., 1., 1., 1.,\n       1., 0., 0., 1., 0., 1., 0., 0., 1., 1., 0., 0., 0., 1., 1., 1., 0.,\n       1., 0., 1., 0., 1., 0., 1., 1., 1., 0., 1., 1., 1., 0., 1.])"
     },
     "metadata": {},
     "output_type": "display_data"
    }
   ],
   "source": [
    "# 構築した Model での予測結果\n",
    "y_pred_train = model.predict(X_train)\n",
    "y_pred_test = model.predict(X_test)\n",
    "display(y_pred_test)"
   ],
   "metadata": {
    "collapsed": false,
    "pycharm": {
     "name": "#%%\n"
    }
   }
  },
  {
   "cell_type": "markdown",
   "source": [
    "- `model.predict()` だけで構築した Model での予測結果を取得できる。\n",
    "- 1 は Weekday の Order 数が増加すると予測している。"
   ],
   "metadata": {
    "collapsed": false,
    "pycharm": {
     "name": "#%% md\n"
    }
   }
  },
  {
   "cell_type": "markdown",
   "source": [
    "#### 数字での評価\n",
    "評価の数字としての Orthodox は\n",
    "- **正解率**: (TN + TP) / (TN + FP + FN + TP)\n",
    "- **F値**: 再現率と適合率の調和平均\n",
    "- **再現率**: TP / (FN + TP)\n",
    "- **適合率**: TP / (FP + TP)\n",
    "\n",
    "これらは**混合行列**を書くと理解しやすい。"
   ],
   "metadata": {
    "collapsed": false,
    "pycharm": {
     "name": "#%% md\n"
    }
   }
  },
  {
   "cell_type": "code",
   "execution_count": 9,
   "outputs": [
    {
     "name": "stdout",
     "output_type": "stream",
     "text": [
      "【正解率】Train: 1.0 Test: 0.82\n",
      "【F値】Trains: 1.0 Test: 0.84\n",
      "【制限率】Train: 1.0 Test: 0.82\n",
      "【適合率】Train: 1.0 Test: 0.86\n"
     ]
    }
   ],
   "source": [
    "# 時間帯別 order 数の集計\n",
    "from sklearn.metrics import accuracy_score, f1_score, recall_score, precision_score, confusion_matrix\n",
    "\n",
    "acc_train = accuracy_score(y_train, y_pred_train)\n",
    "acc_test = accuracy_score(y_test, y_pred_test)\n",
    "f1_train = f1_score(y_train, y_pred_train)\n",
    "f1_test = f1_score(y_test, y_pred_test)\n",
    "recall_train = recall_score(y_train, y_pred_train)\n",
    "recall_test = recall_score(y_test, y_pred_test)\n",
    "precision_train = precision_score(y_train, y_pred_train)\n",
    "precision_test = precision_score(y_test, y_pred_test)\n",
    "print(f\"【正解率】Train: {round(acc_train, 2)} Test: {round(acc_test, 2)}\")\n",
    "print(f\"【F値】Trains: {round(f1_train, 2)} Test: {round(f1_test, 2)}\")\n",
    "print(f\"【制限率】Train: {round(recall_train, 2)} Test: {round(recall_test, 2)}\")\n",
    "print(f\"【適合率】Train: {round(precision_train, 2)} Test: {round(precision_test, 2)}\")"
   ],
   "metadata": {
    "collapsed": false,
    "pycharm": {
     "name": "#%%\n"
    }
   }
  },
  {
   "cell_type": "markdown",
   "source": [
    "`scikit-learn.metrics` を使用すると簡単に算出できる。\n",
    "\n",
    "学習が 1.0 は、学習 Data に適合しすぎている**過学習**な状態。\n",
    "\n",
    "#### 過学習\n",
    "- 未知の Data に対応できない Model\n",
    "- 過学習 Model より、学習 Data の精度が低くても、学習 Data と Test data の精度の差が小さい方が良い Model になる。"
   ],
   "metadata": {
    "collapsed": false,
    "pycharm": {
     "name": "#%% md\n"
    }
   }
  },
  {
   "cell_type": "code",
   "execution_count": 10,
   "outputs": [
    {
     "name": "stdout",
     "output_type": "stream",
     "text": [
      "[[685   0]\n",
      " [  0 816]]\n",
      "[[241  49]\n",
      " [ 64 290]]\n"
     ]
    }
   ],
   "source": [
    "# 混同行列の表示\n",
    "print(confusion_matrix(y_train, y_pred_train))\n",
    "print(confusion_matrix(y_test, y_pred_test))"
   ],
   "metadata": {
    "collapsed": false,
    "pycharm": {
     "name": "#%%\n"
    }
   }
  },
  {
   "cell_type": "markdown",
   "source": [
    "`scikit-learn.metrics` を使用して簡単に出力できる。\n",
    "- FP と FN が 0 となり、全部正解している場合、**過学習**と判断できる。"
   ],
   "metadata": {
    "collapsed": false,
    "pycharm": {
     "name": "#%% md\n"
    }
   }
  },
  {
   "cell_type": "code",
   "execution_count": 11,
   "outputs": [
    {
     "name": "stdout",
     "output_type": "stream",
     "text": [
      "【混同行列】Train: 685, 0, 0, 816\n",
      "【混同行列】Test: 241, 49, 64, 290\n"
     ]
    }
   ],
   "source": [
    "# 混同行列 Data の格納\n",
    "tn_train, fp_train, fn_train, tp_train = confusion_matrix(y_train, y_pred_train).ravel()\n",
    "tn_test, fp_test, fn_test, tp_test = confusion_matrix(y_test, y_pred_test).ravel()\n",
    "print(f\"【混同行列】Train: {tn_train}, {fp_train}, {fn_train}, {tp_train}\")\n",
    "print(f\"【混同行列】Test: {tn_test}, {fp_test}, {fn_test}, {tp_test}\")"
   ],
   "metadata": {
    "collapsed": false,
    "pycharm": {
     "name": "#%%\n"
    }
   }
  },
  {
   "cell_type": "code",
   "execution_count": 12,
   "outputs": [
    {
     "data": {
      "text/plain": "  DataCategory  acc        f1    recall  precision   tp  fn  fp   tn\n0        train  1.0  1.000000  1.000000   1.000000  816   0   0  685\n1         test  1.0  0.836941  0.819209   0.855457  290  64  49  241",
      "text/html": "<div>\n<style scoped>\n    .dataframe tbody tr th:only-of-type {\n        vertical-align: middle;\n    }\n\n    .dataframe tbody tr th {\n        vertical-align: top;\n    }\n\n    .dataframe thead th {\n        text-align: right;\n    }\n</style>\n<table border=\"1\" class=\"dataframe\">\n  <thead>\n    <tr style=\"text-align: right;\">\n      <th></th>\n      <th>DataCategory</th>\n      <th>acc</th>\n      <th>f1</th>\n      <th>recall</th>\n      <th>precision</th>\n      <th>tp</th>\n      <th>fn</th>\n      <th>fp</th>\n      <th>tn</th>\n    </tr>\n  </thead>\n  <tbody>\n    <tr>\n      <th>0</th>\n      <td>train</td>\n      <td>1.0</td>\n      <td>1.000000</td>\n      <td>1.000000</td>\n      <td>1.000000</td>\n      <td>816</td>\n      <td>0</td>\n      <td>0</td>\n      <td>685</td>\n    </tr>\n    <tr>\n      <th>1</th>\n      <td>test</td>\n      <td>1.0</td>\n      <td>0.836941</td>\n      <td>0.819209</td>\n      <td>0.855457</td>\n      <td>290</td>\n      <td>64</td>\n      <td>49</td>\n      <td>241</td>\n    </tr>\n  </tbody>\n</table>\n</div>"
     },
     "execution_count": 12,
     "metadata": {},
     "output_type": "execute_result"
    }
   ],
   "source": [
    "# 精度指標の Data 化\n",
    "score_train = pd.DataFrame({'DataCategory': ['train'], 'acc': [acc_train], 'f1': [f1_train], 'recall': [recall_train],\n",
    "                            'precision': [precision_train], 'tp': [tp_train], 'fn': [fn_train], 'fp': [fp_train],\n",
    "                            'tn': [tn_train]})\n",
    "score_test = pd.DataFrame({'DataCategory': ['test'], 'acc': [acc_train], 'f1': [f1_test], 'recall': [recall_test],\n",
    "                           'precision': [precision_test], 'tp': [tp_test], 'fn': [fn_test], 'fp': [fp_test],\n",
    "                           'tn': [tn_test]})\n",
    "score = pd.concat([score_train, score_test], ignore_index=True)\n",
    "score"
   ],
   "metadata": {
    "collapsed": false,
    "pycharm": {
     "name": "#%%\n"
    }
   }
  },
  {
   "cell_type": "markdown",
   "source": [
    "### Knock66: Model の重要度を確認してみよう"
   ],
   "metadata": {
    "collapsed": false,
    "pycharm": {
     "name": "#%% md\n"
    }
   }
  },
  {
   "cell_type": "markdown",
   "source": [
    "決定木等の**木系 Algorithm** は、`feature_importances` を使うと、構築した Model に寄与している変数が取得できる。"
   ],
   "metadata": {
    "collapsed": false,
    "pycharm": {
     "name": "#%% md\n"
    }
   }
  },
  {
   "cell_type": "code",
   "execution_count": 13,
   "outputs": [
    {
     "data": {
      "text/plain": "              cols  importance\n5    order_weekday    0.369241\n6    order_weekend    0.346013\n18       delta_avg    0.027430\n2     order_cancel    0.026031\n12   order_time_16    0.024161\n8    order_time_12    0.023256\n3   order_delivery    0.020037\n17   order_time_21    0.018936\n10   order_time_14    0.017932\n11   order_time_15    0.017163",
      "text/html": "<div>\n<style scoped>\n    .dataframe tbody tr th:only-of-type {\n        vertical-align: middle;\n    }\n\n    .dataframe tbody tr th {\n        vertical-align: top;\n    }\n\n    .dataframe thead th {\n        text-align: right;\n    }\n</style>\n<table border=\"1\" class=\"dataframe\">\n  <thead>\n    <tr style=\"text-align: right;\">\n      <th></th>\n      <th>cols</th>\n      <th>importance</th>\n    </tr>\n  </thead>\n  <tbody>\n    <tr>\n      <th>5</th>\n      <td>order_weekday</td>\n      <td>0.369241</td>\n    </tr>\n    <tr>\n      <th>6</th>\n      <td>order_weekend</td>\n      <td>0.346013</td>\n    </tr>\n    <tr>\n      <th>18</th>\n      <td>delta_avg</td>\n      <td>0.027430</td>\n    </tr>\n    <tr>\n      <th>2</th>\n      <td>order_cancel</td>\n      <td>0.026031</td>\n    </tr>\n    <tr>\n      <th>12</th>\n      <td>order_time_16</td>\n      <td>0.024161</td>\n    </tr>\n    <tr>\n      <th>8</th>\n      <td>order_time_12</td>\n      <td>0.023256</td>\n    </tr>\n    <tr>\n      <th>3</th>\n      <td>order_delivery</td>\n      <td>0.020037</td>\n    </tr>\n    <tr>\n      <th>17</th>\n      <td>order_time_21</td>\n      <td>0.018936</td>\n    </tr>\n    <tr>\n      <th>10</th>\n      <td>order_time_14</td>\n      <td>0.017932</td>\n    </tr>\n    <tr>\n      <th>11</th>\n      <td>order_time_15</td>\n      <td>0.017163</td>\n    </tr>\n  </tbody>\n</table>\n</div>"
     },
     "execution_count": 13,
     "metadata": {},
     "output_type": "execute_result"
    }
   ],
   "source": [
    "# Model の重要度\n",
    "importance = pd.DataFrame({'cols': X_train.columns, 'importance': model.feature_importances_})\n",
    "importance = importance.sort_values('importance', ascending=False)\n",
    "importance.head(10)"
   ],
   "metadata": {
    "collapsed": false,
    "pycharm": {
     "name": "#%%\n"
    }
   }
  },
  {
   "cell_type": "markdown",
   "source": [
    "### Knock67: Model 構築から評価までを関数化しよう"
   ],
   "metadata": {
    "collapsed": false,
    "pycharm": {
     "name": "#%% md\n"
    }
   }
  },
  {
   "cell_type": "code",
   "execution_count": 14,
   "outputs": [],
   "source": [
    "def make_model_and_eval(model, X_train, X_test, y_train, y_test):\n",
    "    model.fit(X_train, y_train)\n",
    "    y_pred_train = model.predict(X_train)\n",
    "    y_pred_test = model.predict(X_test)\n",
    "\n",
    "    acc_train = accuracy_score(y_train, y_pred_train)\n",
    "    acc_test = accuracy_score(y_test, y_pred_test)\n",
    "    f1_train = f1_score(y_train, y_pred_train)\n",
    "    f1_test = f1_score(y_test, y_pred_test)\n",
    "    recall_train = recall_score(y_train, y_pred_train)\n",
    "    recall_test = recall_score(y_test, y_pred_test)\n",
    "    precision_train = precision_score(y_train, y_pred_train)\n",
    "    precision_test = precision_score(y_test, y_pred_test)\n",
    "    tn_train, fp_train, fn_train, tp_train = confusion_matrix(y_train, y_pred_train).ravel()\n",
    "    tn_test, fp_test, fn_test, tp_test = confusion_matrix(y_test, y_pred_test).ravel()\n",
    "    score_train = pd.DataFrame(\n",
    "        {'DataCategory': ['train'], 'acc': [acc_train], 'f1': [f1_train], 'recall': [recall_train],\n",
    "         'precision': [precision_train], 'tp': [tp_train], 'fn': [fn_train], 'fp': [fp_train], 'tn': [tn_train]})\n",
    "    score_test = pd.DataFrame(\n",
    "        {'DataCategory': ['test'], 'acc': [acc_test], 'f1': [f1_test], 'recall': [recall_test],\n",
    "         'precision': [precision_test], 'tp': [tp_test], 'fn': [fn_test], 'fp': [fp_test], 'tn': [tn_test]})\n",
    "    score = pd.concat([score_train, score_test], ignore_index=True)\n",
    "    importance = pd.DataFrame({'cols': X_train.columns, 'importance': model.feature_importances_})\n",
    "    importance = importance.sort_values('importance', ascending=False)\n",
    "    cols = pd.DataFrame({'X_cols': X_train.columns})\n",
    "    display(score)\n",
    "    return score, importance, model, cols"
   ],
   "metadata": {
    "collapsed": false,
    "pycharm": {
     "name": "#%%\n"
    }
   }
  },
  {
   "cell_type": "code",
   "execution_count": 15,
   "outputs": [
    {
     "data": {
      "text/plain": "  DataCategory       acc        f1    recall  precision   tp  fn  fp   tn\n0        train  1.000000  1.000000  1.000000   1.000000  816   0   0  685\n1         test  0.824534  0.836941  0.819209   0.855457  290  64  49  241",
      "text/html": "<div>\n<style scoped>\n    .dataframe tbody tr th:only-of-type {\n        vertical-align: middle;\n    }\n\n    .dataframe tbody tr th {\n        vertical-align: top;\n    }\n\n    .dataframe thead th {\n        text-align: right;\n    }\n</style>\n<table border=\"1\" class=\"dataframe\">\n  <thead>\n    <tr style=\"text-align: right;\">\n      <th></th>\n      <th>DataCategory</th>\n      <th>acc</th>\n      <th>f1</th>\n      <th>recall</th>\n      <th>precision</th>\n      <th>tp</th>\n      <th>fn</th>\n      <th>fp</th>\n      <th>tn</th>\n    </tr>\n  </thead>\n  <tbody>\n    <tr>\n      <th>0</th>\n      <td>train</td>\n      <td>1.000000</td>\n      <td>1.000000</td>\n      <td>1.000000</td>\n      <td>1.000000</td>\n      <td>816</td>\n      <td>0</td>\n      <td>0</td>\n      <td>685</td>\n    </tr>\n    <tr>\n      <th>1</th>\n      <td>test</td>\n      <td>0.824534</td>\n      <td>0.836941</td>\n      <td>0.819209</td>\n      <td>0.855457</td>\n      <td>290</td>\n      <td>64</td>\n      <td>49</td>\n      <td>241</td>\n    </tr>\n  </tbody>\n</table>\n</div>"
     },
     "metadata": {},
     "output_type": "display_data"
    }
   ],
   "source": [
    "# 関数を使用した決定木 Model の構築および評価\n",
    "model = DecisionTreeClassifier(random_state=0)\n",
    "score, importance, model, cols = make_model_and_eval(model, X_train, X_test, y_train, y_test)"
   ],
   "metadata": {
    "collapsed": false,
    "pycharm": {
     "name": "#%%\n"
    }
   }
  },
  {
   "cell_type": "markdown",
   "source": [
    "### Knock68: Model file や評価結果を出力しよう\n",
    "- Model 構築は、試行錯誤が多いため、何度も評価結果や Model file を出力することが多い。\n",
    "- 上記の理由から上書きしないような工夫が必要。"
   ],
   "metadata": {
    "collapsed": false,
    "pycharm": {
     "name": "#%% md\n"
    }
   }
  },
  {
   "cell_type": "code",
   "execution_count": 16,
   "outputs": [
    {
     "name": "stdout",
     "output_type": "stream",
     "text": [
      "data\\1_output\\results_20220831063031\n"
     ]
    }
   ],
   "source": [
    "# 出力 Directory の作成\n",
    "import datetime\n",
    "\n",
    "now = datetime.datetime.now().strftime('%Y%m%d%H%M%S')\n",
    "target_output_dir_name = 'results_' + now\n",
    "target_output_dir = os.path.join(output_dir, target_output_dir_name)\n",
    "os.makedirs(target_output_dir, exist_ok=True)\n",
    "print(target_output_dir)"
   ],
   "metadata": {
    "collapsed": false,
    "pycharm": {
     "name": "#%%\n"
    }
   }
  },
  {
   "cell_type": "code",
   "execution_count": 17,
   "outputs": [],
   "source": [
    "# 評価結果と Model file の出力\n",
    "score_name = 'score.csv'\n",
    "importance_name = 'importance.csv'\n",
    "cols_name = 'X_cols.csv'\n",
    "model_name = 'model.pickle'\n",
    "score_path = os.path.join(target_output_dir, score_name)\n",
    "importance_path = os.path.join(target_output_dir, importance_name)\n",
    "cols_path = os.path.join(target_output_dir, cols_name)\n",
    "model_path = os.path.join(target_output_dir, model_name)\n",
    "\n",
    "score.to_csv(score_path, index=False)\n",
    "importance.to_csv(importance_path, index=False)\n",
    "cols.to_csv(cols_path, index=False)\n",
    "\n",
    "import pickle\n",
    "\n",
    "with open(model_path, mode='wb') as f:\n",
    "    pickle.dump(model, f, protocol=2)"
   ],
   "metadata": {
    "collapsed": false,
    "pycharm": {
     "name": "#%%\n"
    }
   }
  },
  {
   "cell_type": "code",
   "execution_count": null,
   "outputs": [],
   "source": [],
   "metadata": {
    "collapsed": false,
    "pycharm": {
     "name": "#%%\n"
    }
   }
  }
 ],
 "metadata": {
  "kernelspec": {
   "display_name": "Python 3",
   "language": "python",
   "name": "python3"
  },
  "language_info": {
   "codemirror_mode": {
    "name": "ipython",
    "version": 2
   },
   "file_extension": ".py",
   "mimetype": "text/x-python",
   "name": "python",
   "nbconvert_exporter": "python",
   "pygments_lexer": "ipython2",
   "version": "2.7.6"
  }
 },
 "nbformat": 4,
 "nbformat_minor": 0
}