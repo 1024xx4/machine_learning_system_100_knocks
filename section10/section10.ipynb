{
 "cells": [
  {
   "cell_type": "markdown",
   "metadata": {
    "pycharm": {
     "name": "#%% md\n"
    }
   },
   "source": [
    "### Knock91: 単一 Data の読み込みをしよう"
   ]
  },
  {
   "cell_type": "code",
   "execution_count": 1,
   "metadata": {
    "pycharm": {
     "name": "#%%\n"
    }
   },
   "outputs": [
    {
     "data": {
      "text/plain": "  store_name  order  order_fin  order_cancel  order_delivery  order_takeout  \\\n0      あきる野店   1147        945           202             841            306   \n1     さいたま南店   1504       1217           287            1105            399   \n2     さいたま緑店   1028        847           181             756            272   \n\n   order_weekday  order_weekend  order_time_11  order_time_12  ...  \\\n0            844            303             91            122  ...   \n1           1104            400            130            135  ...   \n2            756            272             95             91  ...   \n\n   order_time_14  order_time_15  order_time_16  order_time_17  order_time_18  \\\n0            101             95            107            106            100   \n1            143            142            137            130            113   \n2             95            102             82             90             93   \n\n   order_time_19  order_time_20  order_time_21  delta_avg  year_month  \n0            108            109             96  34.110053      201904  \n1            140            132            155  35.337716      201904  \n2             95             95             84  34.291617      201904  \n\n[3 rows x 21 columns]",
      "text/html": "<div>\n<style scoped>\n    .dataframe tbody tr th:only-of-type {\n        vertical-align: middle;\n    }\n\n    .dataframe tbody tr th {\n        vertical-align: top;\n    }\n\n    .dataframe thead th {\n        text-align: right;\n    }\n</style>\n<table border=\"1\" class=\"dataframe\">\n  <thead>\n    <tr style=\"text-align: right;\">\n      <th></th>\n      <th>store_name</th>\n      <th>order</th>\n      <th>order_fin</th>\n      <th>order_cancel</th>\n      <th>order_delivery</th>\n      <th>order_takeout</th>\n      <th>order_weekday</th>\n      <th>order_weekend</th>\n      <th>order_time_11</th>\n      <th>order_time_12</th>\n      <th>...</th>\n      <th>order_time_14</th>\n      <th>order_time_15</th>\n      <th>order_time_16</th>\n      <th>order_time_17</th>\n      <th>order_time_18</th>\n      <th>order_time_19</th>\n      <th>order_time_20</th>\n      <th>order_time_21</th>\n      <th>delta_avg</th>\n      <th>year_month</th>\n    </tr>\n  </thead>\n  <tbody>\n    <tr>\n      <th>0</th>\n      <td>あきる野店</td>\n      <td>1147</td>\n      <td>945</td>\n      <td>202</td>\n      <td>841</td>\n      <td>306</td>\n      <td>844</td>\n      <td>303</td>\n      <td>91</td>\n      <td>122</td>\n      <td>...</td>\n      <td>101</td>\n      <td>95</td>\n      <td>107</td>\n      <td>106</td>\n      <td>100</td>\n      <td>108</td>\n      <td>109</td>\n      <td>96</td>\n      <td>34.110053</td>\n      <td>201904</td>\n    </tr>\n    <tr>\n      <th>1</th>\n      <td>さいたま南店</td>\n      <td>1504</td>\n      <td>1217</td>\n      <td>287</td>\n      <td>1105</td>\n      <td>399</td>\n      <td>1104</td>\n      <td>400</td>\n      <td>130</td>\n      <td>135</td>\n      <td>...</td>\n      <td>143</td>\n      <td>142</td>\n      <td>137</td>\n      <td>130</td>\n      <td>113</td>\n      <td>140</td>\n      <td>132</td>\n      <td>155</td>\n      <td>35.337716</td>\n      <td>201904</td>\n    </tr>\n    <tr>\n      <th>2</th>\n      <td>さいたま緑店</td>\n      <td>1028</td>\n      <td>847</td>\n      <td>181</td>\n      <td>756</td>\n      <td>272</td>\n      <td>756</td>\n      <td>272</td>\n      <td>95</td>\n      <td>91</td>\n      <td>...</td>\n      <td>95</td>\n      <td>102</td>\n      <td>82</td>\n      <td>90</td>\n      <td>93</td>\n      <td>95</td>\n      <td>95</td>\n      <td>84</td>\n      <td>34.291617</td>\n      <td>201904</td>\n    </tr>\n  </tbody>\n</table>\n<p>3 rows × 21 columns</p>\n</div>"
     },
     "metadata": {},
     "output_type": "display_data"
    },
    {
     "data": {
      "text/plain": "  store_name  y_weekday  y_weekend  order  order_fin  order_cancel  \\\n0      あきる野店        1.0        0.0   1147        945           202   \n1     さいたま南店        1.0        1.0   1504       1217           287   \n2     さいたま緑店        1.0        1.0   1028        847           181   \n\n   order_delivery  order_takeout  order_weekday  order_weekend  ...  \\\n0             841            306            844            303  ...   \n1            1105            399           1104            400  ...   \n2             756            272            756            272  ...   \n\n   order_time_14  order_time_15  order_time_16  order_time_17  order_time_18  \\\n0            101             95            107            106            100   \n1            143            142            137            130            113   \n2             95            102             82             90             93   \n\n   order_time_19  order_time_20  order_time_21  delta_avg  year_month  \n0            108            109             96  34.110053      201904  \n1            140            132            155  35.337716      201904  \n2             95             95             84  34.291617      201904  \n\n[3 rows x 23 columns]",
      "text/html": "<div>\n<style scoped>\n    .dataframe tbody tr th:only-of-type {\n        vertical-align: middle;\n    }\n\n    .dataframe tbody tr th {\n        vertical-align: top;\n    }\n\n    .dataframe thead th {\n        text-align: right;\n    }\n</style>\n<table border=\"1\" class=\"dataframe\">\n  <thead>\n    <tr style=\"text-align: right;\">\n      <th></th>\n      <th>store_name</th>\n      <th>y_weekday</th>\n      <th>y_weekend</th>\n      <th>order</th>\n      <th>order_fin</th>\n      <th>order_cancel</th>\n      <th>order_delivery</th>\n      <th>order_takeout</th>\n      <th>order_weekday</th>\n      <th>order_weekend</th>\n      <th>...</th>\n      <th>order_time_14</th>\n      <th>order_time_15</th>\n      <th>order_time_16</th>\n      <th>order_time_17</th>\n      <th>order_time_18</th>\n      <th>order_time_19</th>\n      <th>order_time_20</th>\n      <th>order_time_21</th>\n      <th>delta_avg</th>\n      <th>year_month</th>\n    </tr>\n  </thead>\n  <tbody>\n    <tr>\n      <th>0</th>\n      <td>あきる野店</td>\n      <td>1.0</td>\n      <td>0.0</td>\n      <td>1147</td>\n      <td>945</td>\n      <td>202</td>\n      <td>841</td>\n      <td>306</td>\n      <td>844</td>\n      <td>303</td>\n      <td>...</td>\n      <td>101</td>\n      <td>95</td>\n      <td>107</td>\n      <td>106</td>\n      <td>100</td>\n      <td>108</td>\n      <td>109</td>\n      <td>96</td>\n      <td>34.110053</td>\n      <td>201904</td>\n    </tr>\n    <tr>\n      <th>1</th>\n      <td>さいたま南店</td>\n      <td>1.0</td>\n      <td>1.0</td>\n      <td>1504</td>\n      <td>1217</td>\n      <td>287</td>\n      <td>1105</td>\n      <td>399</td>\n      <td>1104</td>\n      <td>400</td>\n      <td>...</td>\n      <td>143</td>\n      <td>142</td>\n      <td>137</td>\n      <td>130</td>\n      <td>113</td>\n      <td>140</td>\n      <td>132</td>\n      <td>155</td>\n      <td>35.337716</td>\n      <td>201904</td>\n    </tr>\n    <tr>\n      <th>2</th>\n      <td>さいたま緑店</td>\n      <td>1.0</td>\n      <td>1.0</td>\n      <td>1028</td>\n      <td>847</td>\n      <td>181</td>\n      <td>756</td>\n      <td>272</td>\n      <td>756</td>\n      <td>272</td>\n      <td>...</td>\n      <td>95</td>\n      <td>102</td>\n      <td>82</td>\n      <td>90</td>\n      <td>93</td>\n      <td>95</td>\n      <td>95</td>\n      <td>84</td>\n      <td>34.291617</td>\n      <td>201904</td>\n    </tr>\n  </tbody>\n</table>\n<p>3 rows × 23 columns</p>\n</div>"
     },
     "metadata": {},
     "output_type": "display_data"
    }
   ],
   "source": [
    "# 単一 Data の読み込み\n",
    "import os\n",
    "import pandas as pd\n",
    "\n",
    "data_dir = 'data'\n",
    "store_monthly_dir = os.path.join(data_dir, '01_store_monthly')\n",
    "ml_base_dir = os.path.join(data_dir, '02_ml_base')\n",
    "\n",
    "output_ml_result_dir = os.path.join(data_dir, '10_output_ml_result')\n",
    "output_report_dir = os.path.join(data_dir, '11_output_report')\n",
    "\n",
    "store_monthly_file = 'store_monthly_data.csv'\n",
    "ml_base_file = 'ml_base_data.csv'\n",
    "\n",
    "store_monthly_data = pd.read_csv(os.path.join(store_monthly_dir, store_monthly_file))\n",
    "ml_base_data = pd.read_csv(os.path.join(ml_base_dir, ml_base_file))\n",
    "display(store_monthly_data.head(3))\n",
    "display(ml_base_data.head(3))"
   ]
  },
  {
   "cell_type": "markdown",
   "metadata": {
    "pycharm": {
     "name": "#%% md\n"
    }
   },
   "source": [
    "### Knock92: 更新 Data を読み込んで店舗別 Data を作成しよう"
   ]
  },
  {
   "cell_type": "code",
   "execution_count": 2,
   "metadata": {
    "pycharm": {
     "name": "#%%\n"
    }
   },
   "outputs": [
    {
     "data": {
      "text/plain": "  DataCategory       acc        f1    recall  precision   tp  fn   fp   tn  \\\n0        train  1.000000  1.000000  1.000000   1.000000  861   0    0  777   \n1         test  0.811966  0.829016  0.818414   0.839895  320  71   61  250   \n2        train  1.000000  1.000000  1.000000   1.000000  861   0    0  777   \n3         test  0.792023  0.816121  0.828645   0.803970  324  67   79  232   \n4        train  0.865079  0.875212  0.900116   0.851648  775  86  135  642   \n\n         model_name model_target            dirs  \n0              tree    y_weekday  results_202004  \n1              tree    y_weekday  results_202004  \n2      RandomForest    y_weekday  results_202004  \n3      RandomForest    y_weekday  results_202004  \n4  GradientBoosting    y_weekday  results_202004  ",
      "text/html": "<div>\n<style scoped>\n    .dataframe tbody tr th:only-of-type {\n        vertical-align: middle;\n    }\n\n    .dataframe tbody tr th {\n        vertical-align: top;\n    }\n\n    .dataframe thead th {\n        text-align: right;\n    }\n</style>\n<table border=\"1\" class=\"dataframe\">\n  <thead>\n    <tr style=\"text-align: right;\">\n      <th></th>\n      <th>DataCategory</th>\n      <th>acc</th>\n      <th>f1</th>\n      <th>recall</th>\n      <th>precision</th>\n      <th>tp</th>\n      <th>fn</th>\n      <th>fp</th>\n      <th>tn</th>\n      <th>model_name</th>\n      <th>model_target</th>\n      <th>dirs</th>\n    </tr>\n  </thead>\n  <tbody>\n    <tr>\n      <th>0</th>\n      <td>train</td>\n      <td>1.000000</td>\n      <td>1.000000</td>\n      <td>1.000000</td>\n      <td>1.000000</td>\n      <td>861</td>\n      <td>0</td>\n      <td>0</td>\n      <td>777</td>\n      <td>tree</td>\n      <td>y_weekday</td>\n      <td>results_202004</td>\n    </tr>\n    <tr>\n      <th>1</th>\n      <td>test</td>\n      <td>0.811966</td>\n      <td>0.829016</td>\n      <td>0.818414</td>\n      <td>0.839895</td>\n      <td>320</td>\n      <td>71</td>\n      <td>61</td>\n      <td>250</td>\n      <td>tree</td>\n      <td>y_weekday</td>\n      <td>results_202004</td>\n    </tr>\n    <tr>\n      <th>2</th>\n      <td>train</td>\n      <td>1.000000</td>\n      <td>1.000000</td>\n      <td>1.000000</td>\n      <td>1.000000</td>\n      <td>861</td>\n      <td>0</td>\n      <td>0</td>\n      <td>777</td>\n      <td>RandomForest</td>\n      <td>y_weekday</td>\n      <td>results_202004</td>\n    </tr>\n    <tr>\n      <th>3</th>\n      <td>test</td>\n      <td>0.792023</td>\n      <td>0.816121</td>\n      <td>0.828645</td>\n      <td>0.803970</td>\n      <td>324</td>\n      <td>67</td>\n      <td>79</td>\n      <td>232</td>\n      <td>RandomForest</td>\n      <td>y_weekday</td>\n      <td>results_202004</td>\n    </tr>\n    <tr>\n      <th>4</th>\n      <td>train</td>\n      <td>0.865079</td>\n      <td>0.875212</td>\n      <td>0.900116</td>\n      <td>0.851648</td>\n      <td>775</td>\n      <td>86</td>\n      <td>135</td>\n      <td>642</td>\n      <td>GradientBoosting</td>\n      <td>y_weekday</td>\n      <td>results_202004</td>\n    </tr>\n  </tbody>\n</table>\n</div>"
     },
     "execution_count": 2,
     "metadata": {},
     "output_type": "execute_result"
    }
   ],
   "source": [
    "# 精度評価結果の読み込み\n",
    "ml_results_dirs = os.listdir(output_ml_result_dir)\n",
    "score_all = []\n",
    "for ml_results_dir in ml_results_dirs:\n",
    "    score_file_path = os.path.join(output_ml_result_dir, ml_results_dir, 'score.csv')\n",
    "    score_monthly = pd.read_csv(score_file_path)\n",
    "    score_monthly['dirs'] = ml_results_dir\n",
    "    score_all.append(score_monthly)\n",
    "score_all = pd.concat(score_all, ignore_index=True)\n",
    "score_all.head()"
   ]
  },
  {
   "cell_type": "code",
   "execution_count": 3,
   "metadata": {
    "pycharm": {
     "name": "#%%\n"
    }
   },
   "outputs": [
    {
     "data": {
      "text/plain": "  DataCategory       acc        f1    recall  precision   tp  fn   fp   tn  \\\n0        train  1.000000  1.000000  1.000000   1.000000  861   0    0  777   \n1         test  0.811966  0.829016  0.818414   0.839895  320  71   61  250   \n2        train  1.000000  1.000000  1.000000   1.000000  861   0    0  777   \n3         test  0.792023  0.816121  0.828645   0.803970  324  67   79  232   \n4        train  0.865079  0.875212  0.900116   0.851648  775  86  135  642   \n\n         model_name model_target            dirs year_month  \n0              tree    y_weekday  results_202004     202004  \n1              tree    y_weekday  results_202004     202004  \n2      RandomForest    y_weekday  results_202004     202004  \n3      RandomForest    y_weekday  results_202004     202004  \n4  GradientBoosting    y_weekday  results_202004     202004  ",
      "text/html": "<div>\n<style scoped>\n    .dataframe tbody tr th:only-of-type {\n        vertical-align: middle;\n    }\n\n    .dataframe tbody tr th {\n        vertical-align: top;\n    }\n\n    .dataframe thead th {\n        text-align: right;\n    }\n</style>\n<table border=\"1\" class=\"dataframe\">\n  <thead>\n    <tr style=\"text-align: right;\">\n      <th></th>\n      <th>DataCategory</th>\n      <th>acc</th>\n      <th>f1</th>\n      <th>recall</th>\n      <th>precision</th>\n      <th>tp</th>\n      <th>fn</th>\n      <th>fp</th>\n      <th>tn</th>\n      <th>model_name</th>\n      <th>model_target</th>\n      <th>dirs</th>\n      <th>year_month</th>\n    </tr>\n  </thead>\n  <tbody>\n    <tr>\n      <th>0</th>\n      <td>train</td>\n      <td>1.000000</td>\n      <td>1.000000</td>\n      <td>1.000000</td>\n      <td>1.000000</td>\n      <td>861</td>\n      <td>0</td>\n      <td>0</td>\n      <td>777</td>\n      <td>tree</td>\n      <td>y_weekday</td>\n      <td>results_202004</td>\n      <td>202004</td>\n    </tr>\n    <tr>\n      <th>1</th>\n      <td>test</td>\n      <td>0.811966</td>\n      <td>0.829016</td>\n      <td>0.818414</td>\n      <td>0.839895</td>\n      <td>320</td>\n      <td>71</td>\n      <td>61</td>\n      <td>250</td>\n      <td>tree</td>\n      <td>y_weekday</td>\n      <td>results_202004</td>\n      <td>202004</td>\n    </tr>\n    <tr>\n      <th>2</th>\n      <td>train</td>\n      <td>1.000000</td>\n      <td>1.000000</td>\n      <td>1.000000</td>\n      <td>1.000000</td>\n      <td>861</td>\n      <td>0</td>\n      <td>0</td>\n      <td>777</td>\n      <td>RandomForest</td>\n      <td>y_weekday</td>\n      <td>results_202004</td>\n      <td>202004</td>\n    </tr>\n    <tr>\n      <th>3</th>\n      <td>test</td>\n      <td>0.792023</td>\n      <td>0.816121</td>\n      <td>0.828645</td>\n      <td>0.803970</td>\n      <td>324</td>\n      <td>67</td>\n      <td>79</td>\n      <td>232</td>\n      <td>RandomForest</td>\n      <td>y_weekday</td>\n      <td>results_202004</td>\n      <td>202004</td>\n    </tr>\n    <tr>\n      <th>4</th>\n      <td>train</td>\n      <td>0.865079</td>\n      <td>0.875212</td>\n      <td>0.900116</td>\n      <td>0.851648</td>\n      <td>775</td>\n      <td>86</td>\n      <td>135</td>\n      <td>642</td>\n      <td>GradientBoosting</td>\n      <td>y_weekday</td>\n      <td>results_202004</td>\n      <td>202004</td>\n    </tr>\n  </tbody>\n</table>\n</div>"
     },
     "execution_count": 3,
     "metadata": {},
     "output_type": "execute_result"
    }
   ],
   "source": [
    "# 年月の抽出\n",
    "score_all.loc[:, 'year_month'] = score_all['dirs'].str.split('_', expand=True)[1]\n",
    "score_all.head()"
   ]
  },
  {
   "cell_type": "markdown",
   "metadata": {
    "pycharm": {
     "name": "#%% md\n"
    }
   },
   "source": [
    "### Knock93: 機械学習 Model の重要変数 Data を読み込んで結合しよう"
   ]
  },
  {
   "cell_type": "code",
   "execution_count": 4,
   "metadata": {
    "pycharm": {
     "name": "#%%\n"
    }
   },
   "outputs": [
    {
     "data": {
      "text/plain": "            cols  importance model_name model_target            dirs  \\\n0  order_weekend    0.349060       tree    y_weekday  results_202004   \n1  order_weekday    0.276106       tree    y_weekday  results_202004   \n2          order    0.050472       tree    y_weekday  results_202004   \n3  order_takeout    0.034702       tree    y_weekday  results_202004   \n4      delta_avg    0.030703       tree    y_weekday  results_202004   \n\n  year_month  \n0     202004  \n1     202004  \n2     202004  \n3     202004  \n4     202004  ",
      "text/html": "<div>\n<style scoped>\n    .dataframe tbody tr th:only-of-type {\n        vertical-align: middle;\n    }\n\n    .dataframe tbody tr th {\n        vertical-align: top;\n    }\n\n    .dataframe thead th {\n        text-align: right;\n    }\n</style>\n<table border=\"1\" class=\"dataframe\">\n  <thead>\n    <tr style=\"text-align: right;\">\n      <th></th>\n      <th>cols</th>\n      <th>importance</th>\n      <th>model_name</th>\n      <th>model_target</th>\n      <th>dirs</th>\n      <th>year_month</th>\n    </tr>\n  </thead>\n  <tbody>\n    <tr>\n      <th>0</th>\n      <td>order_weekend</td>\n      <td>0.349060</td>\n      <td>tree</td>\n      <td>y_weekday</td>\n      <td>results_202004</td>\n      <td>202004</td>\n    </tr>\n    <tr>\n      <th>1</th>\n      <td>order_weekday</td>\n      <td>0.276106</td>\n      <td>tree</td>\n      <td>y_weekday</td>\n      <td>results_202004</td>\n      <td>202004</td>\n    </tr>\n    <tr>\n      <th>2</th>\n      <td>order</td>\n      <td>0.050472</td>\n      <td>tree</td>\n      <td>y_weekday</td>\n      <td>results_202004</td>\n      <td>202004</td>\n    </tr>\n    <tr>\n      <th>3</th>\n      <td>order_takeout</td>\n      <td>0.034702</td>\n      <td>tree</td>\n      <td>y_weekday</td>\n      <td>results_202004</td>\n      <td>202004</td>\n    </tr>\n    <tr>\n      <th>4</th>\n      <td>delta_avg</td>\n      <td>0.030703</td>\n      <td>tree</td>\n      <td>y_weekday</td>\n      <td>results_202004</td>\n      <td>202004</td>\n    </tr>\n  </tbody>\n</table>\n</div>"
     },
     "execution_count": 4,
     "metadata": {},
     "output_type": "execute_result"
    }
   ],
   "source": [
    "# 重要度変数 Data の結合\n",
    "ml_results_dirs = os.listdir(output_ml_result_dir)\n",
    "importance_all = []\n",
    "for ml_results_dir in ml_results_dirs:\n",
    "    importance_file_path = os.path.join(output_ml_result_dir, ml_results_dir, 'importance.csv')\n",
    "    importance_monthly = pd.read_csv(importance_file_path)\n",
    "    importance_monthly['dirs'] = ml_results_dir\n",
    "    importance_all.append(importance_monthly)\n",
    "importance_all = pd.concat(importance_all, ignore_index=True)\n",
    "importance_all.loc[:, 'year_month'] = importance_all['dirs'].str.split('_', expand=True)[1]\n",
    "importance_all.head()"
   ]
  },
  {
   "cell_type": "markdown",
   "metadata": {
    "pycharm": {
     "name": "#%% md\n"
    }
   },
   "source": [
    "### Knock94: 機械学習 Model の予測結果を読み込んで結合しよう"
   ]
  },
  {
   "cell_type": "code",
   "execution_count": 5,
   "metadata": {
    "pycharm": {
     "name": "#%%\n"
    }
   },
   "outputs": [
    {
     "data": {
      "text/plain": "  store_name  score_weekday  score_weekend                    files\n0      あきる野店       0.567821       0.847881  report_pred_202005.xlsx\n1     さいたま南店       0.099261       0.775349  report_pred_202005.xlsx\n2     さいたま緑店       0.351067       0.898108  report_pred_202005.xlsx\n3     さいたま西店       0.256878       0.777520  report_pred_202005.xlsx\n4       つくば店       0.158105       0.792846  report_pred_202005.xlsx",
      "text/html": "<div>\n<style scoped>\n    .dataframe tbody tr th:only-of-type {\n        vertical-align: middle;\n    }\n\n    .dataframe tbody tr th {\n        vertical-align: top;\n    }\n\n    .dataframe thead th {\n        text-align: right;\n    }\n</style>\n<table border=\"1\" class=\"dataframe\">\n  <thead>\n    <tr style=\"text-align: right;\">\n      <th></th>\n      <th>store_name</th>\n      <th>score_weekday</th>\n      <th>score_weekend</th>\n      <th>files</th>\n    </tr>\n  </thead>\n  <tbody>\n    <tr>\n      <th>0</th>\n      <td>あきる野店</td>\n      <td>0.567821</td>\n      <td>0.847881</td>\n      <td>report_pred_202005.xlsx</td>\n    </tr>\n    <tr>\n      <th>1</th>\n      <td>さいたま南店</td>\n      <td>0.099261</td>\n      <td>0.775349</td>\n      <td>report_pred_202005.xlsx</td>\n    </tr>\n    <tr>\n      <th>2</th>\n      <td>さいたま緑店</td>\n      <td>0.351067</td>\n      <td>0.898108</td>\n      <td>report_pred_202005.xlsx</td>\n    </tr>\n    <tr>\n      <th>3</th>\n      <td>さいたま西店</td>\n      <td>0.256878</td>\n      <td>0.777520</td>\n      <td>report_pred_202005.xlsx</td>\n    </tr>\n    <tr>\n      <th>4</th>\n      <td>つくば店</td>\n      <td>0.158105</td>\n      <td>0.792846</td>\n      <td>report_pred_202005.xlsx</td>\n    </tr>\n  </tbody>\n</table>\n</div>"
     },
     "execution_count": 5,
     "metadata": {},
     "output_type": "execute_result"
    }
   ],
   "source": [
    "# 予測結果 Data の結合\n",
    "report_files = os.listdir(output_report_dir)\n",
    "report_all = []\n",
    "for report_file in report_files:\n",
    "    report_file_path = os.path.join(output_report_dir, report_file)\n",
    "    report_monthly = pd.read_excel(report_file_path)\n",
    "    report_monthly = report_monthly[['store_name', 'score_weekday', 'score_weekend']].copy()\n",
    "    report_monthly['files'] = report_file\n",
    "    report_all.append(report_monthly)\n",
    "report_all = pd.concat(report_all, ignore_index=True)\n",
    "report_all.head()"
   ]
  },
  {
   "cell_type": "code",
   "execution_count": 6,
   "metadata": {
    "pycharm": {
     "name": "#%%\n"
    }
   },
   "outputs": [
    {
     "data": {
      "text/plain": "  store_name  score_weekday  score_weekend                    files  \\\n0      あきる野店       0.567821       0.847881  report_pred_202005.xlsx   \n1     さいたま南店       0.099261       0.775349  report_pred_202005.xlsx   \n2     さいたま緑店       0.351067       0.898108  report_pred_202005.xlsx   \n3     さいたま西店       0.256878       0.777520  report_pred_202005.xlsx   \n4       つくば店       0.158105       0.792846  report_pred_202005.xlsx   \n\n  pred_year_month  \n0          202005  \n1          202005  \n2          202005  \n3          202005  \n4          202005  ",
      "text/html": "<div>\n<style scoped>\n    .dataframe tbody tr th:only-of-type {\n        vertical-align: middle;\n    }\n\n    .dataframe tbody tr th {\n        vertical-align: top;\n    }\n\n    .dataframe thead th {\n        text-align: right;\n    }\n</style>\n<table border=\"1\" class=\"dataframe\">\n  <thead>\n    <tr style=\"text-align: right;\">\n      <th></th>\n      <th>store_name</th>\n      <th>score_weekday</th>\n      <th>score_weekend</th>\n      <th>files</th>\n      <th>pred_year_month</th>\n    </tr>\n  </thead>\n  <tbody>\n    <tr>\n      <th>0</th>\n      <td>あきる野店</td>\n      <td>0.567821</td>\n      <td>0.847881</td>\n      <td>report_pred_202005.xlsx</td>\n      <td>202005</td>\n    </tr>\n    <tr>\n      <th>1</th>\n      <td>さいたま南店</td>\n      <td>0.099261</td>\n      <td>0.775349</td>\n      <td>report_pred_202005.xlsx</td>\n      <td>202005</td>\n    </tr>\n    <tr>\n      <th>2</th>\n      <td>さいたま緑店</td>\n      <td>0.351067</td>\n      <td>0.898108</td>\n      <td>report_pred_202005.xlsx</td>\n      <td>202005</td>\n    </tr>\n    <tr>\n      <th>3</th>\n      <td>さいたま西店</td>\n      <td>0.256878</td>\n      <td>0.777520</td>\n      <td>report_pred_202005.xlsx</td>\n      <td>202005</td>\n    </tr>\n    <tr>\n      <th>4</th>\n      <td>つくば店</td>\n      <td>0.158105</td>\n      <td>0.792846</td>\n      <td>report_pred_202005.xlsx</td>\n      <td>202005</td>\n    </tr>\n  </tbody>\n</table>\n</div>"
     },
     "execution_count": 6,
     "metadata": {},
     "output_type": "execute_result"
    }
   ],
   "source": [
    "# 予測した年月情報の抽出\n",
    "report_all.loc[:, 'pred_year_month'] = report_all['files'].str.split('.', expand=True)[0]\n",
    "report_all.loc[:, 'pred_year_month'] = report_all['pred_year_month'].str[12:]\n",
    "report_all.head()"
   ]
  },
  {
   "cell_type": "markdown",
   "metadata": {
    "pycharm": {
     "name": "#%% md\n"
    }
   },
   "source": [
    "### Knock95: 機械学習 Model 用の事前 Data 加工をしよう"
   ]
  },
  {
   "cell_type": "code",
   "execution_count": 7,
   "metadata": {
    "pycharm": {
     "name": "#%%\n"
    }
   },
   "outputs": [
    {
     "data": {
      "text/plain": "  store_name  y_weekday  y_weekend pred_year_month\n0      あきる野店        1.0        0.0          201905\n1     さいたま南店        1.0        1.0          201905\n2     さいたま緑店        1.0        1.0          201905",
      "text/html": "<div>\n<style scoped>\n    .dataframe tbody tr th:only-of-type {\n        vertical-align: middle;\n    }\n\n    .dataframe tbody tr th {\n        vertical-align: top;\n    }\n\n    .dataframe thead th {\n        text-align: right;\n    }\n</style>\n<table border=\"1\" class=\"dataframe\">\n  <thead>\n    <tr style=\"text-align: right;\">\n      <th></th>\n      <th>store_name</th>\n      <th>y_weekday</th>\n      <th>y_weekend</th>\n      <th>pred_year_month</th>\n    </tr>\n  </thead>\n  <tbody>\n    <tr>\n      <th>0</th>\n      <td>あきる野店</td>\n      <td>1.0</td>\n      <td>0.0</td>\n      <td>201905</td>\n    </tr>\n    <tr>\n      <th>1</th>\n      <td>さいたま南店</td>\n      <td>1.0</td>\n      <td>1.0</td>\n      <td>201905</td>\n    </tr>\n    <tr>\n      <th>2</th>\n      <td>さいたま緑店</td>\n      <td>1.0</td>\n      <td>1.0</td>\n      <td>201905</td>\n    </tr>\n  </tbody>\n</table>\n</div>"
     },
     "execution_count": 7,
     "metadata": {},
     "output_type": "execute_result"
    }
   ],
   "source": [
    "ml_data = ml_base_data[['store_name', 'y_weekday', 'y_weekend', 'year_month']].copy()\n",
    "ml_data.loc[:, 'pred_year_month'] = pd.to_datetime(ml_data['year_month'], format='%Y%m')\n",
    "\n",
    "from dateutil.relativedelta import relativedelta\n",
    "\n",
    "ml_data.loc[:, 'pred_year_month'] = ml_data['pred_year_month'].map(lambda x: x + relativedelta(months=1))\n",
    "ml_data.loc[:, 'pred_year_month'] = ml_data['pred_year_month'].dt.strftime('%Y%m')\n",
    "del ml_data['year_month']\n",
    "ml_data.head(3)"
   ]
  },
  {
   "cell_type": "code",
   "execution_count": 8,
   "metadata": {
    "pycharm": {
     "name": "#%%\n"
    }
   },
   "outputs": [
    {
     "data": {
      "text/plain": "    store_name  score_weekday  score_weekend                    files  \\\n0        あきる野店       0.567821       0.847881  report_pred_202005.xlsx   \n1       さいたま南店       0.099261       0.775349  report_pred_202005.xlsx   \n2       さいたま緑店       0.351067       0.898108  report_pred_202005.xlsx   \n3       さいたま西店       0.256878       0.777520  report_pred_202005.xlsx   \n4         つくば店       0.158105       0.792846  report_pred_202005.xlsx   \n..         ...            ...            ...                      ...   \n970        高津店       0.934106       0.137875  report_pred_202009.xlsx   \n971      高田馬場店       0.965103       0.123156  report_pred_202009.xlsx   \n972        鴻巣店       0.962716       0.145759  report_pred_202009.xlsx   \n973        鶴見店       0.946437       0.153724  report_pred_202009.xlsx   \n974        麻生店       0.961232       0.126548  report_pred_202009.xlsx   \n\n    pred_year_month  y_weekday  y_weekend  \n0            202005        0.0        1.0  \n1            202005        0.0        1.0  \n2            202005        0.0        1.0  \n3            202005        0.0        1.0  \n4            202005        0.0        1.0  \n..              ...        ...        ...  \n970          202009        NaN        NaN  \n971          202009        NaN        NaN  \n972          202009        NaN        NaN  \n973          202009        NaN        NaN  \n974          202009        NaN        NaN  \n\n[975 rows x 7 columns]",
      "text/html": "<div>\n<style scoped>\n    .dataframe tbody tr th:only-of-type {\n        vertical-align: middle;\n    }\n\n    .dataframe tbody tr th {\n        vertical-align: top;\n    }\n\n    .dataframe thead th {\n        text-align: right;\n    }\n</style>\n<table border=\"1\" class=\"dataframe\">\n  <thead>\n    <tr style=\"text-align: right;\">\n      <th></th>\n      <th>store_name</th>\n      <th>score_weekday</th>\n      <th>score_weekend</th>\n      <th>files</th>\n      <th>pred_year_month</th>\n      <th>y_weekday</th>\n      <th>y_weekend</th>\n    </tr>\n  </thead>\n  <tbody>\n    <tr>\n      <th>0</th>\n      <td>あきる野店</td>\n      <td>0.567821</td>\n      <td>0.847881</td>\n      <td>report_pred_202005.xlsx</td>\n      <td>202005</td>\n      <td>0.0</td>\n      <td>1.0</td>\n    </tr>\n    <tr>\n      <th>1</th>\n      <td>さいたま南店</td>\n      <td>0.099261</td>\n      <td>0.775349</td>\n      <td>report_pred_202005.xlsx</td>\n      <td>202005</td>\n      <td>0.0</td>\n      <td>1.0</td>\n    </tr>\n    <tr>\n      <th>2</th>\n      <td>さいたま緑店</td>\n      <td>0.351067</td>\n      <td>0.898108</td>\n      <td>report_pred_202005.xlsx</td>\n      <td>202005</td>\n      <td>0.0</td>\n      <td>1.0</td>\n    </tr>\n    <tr>\n      <th>3</th>\n      <td>さいたま西店</td>\n      <td>0.256878</td>\n      <td>0.777520</td>\n      <td>report_pred_202005.xlsx</td>\n      <td>202005</td>\n      <td>0.0</td>\n      <td>1.0</td>\n    </tr>\n    <tr>\n      <th>4</th>\n      <td>つくば店</td>\n      <td>0.158105</td>\n      <td>0.792846</td>\n      <td>report_pred_202005.xlsx</td>\n      <td>202005</td>\n      <td>0.0</td>\n      <td>1.0</td>\n    </tr>\n    <tr>\n      <th>...</th>\n      <td>...</td>\n      <td>...</td>\n      <td>...</td>\n      <td>...</td>\n      <td>...</td>\n      <td>...</td>\n      <td>...</td>\n    </tr>\n    <tr>\n      <th>970</th>\n      <td>高津店</td>\n      <td>0.934106</td>\n      <td>0.137875</td>\n      <td>report_pred_202009.xlsx</td>\n      <td>202009</td>\n      <td>NaN</td>\n      <td>NaN</td>\n    </tr>\n    <tr>\n      <th>971</th>\n      <td>高田馬場店</td>\n      <td>0.965103</td>\n      <td>0.123156</td>\n      <td>report_pred_202009.xlsx</td>\n      <td>202009</td>\n      <td>NaN</td>\n      <td>NaN</td>\n    </tr>\n    <tr>\n      <th>972</th>\n      <td>鴻巣店</td>\n      <td>0.962716</td>\n      <td>0.145759</td>\n      <td>report_pred_202009.xlsx</td>\n      <td>202009</td>\n      <td>NaN</td>\n      <td>NaN</td>\n    </tr>\n    <tr>\n      <th>973</th>\n      <td>鶴見店</td>\n      <td>0.946437</td>\n      <td>0.153724</td>\n      <td>report_pred_202009.xlsx</td>\n      <td>202009</td>\n      <td>NaN</td>\n      <td>NaN</td>\n    </tr>\n    <tr>\n      <th>974</th>\n      <td>麻生店</td>\n      <td>0.961232</td>\n      <td>0.126548</td>\n      <td>report_pred_202009.xlsx</td>\n      <td>202009</td>\n      <td>NaN</td>\n      <td>NaN</td>\n    </tr>\n  </tbody>\n</table>\n<p>975 rows × 7 columns</p>\n</div>"
     },
     "execution_count": 8,
     "metadata": {},
     "output_type": "execute_result"
    }
   ],
   "source": [
    "# 予測結果 Data と検証 Data の結合\n",
    "report_valid = pd.merge(report_all, ml_data, on=['store_name', 'pred_year_month'], how='left')\n",
    "report_valid"
   ]
  },
  {
   "cell_type": "code",
   "execution_count": 9,
   "metadata": {
    "pycharm": {
     "name": "#%%\n"
    }
   },
   "outputs": [
    {
     "data": {
      "text/plain": "    store_name  score_weekday  score_weekend                    files  \\\n0        あきる野店       0.567821       0.847881  report_pred_202005.xlsx   \n1       さいたま南店       0.099261       0.775349  report_pred_202005.xlsx   \n2       さいたま緑店       0.351067       0.898108  report_pred_202005.xlsx   \n3       さいたま西店       0.256878       0.777520  report_pred_202005.xlsx   \n4         つくば店       0.158105       0.792846  report_pred_202005.xlsx   \n..         ...            ...            ...                      ...   \n775        高津店       0.054634       0.897747  report_pred_202008.xlsx   \n776      高田馬場店       0.112745       0.843095  report_pred_202008.xlsx   \n777        鴻巣店       0.101667       0.896522  report_pred_202008.xlsx   \n778        鶴見店       0.063223       0.935516  report_pred_202008.xlsx   \n779        麻生店       0.265089       0.787616  report_pred_202008.xlsx   \n\n    pred_year_month  y_weekday  y_weekend  \n0            202005        0.0        1.0  \n1            202005        0.0        1.0  \n2            202005        0.0        1.0  \n3            202005        0.0        1.0  \n4            202005        0.0        1.0  \n..              ...        ...        ...  \n775          202008        0.0        1.0  \n776          202008        0.0        1.0  \n777          202008        0.0        1.0  \n778          202008        0.0        1.0  \n779          202008        0.0        1.0  \n\n[780 rows x 7 columns]",
      "text/html": "<div>\n<style scoped>\n    .dataframe tbody tr th:only-of-type {\n        vertical-align: middle;\n    }\n\n    .dataframe tbody tr th {\n        vertical-align: top;\n    }\n\n    .dataframe thead th {\n        text-align: right;\n    }\n</style>\n<table border=\"1\" class=\"dataframe\">\n  <thead>\n    <tr style=\"text-align: right;\">\n      <th></th>\n      <th>store_name</th>\n      <th>score_weekday</th>\n      <th>score_weekend</th>\n      <th>files</th>\n      <th>pred_year_month</th>\n      <th>y_weekday</th>\n      <th>y_weekend</th>\n    </tr>\n  </thead>\n  <tbody>\n    <tr>\n      <th>0</th>\n      <td>あきる野店</td>\n      <td>0.567821</td>\n      <td>0.847881</td>\n      <td>report_pred_202005.xlsx</td>\n      <td>202005</td>\n      <td>0.0</td>\n      <td>1.0</td>\n    </tr>\n    <tr>\n      <th>1</th>\n      <td>さいたま南店</td>\n      <td>0.099261</td>\n      <td>0.775349</td>\n      <td>report_pred_202005.xlsx</td>\n      <td>202005</td>\n      <td>0.0</td>\n      <td>1.0</td>\n    </tr>\n    <tr>\n      <th>2</th>\n      <td>さいたま緑店</td>\n      <td>0.351067</td>\n      <td>0.898108</td>\n      <td>report_pred_202005.xlsx</td>\n      <td>202005</td>\n      <td>0.0</td>\n      <td>1.0</td>\n    </tr>\n    <tr>\n      <th>3</th>\n      <td>さいたま西店</td>\n      <td>0.256878</td>\n      <td>0.777520</td>\n      <td>report_pred_202005.xlsx</td>\n      <td>202005</td>\n      <td>0.0</td>\n      <td>1.0</td>\n    </tr>\n    <tr>\n      <th>4</th>\n      <td>つくば店</td>\n      <td>0.158105</td>\n      <td>0.792846</td>\n      <td>report_pred_202005.xlsx</td>\n      <td>202005</td>\n      <td>0.0</td>\n      <td>1.0</td>\n    </tr>\n    <tr>\n      <th>...</th>\n      <td>...</td>\n      <td>...</td>\n      <td>...</td>\n      <td>...</td>\n      <td>...</td>\n      <td>...</td>\n      <td>...</td>\n    </tr>\n    <tr>\n      <th>775</th>\n      <td>高津店</td>\n      <td>0.054634</td>\n      <td>0.897747</td>\n      <td>report_pred_202008.xlsx</td>\n      <td>202008</td>\n      <td>0.0</td>\n      <td>1.0</td>\n    </tr>\n    <tr>\n      <th>776</th>\n      <td>高田馬場店</td>\n      <td>0.112745</td>\n      <td>0.843095</td>\n      <td>report_pred_202008.xlsx</td>\n      <td>202008</td>\n      <td>0.0</td>\n      <td>1.0</td>\n    </tr>\n    <tr>\n      <th>777</th>\n      <td>鴻巣店</td>\n      <td>0.101667</td>\n      <td>0.896522</td>\n      <td>report_pred_202008.xlsx</td>\n      <td>202008</td>\n      <td>0.0</td>\n      <td>1.0</td>\n    </tr>\n    <tr>\n      <th>778</th>\n      <td>鶴見店</td>\n      <td>0.063223</td>\n      <td>0.935516</td>\n      <td>report_pred_202008.xlsx</td>\n      <td>202008</td>\n      <td>0.0</td>\n      <td>1.0</td>\n    </tr>\n    <tr>\n      <th>779</th>\n      <td>麻生店</td>\n      <td>0.265089</td>\n      <td>0.787616</td>\n      <td>report_pred_202008.xlsx</td>\n      <td>202008</td>\n      <td>0.0</td>\n      <td>1.0</td>\n    </tr>\n  </tbody>\n</table>\n<p>780 rows × 7 columns</p>\n</div>"
     },
     "execution_count": 9,
     "metadata": {},
     "output_type": "execute_result"
    }
   ],
   "source": [
    "report_valid.dropna(inplace=True)\n",
    "report_valid"
   ]
  },
  {
   "cell_type": "markdown",
   "metadata": {
    "pycharm": {
     "name": "#%% md\n"
    }
   },
   "source": [
    "### Knock96: 店舗分析用 Dashboard を作成しよう"
   ]
  },
  {
   "cell_type": "code",
   "execution_count": 10,
   "metadata": {
    "pycharm": {
     "name": "#%%\n"
    }
   },
   "outputs": [
    {
     "name": "stderr",
     "output_type": "stream",
     "text": [
      "C:\\Users\\leone\\dsLab\\machine_learning_system_100_knocks\\.venv\\lib\\site-packages\\japanize_matplotlib\\japanize_matplotlib.py:15: MatplotlibDeprecationWarning: \n",
      "The createFontList function was deprecated in Matplotlib 3.2 and will be removed two minor releases later. Use FontManager.addfont instead.\n",
      "  font_list = font_manager.createFontList(font_files)\n"
     ]
    },
    {
     "data": {
      "text/plain": "SelectMultiple(options=('あきる野店', 'さいたま南店', 'さいたま緑店', 'さいたま西店', 'つくば店', '三浦店', '三鷹店', '上尾店', '上野店', '世田谷店', '中原…",
      "application/vnd.jupyter.widget-view+json": {
       "version_major": 2,
       "version_minor": 0,
       "model_id": "6ed3555561d848458e10c59a59fda0c9"
      }
     },
     "metadata": {},
     "output_type": "display_data"
    }
   ],
   "source": [
    "# 店舗分析用 Dashboard\n",
    "import seaborn as sns\n",
    "from IPython.display import display, clear_output\n",
    "from ipywidgets import Select, SelectMultiple\n",
    "import matplotlib.pyplot as plt\n",
    "import japanize_matplotlib\n",
    "\n",
    "store_list = store_monthly_data['store_name'].unique()\n",
    "\n",
    "\n",
    "def make_graph_96(val):\n",
    "    clear_output()\n",
    "    display(select_96)\n",
    "\n",
    "    fig = plt.figure(figsize=(17, 4))\n",
    "    plt.subplots_adjust(wspace=0.25, hspace=0.6)\n",
    "\n",
    "    for i, trg in enumerate(val['new']):\n",
    "        pick_data = store_monthly_data.loc[store_monthly_data['store_name'] == trg]\n",
    "        graph_fin = pick_data[['store_name', 'order_fin', 'year_month']].copy()\n",
    "        graph_fin.loc[:, 'type'] = 'fin'\n",
    "        graph_fin = graph_fin.rename(columns={'order_fin': 'count'})\n",
    "\n",
    "        graph_cancel = pick_data[['store_name', 'order_cancel', 'year_month']].copy()\n",
    "        graph_cancel.loc[:, 'type'] = 'cancel'\n",
    "        graph_cancel = graph_cancel.rename(columns={'order_cancel': 'count'})\n",
    "\n",
    "        ax = fig.add_subplot(1, len(val['new']), (i + 1))\n",
    "        sns.pointplot(x='year_month', y='count', data=graph_fin, color='orange')\n",
    "        sns.pointplot(x='year_month', y='count', data=graph_cancel, color='blue')\n",
    "        ax.set_title(trg)\n",
    "\n",
    "\n",
    "select_96 = SelectMultiple(options=store_list)\n",
    "select_96.observe(make_graph_96, names='value')\n",
    "display(select_96)"
   ]
  },
  {
   "cell_type": "markdown",
   "metadata": {
    "pycharm": {
     "name": "#%% md\n"
    }
   },
   "source": [
    "### Knock97: 機械学習 Model の精度評価 Dashboard を作成しよう"
   ]
  },
  {
   "cell_type": "code",
   "execution_count": 11,
   "metadata": {
    "pycharm": {
     "name": "#%%\n"
    }
   },
   "outputs": [
    {
     "data": {
      "text/plain": "Select(options=('tree', 'RandomForest', 'GradientBoosting'), value='tree')",
      "application/vnd.jupyter.widget-view+json": {
       "version_major": 2,
       "version_minor": 0,
       "model_id": "73b7baf8aad94e868046b78d51ab7265"
      }
     },
     "metadata": {},
     "output_type": "display_data"
    }
   ],
   "source": [
    "# Model 精度評価 Dashboard\n",
    "opt1 = ''\n",
    "\n",
    "\n",
    "def s1_update_97(val):\n",
    "    global opt1\n",
    "    opt1 = val['new']\n",
    "    graph_97()\n",
    "\n",
    "\n",
    "def graph_97():\n",
    "    clear_output()\n",
    "    display(select_97)\n",
    "\n",
    "    graph_df_wd = score_all.loc[(score_all['model_name'] == opt1) & (score_all['model_target'] == 'y_weekday')].copy()\n",
    "    graph_df_we = score_all.loc[(score_all['model_name'] == opt1) & (score_all['model_target'] == 'y_weekend')].copy()\n",
    "\n",
    "    fig, (ax1, ax2) = plt.subplots(1, 2, figsize=(15, 5))\n",
    "    plt.subplots_adjust(wspace=0.25, hspace=0.6)\n",
    "    ax1 = fig.add_subplot(1, 2, 1)\n",
    "    sns.barplot(x='dirs', y='acc', data=graph_df_wd, hue='DataCategory')\n",
    "    ax1.set_title('平日')\n",
    "\n",
    "    ax2 = fig.add_subplot(1, 2, 2)\n",
    "    sns.barplot(x='dirs', y='acc', data=graph_df_we, hue='DataCategory')\n",
    "    ax2.set_title('休日')\n",
    "\n",
    "\n",
    "s1_option_97 = score_all['model_name'].unique()\n",
    "\n",
    "select_97 = Select(options=s1_option_97)\n",
    "select_97.observe(s1_update_97, names='value')\n",
    "\n",
    "display(select_97)"
   ]
  },
  {
   "cell_type": "markdown",
   "source": [
    "### Knock98: 機械学習 Model の混同行列 Dashboard を作成しよう"
   ],
   "metadata": {
    "collapsed": false,
    "pycharm": {
     "name": "#%% md\n"
    }
   }
  },
  {
   "cell_type": "code",
   "execution_count": 12,
   "outputs": [
    {
     "data": {
      "text/plain": "Select(options=('tree', 'RandomForest', 'GradientBoosting'), value='tree')",
      "application/vnd.jupyter.widget-view+json": {
       "version_major": 2,
       "version_minor": 0,
       "model_id": "a79d79f1acd940908ba67369a9d5fef8"
      }
     },
     "metadata": {},
     "output_type": "display_data"
    },
    {
     "data": {
      "text/plain": "Select(options=('y_weekday', 'y_weekend'), value='y_weekday')",
      "application/vnd.jupyter.widget-view+json": {
       "version_major": 2,
       "version_minor": 0,
       "model_id": "3951169acd434d90ac7a6afb4982b115"
      }
     },
     "metadata": {},
     "output_type": "display_data"
    }
   ],
   "source": [
    "# 混合行列 Dashboard\n",
    "opt1 = ''\n",
    "opt2 = ''\n",
    "\n",
    "\n",
    "def s1_update_98(val):\n",
    "    global opt1\n",
    "    opt1 = val['new']\n",
    "    graph_98()\n",
    "\n",
    "\n",
    "def s2_update_98(val):\n",
    "    global opt2\n",
    "    opt2 = val['new']\n",
    "    graph_98()\n",
    "\n",
    "\n",
    "def graph_98():\n",
    "    clear_output()\n",
    "    display(select1_98, select2_98)\n",
    "\n",
    "    for i, ym in enumerate(score_all['year_month'].unique()):\n",
    "        fig, (ax1, ax2) = plt.subplots(1, 2, figsize=(15, 5))\n",
    "        plt.subplots_adjust(wspace=0.25, hspace=0.6)\n",
    "\n",
    "        tmp = score_all.loc[\n",
    "            (score_all['model_name'] == opt1)\n",
    "            & (score_all['model_target'] == opt2)\n",
    "            & (score_all['DataCategory'] == 'train')\n",
    "            & (score_all['year_month'] == ym)\n",
    "            ]\n",
    "        if len(tmp) == 1:\n",
    "            maxcnt = tmp['tp'].values[0] + tmp['fn'].values[0] + tmp['fp'].values[0] + tmp['tn'].values[0]\n",
    "            cm = [\n",
    "                [tmp['tp'].values[0] / maxcnt, tmp['fn'].values[0] / maxcnt],\n",
    "                [tmp['fp'].values[0] / maxcnt, tmp['tn'].values[0] / maxcnt]\n",
    "            ]\n",
    "            ax1 = fig.add_subplot(1, 2, 1)\n",
    "            sns.heatmap(cm, vmax=0.5, vmin=0, cmap='Blues', annot=True, xticklabels=False, yticklabels=False,\n",
    "                        cbar=False)\n",
    "            ax1.set_title(f\"{ym} train\")\n",
    "\n",
    "        tmp = score_all.loc[\n",
    "            (score_all['model_name'] == opt1)\n",
    "            & (score_all['model_target'] == opt2)\n",
    "            & (score_all['DataCategory'] == 'test')\n",
    "            & (score_all['year_month'] == ym)\n",
    "            ]\n",
    "        if len(tmp) == 1:\n",
    "            maxcnt = tmp['tp'].values[0] + tmp['fn'].values[0] + tmp['fp'].values[0] + tmp['tn'].values[0]\n",
    "            cm = [\n",
    "                [tmp['tp'].values[0] / maxcnt, tmp['fn'].values[0] / maxcnt],\n",
    "                [tmp['fp'].values[0] / maxcnt, tmp['tn'].values[0] / maxcnt]\n",
    "            ]\n",
    "            ax2 = fig.add_subplot(1, 2, 2)\n",
    "            sns.heatmap(cm, vmax=0.5, vmin=0, cmap='Blues', annot=True, xticklabels=False, yticklabels=False,\n",
    "                        cbar=False)\n",
    "            ax2.set_title(f\"{ym} test\")\n",
    "\n",
    "\n",
    "s1_option_98 = score_all['model_name'].unique()\n",
    "s2_option_98 = score_all['model_target'].unique()\n",
    "\n",
    "select1_98 = Select(options=s1_option_98)\n",
    "select1_98.observe(s1_update_98, names='value')\n",
    "\n",
    "select2_98 = Select(options=s2_option_98)\n",
    "select2_98.observe(s2_update_98, names='value')\n",
    "\n",
    "display(select1_98, select2_98)"
   ],
   "metadata": {
    "collapsed": false,
    "pycharm": {
     "name": "#%%\n"
    }
   }
  },
  {
   "cell_type": "markdown",
   "source": [
    "### Knock99: 機械学習 Model の変数重要度の分析 Dashboard を作成しよう"
   ],
   "metadata": {
    "collapsed": false,
    "pycharm": {
     "name": "#%% md\n"
    }
   }
  },
  {
   "cell_type": "code",
   "execution_count": 25,
   "outputs": [
    {
     "data": {
      "text/plain": "Select(options=('tree', 'RandomForest', 'GradientBoosting'), value='tree')",
      "application/vnd.jupyter.widget-view+json": {
       "version_major": 2,
       "version_minor": 0,
       "model_id": "83a5e47264614d54a2ed0d3eb1e0149c"
      }
     },
     "metadata": {},
     "output_type": "display_data"
    },
    {
     "data": {
      "text/plain": "Select(options=('202004', '202005', '202006', '202007', '202008'), value='202004')",
      "application/vnd.jupyter.widget-view+json": {
       "version_major": 2,
       "version_minor": 0,
       "model_id": "c3ad5d2f21b74f1c8c735e5106fecacb"
      }
     },
     "metadata": {},
     "output_type": "display_data"
    }
   ],
   "source": [
    "# 変数重要度分析 Dashboard\n",
    "opt1 = ''\n",
    "opt2 = ''\n",
    "\n",
    "\n",
    "def s1_update(val):\n",
    "    global opt1\n",
    "    opt1 = val['new']\n",
    "    if opt2 != '':\n",
    "        graph_by_multi()\n",
    "\n",
    "\n",
    "def s2_update(val):\n",
    "    global opt2\n",
    "    opt2 = val['new']\n",
    "    if opt1 != '':\n",
    "        graph_by_multi()\n",
    "\n",
    "\n",
    "def graph_by_multi():\n",
    "    clear_output()\n",
    "    display(select1, select2)\n",
    "\n",
    "    importance_tg_wd = importance_all.loc[\n",
    "        (importance_all['model_name'] == opt1)\n",
    "        & (importance_all['year_month'] == opt2)\n",
    "        & (importance_all['model_target'] == 'y_weekday')\n",
    "        ].copy()\n",
    "\n",
    "    importance_tg_we = importance_all.loc[\n",
    "        (importance_all['model_name'] == opt1)\n",
    "        & (importance_all['year_month'] == opt2)\n",
    "        & (importance_all['model_target'] == 'y_weekend')\n",
    "        ].copy()\n",
    "\n",
    "    importance_tg_wd.sort_values('importance', ascending=False, inplace=True)\n",
    "    importance_tg_we.sort_values('importance', ascending=False, inplace=True)\n",
    "\n",
    "    importance_tg_wd = importance_tg_wd.head(10)\n",
    "    importance_tg_we = importance_tg_we.head(10)\n",
    "\n",
    "    fig, (ax1, ax2) = plt.subplots(1, 2, figsize=(15, 5))\n",
    "    plt.subplots_adjust(wspace=0.25, hspace=0.6)\n",
    "    ax1 = fig.add_subplot(1, 2, 1)\n",
    "    plt.barh(importance_tg_wd['cols'], importance_tg_wd['importance'])\n",
    "    ax1.set_title('平日')\n",
    "\n",
    "    ax2 = fig.add_subplot(1, 2, 2)\n",
    "    plt.barh(importance_tg_we['cols'], importance_tg_we['importance'])\n",
    "    ax2.set_title('週末')\n",
    "\n",
    "\n",
    "s1_option = importance_all['model_name'].unique()\n",
    "s2_option = importance_all['year_month'].unique()\n",
    "\n",
    "select1 = Select(options=s1_option)\n",
    "select1.observe(s1_update, names='value')\n",
    "\n",
    "select2 = Select(options=s2_option)\n",
    "select2.observe(s2_update, names='value')\n",
    "\n",
    "display(select1, select2)"
   ],
   "metadata": {
    "collapsed": false,
    "pycharm": {
     "name": "#%%\n"
    }
   }
  },
  {
   "cell_type": "markdown",
   "source": [
    "### Knock100: 機械学習 Model の予測結果検証のための可視化をしよう"
   ],
   "metadata": {
    "collapsed": false,
    "pycharm": {
     "name": "#%% md\n"
    }
   }
  },
  {
   "cell_type": "code",
   "execution_count": 39,
   "outputs": [
    {
     "data": {
      "text/plain": "<AxesSubplot:xlabel='pred_year_month'>"
     },
     "execution_count": 39,
     "metadata": {},
     "output_type": "execute_result"
    },
    {
     "data": {
      "text/plain": "<Figure size 432x288 with 2 Axes>",
      "image/png": "[encoded data removed]"
     },
     "metadata": {},
     "output_type": "display_data"
    }
   ],
   "source": [
    "# 予測結果検証用の Dashboard\n",
    "view_data = report_valid.copy()\n",
    "view_data.loc[(view_data['score_weekday'] >= 0.5) & (view_data['y_weekday'] == 1), 'correct_weekday'] = 1\n",
    "view_data.loc[(view_data['score_weekday'] < 0.5) & (view_data['y_weekday'] == 0), 'correct_weekday'] = 1\n",
    "view_data.loc[(view_data['score_weekend'] >= 0.5) & (view_data['y_weekday'] == 0), 'correct_weekend'] = 1\n",
    "view_data.loc[(view_data['score_weekend'] < 0.5) & (view_data['y_weekday'] == 0), 'correct_weekend'] = 1\n",
    "view_data.loc[:, 'count'] = 1\n",
    "view_data.fillna(0, inplace=True)\n",
    "view_data = view_data.groupby('pred_year_month').sum()[['correct_weekday', 'correct_weekend', 'count']]\n",
    "view_data.loc[:, 'acc_weekday'] = view_data['correct_weekday'] / view_data['count']\n",
    "view_data.loc[:, 'acc_weekend'] = view_data['correct_weekend'] / view_data['count']\n",
    "view_data = view_data[['acc_weekday', 'acc_weekend']]\n",
    "\n",
    "sns.heatmap(view_data.T, cmap='Blues', annot=True, yticklabels=2, linewidths=.5)"
   ],
   "metadata": {
    "collapsed": false,
    "pycharm": {
     "name": "#%%\n"
    }
   }
  }
 ],
 "metadata": {
  "kernelspec": {
   "display_name": "Python 3 (ipykernel)",
   "language": "python",
   "name": "python3"
  },
  "language_info": {
   "codemirror_mode": {
    "name": "ipython",
    "version": 3
   },
   "file_extension": ".py",
   "mimetype": "text/x-python",
   "name": "python",
   "nbconvert_exporter": "python",
   "pygments_lexer": "ipython3",
   "version": "3.7.9"
  }
 },
 "nbformat": 4,
 "nbformat_minor": 1
}