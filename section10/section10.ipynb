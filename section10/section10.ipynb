{
 "cells": [
  {
   "cell_type": "markdown",
   "source": [
    "### Knock91: 単一 Data の読み込みをしよう"
   ],
   "metadata": {
    "collapsed": false,
    "pycharm": {
     "name": "#%% md\n"
    }
   }
  },
  {
   "cell_type": "code",
   "execution_count": 1,
   "outputs": [
    {
     "data": {
      "text/plain": "  store_name  order  order_fin  order_cancel  order_delivery  order_takeout  \\\n0      あきる野店   1147        945           202             841            306   \n1     さいたま南店   1504       1217           287            1105            399   \n2     さいたま緑店   1028        847           181             756            272   \n\n   order_weekday  order_weekend  order_time_11  order_time_12  ...  \\\n0            844            303             91            122  ...   \n1           1104            400            130            135  ...   \n2            756            272             95             91  ...   \n\n   order_time_14  order_time_15  order_time_16  order_time_17  order_time_18  \\\n0            101             95            107            106            100   \n1            143            142            137            130            113   \n2             95            102             82             90             93   \n\n   order_time_19  order_time_20  order_time_21  delta_avg  year_month  \n0            108            109             96  34.110053      201904  \n1            140            132            155  35.337716      201904  \n2             95             95             84  34.291617      201904  \n\n[3 rows x 21 columns]",
      "text/html": "<div>\n<style scoped>\n    .dataframe tbody tr th:only-of-type {\n        vertical-align: middle;\n    }\n\n    .dataframe tbody tr th {\n        vertical-align: top;\n    }\n\n    .dataframe thead th {\n        text-align: right;\n    }\n</style>\n<table border=\"1\" class=\"dataframe\">\n  <thead>\n    <tr style=\"text-align: right;\">\n      <th></th>\n      <th>store_name</th>\n      <th>order</th>\n      <th>order_fin</th>\n      <th>order_cancel</th>\n      <th>order_delivery</th>\n      <th>order_takeout</th>\n      <th>order_weekday</th>\n      <th>order_weekend</th>\n      <th>order_time_11</th>\n      <th>order_time_12</th>\n      <th>...</th>\n      <th>order_time_14</th>\n      <th>order_time_15</th>\n      <th>order_time_16</th>\n      <th>order_time_17</th>\n      <th>order_time_18</th>\n      <th>order_time_19</th>\n      <th>order_time_20</th>\n      <th>order_time_21</th>\n      <th>delta_avg</th>\n      <th>year_month</th>\n    </tr>\n  </thead>\n  <tbody>\n    <tr>\n      <th>0</th>\n      <td>あきる野店</td>\n      <td>1147</td>\n      <td>945</td>\n      <td>202</td>\n      <td>841</td>\n      <td>306</td>\n      <td>844</td>\n      <td>303</td>\n      <td>91</td>\n      <td>122</td>\n      <td>...</td>\n      <td>101</td>\n      <td>95</td>\n      <td>107</td>\n      <td>106</td>\n      <td>100</td>\n      <td>108</td>\n      <td>109</td>\n      <td>96</td>\n      <td>34.110053</td>\n      <td>201904</td>\n    </tr>\n    <tr>\n      <th>1</th>\n      <td>さいたま南店</td>\n      <td>1504</td>\n      <td>1217</td>\n      <td>287</td>\n      <td>1105</td>\n      <td>399</td>\n      <td>1104</td>\n      <td>400</td>\n      <td>130</td>\n      <td>135</td>\n      <td>...</td>\n      <td>143</td>\n      <td>142</td>\n      <td>137</td>\n      <td>130</td>\n      <td>113</td>\n      <td>140</td>\n      <td>132</td>\n      <td>155</td>\n      <td>35.337716</td>\n      <td>201904</td>\n    </tr>\n    <tr>\n      <th>2</th>\n      <td>さいたま緑店</td>\n      <td>1028</td>\n      <td>847</td>\n      <td>181</td>\n      <td>756</td>\n      <td>272</td>\n      <td>756</td>\n      <td>272</td>\n      <td>95</td>\n      <td>91</td>\n      <td>...</td>\n      <td>95</td>\n      <td>102</td>\n      <td>82</td>\n      <td>90</td>\n      <td>93</td>\n      <td>95</td>\n      <td>95</td>\n      <td>84</td>\n      <td>34.291617</td>\n      <td>201904</td>\n    </tr>\n  </tbody>\n</table>\n<p>3 rows × 21 columns</p>\n</div>"
     },
     "metadata": {},
     "output_type": "display_data"
    },
    {
     "data": {
      "text/plain": "  store_name  y_weekday  y_weekend  order  order_fin  order_cancel  \\\n0      あきる野店        1.0        0.0   1147        945           202   \n1     さいたま南店        1.0        1.0   1504       1217           287   \n2     さいたま緑店        1.0        1.0   1028        847           181   \n\n   order_delivery  order_takeout  order_weekday  order_weekend  ...  \\\n0             841            306            844            303  ...   \n1            1105            399           1104            400  ...   \n2             756            272            756            272  ...   \n\n   order_time_14  order_time_15  order_time_16  order_time_17  order_time_18  \\\n0            101             95            107            106            100   \n1            143            142            137            130            113   \n2             95            102             82             90             93   \n\n   order_time_19  order_time_20  order_time_21  delta_avg  year_month  \n0            108            109             96  34.110053      201904  \n1            140            132            155  35.337716      201904  \n2             95             95             84  34.291617      201904  \n\n[3 rows x 23 columns]",
      "text/html": "<div>\n<style scoped>\n    .dataframe tbody tr th:only-of-type {\n        vertical-align: middle;\n    }\n\n    .dataframe tbody tr th {\n        vertical-align: top;\n    }\n\n    .dataframe thead th {\n        text-align: right;\n    }\n</style>\n<table border=\"1\" class=\"dataframe\">\n  <thead>\n    <tr style=\"text-align: right;\">\n      <th></th>\n      <th>store_name</th>\n      <th>y_weekday</th>\n      <th>y_weekend</th>\n      <th>order</th>\n      <th>order_fin</th>\n      <th>order_cancel</th>\n      <th>order_delivery</th>\n      <th>order_takeout</th>\n      <th>order_weekday</th>\n      <th>order_weekend</th>\n      <th>...</th>\n      <th>order_time_14</th>\n      <th>order_time_15</th>\n      <th>order_time_16</th>\n      <th>order_time_17</th>\n      <th>order_time_18</th>\n      <th>order_time_19</th>\n      <th>order_time_20</th>\n      <th>order_time_21</th>\n      <th>delta_avg</th>\n      <th>year_month</th>\n    </tr>\n  </thead>\n  <tbody>\n    <tr>\n      <th>0</th>\n      <td>あきる野店</td>\n      <td>1.0</td>\n      <td>0.0</td>\n      <td>1147</td>\n      <td>945</td>\n      <td>202</td>\n      <td>841</td>\n      <td>306</td>\n      <td>844</td>\n      <td>303</td>\n      <td>...</td>\n      <td>101</td>\n      <td>95</td>\n      <td>107</td>\n      <td>106</td>\n      <td>100</td>\n      <td>108</td>\n      <td>109</td>\n      <td>96</td>\n      <td>34.110053</td>\n      <td>201904</td>\n    </tr>\n    <tr>\n      <th>1</th>\n      <td>さいたま南店</td>\n      <td>1.0</td>\n      <td>1.0</td>\n      <td>1504</td>\n      <td>1217</td>\n      <td>287</td>\n      <td>1105</td>\n      <td>399</td>\n      <td>1104</td>\n      <td>400</td>\n      <td>...</td>\n      <td>143</td>\n      <td>142</td>\n      <td>137</td>\n      <td>130</td>\n      <td>113</td>\n      <td>140</td>\n      <td>132</td>\n      <td>155</td>\n      <td>35.337716</td>\n      <td>201904</td>\n    </tr>\n    <tr>\n      <th>2</th>\n      <td>さいたま緑店</td>\n      <td>1.0</td>\n      <td>1.0</td>\n      <td>1028</td>\n      <td>847</td>\n      <td>181</td>\n      <td>756</td>\n      <td>272</td>\n      <td>756</td>\n      <td>272</td>\n      <td>...</td>\n      <td>95</td>\n      <td>102</td>\n      <td>82</td>\n      <td>90</td>\n      <td>93</td>\n      <td>95</td>\n      <td>95</td>\n      <td>84</td>\n      <td>34.291617</td>\n      <td>201904</td>\n    </tr>\n  </tbody>\n</table>\n<p>3 rows × 23 columns</p>\n</div>"
     },
     "metadata": {},
     "output_type": "display_data"
    }
   ],
   "source": [
    "# 単一 Data の読み込み\n",
    "import os\n",
    "import pandas as pd\n",
    "\n",
    "data_dir = 'data'\n",
    "store_monthly_dir = os.path.join(data_dir, '01_store_monthly')\n",
    "ml_base_dir = os.path.join(data_dir, '02_ml_base')\n",
    "\n",
    "output_ml_result_dir = os.path.join(data_dir, '10_output_ml_result')\n",
    "output_report_dir = os.path.join(data_dir, '11_output_report')\n",
    "\n",
    "store_monthly_file = 'store_monthly_data.csv'\n",
    "ml_base_file = 'ml_base_data.csv'\n",
    "\n",
    "store_monthly_data = pd.read_csv(os.path.join(store_monthly_dir, store_monthly_file))\n",
    "ml_base_data = pd.read_csv(os.path.join(ml_base_dir, ml_base_file))\n",
    "display(store_monthly_data.head(3))\n",
    "display(ml_base_data.head(3))"
   ],
   "metadata": {
    "collapsed": false,
    "pycharm": {
     "name": "#%%\n"
    }
   }
  },
  {
   "cell_type": "markdown",
   "source": [
    "### Knock92: 更新 Data を読み込んで店舗別 Data を作成しよう"
   ],
   "metadata": {
    "collapsed": false,
    "pycharm": {
     "name": "#%% md\n"
    }
   }
  },
  {
   "cell_type": "code",
   "execution_count": 2,
   "outputs": [
    {
     "data": {
      "text/plain": "  DataCategory       acc        f1    recall  precision   tp  fn   fp   tn  \\\n0        train  1.000000  1.000000  1.000000   1.000000  861   0    0  777   \n1         test  0.811966  0.829016  0.818414   0.839895  320  71   61  250   \n2        train  1.000000  1.000000  1.000000   1.000000  861   0    0  777   \n3         test  0.792023  0.816121  0.828645   0.803970  324  67   79  232   \n4        train  0.865079  0.875212  0.900116   0.851648  775  86  135  642   \n\n         model_name model_target            dirs  \n0              tree    y_weekday  results_202004  \n1              tree    y_weekday  results_202004  \n2      RandomForest    y_weekday  results_202004  \n3      RandomForest    y_weekday  results_202004  \n4  GradientBoosting    y_weekday  results_202004  ",
      "text/html": "<div>\n<style scoped>\n    .dataframe tbody tr th:only-of-type {\n        vertical-align: middle;\n    }\n\n    .dataframe tbody tr th {\n        vertical-align: top;\n    }\n\n    .dataframe thead th {\n        text-align: right;\n    }\n</style>\n<table border=\"1\" class=\"dataframe\">\n  <thead>\n    <tr style=\"text-align: right;\">\n      <th></th>\n      <th>DataCategory</th>\n      <th>acc</th>\n      <th>f1</th>\n      <th>recall</th>\n      <th>precision</th>\n      <th>tp</th>\n      <th>fn</th>\n      <th>fp</th>\n      <th>tn</th>\n      <th>model_name</th>\n      <th>model_target</th>\n      <th>dirs</th>\n    </tr>\n  </thead>\n  <tbody>\n    <tr>\n      <th>0</th>\n      <td>train</td>\n      <td>1.000000</td>\n      <td>1.000000</td>\n      <td>1.000000</td>\n      <td>1.000000</td>\n      <td>861</td>\n      <td>0</td>\n      <td>0</td>\n      <td>777</td>\n      <td>tree</td>\n      <td>y_weekday</td>\n      <td>results_202004</td>\n    </tr>\n    <tr>\n      <th>1</th>\n      <td>test</td>\n      <td>0.811966</td>\n      <td>0.829016</td>\n      <td>0.818414</td>\n      <td>0.839895</td>\n      <td>320</td>\n      <td>71</td>\n      <td>61</td>\n      <td>250</td>\n      <td>tree</td>\n      <td>y_weekday</td>\n      <td>results_202004</td>\n    </tr>\n    <tr>\n      <th>2</th>\n      <td>train</td>\n      <td>1.000000</td>\n      <td>1.000000</td>\n      <td>1.000000</td>\n      <td>1.000000</td>\n      <td>861</td>\n      <td>0</td>\n      <td>0</td>\n      <td>777</td>\n      <td>RandomForest</td>\n      <td>y_weekday</td>\n      <td>results_202004</td>\n    </tr>\n    <tr>\n      <th>3</th>\n      <td>test</td>\n      <td>0.792023</td>\n      <td>0.816121</td>\n      <td>0.828645</td>\n      <td>0.803970</td>\n      <td>324</td>\n      <td>67</td>\n      <td>79</td>\n      <td>232</td>\n      <td>RandomForest</td>\n      <td>y_weekday</td>\n      <td>results_202004</td>\n    </tr>\n    <tr>\n      <th>4</th>\n      <td>train</td>\n      <td>0.865079</td>\n      <td>0.875212</td>\n      <td>0.900116</td>\n      <td>0.851648</td>\n      <td>775</td>\n      <td>86</td>\n      <td>135</td>\n      <td>642</td>\n      <td>GradientBoosting</td>\n      <td>y_weekday</td>\n      <td>results_202004</td>\n    </tr>\n  </tbody>\n</table>\n</div>"
     },
     "execution_count": 2,
     "metadata": {},
     "output_type": "execute_result"
    }
   ],
   "source": [
    "# 精度評価結果の読み込み\n",
    "ml_results_dirs = os.listdir(output_ml_result_dir)\n",
    "score_all = []\n",
    "for ml_results_dir in ml_results_dirs:\n",
    "    score_file_path = os.path.join(output_ml_result_dir, ml_results_dir, 'score.csv')\n",
    "    score_monthly = pd.read_csv(score_file_path)\n",
    "    score_monthly['dirs'] = ml_results_dir\n",
    "    score_all.append(score_monthly)\n",
    "score_all = pd.concat(score_all, ignore_index=True)\n",
    "score_all.head()"
   ],
   "metadata": {
    "collapsed": false,
    "pycharm": {
     "name": "#%%\n"
    }
   }
  },
  {
   "cell_type": "code",
   "execution_count": 3,
   "outputs": [
    {
     "data": {
      "text/plain": "  DataCategory       acc        f1    recall  precision   tp  fn   fp   tn  \\\n0        train  1.000000  1.000000  1.000000   1.000000  861   0    0  777   \n1         test  0.811966  0.829016  0.818414   0.839895  320  71   61  250   \n2        train  1.000000  1.000000  1.000000   1.000000  861   0    0  777   \n3         test  0.792023  0.816121  0.828645   0.803970  324  67   79  232   \n4        train  0.865079  0.875212  0.900116   0.851648  775  86  135  642   \n\n         model_name model_target            dirs year_month  \n0              tree    y_weekday  results_202004     202004  \n1              tree    y_weekday  results_202004     202004  \n2      RandomForest    y_weekday  results_202004     202004  \n3      RandomForest    y_weekday  results_202004     202004  \n4  GradientBoosting    y_weekday  results_202004     202004  ",
      "text/html": "<div>\n<style scoped>\n    .dataframe tbody tr th:only-of-type {\n        vertical-align: middle;\n    }\n\n    .dataframe tbody tr th {\n        vertical-align: top;\n    }\n\n    .dataframe thead th {\n        text-align: right;\n    }\n</style>\n<table border=\"1\" class=\"dataframe\">\n  <thead>\n    <tr style=\"text-align: right;\">\n      <th></th>\n      <th>DataCategory</th>\n      <th>acc</th>\n      <th>f1</th>\n      <th>recall</th>\n      <th>precision</th>\n      <th>tp</th>\n      <th>fn</th>\n      <th>fp</th>\n      <th>tn</th>\n      <th>model_name</th>\n      <th>model_target</th>\n      <th>dirs</th>\n      <th>year_month</th>\n    </tr>\n  </thead>\n  <tbody>\n    <tr>\n      <th>0</th>\n      <td>train</td>\n      <td>1.000000</td>\n      <td>1.000000</td>\n      <td>1.000000</td>\n      <td>1.000000</td>\n      <td>861</td>\n      <td>0</td>\n      <td>0</td>\n      <td>777</td>\n      <td>tree</td>\n      <td>y_weekday</td>\n      <td>results_202004</td>\n      <td>202004</td>\n    </tr>\n    <tr>\n      <th>1</th>\n      <td>test</td>\n      <td>0.811966</td>\n      <td>0.829016</td>\n      <td>0.818414</td>\n      <td>0.839895</td>\n      <td>320</td>\n      <td>71</td>\n      <td>61</td>\n      <td>250</td>\n      <td>tree</td>\n      <td>y_weekday</td>\n      <td>results_202004</td>\n      <td>202004</td>\n    </tr>\n    <tr>\n      <th>2</th>\n      <td>train</td>\n      <td>1.000000</td>\n      <td>1.000000</td>\n      <td>1.000000</td>\n      <td>1.000000</td>\n      <td>861</td>\n      <td>0</td>\n      <td>0</td>\n      <td>777</td>\n      <td>RandomForest</td>\n      <td>y_weekday</td>\n      <td>results_202004</td>\n      <td>202004</td>\n    </tr>\n    <tr>\n      <th>3</th>\n      <td>test</td>\n      <td>0.792023</td>\n      <td>0.816121</td>\n      <td>0.828645</td>\n      <td>0.803970</td>\n      <td>324</td>\n      <td>67</td>\n      <td>79</td>\n      <td>232</td>\n      <td>RandomForest</td>\n      <td>y_weekday</td>\n      <td>results_202004</td>\n      <td>202004</td>\n    </tr>\n    <tr>\n      <th>4</th>\n      <td>train</td>\n      <td>0.865079</td>\n      <td>0.875212</td>\n      <td>0.900116</td>\n      <td>0.851648</td>\n      <td>775</td>\n      <td>86</td>\n      <td>135</td>\n      <td>642</td>\n      <td>GradientBoosting</td>\n      <td>y_weekday</td>\n      <td>results_202004</td>\n      <td>202004</td>\n    </tr>\n  </tbody>\n</table>\n</div>"
     },
     "execution_count": 3,
     "metadata": {},
     "output_type": "execute_result"
    }
   ],
   "source": [
    "# 年月の抽出\n",
    "score_all.loc[:, 'year_month'] = score_all['dirs'].str.split('_', expand=True)[1]\n",
    "score_all.head()"
   ],
   "metadata": {
    "collapsed": false,
    "pycharm": {
     "name": "#%%\n"
    }
   }
  },
  {
   "cell_type": "markdown",
   "source": [
    "### Knock93: 機械学習 Model の重要変数 Data を読み込んで結合しよう"
   ],
   "metadata": {
    "collapsed": false,
    "pycharm": {
     "name": "#%% md\n"
    }
   }
  },
  {
   "cell_type": "code",
   "execution_count": 5,
   "outputs": [
    {
     "data": {
      "text/plain": "            cols  importance model_name model_target            dirs  \\\n0  order_weekend    0.349060       tree    y_weekday  results_202004   \n1  order_weekday    0.276106       tree    y_weekday  results_202004   \n2          order    0.050472       tree    y_weekday  results_202004   \n3  order_takeout    0.034702       tree    y_weekday  results_202004   \n4      delta_avg    0.030703       tree    y_weekday  results_202004   \n\n  year_month  \n0     202004  \n1     202004  \n2     202004  \n3     202004  \n4     202004  ",
      "text/html": "<div>\n<style scoped>\n    .dataframe tbody tr th:only-of-type {\n        vertical-align: middle;\n    }\n\n    .dataframe tbody tr th {\n        vertical-align: top;\n    }\n\n    .dataframe thead th {\n        text-align: right;\n    }\n</style>\n<table border=\"1\" class=\"dataframe\">\n  <thead>\n    <tr style=\"text-align: right;\">\n      <th></th>\n      <th>cols</th>\n      <th>importance</th>\n      <th>model_name</th>\n      <th>model_target</th>\n      <th>dirs</th>\n      <th>year_month</th>\n    </tr>\n  </thead>\n  <tbody>\n    <tr>\n      <th>0</th>\n      <td>order_weekend</td>\n      <td>0.349060</td>\n      <td>tree</td>\n      <td>y_weekday</td>\n      <td>results_202004</td>\n      <td>202004</td>\n    </tr>\n    <tr>\n      <th>1</th>\n      <td>order_weekday</td>\n      <td>0.276106</td>\n      <td>tree</td>\n      <td>y_weekday</td>\n      <td>results_202004</td>\n      <td>202004</td>\n    </tr>\n    <tr>\n      <th>2</th>\n      <td>order</td>\n      <td>0.050472</td>\n      <td>tree</td>\n      <td>y_weekday</td>\n      <td>results_202004</td>\n      <td>202004</td>\n    </tr>\n    <tr>\n      <th>3</th>\n      <td>order_takeout</td>\n      <td>0.034702</td>\n      <td>tree</td>\n      <td>y_weekday</td>\n      <td>results_202004</td>\n      <td>202004</td>\n    </tr>\n    <tr>\n      <th>4</th>\n      <td>delta_avg</td>\n      <td>0.030703</td>\n      <td>tree</td>\n      <td>y_weekday</td>\n      <td>results_202004</td>\n      <td>202004</td>\n    </tr>\n  </tbody>\n</table>\n</div>"
     },
     "execution_count": 5,
     "metadata": {},
     "output_type": "execute_result"
    }
   ],
   "source": [
    "# 重要度変数 Data の結合\n",
    "ml_results_dirs = os.listdir(output_ml_result_dir)\n",
    "importance_all = []\n",
    "for ml_results_dir in ml_results_dirs:\n",
    "    importance_file_path = os.path.join(output_ml_result_dir, ml_results_dir, 'importance.csv')\n",
    "    importance_monthly = pd.read_csv(importance_file_path)\n",
    "    importance_monthly['dirs'] = ml_results_dir\n",
    "    importance_all.append(importance_monthly)\n",
    "importance_all = pd.concat(importance_all, ignore_index=True)\n",
    "importance_all.loc[:, 'year_month'] = importance_all['dirs'].str.split('_', expand=True)[1]\n",
    "importance_all.head()"
   ],
   "metadata": {
    "collapsed": false,
    "pycharm": {
     "name": "#%%\n"
    }
   }
  },
  {
   "cell_type": "code",
   "execution_count": null,
   "outputs": [],
   "source": [],
   "metadata": {
    "collapsed": false,
    "pycharm": {
     "name": "#%%\n"
    }
   }
  }
 ],
 "metadata": {
  "kernelspec": {
   "display_name": "Python 3",
   "language": "python",
   "name": "python3"
  },
  "language_info": {
   "codemirror_mode": {
    "name": "ipython",
    "version": 2
   },
   "file_extension": ".py",
   "mimetype": "text/x-python",
   "name": "python",
   "nbconvert_exporter": "python",
   "pygments_lexer": "ipython2",
   "version": "2.7.6"
  }
 },
 "nbformat": 4,
 "nbformat_minor": 0
}